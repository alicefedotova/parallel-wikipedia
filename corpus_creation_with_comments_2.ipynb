{
  "nbformat": 4,
  "nbformat_minor": 0,
  "metadata": {
    "colab": {
      "provenance": [],
      "authorship_tag": "ABX9TyNkQ9ECc5U0MLnU3zbcrTxG",
      "include_colab_link": true
    },
    "kernelspec": {
      "name": "python3",
      "display_name": "Python 3"
    },
    "language_info": {
      "name": "python"
    },
    "accelerator": "GPU",
    "gpuClass": "standard"
  },
  "cells": [
    {
      "cell_type": "markdown",
      "metadata": {
        "id": "view-in-github",
        "colab_type": "text"
      },
      "source": [
        "<a href=\"https://colab.research.google.com/github/ffedox/pbr/blob/main/corpus_creation_with_comments_2.ipynb\" target=\"_parent\"><img src=\"https://colab.research.google.com/assets/colab-badge.svg\" alt=\"Open In Colab\"/></a>"
      ]
    },
    {
      "cell_type": "markdown",
      "source": [
        "# Extracting a domain-specific parallel corpus from Wikipedia"
      ],
      "metadata": {
        "id": "GpNfRNZlXUtM"
      }
    },
    {
      "cell_type": "code",
      "source": [
        "import torch\n",
        "\n",
        "# If there's a GPU avaiable, tell PyTorch to use the GPU,\n",
        "# otherwise, using the CPU instead.\n",
        "if torch.cuda.is_available():\n",
        "  device = torch.device(\"cuda\")\n",
        "  print('Found GPU:', torch.cuda.get_device_name(0))\n",
        "else:\n",
        "  device = torch.device(\"cpu\")\n",
        "  print('CPU will be used because no GPU available.')"
      ],
      "metadata": {
        "colab": {
          "base_uri": "https://localhost:8080/"
        },
        "id": "4xBwWZ6h_U6d",
        "outputId": "c131b46d-257b-4e01-d843-471be059ac69"
      },
      "execution_count": 1,
      "outputs": [
        {
          "output_type": "stream",
          "name": "stdout",
          "text": [
            "Found GPU: Tesla T4\n"
          ]
        }
      ]
    },
    {
      "cell_type": "markdown",
      "source": [
        "# 1. Setup"
      ],
      "metadata": {
        "id": "3cNlMWd_XYgR"
      }
    },
    {
      "cell_type": "markdown",
      "source": [
        "## 1.1 Wikipedia API"
      ],
      "metadata": {
        "id": "czRX_YxkXoEj"
      }
    },
    {
      "cell_type": "markdown",
      "source": [
        "[Wikipedia-API](https://github.com/martin-majlis/Wikipedia-API) is a Python wrapper for Wikipedias' API. It supports extracting texts, sections, links, categories, translations, etc from Wikipedia."
      ],
      "metadata": {
        "id": "s0be9vWTXcrv"
      }
    },
    {
      "cell_type": "code",
      "execution_count": 2,
      "metadata": {
        "id": "QvrwAFtyXUZY"
      },
      "outputs": [],
      "source": [
        "!pip install wikipedia-api --quiet"
      ]
    },
    {
      "cell_type": "markdown",
      "source": [
        "## 1.2 Sentence Transformers\n",
        "\n"
      ],
      "metadata": {
        "id": "SGYAHuzoXm8e"
      }
    },
    {
      "cell_type": "markdown",
      "source": [
        "[Sentence Transformers](https://www.sbert.net/) is a Python framework for state-of-the-art sentence, text and image embeddings. "
      ],
      "metadata": {
        "id": "1jfnjNU7Xv0t"
      }
    },
    {
      "cell_type": "code",
      "source": [
        "!pip install sentence-transformers --quiet"
      ],
      "metadata": {
        "colab": {
          "base_uri": "https://localhost:8080/"
        },
        "id": "c6CK2cyDXwKi",
        "outputId": "1d9424d4-876b-49c9-e87e-be4fcbae91b9"
      },
      "execution_count": 3,
      "outputs": [
        {
          "output_type": "stream",
          "name": "stdout",
          "text": [
            "\u001b[?25l     \u001b[90m━━━━━━━━━━━━━━━━━━━━━━━━━━━━━━━━━━━━━━━━\u001b[0m \u001b[32m0.0/86.0 KB\u001b[0m \u001b[31m?\u001b[0m eta \u001b[36m-:--:--\u001b[0m\r\u001b[2K     \u001b[90m━━━━━━━━━━━━━━━━━━━━━━━━━━━━━━━━━━━━━━━━\u001b[0m \u001b[32m86.0/86.0 KB\u001b[0m \u001b[31m3.8 MB/s\u001b[0m eta \u001b[36m0:00:00\u001b[0m\n",
            "\u001b[?25h  Preparing metadata (setup.py) ... \u001b[?25l\u001b[?25hdone\n",
            "\u001b[2K     \u001b[90m━━━━━━━━━━━━━━━━━━━━━━━━━━━━━━━━━━━━━━━━\u001b[0m \u001b[32m6.3/6.3 MB\u001b[0m \u001b[31m48.0 MB/s\u001b[0m eta \u001b[36m0:00:00\u001b[0m\n",
            "\u001b[2K     \u001b[90m━━━━━━━━━━━━━━━━━━━━━━━━━━━━━━━━━━━━━━━━\u001b[0m \u001b[32m1.3/1.3 MB\u001b[0m \u001b[31m59.7 MB/s\u001b[0m eta \u001b[36m0:00:00\u001b[0m\n",
            "\u001b[2K     \u001b[90m━━━━━━━━━━━━━━━━━━━━━━━━━━━━━━━━━━━━━━\u001b[0m \u001b[32m190.3/190.3 KB\u001b[0m \u001b[31m19.3 MB/s\u001b[0m eta \u001b[36m0:00:00\u001b[0m\n",
            "\u001b[2K     \u001b[90m━━━━━━━━━━━━━━━━━━━━━━━━━━━━━━━━━━━━━━━━\u001b[0m \u001b[32m7.6/7.6 MB\u001b[0m \u001b[31m71.0 MB/s\u001b[0m eta \u001b[36m0:00:00\u001b[0m\n",
            "\u001b[?25h  Building wheel for sentence-transformers (setup.py) ... \u001b[?25l\u001b[?25hdone\n"
          ]
        }
      ]
    },
    {
      "cell_type": "markdown",
      "source": [
        "## 1.3 Imports"
      ],
      "metadata": {
        "id": "0-Zy9qgqYWkU"
      }
    },
    {
      "cell_type": "code",
      "source": [
        "from sentence_transformers import models, SentenceTransformer\n",
        "from json import JSONDecodeError\n",
        "\n",
        "import wikipediaapi\n",
        "\n",
        "import pandas as pd\n",
        "import numpy as np\n",
        "import scipy\n",
        "\n",
        "from nltk.tokenize import sent_tokenize\n",
        "import nltk\n",
        "\n",
        "nltk.download('punkt')"
      ],
      "metadata": {
        "colab": {
          "base_uri": "https://localhost:8080/"
        },
        "id": "gEY0JugNYjpX",
        "outputId": "57965eeb-999f-4dea-ba60-1851ef827b5a"
      },
      "execution_count": 4,
      "outputs": [
        {
          "output_type": "stream",
          "name": "stderr",
          "text": [
            "[nltk_data] Downloading package punkt to /root/nltk_data...\n",
            "[nltk_data]   Unzipping tokenizers/punkt.zip.\n"
          ]
        },
        {
          "output_type": "execute_result",
          "data": {
            "text/plain": [
              "True"
            ]
          },
          "metadata": {},
          "execution_count": 4
        }
      ]
    },
    {
      "cell_type": "markdown",
      "source": [
        "# 2. Extracting an IT-EN comparable corpus from Category: pages"
      ],
      "metadata": {
        "id": "REpfd_uhY5lS"
      }
    },
    {
      "cell_type": "markdown",
      "source": [
        "First we will extract a comparable corpus by scraping Category: pages in Italian (it is more likely to find correspondences from IT to EN than the other way around)."
      ],
      "metadata": {
        "id": "2--kOfviZIJ4"
      }
    },
    {
      "cell_type": "markdown",
      "source": [
        "For each page linked in the IT Category: page, we will be retrieving the EN equivalent."
      ],
      "metadata": {
        "id": "OPKtgZNWZYn4"
      }
    },
    {
      "cell_type": "markdown",
      "source": [
        "*Here, we will limit the search to the summaries (first paragraph in each Wikipedia entry).* Maybe not?"
      ],
      "metadata": {
        "id": "72NMS0uaaE-K"
      }
    },
    {
      "cell_type": "markdown",
      "source": [
        "## 2.1 Extracting the IT articles from the Category"
      ],
      "metadata": {
        "id": "W2b1tIpecTlg"
      }
    },
    {
      "cell_type": "code",
      "source": [
        "page_titles = []\n",
        "page_texts_it = []\n",
        "\n",
        "def get_it_articles(category, page_titles, page_texts_it):\n",
        "\n",
        "  wiki_wiki = wikipediaapi.Wikipedia('it')\n",
        "  cat = wiki_wiki.page(category)   # category should be like .page(\"Categoria:Survival_horror\")\n",
        "\n",
        "  for p in cat.categorymembers.values():\n",
        "    if p.namespace == wikipediaapi.Namespace.MAIN:\n",
        "      # it is page => we can get text\n",
        "      page_titles.append(p.title)\n",
        "      page_texts_it.append(p.text)"
      ],
      "metadata": {
        "id": "1PzyPtMObURS"
      },
      "execution_count": 5,
      "outputs": []
    },
    {
      "cell_type": "code",
      "source": [
        "get_it_articles(\"Categoria:Videogiochi_d'avventura\", page_titles, page_texts_it)"
      ],
      "metadata": {
        "id": "4D89ZsPPb5tU"
      },
      "execution_count": 6,
      "outputs": []
    },
    {
      "cell_type": "markdown",
      "source": [
        "## 2.2 Extracting the corresponding EN articles"
      ],
      "metadata": {
        "id": "bKiJqtQlcXBd"
      }
    },
    {
      "cell_type": "markdown",
      "source": [
        "By leveraging the previously obtained titles, we can search for the equivalent pages on the EN Wikipedia."
      ],
      "metadata": {
        "id": "EDlC3ngacbgv"
      }
    },
    {
      "cell_type": "code",
      "source": [
        "page_texts_en = []\n",
        "\n",
        "def get_langlinks(page, page_texts_en):\n",
        "\n",
        "        langlinks = page.langlinks\n",
        "\n",
        "        for k in sorted(langlinks.keys()):\n",
        "            v = langlinks[k]\n",
        "\n",
        "        try:\n",
        "          page_en = page.langlinks['en']\n",
        "          page_texts_en.append(page_en.text)\n",
        "\n",
        "        except KeyError:\n",
        "          page_texts_en.append(str('No match'))\n",
        "          \n",
        "        except JSONDecodeError:\n",
        "           page_texts_en.append(str('No match'))"
      ],
      "metadata": {
        "id": "p-a8akWmZFST"
      },
      "execution_count": 7,
      "outputs": []
    },
    {
      "cell_type": "code",
      "source": [
        "def get_en_articles(page_titles, page_texts_en):\n",
        "\n",
        "  for title in page_titles:\n",
        "\n",
        "    wiki_wiki = wikipediaapi.Wikipedia('it')\n",
        "    page = wiki_wiki.page(str(title))\n",
        "    get_langlinks(page, page_texts_en)"
      ],
      "metadata": {
        "id": "_OnZucgQbAXQ"
      },
      "execution_count": 8,
      "outputs": []
    },
    {
      "cell_type": "code",
      "source": [
        "get_en_articles(page_titles, page_texts_en)"
      ],
      "metadata": {
        "id": "hdpRsTX2dDTc"
      },
      "execution_count": 9,
      "outputs": []
    },
    {
      "cell_type": "markdown",
      "source": [
        "## 2.3 Comparable IT-EN corpus"
      ],
      "metadata": {
        "id": "PfcOkZbBdSdR"
      }
    },
    {
      "cell_type": "markdown",
      "source": [
        "We merge the IT and the EN pages to obtain a comparable corpus."
      ],
      "metadata": {
        "id": "tFu7FjzBdehY"
      }
    },
    {
      "cell_type": "code",
      "source": [
        "comparable_corpus_vg = pd.DataFrame(np.column_stack([page_texts_en, page_texts_it]), \n",
        "                               columns=['en', 'it'])"
      ],
      "metadata": {
        "id": "-gzx7eLUdXtl"
      },
      "execution_count": 10,
      "outputs": []
    },
    {
      "cell_type": "markdown",
      "source": [
        "Now we only need to drop the rows where no English equivalent was found."
      ],
      "metadata": {
        "id": "Ul29Pxtadi62"
      }
    },
    {
      "cell_type": "code",
      "source": [
        "comparable_corpus_vg = comparable_corpus_vg[comparable_corpus_vg['en'].str.contains('No match')==False].reset_index(drop=True)"
      ],
      "metadata": {
        "id": "7xNDNaQJdlol"
      },
      "execution_count": 11,
      "outputs": []
    },
    {
      "cell_type": "markdown",
      "source": [
        "End result:"
      ],
      "metadata": {
        "id": "-EAlzKALdsMd"
      }
    },
    {
      "cell_type": "code",
      "source": [
        "comparable_corpus_vg"
      ],
      "metadata": {
        "colab": {
          "base_uri": "https://localhost:8080/",
          "height": 424
        },
        "id": "19PNhKjkdtBL",
        "outputId": "0530c16a-7e2c-439c-a1eb-248fdef1a845"
      },
      "execution_count": 12,
      "outputs": [
        {
          "output_type": "execute_result",
          "data": {
            "text/plain": [
              "                                                    en  \\\n",
              "0    13 Sentinels: Aegis Rim is a 2019 video game d...   \n",
              "1    428: Shibuya Scramble is a visual novel advent...   \n",
              "2    A Bird Story is an adventure role-playing vide...   \n",
              "3    A Short Hike is an adventure video game by Can...   \n",
              "4    Ace Attorney Investigations: Miles Edgeworth i...   \n",
              "..                                                 ...   \n",
              "364  Yakuza Kiwami 2 is an action-adventure video g...   \n",
              "365  Yume Nikki is a 2004 adventure game created by...   \n",
              "366  Mansion of Hidden Souls, called Tale of the Dr...   \n",
              "367  Famicom Mukashibanashi: Yūyūki (ふぁみこんむかし話 遊遊記,...   \n",
              "368  Zack & Wiki: Quest for Barbaros' Treasure is a...   \n",
              "\n",
              "                                                    it  \n",
              "0    13 Sentinels: Aegis Rim (十三機兵防衛圏?) è un videog...  \n",
              "1    428: Shibuya Scramble (428 封鎖された渋谷で 428: Fūsa ...  \n",
              "2    A Bird Story è un videogioco d'avventura con e...  \n",
              "3    A Short Hike è un videogioco d'avventura del 2...  \n",
              "4    Ace Attorney Investigations: Miles Edgeworth (...  \n",
              "..                                                 ...  \n",
              "364  Yakuza Kiwami 2, pubblicato in Giappone come R...  \n",
              "365  Yume nikki (ゆめにっき? lett. \"Diario dei sogni\") è...  \n",
              "366  Yumemi Mystery Mansion (夢見館の物語 Yumemi yakata n...  \n",
              "367  Yūyūki (遊遊記?) è un videogioco d'avventura del ...  \n",
              "368  Zack & Wiki: Il tesoro del pirata Barbaros (宝島...  \n",
              "\n",
              "[369 rows x 2 columns]"
            ],
            "text/html": [
              "\n",
              "  <div id=\"df-8f00ab06-9a1b-4364-a5f2-e6cbecafc6b2\">\n",
              "    <div class=\"colab-df-container\">\n",
              "      <div>\n",
              "<style scoped>\n",
              "    .dataframe tbody tr th:only-of-type {\n",
              "        vertical-align: middle;\n",
              "    }\n",
              "\n",
              "    .dataframe tbody tr th {\n",
              "        vertical-align: top;\n",
              "    }\n",
              "\n",
              "    .dataframe thead th {\n",
              "        text-align: right;\n",
              "    }\n",
              "</style>\n",
              "<table border=\"1\" class=\"dataframe\">\n",
              "  <thead>\n",
              "    <tr style=\"text-align: right;\">\n",
              "      <th></th>\n",
              "      <th>en</th>\n",
              "      <th>it</th>\n",
              "    </tr>\n",
              "  </thead>\n",
              "  <tbody>\n",
              "    <tr>\n",
              "      <th>0</th>\n",
              "      <td>13 Sentinels: Aegis Rim is a 2019 video game d...</td>\n",
              "      <td>13 Sentinels: Aegis Rim (十三機兵防衛圏?) è un videog...</td>\n",
              "    </tr>\n",
              "    <tr>\n",
              "      <th>1</th>\n",
              "      <td>428: Shibuya Scramble is a visual novel advent...</td>\n",
              "      <td>428: Shibuya Scramble (428 封鎖された渋谷で 428: Fūsa ...</td>\n",
              "    </tr>\n",
              "    <tr>\n",
              "      <th>2</th>\n",
              "      <td>A Bird Story is an adventure role-playing vide...</td>\n",
              "      <td>A Bird Story è un videogioco d'avventura con e...</td>\n",
              "    </tr>\n",
              "    <tr>\n",
              "      <th>3</th>\n",
              "      <td>A Short Hike is an adventure video game by Can...</td>\n",
              "      <td>A Short Hike è un videogioco d'avventura del 2...</td>\n",
              "    </tr>\n",
              "    <tr>\n",
              "      <th>4</th>\n",
              "      <td>Ace Attorney Investigations: Miles Edgeworth i...</td>\n",
              "      <td>Ace Attorney Investigations: Miles Edgeworth (...</td>\n",
              "    </tr>\n",
              "    <tr>\n",
              "      <th>...</th>\n",
              "      <td>...</td>\n",
              "      <td>...</td>\n",
              "    </tr>\n",
              "    <tr>\n",
              "      <th>364</th>\n",
              "      <td>Yakuza Kiwami 2 is an action-adventure video g...</td>\n",
              "      <td>Yakuza Kiwami 2, pubblicato in Giappone come R...</td>\n",
              "    </tr>\n",
              "    <tr>\n",
              "      <th>365</th>\n",
              "      <td>Yume Nikki is a 2004 adventure game created by...</td>\n",
              "      <td>Yume nikki (ゆめにっき? lett. \"Diario dei sogni\") è...</td>\n",
              "    </tr>\n",
              "    <tr>\n",
              "      <th>366</th>\n",
              "      <td>Mansion of Hidden Souls, called Tale of the Dr...</td>\n",
              "      <td>Yumemi Mystery Mansion (夢見館の物語 Yumemi yakata n...</td>\n",
              "    </tr>\n",
              "    <tr>\n",
              "      <th>367</th>\n",
              "      <td>Famicom Mukashibanashi: Yūyūki (ふぁみこんむかし話 遊遊記,...</td>\n",
              "      <td>Yūyūki (遊遊記?) è un videogioco d'avventura del ...</td>\n",
              "    </tr>\n",
              "    <tr>\n",
              "      <th>368</th>\n",
              "      <td>Zack &amp; Wiki: Quest for Barbaros' Treasure is a...</td>\n",
              "      <td>Zack &amp; Wiki: Il tesoro del pirata Barbaros (宝島...</td>\n",
              "    </tr>\n",
              "  </tbody>\n",
              "</table>\n",
              "<p>369 rows × 2 columns</p>\n",
              "</div>\n",
              "      <button class=\"colab-df-convert\" onclick=\"convertToInteractive('df-8f00ab06-9a1b-4364-a5f2-e6cbecafc6b2')\"\n",
              "              title=\"Convert this dataframe to an interactive table.\"\n",
              "              style=\"display:none;\">\n",
              "        \n",
              "  <svg xmlns=\"http://www.w3.org/2000/svg\" height=\"24px\"viewBox=\"0 0 24 24\"\n",
              "       width=\"24px\">\n",
              "    <path d=\"M0 0h24v24H0V0z\" fill=\"none\"/>\n",
              "    <path d=\"M18.56 5.44l.94 2.06.94-2.06 2.06-.94-2.06-.94-.94-2.06-.94 2.06-2.06.94zm-11 1L8.5 8.5l.94-2.06 2.06-.94-2.06-.94L8.5 2.5l-.94 2.06-2.06.94zm10 10l.94 2.06.94-2.06 2.06-.94-2.06-.94-.94-2.06-.94 2.06-2.06.94z\"/><path d=\"M17.41 7.96l-1.37-1.37c-.4-.4-.92-.59-1.43-.59-.52 0-1.04.2-1.43.59L10.3 9.45l-7.72 7.72c-.78.78-.78 2.05 0 2.83L4 21.41c.39.39.9.59 1.41.59.51 0 1.02-.2 1.41-.59l7.78-7.78 2.81-2.81c.8-.78.8-2.07 0-2.86zM5.41 20L4 18.59l7.72-7.72 1.47 1.35L5.41 20z\"/>\n",
              "  </svg>\n",
              "      </button>\n",
              "      \n",
              "  <style>\n",
              "    .colab-df-container {\n",
              "      display:flex;\n",
              "      flex-wrap:wrap;\n",
              "      gap: 12px;\n",
              "    }\n",
              "\n",
              "    .colab-df-convert {\n",
              "      background-color: #E8F0FE;\n",
              "      border: none;\n",
              "      border-radius: 50%;\n",
              "      cursor: pointer;\n",
              "      display: none;\n",
              "      fill: #1967D2;\n",
              "      height: 32px;\n",
              "      padding: 0 0 0 0;\n",
              "      width: 32px;\n",
              "    }\n",
              "\n",
              "    .colab-df-convert:hover {\n",
              "      background-color: #E2EBFA;\n",
              "      box-shadow: 0px 1px 2px rgba(60, 64, 67, 0.3), 0px 1px 3px 1px rgba(60, 64, 67, 0.15);\n",
              "      fill: #174EA6;\n",
              "    }\n",
              "\n",
              "    [theme=dark] .colab-df-convert {\n",
              "      background-color: #3B4455;\n",
              "      fill: #D2E3FC;\n",
              "    }\n",
              "\n",
              "    [theme=dark] .colab-df-convert:hover {\n",
              "      background-color: #434B5C;\n",
              "      box-shadow: 0px 1px 3px 1px rgba(0, 0, 0, 0.15);\n",
              "      filter: drop-shadow(0px 1px 2px rgba(0, 0, 0, 0.3));\n",
              "      fill: #FFFFFF;\n",
              "    }\n",
              "  </style>\n",
              "\n",
              "      <script>\n",
              "        const buttonEl =\n",
              "          document.querySelector('#df-8f00ab06-9a1b-4364-a5f2-e6cbecafc6b2 button.colab-df-convert');\n",
              "        buttonEl.style.display =\n",
              "          google.colab.kernel.accessAllowed ? 'block' : 'none';\n",
              "\n",
              "        async function convertToInteractive(key) {\n",
              "          const element = document.querySelector('#df-8f00ab06-9a1b-4364-a5f2-e6cbecafc6b2');\n",
              "          const dataTable =\n",
              "            await google.colab.kernel.invokeFunction('convertToInteractive',\n",
              "                                                     [key], {});\n",
              "          if (!dataTable) return;\n",
              "\n",
              "          const docLinkHtml = 'Like what you see? Visit the ' +\n",
              "            '<a target=\"_blank\" href=https://colab.research.google.com/notebooks/data_table.ipynb>data table notebook</a>'\n",
              "            + ' to learn more about interactive tables.';\n",
              "          element.innerHTML = '';\n",
              "          dataTable['output_type'] = 'display_data';\n",
              "          await google.colab.output.renderOutput(dataTable, element);\n",
              "          const docLink = document.createElement('div');\n",
              "          docLink.innerHTML = docLinkHtml;\n",
              "          element.appendChild(docLink);\n",
              "        }\n",
              "      </script>\n",
              "    </div>\n",
              "  </div>\n",
              "  "
            ]
          },
          "metadata": {},
          "execution_count": 12
        }
      ]
    },
    {
      "cell_type": "markdown",
      "source": [
        "# 3. Extracting parallel sentences from the comparable corpus"
      ],
      "metadata": {
        "id": "hSSoAU_rd9KQ"
      }
    },
    {
      "cell_type": "markdown",
      "source": [
        "For each Wikipedia article, we obtained the link to the corresponding article in English. This can be used to mine sentences limited to the respective articles. This local approach has several advantages: \n",
        "\n",
        "1.   Mining is faster since each article usually has a few hundreds of sentences only.\n",
        "2.   It seems reasonable to assume that a translation of a sentence is more\n",
        "likely to be found in the same article than anywhere in the whole Wikipedia. "
      ],
      "metadata": {
        "id": "mphG0zh6efRS"
      }
    },
    {
      "cell_type": "markdown",
      "source": [
        "## 3.1 Loading the Sentence-Transformers model"
      ],
      "metadata": {
        "id": "wRL4JELofnMd"
      }
    },
    {
      "cell_type": "markdown",
      "source": [
        "Sentence-BERT (SBERT) is a modification of the pretrained BERT network that uses siamese and triplet network structures to derive semantically meaningful sentence embeddings that can be compared using cosine-similarity [[1]](https://arxiv.org/abs/1908.10084://)"
      ],
      "metadata": {
        "id": "8-W6nVdYo6GD"
      }
    },
    {
      "cell_type": "markdown",
      "source": [
        "We will be using [distiluse-base-multilingual-cased-v2](https://huggingface.co/sentence-transformers/distiluse-base-multilingual-cased-v2://) to compute the sentence embeddings for evaluating textual similarity."
      ],
      "metadata": {
        "id": "wICoYyWVe9G_"
      }
    },
    {
      "cell_type": "code",
      "source": [
        "model = SentenceTransformer('distiluse-base-multilingual-cased', device='cuda')"
      ],
      "metadata": {
        "id": "9n1-TalAe9NS"
      },
      "execution_count": null,
      "outputs": []
    },
    {
      "cell_type": "markdown",
      "source": [
        "## 3.2 Using the model to create the embeddings, and computing sentence similarity"
      ],
      "metadata": {
        "id": "St5N7DnQfs0y"
      }
    },
    {
      "cell_type": "code",
      "source": [
        "parallel_sentences_en = []\n",
        "parallel_sentences_it = []\n",
        "\n",
        "def extract_parallel_sents(comparable_corpus_vg, parallel_sentences_en, parallel_sentences_it):\n",
        "\n",
        "  closest_n = 1\n",
        "\n",
        "  for en, it in zip(comparable_corpus_vg.en.values, comparable_corpus_vg.it.values): # Looping throuth the texts in the comparable corpus\n",
        "\n",
        "    corpus = sent_tokenize(en)\n",
        "    queries = sent_tokenize(it)\n",
        "\n",
        "    corpus_embeddings = model.encode(corpus)\n",
        "    query_embeddings = model.encode(queries)\n",
        "\n",
        "    for query, query_embedding in zip(queries, query_embeddings):\n",
        "      \n",
        "      distances = scipy.spatial.distance.cdist([query_embedding], corpus_embeddings, \"cosine\")[0]\n",
        "\n",
        "      results = zip(range(len(distances)), distances)\n",
        "      results = sorted(results, key=lambda x: x[1])\n",
        "\n",
        "      for idx, distance in results[0:closest_n]:\n",
        "        if 1-distance > 0.8: # Similarity threshold\n",
        "          parallel_sentences_it.append(query)\n",
        "          parallel_sentences_en.append(corpus[idx].strip())"
      ],
      "metadata": {
        "id": "fefQrvA9eF8n"
      },
      "execution_count": 14,
      "outputs": []
    },
    {
      "cell_type": "code",
      "source": [
        "extract_parallel_sents(comparable_corpus_vg, parallel_sentences_en, parallel_sentences_it)"
      ],
      "metadata": {
        "id": "CTBKAdw_gQdq"
      },
      "execution_count": 15,
      "outputs": []
    },
    {
      "cell_type": "markdown",
      "source": [
        "## 3.3 Building the parallel corpus "
      ],
      "metadata": {
        "id": "aN2aaDM6jDQU"
      }
    },
    {
      "cell_type": "code",
      "source": [
        "parallel_corpus = pd.DataFrame(np.column_stack([parallel_sentences_en, parallel_sentences_it]), \n",
        "                               columns=['en', 'it'])"
      ],
      "metadata": {
        "id": "QHE4ZG3qjIIm"
      },
      "execution_count": 16,
      "outputs": []
    },
    {
      "cell_type": "code",
      "source": [
        "parallel_corpus"
      ],
      "metadata": {
        "colab": {
          "base_uri": "https://localhost:8080/",
          "height": 424
        },
        "id": "pkXMYmD1jNjI",
        "outputId": "b784a009-de3a-4623-9645-991e4ce405d2"
      },
      "execution_count": 26,
      "outputs": [
        {
          "output_type": "execute_result",
          "data": {
            "text/plain": [
              "                                                    en  \\\n",
              "0    Astro Bot Rescue Mission is a 2018 platform vi...   \n",
              "1    It stars a cast of robot characters first intr...   \n",
              "2    Gameplay\\nAstro Bot Rescue Mission is a 3D pla...   \n",
              "3    Astro is able to jump, hover, punch and charge...   \n",
              "4    There are 8 lost robots in each level and find...   \n",
              "..                                                 ...   \n",
              "193  Gameplay\\nStar Wars: Squadrons is a space comb...   \n",
              "194  As players earn more experience, they can unlo...   \n",
              "195  An updated arcade version, Tekken 7: Fated Ret...   \n",
              "196  Until Dawn: Rush of Blood is a rail shooter de...   \n",
              "197  Development\\nAfter the successful release of U...   \n",
              "\n",
              "                                                    it  \n",
              "0    Astro Bot Rescue Mission è un videogioco a pia...  \n",
              "1    I robottini presenti nel gioco sono stati intr...  \n",
              "2    Modalità di gioco\\nAstro Bot Rescue Mission è ...  \n",
              "3    Astro è in grado di saltare, caricare e colpir...  \n",
              "4    Ci sono 8 robot smarriti in ogni livello e tro...  \n",
              "..                                                 ...  \n",
              "193  Star Wars: Squadrons è un videogioco di combat...  \n",
              "194  È anche possibile ottenere esperienza in modo ...  \n",
              "195  Tekken 7 è uscito nelle sale giochi giapponesi...  \n",
              "196  Until Dawn: Rush of Blood è un videogioco di g...  \n",
              "197  Sviluppo\\nI progetti di sviluppo per Rush of B...  \n",
              "\n",
              "[198 rows x 2 columns]"
            ],
            "text/html": [
              "\n",
              "  <div id=\"df-bf33d4ad-35f9-4dac-9d49-e9e98c5ff53d\">\n",
              "    <div class=\"colab-df-container\">\n",
              "      <div>\n",
              "<style scoped>\n",
              "    .dataframe tbody tr th:only-of-type {\n",
              "        vertical-align: middle;\n",
              "    }\n",
              "\n",
              "    .dataframe tbody tr th {\n",
              "        vertical-align: top;\n",
              "    }\n",
              "\n",
              "    .dataframe thead th {\n",
              "        text-align: right;\n",
              "    }\n",
              "</style>\n",
              "<table border=\"1\" class=\"dataframe\">\n",
              "  <thead>\n",
              "    <tr style=\"text-align: right;\">\n",
              "      <th></th>\n",
              "      <th>en</th>\n",
              "      <th>it</th>\n",
              "    </tr>\n",
              "  </thead>\n",
              "  <tbody>\n",
              "    <tr>\n",
              "      <th>0</th>\n",
              "      <td>Astro Bot Rescue Mission is a 2018 platform vi...</td>\n",
              "      <td>Astro Bot Rescue Mission è un videogioco a pia...</td>\n",
              "    </tr>\n",
              "    <tr>\n",
              "      <th>1</th>\n",
              "      <td>It stars a cast of robot characters first intr...</td>\n",
              "      <td>I robottini presenti nel gioco sono stati intr...</td>\n",
              "    </tr>\n",
              "    <tr>\n",
              "      <th>2</th>\n",
              "      <td>Gameplay\\nAstro Bot Rescue Mission is a 3D pla...</td>\n",
              "      <td>Modalità di gioco\\nAstro Bot Rescue Mission è ...</td>\n",
              "    </tr>\n",
              "    <tr>\n",
              "      <th>3</th>\n",
              "      <td>Astro is able to jump, hover, punch and charge...</td>\n",
              "      <td>Astro è in grado di saltare, caricare e colpir...</td>\n",
              "    </tr>\n",
              "    <tr>\n",
              "      <th>4</th>\n",
              "      <td>There are 8 lost robots in each level and find...</td>\n",
              "      <td>Ci sono 8 robot smarriti in ogni livello e tro...</td>\n",
              "    </tr>\n",
              "    <tr>\n",
              "      <th>...</th>\n",
              "      <td>...</td>\n",
              "      <td>...</td>\n",
              "    </tr>\n",
              "    <tr>\n",
              "      <th>193</th>\n",
              "      <td>Gameplay\\nStar Wars: Squadrons is a space comb...</td>\n",
              "      <td>Star Wars: Squadrons è un videogioco di combat...</td>\n",
              "    </tr>\n",
              "    <tr>\n",
              "      <th>194</th>\n",
              "      <td>As players earn more experience, they can unlo...</td>\n",
              "      <td>È anche possibile ottenere esperienza in modo ...</td>\n",
              "    </tr>\n",
              "    <tr>\n",
              "      <th>195</th>\n",
              "      <td>An updated arcade version, Tekken 7: Fated Ret...</td>\n",
              "      <td>Tekken 7 è uscito nelle sale giochi giapponesi...</td>\n",
              "    </tr>\n",
              "    <tr>\n",
              "      <th>196</th>\n",
              "      <td>Until Dawn: Rush of Blood is a rail shooter de...</td>\n",
              "      <td>Until Dawn: Rush of Blood è un videogioco di g...</td>\n",
              "    </tr>\n",
              "    <tr>\n",
              "      <th>197</th>\n",
              "      <td>Development\\nAfter the successful release of U...</td>\n",
              "      <td>Sviluppo\\nI progetti di sviluppo per Rush of B...</td>\n",
              "    </tr>\n",
              "  </tbody>\n",
              "</table>\n",
              "<p>198 rows × 2 columns</p>\n",
              "</div>\n",
              "      <button class=\"colab-df-convert\" onclick=\"convertToInteractive('df-bf33d4ad-35f9-4dac-9d49-e9e98c5ff53d')\"\n",
              "              title=\"Convert this dataframe to an interactive table.\"\n",
              "              style=\"display:none;\">\n",
              "        \n",
              "  <svg xmlns=\"http://www.w3.org/2000/svg\" height=\"24px\"viewBox=\"0 0 24 24\"\n",
              "       width=\"24px\">\n",
              "    <path d=\"M0 0h24v24H0V0z\" fill=\"none\"/>\n",
              "    <path d=\"M18.56 5.44l.94 2.06.94-2.06 2.06-.94-2.06-.94-.94-2.06-.94 2.06-2.06.94zm-11 1L8.5 8.5l.94-2.06 2.06-.94-2.06-.94L8.5 2.5l-.94 2.06-2.06.94zm10 10l.94 2.06.94-2.06 2.06-.94-2.06-.94-.94-2.06-.94 2.06-2.06.94z\"/><path d=\"M17.41 7.96l-1.37-1.37c-.4-.4-.92-.59-1.43-.59-.52 0-1.04.2-1.43.59L10.3 9.45l-7.72 7.72c-.78.78-.78 2.05 0 2.83L4 21.41c.39.39.9.59 1.41.59.51 0 1.02-.2 1.41-.59l7.78-7.78 2.81-2.81c.8-.78.8-2.07 0-2.86zM5.41 20L4 18.59l7.72-7.72 1.47 1.35L5.41 20z\"/>\n",
              "  </svg>\n",
              "      </button>\n",
              "      \n",
              "  <style>\n",
              "    .colab-df-container {\n",
              "      display:flex;\n",
              "      flex-wrap:wrap;\n",
              "      gap: 12px;\n",
              "    }\n",
              "\n",
              "    .colab-df-convert {\n",
              "      background-color: #E8F0FE;\n",
              "      border: none;\n",
              "      border-radius: 50%;\n",
              "      cursor: pointer;\n",
              "      display: none;\n",
              "      fill: #1967D2;\n",
              "      height: 32px;\n",
              "      padding: 0 0 0 0;\n",
              "      width: 32px;\n",
              "    }\n",
              "\n",
              "    .colab-df-convert:hover {\n",
              "      background-color: #E2EBFA;\n",
              "      box-shadow: 0px 1px 2px rgba(60, 64, 67, 0.3), 0px 1px 3px 1px rgba(60, 64, 67, 0.15);\n",
              "      fill: #174EA6;\n",
              "    }\n",
              "\n",
              "    [theme=dark] .colab-df-convert {\n",
              "      background-color: #3B4455;\n",
              "      fill: #D2E3FC;\n",
              "    }\n",
              "\n",
              "    [theme=dark] .colab-df-convert:hover {\n",
              "      background-color: #434B5C;\n",
              "      box-shadow: 0px 1px 3px 1px rgba(0, 0, 0, 0.15);\n",
              "      filter: drop-shadow(0px 1px 2px rgba(0, 0, 0, 0.3));\n",
              "      fill: #FFFFFF;\n",
              "    }\n",
              "  </style>\n",
              "\n",
              "      <script>\n",
              "        const buttonEl =\n",
              "          document.querySelector('#df-bf33d4ad-35f9-4dac-9d49-e9e98c5ff53d button.colab-df-convert');\n",
              "        buttonEl.style.display =\n",
              "          google.colab.kernel.accessAllowed ? 'block' : 'none';\n",
              "\n",
              "        async function convertToInteractive(key) {\n",
              "          const element = document.querySelector('#df-bf33d4ad-35f9-4dac-9d49-e9e98c5ff53d');\n",
              "          const dataTable =\n",
              "            await google.colab.kernel.invokeFunction('convertToInteractive',\n",
              "                                                     [key], {});\n",
              "          if (!dataTable) return;\n",
              "\n",
              "          const docLinkHtml = 'Like what you see? Visit the ' +\n",
              "            '<a target=\"_blank\" href=https://colab.research.google.com/notebooks/data_table.ipynb>data table notebook</a>'\n",
              "            + ' to learn more about interactive tables.';\n",
              "          element.innerHTML = '';\n",
              "          dataTable['output_type'] = 'display_data';\n",
              "          await google.colab.output.renderOutput(dataTable, element);\n",
              "          const docLink = document.createElement('div');\n",
              "          docLink.innerHTML = docLinkHtml;\n",
              "          element.appendChild(docLink);\n",
              "        }\n",
              "      </script>\n",
              "    </div>\n",
              "  </div>\n",
              "  "
            ]
          },
          "metadata": {},
          "execution_count": 26
        }
      ]
    },
    {
      "cell_type": "code",
      "source": [
        "parallel_corpus.to_excel(\"parallel_corpus_vg_en_it_3.xlsx\")  "
      ],
      "metadata": {
        "id": "M0Y9MurRjRpS"
      },
      "execution_count": 17,
      "outputs": []
    }
  ]
}