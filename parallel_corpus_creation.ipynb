{
  "nbformat": 4,
  "nbformat_minor": 0,
  "metadata": {
    "colab": {
      "provenance": [],
      "authorship_tag": "ABX9TyOkrwkr6aSjW1fvDhOG+RS5",
      "include_colab_link": true
    },
    "kernelspec": {
      "name": "python3",
      "display_name": "Python 3"
    },
    "language_info": {
      "name": "python"
    },
    "accelerator": "GPU",
    "gpuClass": "standard"
  },
  "cells": [
    {
      "cell_type": "markdown",
      "metadata": {
        "id": "view-in-github",
        "colab_type": "text"
      },
      "source": [
        "<a href=\"https://colab.research.google.com/github/ffedox/pbr/blob/main/parallel_corpus_creation.ipynb\" target=\"_parent\"><img src=\"https://colab.research.google.com/assets/colab-badge.svg\" alt=\"Open In Colab\"/></a>"
      ]
    },
    {
      "cell_type": "markdown",
      "source": [
        "# Extracting a domain-specific parallel corpus from Wikipedia"
      ],
      "metadata": {
        "id": "GpNfRNZlXUtM"
      }
    },
    {
      "cell_type": "markdown",
      "source": [
        "# 1. Setup"
      ],
      "metadata": {
        "id": "3cNlMWd_XYgR"
      }
    },
    {
      "cell_type": "markdown",
      "source": [
        "# 1.1 Enabling the GPU on Colab"
      ],
      "metadata": {
        "id": "_AlsyUjyIqDt"
      }
    },
    {
      "cell_type": "markdown",
      "source": [
        "Checking if a GPU is available and selecting the device (GPU or CPU) to run PyTorch computations on."
      ],
      "metadata": {
        "id": "OVOrPWR_IUTh"
      }
    },
    {
      "cell_type": "code",
      "source": [
        "import torch\n",
        "\n",
        "# If there's a GPU avaiable, tell PyTorch to use the GPU,\n",
        "# otherwise, using the CPU instead.\n",
        "if torch.cuda.is_available():\n",
        "  device = torch.device(\"cuda\")\n",
        "  print('Found GPU:', torch.cuda.get_device_name(0))\n",
        "else:\n",
        "  device = torch.device(\"cpu\")\n",
        "  print('CPU will be used because no GPU available.')"
      ],
      "metadata": {
        "colab": {
          "base_uri": "https://localhost:8080/"
        },
        "id": "4xBwWZ6h_U6d",
        "outputId": "29a6c463-ece5-4867-9341-354eb12b9bb8"
      },
      "execution_count": null,
      "outputs": [
        {
          "output_type": "stream",
          "name": "stdout",
          "text": [
            "Found GPU: Tesla T4\n"
          ]
        }
      ]
    },
    {
      "cell_type": "markdown",
      "source": [
        "## 1.2 Installing Wikipedia API"
      ],
      "metadata": {
        "id": "czRX_YxkXoEj"
      }
    },
    {
      "cell_type": "markdown",
      "source": [
        "[Wikipedia-API](https://github.com/martin-majlis/Wikipedia-API) is a Python wrapper for Wikipedias' API. It supports extracting texts, sections, links, categories, translations, etc. from Wikipedia."
      ],
      "metadata": {
        "id": "s0be9vWTXcrv"
      }
    },
    {
      "cell_type": "code",
      "execution_count": null,
      "metadata": {
        "id": "QvrwAFtyXUZY"
      },
      "outputs": [],
      "source": [
        "!pip install wikipedia-api --quiet"
      ]
    },
    {
      "cell_type": "markdown",
      "source": [
        "## 1.3 Installing Sentence Transformers\n",
        "\n"
      ],
      "metadata": {
        "id": "SGYAHuzoXm8e"
      }
    },
    {
      "cell_type": "markdown",
      "source": [
        "[Sentence Transformers](https://www.sbert.net/) is a Python framework for state-of-the-art sentence, text and image embeddings. "
      ],
      "metadata": {
        "id": "1jfnjNU7Xv0t"
      }
    },
    {
      "cell_type": "code",
      "source": [
        "!pip install sentence-transformers --quiet"
      ],
      "metadata": {
        "colab": {
          "base_uri": "https://localhost:8080/"
        },
        "id": "c6CK2cyDXwKi",
        "outputId": "5fe0ba3b-906c-4100-9aa8-426f8bc33519"
      },
      "execution_count": null,
      "outputs": [
        {
          "output_type": "stream",
          "name": "stdout",
          "text": [
            "\u001b[?25l     \u001b[90m━━━━━━━━━━━━━━━━━━━━━━━━━━━━━━━━━━━━━━━━\u001b[0m \u001b[32m0.0/86.0 KB\u001b[0m \u001b[31m?\u001b[0m eta \u001b[36m-:--:--\u001b[0m\r\u001b[2K     \u001b[90m━━━━━━━━━━━━━━━━━━━━━━━━━━━━━━━━━━━━━━━━\u001b[0m \u001b[32m86.0/86.0 KB\u001b[0m \u001b[31m7.9 MB/s\u001b[0m eta \u001b[36m0:00:00\u001b[0m\n",
            "\u001b[?25h  Preparing metadata (setup.py) ... \u001b[?25l\u001b[?25hdone\n",
            "\u001b[2K     \u001b[90m━━━━━━━━━━━━━━━━━━━━━━━━━━━━━━━━━━━━━━━━\u001b[0m \u001b[32m6.3/6.3 MB\u001b[0m \u001b[31m101.9 MB/s\u001b[0m eta \u001b[36m0:00:00\u001b[0m\n",
            "\u001b[2K     \u001b[90m━━━━━━━━━━━━━━━━━━━━━━━━━━━━━━━━━━━━━━━━\u001b[0m \u001b[32m1.3/1.3 MB\u001b[0m \u001b[31m73.5 MB/s\u001b[0m eta \u001b[36m0:00:00\u001b[0m\n",
            "\u001b[2K     \u001b[90m━━━━━━━━━━━━━━━━━━━━━━━━━━━━━━━━━━━━━━\u001b[0m \u001b[32m190.3/190.3 KB\u001b[0m \u001b[31m22.2 MB/s\u001b[0m eta \u001b[36m0:00:00\u001b[0m\n",
            "\u001b[2K     \u001b[90m━━━━━━━━━━━━━━━━━━━━━━━━━━━━━━━━━━━━━━━━\u001b[0m \u001b[32m7.6/7.6 MB\u001b[0m \u001b[31m112.1 MB/s\u001b[0m eta \u001b[36m0:00:00\u001b[0m\n",
            "\u001b[?25h  Building wheel for sentence-transformers (setup.py) ... \u001b[?25l\u001b[?25hdone\n"
          ]
        }
      ]
    },
    {
      "cell_type": "markdown",
      "source": [
        "## 1.4 Imports"
      ],
      "metadata": {
        "id": "0-Zy9qgqYWkU"
      }
    },
    {
      "cell_type": "code",
      "source": [
        "from sentence_transformers import models, SentenceTransformer\n",
        "from json import JSONDecodeError\n",
        "\n",
        "import wikipediaapi\n",
        "\n",
        "import pandas as pd\n",
        "import numpy as np\n",
        "import scipy\n",
        "\n",
        "from nltk.tokenize import sent_tokenize\n",
        "import nltk\n",
        "\n",
        "nltk.download('punkt')"
      ],
      "metadata": {
        "colab": {
          "base_uri": "https://localhost:8080/"
        },
        "id": "gEY0JugNYjpX",
        "outputId": "6f0af5ff-59d1-4299-afb8-28fcdb890f4f"
      },
      "execution_count": null,
      "outputs": [
        {
          "output_type": "stream",
          "name": "stderr",
          "text": [
            "[nltk_data] Downloading package punkt to /root/nltk_data...\n",
            "[nltk_data]   Unzipping tokenizers/punkt.zip.\n"
          ]
        },
        {
          "output_type": "execute_result",
          "data": {
            "text/plain": [
              "True"
            ]
          },
          "metadata": {},
          "execution_count": 4
        }
      ]
    },
    {
      "cell_type": "markdown",
      "source": [
        "# 2. Extracting an IT-EN comparable corpus from Categories"
      ],
      "metadata": {
        "id": "REpfd_uhY5lS"
      }
    },
    {
      "cell_type": "markdown",
      "source": [
        "First we will extract a comparable corpus by scraping Category: pages in Italian (it is more likely to find correspondences from IT to EN than the other way around)."
      ],
      "metadata": {
        "id": "2--kOfviZIJ4"
      }
    },
    {
      "cell_type": "markdown",
      "source": [
        "For each page linked in the IT Category: page, we will be retrieving the EN equivalent."
      ],
      "metadata": {
        "id": "OPKtgZNWZYn4"
      }
    },
    {
      "cell_type": "markdown",
      "source": [
        "## 2.1 Extracting the IT articles from the Category"
      ],
      "metadata": {
        "id": "W2b1tIpecTlg"
      }
    },
    {
      "cell_type": "markdown",
      "source": [
        "Defining a function `get_it_articles` that takes two lists and a category name as input, retrieves information about the category from the Italian Wikipedia using the `wikipediaapi` library, extracts the text of each article in the category and appends it to the `page_texts_it` list. It also appends the title of each article to the `page_titles` list. The category input is supposed to be a string representing a category in the Italian Wikipedia, formatted like `\"Categoria:Survival_horror\"`. "
      ],
      "metadata": {
        "id": "id5UPyIhJGiy"
      }
    },
    {
      "cell_type": "code",
      "source": [
        "page_titles = []\n",
        "page_texts_it = []\n",
        "\n",
        "def get_it_articles(category, page_titles, page_texts_it):\n",
        "\n",
        "  wiki_wiki = wikipediaapi.Wikipedia('it')\n",
        "  cat = wiki_wiki.page(category)   # category should be like .page(\"Categoria:Survival_horror\")\n",
        "\n",
        "  for p in cat.categorymembers.values():\n",
        "    if p.namespace == wikipediaapi.Namespace.MAIN:\n",
        "      # it is page => we can get text\n",
        "      page_titles.append(p.title)\n",
        "      page_texts_it.append(p.text)"
      ],
      "metadata": {
        "id": "1PzyPtMObURS"
      },
      "execution_count": null,
      "outputs": []
    },
    {
      "cell_type": "markdown",
      "source": [
        "Calling the `get_it_articles` function defined earlier, then passing the string `\"Categoria:Videogiochi_strategici_in_tempo_reale\"` as the category and the two lists `page_titles` and `page_texts_it` as arguments."
      ],
      "metadata": {
        "id": "gB80bIqQJmru"
      }
    },
    {
      "cell_type": "code",
      "source": [
        "get_it_articles(\"Categoria:Videogiochi_strategici_in_tempo_reale\", page_titles, page_texts_it)"
      ],
      "metadata": {
        "id": "4D89ZsPPb5tU"
      },
      "execution_count": null,
      "outputs": []
    },
    {
      "cell_type": "markdown",
      "source": [
        "## 2.2 Extracting the corresponding EN articles"
      ],
      "metadata": {
        "id": "bKiJqtQlcXBd"
      }
    },
    {
      "cell_type": "markdown",
      "source": [
        "Defining the function `get_langlinks` that takes a page and the list `page_texts_en` as input. It uses the `langlinks` attribute of the input `page` to access the language links of the page, and sorts the keys of the language links dictionary. Then, it tries to retrieve the English version of the page using the key 'en' in the language links dictionary. If the key 'en' is not found in the language links, it appends the string 'No match' to the `page_texts_en` list. If a JSONDecodeError occurs while trying to retrieve the English version of the page, it also appends the string 'No match' to the `page_texts_en` list. This function is used to get the English version of pages from the Italian Wikipedia."
      ],
      "metadata": {
        "id": "dr59mtBoJ356"
      }
    },
    {
      "cell_type": "code",
      "source": [
        "page_texts_en = []\n",
        "\n",
        "def get_langlinks(page, page_texts_en):\n",
        "\n",
        "        langlinks = page.langlinks\n",
        "\n",
        "        for k in sorted(langlinks.keys()):\n",
        "            v = langlinks[k]\n",
        "\n",
        "        try:\n",
        "          page_en = page.langlinks['en']\n",
        "          page_texts_en.append(page_en.text)\n",
        "\n",
        "        except KeyError:\n",
        "          page_texts_en.append(str('No match'))\n",
        "          \n",
        "        except JSONDecodeError:\n",
        "           page_texts_en.append(str('No match'))"
      ],
      "metadata": {
        "id": "p-a8akWmZFST"
      },
      "execution_count": null,
      "outputs": []
    },
    {
      "cell_type": "markdown",
      "source": [
        "Defining the function `get_en_articles` that takes the two lists `page_titles` and `page_texts_en` as input. For each title in the `page_titles` list, it retrieves the corresponding page from the Italian Wikipedia using the `wikipediaapi` library. Then, it calls the `get_langlinks` function, passing the page and the `page_texts_en` list as arguments, to retrieve the English version of the page if it exists."
      ],
      "metadata": {
        "id": "9JQivCtIK1Vs"
      }
    },
    {
      "cell_type": "code",
      "source": [
        "def get_en_articles(page_titles, page_texts_en):\n",
        "\n",
        "  for title in page_titles:\n",
        "\n",
        "    wiki_wiki = wikipediaapi.Wikipedia('it')\n",
        "    page = wiki_wiki.page(str(title))\n",
        "    get_langlinks(page, page_texts_en)"
      ],
      "metadata": {
        "id": "_OnZucgQbAXQ"
      },
      "execution_count": null,
      "outputs": []
    },
    {
      "cell_type": "markdown",
      "source": [
        "Calling the `get_en_articles` function defined earlier, then passing the the lists `page_titles` and `page_texts_en` as arguments. "
      ],
      "metadata": {
        "id": "bM0qRnKALPOd"
      }
    },
    {
      "cell_type": "code",
      "source": [
        "get_en_articles(page_titles, page_texts_en)"
      ],
      "metadata": {
        "id": "hdpRsTX2dDTc"
      },
      "execution_count": null,
      "outputs": []
    },
    {
      "cell_type": "markdown",
      "source": [
        "## 2.3 Comparable IT-EN corpus"
      ],
      "metadata": {
        "id": "PfcOkZbBdSdR"
      }
    },
    {
      "cell_type": "markdown",
      "source": [
        "Creating a Pandas dataframe named `comparable_corpus_vg` by stacking the `page_texts_en` and `page_texts_it` lists as columns and naming the columns as 'en' and 'it' respectively. The resulting dataframe will have two columns, where each row contains the English and Italian version of a page."
      ],
      "metadata": {
        "id": "E-0XaPLZLj34"
      }
    },
    {
      "cell_type": "code",
      "source": [
        "comparable_corpus_vg = pd.DataFrame(np.column_stack([page_texts_en, page_texts_it]), \n",
        "                               columns=['en', 'it'])"
      ],
      "metadata": {
        "id": "-gzx7eLUdXtl"
      },
      "execution_count": null,
      "outputs": []
    },
    {
      "cell_type": "markdown",
      "source": [
        "Filtering the `comparable_corpus_vg` dataframe to include only the rows where the value in the 'en' column does not contain the string 'No match'. The `.str.contains()` method is used to search for the string in the 'en' column and `== False` is used to select only the rows where the search returns False. The `reset_index` method is then used with the `drop=True` argument to reset the index of the dataframe to start from 0 and to drop the original index column. This line of code is used to remove the rows where the English version of the page was not found and to clean up the dataframe."
      ],
      "metadata": {
        "id": "Ul29Pxtadi62"
      }
    },
    {
      "cell_type": "code",
      "source": [
        "comparable_corpus_vg = comparable_corpus_vg[comparable_corpus_vg['en'].str.contains('No match')==False].reset_index(drop=True)"
      ],
      "metadata": {
        "id": "7xNDNaQJdlol"
      },
      "execution_count": null,
      "outputs": []
    },
    {
      "cell_type": "markdown",
      "source": [
        "Displaying the `comparable_corpus_vg` dataframe."
      ],
      "metadata": {
        "id": "-EAlzKALdsMd"
      }
    },
    {
      "cell_type": "code",
      "source": [
        "comparable_corpus_vg"
      ],
      "metadata": {
        "colab": {
          "base_uri": "https://localhost:8080/",
          "height": 424
        },
        "id": "19PNhKjkdtBL",
        "outputId": "79b88fab-b492-4e75-e985-b872fc743be3"
      },
      "execution_count": null,
      "outputs": [
        {
          "output_type": "execute_result",
          "data": {
            "text/plain": [
              "                                                    en  \\\n",
              "0    0 A.D. is a free and open-source real-time str...   \n",
              "1    Abomination: The Nemesis Project, released in ...   \n",
              "2    Act of War: Direct Action is a real-time strat...   \n",
              "3    Act of War: High Treason (abbreviated as AOW:H...   \n",
              "4    Desert Rats vs. Afrika Korps, released as Afri...   \n",
              "..                                                 ...   \n",
              "351  WorldShift is a science fiction real-time stra...   \n",
              "352  X-COM: Apocalypse is a 1997 science fiction ta...   \n",
              "353  Z is a 1996 real-time strategy computer game b...   \n",
              "354  Z: Steel Soldiers (originally released for Mic...   \n",
              "355  Zoids: The Battle Begins is a 1986 video game ...   \n",
              "\n",
              "                                                    it  \n",
              "0    0 A.D. è un videogioco di strategia in tempo r...  \n",
              "1    Abomination è un videogioco strategico/gestion...  \n",
              "2    Act of War: Direct Action è un videogioco stra...  \n",
              "3    Act of War: High Treason è un'espansione del v...  \n",
              "4    Afrika Korps vs. Desert Rats (abbreviato in AK...  \n",
              "..                                                 ...  \n",
              "351  WorldShift è un videogioco strategico in tempo...  \n",
              "352  X-COM: Apocalypse è il terzo videogioco della ...  \n",
              "353  Z è un videogioco strategico in tempo reale sv...  \n",
              "354  Z: Steel Soldiers è un videogioco strategico i...  \n",
              "355  Zoids, o Zoids: The Battle Begins in alcune ed...  \n",
              "\n",
              "[356 rows x 2 columns]"
            ],
            "text/html": [
              "\n",
              "  <div id=\"df-d74029f0-a491-4e77-9020-1e8abf58a956\">\n",
              "    <div class=\"colab-df-container\">\n",
              "      <div>\n",
              "<style scoped>\n",
              "    .dataframe tbody tr th:only-of-type {\n",
              "        vertical-align: middle;\n",
              "    }\n",
              "\n",
              "    .dataframe tbody tr th {\n",
              "        vertical-align: top;\n",
              "    }\n",
              "\n",
              "    .dataframe thead th {\n",
              "        text-align: right;\n",
              "    }\n",
              "</style>\n",
              "<table border=\"1\" class=\"dataframe\">\n",
              "  <thead>\n",
              "    <tr style=\"text-align: right;\">\n",
              "      <th></th>\n",
              "      <th>en</th>\n",
              "      <th>it</th>\n",
              "    </tr>\n",
              "  </thead>\n",
              "  <tbody>\n",
              "    <tr>\n",
              "      <th>0</th>\n",
              "      <td>0 A.D. is a free and open-source real-time str...</td>\n",
              "      <td>0 A.D. è un videogioco di strategia in tempo r...</td>\n",
              "    </tr>\n",
              "    <tr>\n",
              "      <th>1</th>\n",
              "      <td>Abomination: The Nemesis Project, released in ...</td>\n",
              "      <td>Abomination è un videogioco strategico/gestion...</td>\n",
              "    </tr>\n",
              "    <tr>\n",
              "      <th>2</th>\n",
              "      <td>Act of War: Direct Action is a real-time strat...</td>\n",
              "      <td>Act of War: Direct Action è un videogioco stra...</td>\n",
              "    </tr>\n",
              "    <tr>\n",
              "      <th>3</th>\n",
              "      <td>Act of War: High Treason (abbreviated as AOW:H...</td>\n",
              "      <td>Act of War: High Treason è un'espansione del v...</td>\n",
              "    </tr>\n",
              "    <tr>\n",
              "      <th>4</th>\n",
              "      <td>Desert Rats vs. Afrika Korps, released as Afri...</td>\n",
              "      <td>Afrika Korps vs. Desert Rats (abbreviato in AK...</td>\n",
              "    </tr>\n",
              "    <tr>\n",
              "      <th>...</th>\n",
              "      <td>...</td>\n",
              "      <td>...</td>\n",
              "    </tr>\n",
              "    <tr>\n",
              "      <th>351</th>\n",
              "      <td>WorldShift is a science fiction real-time stra...</td>\n",
              "      <td>WorldShift è un videogioco strategico in tempo...</td>\n",
              "    </tr>\n",
              "    <tr>\n",
              "      <th>352</th>\n",
              "      <td>X-COM: Apocalypse is a 1997 science fiction ta...</td>\n",
              "      <td>X-COM: Apocalypse è il terzo videogioco della ...</td>\n",
              "    </tr>\n",
              "    <tr>\n",
              "      <th>353</th>\n",
              "      <td>Z is a 1996 real-time strategy computer game b...</td>\n",
              "      <td>Z è un videogioco strategico in tempo reale sv...</td>\n",
              "    </tr>\n",
              "    <tr>\n",
              "      <th>354</th>\n",
              "      <td>Z: Steel Soldiers (originally released for Mic...</td>\n",
              "      <td>Z: Steel Soldiers è un videogioco strategico i...</td>\n",
              "    </tr>\n",
              "    <tr>\n",
              "      <th>355</th>\n",
              "      <td>Zoids: The Battle Begins is a 1986 video game ...</td>\n",
              "      <td>Zoids, o Zoids: The Battle Begins in alcune ed...</td>\n",
              "    </tr>\n",
              "  </tbody>\n",
              "</table>\n",
              "<p>356 rows × 2 columns</p>\n",
              "</div>\n",
              "      <button class=\"colab-df-convert\" onclick=\"convertToInteractive('df-d74029f0-a491-4e77-9020-1e8abf58a956')\"\n",
              "              title=\"Convert this dataframe to an interactive table.\"\n",
              "              style=\"display:none;\">\n",
              "        \n",
              "  <svg xmlns=\"http://www.w3.org/2000/svg\" height=\"24px\"viewBox=\"0 0 24 24\"\n",
              "       width=\"24px\">\n",
              "    <path d=\"M0 0h24v24H0V0z\" fill=\"none\"/>\n",
              "    <path d=\"M18.56 5.44l.94 2.06.94-2.06 2.06-.94-2.06-.94-.94-2.06-.94 2.06-2.06.94zm-11 1L8.5 8.5l.94-2.06 2.06-.94-2.06-.94L8.5 2.5l-.94 2.06-2.06.94zm10 10l.94 2.06.94-2.06 2.06-.94-2.06-.94-.94-2.06-.94 2.06-2.06.94z\"/><path d=\"M17.41 7.96l-1.37-1.37c-.4-.4-.92-.59-1.43-.59-.52 0-1.04.2-1.43.59L10.3 9.45l-7.72 7.72c-.78.78-.78 2.05 0 2.83L4 21.41c.39.39.9.59 1.41.59.51 0 1.02-.2 1.41-.59l7.78-7.78 2.81-2.81c.8-.78.8-2.07 0-2.86zM5.41 20L4 18.59l7.72-7.72 1.47 1.35L5.41 20z\"/>\n",
              "  </svg>\n",
              "      </button>\n",
              "      \n",
              "  <style>\n",
              "    .colab-df-container {\n",
              "      display:flex;\n",
              "      flex-wrap:wrap;\n",
              "      gap: 12px;\n",
              "    }\n",
              "\n",
              "    .colab-df-convert {\n",
              "      background-color: #E8F0FE;\n",
              "      border: none;\n",
              "      border-radius: 50%;\n",
              "      cursor: pointer;\n",
              "      display: none;\n",
              "      fill: #1967D2;\n",
              "      height: 32px;\n",
              "      padding: 0 0 0 0;\n",
              "      width: 32px;\n",
              "    }\n",
              "\n",
              "    .colab-df-convert:hover {\n",
              "      background-color: #E2EBFA;\n",
              "      box-shadow: 0px 1px 2px rgba(60, 64, 67, 0.3), 0px 1px 3px 1px rgba(60, 64, 67, 0.15);\n",
              "      fill: #174EA6;\n",
              "    }\n",
              "\n",
              "    [theme=dark] .colab-df-convert {\n",
              "      background-color: #3B4455;\n",
              "      fill: #D2E3FC;\n",
              "    }\n",
              "\n",
              "    [theme=dark] .colab-df-convert:hover {\n",
              "      background-color: #434B5C;\n",
              "      box-shadow: 0px 1px 3px 1px rgba(0, 0, 0, 0.15);\n",
              "      filter: drop-shadow(0px 1px 2px rgba(0, 0, 0, 0.3));\n",
              "      fill: #FFFFFF;\n",
              "    }\n",
              "  </style>\n",
              "\n",
              "      <script>\n",
              "        const buttonEl =\n",
              "          document.querySelector('#df-d74029f0-a491-4e77-9020-1e8abf58a956 button.colab-df-convert');\n",
              "        buttonEl.style.display =\n",
              "          google.colab.kernel.accessAllowed ? 'block' : 'none';\n",
              "\n",
              "        async function convertToInteractive(key) {\n",
              "          const element = document.querySelector('#df-d74029f0-a491-4e77-9020-1e8abf58a956');\n",
              "          const dataTable =\n",
              "            await google.colab.kernel.invokeFunction('convertToInteractive',\n",
              "                                                     [key], {});\n",
              "          if (!dataTable) return;\n",
              "\n",
              "          const docLinkHtml = 'Like what you see? Visit the ' +\n",
              "            '<a target=\"_blank\" href=https://colab.research.google.com/notebooks/data_table.ipynb>data table notebook</a>'\n",
              "            + ' to learn more about interactive tables.';\n",
              "          element.innerHTML = '';\n",
              "          dataTable['output_type'] = 'display_data';\n",
              "          await google.colab.output.renderOutput(dataTable, element);\n",
              "          const docLink = document.createElement('div');\n",
              "          docLink.innerHTML = docLinkHtml;\n",
              "          element.appendChild(docLink);\n",
              "        }\n",
              "      </script>\n",
              "    </div>\n",
              "  </div>\n",
              "  "
            ]
          },
          "metadata": {},
          "execution_count": 12
        }
      ]
    },
    {
      "cell_type": "markdown",
      "source": [
        "# 3. Extracting parallel sentences from the comparable corpus"
      ],
      "metadata": {
        "id": "hSSoAU_rd9KQ"
      }
    },
    {
      "cell_type": "markdown",
      "source": [
        "For each Wikipedia article, we obtained the link to the corresponding article in English. This can be used to mine sentences limited to the respective articles. This local approach has several advantages: \n",
        "\n",
        "1.   Mining is faster since each article usually has a few hundreds of sentences only.\n",
        "2.   It seems reasonable to assume that a translation of a sentence is more\n",
        "likely to be found in the same article than anywhere in the whole Wikipedia. "
      ],
      "metadata": {
        "id": "mphG0zh6efRS"
      }
    },
    {
      "cell_type": "markdown",
      "source": [
        "## 3.1 Loading the Sentence-Transformers model"
      ],
      "metadata": {
        "id": "wRL4JELofnMd"
      }
    },
    {
      "cell_type": "markdown",
      "source": [
        "Sentence-BERT (SBERT) is a modification of the pretrained BERT network that uses siamese and triplet network structures to derive semantically meaningful sentence embeddings that can be compared using cosine similarity [[1]](https://arxiv.org/abs/1908.10084://)"
      ],
      "metadata": {
        "id": "8-W6nVdYo6GD"
      }
    },
    {
      "cell_type": "markdown",
      "source": [
        "We will be using [distiluse-base-multilingual-cased-v2](https://huggingface.co/sentence-transformers/distiluse-base-multilingual-cased-v2://). The following line of code creates a SentenceTransformer object, named `model`. The `device` argument is set to `'cuda'`, which tells the code to use the GPU for processing if it is available."
      ],
      "metadata": {
        "id": "wICoYyWVe9G_"
      }
    },
    {
      "cell_type": "code",
      "source": [
        "model = SentenceTransformer('distiluse-base-multilingual-cased', device='cuda')"
      ],
      "metadata": {
        "id": "9n1-TalAe9NS"
      },
      "execution_count": null,
      "outputs": []
    },
    {
      "cell_type": "markdown",
      "source": [
        "## 3.2 Using the model to create the embeddings, and computing sentence similarity"
      ],
      "metadata": {
        "id": "St5N7DnQfs0y"
      }
    },
    {
      "cell_type": "markdown",
      "source": [
        "Defining a function `extract_parallel_sents` that takes three inputs: `comparable_corpus_vg`, `parallel_sentences_en`, and `parallel_sentences_it`. The function extracts parallel sentences from the input comparable corpus. "
      ],
      "metadata": {
        "id": "bMJ1tUQCM_4J"
      }
    },
    {
      "cell_type": "markdown",
      "source": [
        "The corpus is first split into individual sentences. Then the sentence embeddings are calculated using `distiluse-base-multilingual-cased-v2`."
      ],
      "metadata": {
        "id": "fLjKpIjGNOQp"
      }
    },
    {
      "cell_type": "markdown",
      "source": [
        "For each sentence in the Italian version of the corpus, the cosine distance between its embedding and the embeddings of all sentences in the English version of the corpus is calculated. The closest sentence, based on cosine distance, is then selected. If the cosine distance between the embeddings of the two sentences is higher than 0.8 (the similarity threshold), then the pair of sentences is considered parallel and added to the output lists `parallel_sentences_it` and `parallel_sentences_en`."
      ],
      "metadata": {
        "id": "lEfldnXBNbCO"
      }
    },
    {
      "cell_type": "code",
      "source": [
        "parallel_sentences_en = []\n",
        "parallel_sentences_it = []\n",
        "\n",
        "def extract_parallel_sents(comparable_corpus_vg, parallel_sentences_en, parallel_sentences_it):\n",
        "\n",
        "  closest_n = 1\n",
        "\n",
        "  for en, it in zip(comparable_corpus_vg.en.values, comparable_corpus_vg.it.values): # Looping throuth the texts in the comparable corpus\n",
        "\n",
        "    corpus = sent_tokenize(en)\n",
        "    queries = sent_tokenize(it)\n",
        "\n",
        "    corpus_embeddings = model.encode(corpus)\n",
        "    query_embeddings = model.encode(queries)\n",
        "\n",
        "    for query, query_embedding in zip(queries, query_embeddings):\n",
        "      \n",
        "      distances = scipy.spatial.distance.cdist([query_embedding], corpus_embeddings, \"cosine\")[0]\n",
        "\n",
        "      results = zip(range(len(distances)), distances)\n",
        "      results = sorted(results, key=lambda x: x[1])\n",
        "\n",
        "      for idx, distance in results[0:closest_n]:\n",
        "        if 1-distance > 0.8: # Similarity threshold\n",
        "          parallel_sentences_it.append(query)\n",
        "          parallel_sentences_en.append(corpus[idx].strip())"
      ],
      "metadata": {
        "id": "fefQrvA9eF8n"
      },
      "execution_count": null,
      "outputs": []
    },
    {
      "cell_type": "markdown",
      "source": [
        "Calling the `extract_parallel_sents` function and passing the `comparable_corpus_vg`, `parallel_sentences_en`, and `parallel_sentences_it` variables as arguments."
      ],
      "metadata": {
        "id": "KGZvJBH9Ns8b"
      }
    },
    {
      "cell_type": "code",
      "source": [
        "extract_parallel_sents(comparable_corpus_vg, parallel_sentences_en, parallel_sentences_it)"
      ],
      "metadata": {
        "id": "CTBKAdw_gQdq"
      },
      "execution_count": null,
      "outputs": []
    },
    {
      "cell_type": "markdown",
      "source": [
        "## 3.3 Building the parallel corpus "
      ],
      "metadata": {
        "id": "aN2aaDM6jDQU"
      }
    },
    {
      "cell_type": "markdown",
      "source": [
        "Creating a pandas dataframe called `parallel_corpus`, with two columns: \"en\" and \"it\". The values in the columns are stored in the lists `parallel_sentences_en` and `parallel_sentences_it` respectively, which are stacked horizontally and assigned to the dataframe using the `np.column_stack()` method."
      ],
      "metadata": {
        "id": "z3q1Am2xN4ee"
      }
    },
    {
      "cell_type": "code",
      "source": [
        "parallel_corpus = pd.DataFrame(np.column_stack([parallel_sentences_en, parallel_sentences_it]), \n",
        "                               columns=['en', 'it'])"
      ],
      "metadata": {
        "id": "QHE4ZG3qjIIm"
      },
      "execution_count": null,
      "outputs": []
    },
    {
      "cell_type": "markdown",
      "source": [
        "Displaying the `parallel_corpus` dataframe."
      ],
      "metadata": {
        "id": "RZSZXzXFOP3l"
      }
    },
    {
      "cell_type": "code",
      "source": [
        "parallel_corpus"
      ],
      "metadata": {
        "colab": {
          "base_uri": "https://localhost:8080/",
          "height": 424
        },
        "id": "pkXMYmD1jNjI",
        "outputId": "11e62fe8-834e-4517-fa92-879fb759f110"
      },
      "execution_count": null,
      "outputs": [
        {
          "output_type": "execute_result",
          "data": {
            "text/plain": [
              "                                                     en  \\\n",
              "0     0 A.D. is a free and open-source real-time str...   \n",
              "1     Chris Charla of NextGen said, \"As much as we l...   \n",
              "2     If you can find a few copies in the bargain bi...   \n",
              "3     Act of War: Direct Action is a real-time strat...   \n",
              "4     Age of Empires (AoE) is a real-time strategy v...   \n",
              "...                                                 ...   \n",
              "1348  A Next Generation critic commented that Z stan...   \n",
              "1349  He said Z lacks the longevity of its nearest c...   \n",
              "1350  PC Zone magazine described Z as \"a brilliant s...   \n",
              "1351  \"Reviewing the Saturn port, Sega Saturn Magazi...   \n",
              "1352  However, he rated it the weakest of the three ...   \n",
              "\n",
              "                                                     it  \n",
              "0     0 A.D. è un videogioco di strategia in tempo r...  \n",
              "1     Chris Charla di NextGen ha dichiarato: \"Per qu...  \n",
              "2     Se riesci a trovare alcune copie nel cestino d...  \n",
              "3     Act of War: Direct Action è un videogioco stra...  \n",
              "4     Age of Empires è un videogioco strategico in t...  \n",
              "...                                                 ...  \n",
              "1348  Un critico di Next Generation ha commentato ch...  \n",
              "1349  Stando alla rivista, Z non ha la longevità dei...  \n",
              "1350  La rivista PC Zone ha descritto Z come \"uno st...  \n",
              "1351  \"Durante la sua recensione della versione su S...  \n",
              "1352  Ha però giudicato il gioco il più debole dei s...  \n",
              "\n",
              "[1353 rows x 2 columns]"
            ],
            "text/html": [
              "\n",
              "  <div id=\"df-81052563-2a56-45ae-96fa-35da08ed1eab\">\n",
              "    <div class=\"colab-df-container\">\n",
              "      <div>\n",
              "<style scoped>\n",
              "    .dataframe tbody tr th:only-of-type {\n",
              "        vertical-align: middle;\n",
              "    }\n",
              "\n",
              "    .dataframe tbody tr th {\n",
              "        vertical-align: top;\n",
              "    }\n",
              "\n",
              "    .dataframe thead th {\n",
              "        text-align: right;\n",
              "    }\n",
              "</style>\n",
              "<table border=\"1\" class=\"dataframe\">\n",
              "  <thead>\n",
              "    <tr style=\"text-align: right;\">\n",
              "      <th></th>\n",
              "      <th>en</th>\n",
              "      <th>it</th>\n",
              "    </tr>\n",
              "  </thead>\n",
              "  <tbody>\n",
              "    <tr>\n",
              "      <th>0</th>\n",
              "      <td>0 A.D. is a free and open-source real-time str...</td>\n",
              "      <td>0 A.D. è un videogioco di strategia in tempo r...</td>\n",
              "    </tr>\n",
              "    <tr>\n",
              "      <th>1</th>\n",
              "      <td>Chris Charla of NextGen said, \"As much as we l...</td>\n",
              "      <td>Chris Charla di NextGen ha dichiarato: \"Per qu...</td>\n",
              "    </tr>\n",
              "    <tr>\n",
              "      <th>2</th>\n",
              "      <td>If you can find a few copies in the bargain bi...</td>\n",
              "      <td>Se riesci a trovare alcune copie nel cestino d...</td>\n",
              "    </tr>\n",
              "    <tr>\n",
              "      <th>3</th>\n",
              "      <td>Act of War: Direct Action is a real-time strat...</td>\n",
              "      <td>Act of War: Direct Action è un videogioco stra...</td>\n",
              "    </tr>\n",
              "    <tr>\n",
              "      <th>4</th>\n",
              "      <td>Age of Empires (AoE) is a real-time strategy v...</td>\n",
              "      <td>Age of Empires è un videogioco strategico in t...</td>\n",
              "    </tr>\n",
              "    <tr>\n",
              "      <th>...</th>\n",
              "      <td>...</td>\n",
              "      <td>...</td>\n",
              "    </tr>\n",
              "    <tr>\n",
              "      <th>1348</th>\n",
              "      <td>A Next Generation critic commented that Z stan...</td>\n",
              "      <td>Un critico di Next Generation ha commentato ch...</td>\n",
              "    </tr>\n",
              "    <tr>\n",
              "      <th>1349</th>\n",
              "      <td>He said Z lacks the longevity of its nearest c...</td>\n",
              "      <td>Stando alla rivista, Z non ha la longevità dei...</td>\n",
              "    </tr>\n",
              "    <tr>\n",
              "      <th>1350</th>\n",
              "      <td>PC Zone magazine described Z as \"a brilliant s...</td>\n",
              "      <td>La rivista PC Zone ha descritto Z come \"uno st...</td>\n",
              "    </tr>\n",
              "    <tr>\n",
              "      <th>1351</th>\n",
              "      <td>\"Reviewing the Saturn port, Sega Saturn Magazi...</td>\n",
              "      <td>\"Durante la sua recensione della versione su S...</td>\n",
              "    </tr>\n",
              "    <tr>\n",
              "      <th>1352</th>\n",
              "      <td>However, he rated it the weakest of the three ...</td>\n",
              "      <td>Ha però giudicato il gioco il più debole dei s...</td>\n",
              "    </tr>\n",
              "  </tbody>\n",
              "</table>\n",
              "<p>1353 rows × 2 columns</p>\n",
              "</div>\n",
              "      <button class=\"colab-df-convert\" onclick=\"convertToInteractive('df-81052563-2a56-45ae-96fa-35da08ed1eab')\"\n",
              "              title=\"Convert this dataframe to an interactive table.\"\n",
              "              style=\"display:none;\">\n",
              "        \n",
              "  <svg xmlns=\"http://www.w3.org/2000/svg\" height=\"24px\"viewBox=\"0 0 24 24\"\n",
              "       width=\"24px\">\n",
              "    <path d=\"M0 0h24v24H0V0z\" fill=\"none\"/>\n",
              "    <path d=\"M18.56 5.44l.94 2.06.94-2.06 2.06-.94-2.06-.94-.94-2.06-.94 2.06-2.06.94zm-11 1L8.5 8.5l.94-2.06 2.06-.94-2.06-.94L8.5 2.5l-.94 2.06-2.06.94zm10 10l.94 2.06.94-2.06 2.06-.94-2.06-.94-.94-2.06-.94 2.06-2.06.94z\"/><path d=\"M17.41 7.96l-1.37-1.37c-.4-.4-.92-.59-1.43-.59-.52 0-1.04.2-1.43.59L10.3 9.45l-7.72 7.72c-.78.78-.78 2.05 0 2.83L4 21.41c.39.39.9.59 1.41.59.51 0 1.02-.2 1.41-.59l7.78-7.78 2.81-2.81c.8-.78.8-2.07 0-2.86zM5.41 20L4 18.59l7.72-7.72 1.47 1.35L5.41 20z\"/>\n",
              "  </svg>\n",
              "      </button>\n",
              "      \n",
              "  <style>\n",
              "    .colab-df-container {\n",
              "      display:flex;\n",
              "      flex-wrap:wrap;\n",
              "      gap: 12px;\n",
              "    }\n",
              "\n",
              "    .colab-df-convert {\n",
              "      background-color: #E8F0FE;\n",
              "      border: none;\n",
              "      border-radius: 50%;\n",
              "      cursor: pointer;\n",
              "      display: none;\n",
              "      fill: #1967D2;\n",
              "      height: 32px;\n",
              "      padding: 0 0 0 0;\n",
              "      width: 32px;\n",
              "    }\n",
              "\n",
              "    .colab-df-convert:hover {\n",
              "      background-color: #E2EBFA;\n",
              "      box-shadow: 0px 1px 2px rgba(60, 64, 67, 0.3), 0px 1px 3px 1px rgba(60, 64, 67, 0.15);\n",
              "      fill: #174EA6;\n",
              "    }\n",
              "\n",
              "    [theme=dark] .colab-df-convert {\n",
              "      background-color: #3B4455;\n",
              "      fill: #D2E3FC;\n",
              "    }\n",
              "\n",
              "    [theme=dark] .colab-df-convert:hover {\n",
              "      background-color: #434B5C;\n",
              "      box-shadow: 0px 1px 3px 1px rgba(0, 0, 0, 0.15);\n",
              "      filter: drop-shadow(0px 1px 2px rgba(0, 0, 0, 0.3));\n",
              "      fill: #FFFFFF;\n",
              "    }\n",
              "  </style>\n",
              "\n",
              "      <script>\n",
              "        const buttonEl =\n",
              "          document.querySelector('#df-81052563-2a56-45ae-96fa-35da08ed1eab button.colab-df-convert');\n",
              "        buttonEl.style.display =\n",
              "          google.colab.kernel.accessAllowed ? 'block' : 'none';\n",
              "\n",
              "        async function convertToInteractive(key) {\n",
              "          const element = document.querySelector('#df-81052563-2a56-45ae-96fa-35da08ed1eab');\n",
              "          const dataTable =\n",
              "            await google.colab.kernel.invokeFunction('convertToInteractive',\n",
              "                                                     [key], {});\n",
              "          if (!dataTable) return;\n",
              "\n",
              "          const docLinkHtml = 'Like what you see? Visit the ' +\n",
              "            '<a target=\"_blank\" href=https://colab.research.google.com/notebooks/data_table.ipynb>data table notebook</a>'\n",
              "            + ' to learn more about interactive tables.';\n",
              "          element.innerHTML = '';\n",
              "          dataTable['output_type'] = 'display_data';\n",
              "          await google.colab.output.renderOutput(dataTable, element);\n",
              "          const docLink = document.createElement('div');\n",
              "          docLink.innerHTML = docLinkHtml;\n",
              "          element.appendChild(docLink);\n",
              "        }\n",
              "      </script>\n",
              "    </div>\n",
              "  </div>\n",
              "  "
            ]
          },
          "metadata": {},
          "execution_count": 17
        }
      ]
    },
    {
      "cell_type": "markdown",
      "source": [
        "## 3.4 Exporting to .XLSX"
      ],
      "metadata": {
        "id": "OylFcAHxN5yS"
      }
    },
    {
      "cell_type": "markdown",
      "source": [
        "Exporting the extracted parallel sentences to an Excel file."
      ],
      "metadata": {
        "id": "aBxY7IwfOSgR"
      }
    },
    {
      "cell_type": "code",
      "source": [
        "parallel_corpus.to_excel(\"parallel_corpus_vg_en_it.xlsx\")  "
      ],
      "metadata": {
        "id": "M0Y9MurRjRpS"
      },
      "execution_count": null,
      "outputs": []
    }
  ]
}