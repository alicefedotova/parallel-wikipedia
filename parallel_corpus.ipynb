{
  "nbformat": 4,
  "nbformat_minor": 0,
  "metadata": {
    "colab": {
      "provenance": [],
      "authorship_tag": "ABX9TyPa/sfTBhKZXv4u+f+GuAja",
      "include_colab_link": true
    },
    "kernelspec": {
      "name": "python3",
      "display_name": "Python 3"
    },
    "language_info": {
      "name": "python"
    }
  },
  "cells": [
    {
      "cell_type": "markdown",
      "metadata": {
        "id": "view-in-github",
        "colab_type": "text"
      },
      "source": [
        "<a href=\"https://colab.research.google.com/github/ffedox/pbr/blob/main/parallel_corpus.ipynb\" target=\"_parent\"><img src=\"https://colab.research.google.com/assets/colab-badge.svg\" alt=\"Open In Colab\"/></a>"
      ]
    },
    {
      "cell_type": "code",
      "execution_count": 1,
      "metadata": {
        "colab": {
          "base_uri": "https://localhost:8080/"
        },
        "id": "4ThukSuBiyK9",
        "outputId": "7098ee17-85f1-47a2-8c7d-ee587fd63ae7"
      },
      "outputs": [
        {
          "output_type": "stream",
          "name": "stdout",
          "text": [
            "Looking in indexes: https://pypi.org/simple, https://us-python.pkg.dev/colab-wheels/public/simple/\n",
            "Collecting wikipedia-api\n",
            "  Downloading Wikipedia_API-0.5.8-py3-none-any.whl (13 kB)\n",
            "Requirement already satisfied: requests in /usr/local/lib/python3.8/dist-packages (from wikipedia-api) (2.25.1)\n",
            "Requirement already satisfied: idna<3,>=2.5 in /usr/local/lib/python3.8/dist-packages (from requests->wikipedia-api) (2.10)\n",
            "Requirement already satisfied: chardet<5,>=3.0.2 in /usr/local/lib/python3.8/dist-packages (from requests->wikipedia-api) (4.0.0)\n",
            "Requirement already satisfied: certifi>=2017.4.17 in /usr/local/lib/python3.8/dist-packages (from requests->wikipedia-api) (2022.12.7)\n",
            "Requirement already satisfied: urllib3<1.27,>=1.21.1 in /usr/local/lib/python3.8/dist-packages (from requests->wikipedia-api) (1.24.3)\n",
            "Installing collected packages: wikipedia-api\n",
            "Successfully installed wikipedia-api-0.5.8\n"
          ]
        }
      ],
      "source": [
        "!pip install wikipedia-api"
      ]
    },
    {
      "cell_type": "code",
      "source": [
        "import wikipediaapi"
      ],
      "metadata": {
        "id": "0gk2-UzbjBIc"
      },
      "execution_count": 2,
      "outputs": []
    },
    {
      "cell_type": "code",
      "source": [
        "wiki_wiki = wikipediaapi.Wikipedia('en')\n",
        "cat = wiki_wiki.page(\"Category:Survival_horror_video_games\")\n",
        "print(\"Category members: Category:Survival_horror_video_games\")\n",
        "for p in cat.categorymembers.values():\n",
        "  #if p.namespace == wikipediaapi.Namespace.CATEGORY:\n",
        "    # it is category, so you have to make decision\n",
        "    # if you want to fetch also text from pages that belong\n",
        "    # to this category\n",
        "    # print(p)\n",
        "  if p.namespace == wikipediaapi.Namespace.MAIN:\n",
        "    # it is page => we can get text\n",
        "    #print(p)\n",
        "    print(p.summary[0:250])"
      ],
      "metadata": {
        "colab": {
          "base_uri": "https://localhost:8080/"
        },
        "id": "Oe-n6ndtjG8Y",
        "outputId": "c3d64b18-7fe5-4908-a211-50fb7571e507"
      },
      "execution_count": 23,
      "outputs": [
        {
          "output_type": "stream",
          "name": "stdout",
          "text": [
            "Category members: Category:Survival_horror_video_games\n",
            "Survival horror is a subgenre of horror and survival games of the players as the game tries to frighten them with either horror graphics or scary ambience. Although combat can be part of the gameplay, the player is made to feel less in control than i\n",
            "3D Monster Maze is a survival horror computer game developed from an idea by J.K. Greye and programmed by Malcolm Evans and released in 1981 for the Sinclair ZX81 platform with the 16 KB memory expansion. The game was initially released by J. K. Grey\n",
            "Abandoned is the tentative title of an upcoming survival horror game being developed and published by Blue Box Game Studios, an independent video game company based in The Netherlands. Described as a \"cinematic horror survival shooter\" featuring \"rea\n",
            "Age of Zombies is an action-adventure survival horror video game developed and published by Halfbrick Studios. It was released for PlayStation Portable and iOS in 2010, for Android in 2011, for PlayStation Vita in 2013, and for Ouya in 2014.\n",
            "Alan Wake II is an upcoming survival horror game developed by Remedy Entertainment and published by Epic Games Publishing. A sequel to Alan Wake (2010), the game is set to be released for PlayStation 5, Windows, and Xbox Series X/S in 2023.\n",
            "Alone in the Dark is an upcoming survival horror game developed by Pieces Interactive and published by THQ Nordic. The game is set to release on PlayStation 5, Xbox Series X/S, and Microsoft Windows. It is the seventh mainline entry in the Alone in t\n",
            "Amnesia: The Dark Descent is a survival horror adventure video game by Frictional Games, released in 2010 for Microsoft Windows, Mac OS X and Linux operating systems, in 2016 for the PlayStation 4 platform and in 2018 for the Xbox One. The game featu\n",
            "Animal Well is an upcoming Metroidvania game developed by Shared Memory and published by Bigmode. The player controls a blob and explores a labyrinth while avoiding animals. It will be released for PlayStation 5 and Windows.\n",
            "The Callisto Protocol is a 2022 survival horror action video game developed by Striking Distance Studios and published by Krafton. It was directed by Glen Schofield, who had previously co-created the Dead Space series. The game's story follows Jacob \n",
            "Condemned 2: Bloodshot, released as Condemned 2 in Europe and Australia, is a first-person psychological thriller video game for Xbox 360 and PlayStation 3. Developed by Monolith Productions and published by Sega, it was released for both systems in \n",
            "Condemned: Criminal Origins, released as Condemned in Europe and Australia, is a first-person psychological thriller video game for Xbox 360 and Microsoft Windows. Developed by Monolith Productions and published by Sega, it was an Xbox 360 launch tit\n",
            "Dying Light 2 Stay Human is a 2022 action role-playing game developed and published by Techland. The sequel to Dying Light (2015), the game was released on February 4, 2022 for PlayStation 4, PlayStation 5, Windows, Xbox One, and Xbox Series X/S. A N\n",
            "Gylt (stylized as GYLT) is a survival horror video game developed and published by Tequila Works. It was released on November 19, 2019 for Google Stadia. It is notable for being one of the few Stadia-exclusive titles, causing it to be temporarily una\n",
            "Hello Neighbor is a survival horror stealth game developed by Russian studio Dynamic Pixels and published by tinyBuild. Initially released as public alphas from 2016 to 2017, it received a full release for Microsoft Windows and Xbox One on December 8\n",
            "Identity V is a free-to-play asymmetrical multiplayer survival horror game developed and published by Chinese company NetEase. It was released in July 2018 for mobile devices. It is available on the iOS App Store, Android Google Play Store, and Windo\n",
            "The Persistence is a survival horror video game developed and published by Firesprite. Originally released for the virtual reality headset PlayStation VR in July 2018, the game was released for PC, Nintendo Switch, Xbox One in May 2020. An Enhanced v\n",
            "S.T.A.L.K.E.R. 2: Heart of Chornobyl is an upcoming first-person shooter survival horror role-playing video game developed and published by Ukrainian game developer GSC Game World. Set to release for Microsoft Windows and the Xbox Series X/S, it will\n",
            "Scorn is a first-person biopunk survival horror adventure video game developed by Serbian developer Ebb Software for Microsoft Windows and Xbox Series X/S. The game is inspired by the works of visual artists H. R. Giger and Zdzisław Beksiński. The ga\n",
            "Signalis (stylized as SIGNALIS) is a survival horror video game developed by rose-engine and published by Humble Games and Playism on October 27, 2022.\n",
            "Slender: The Eight Pages (originally titled Slender) is a free-to-play indie-developed first-person survival horror video game released in June 2012 as a beta for Microsoft Windows and OS X by Parsec Productions, using the Unity engine. Developed by \n",
            "The Starship Damrey (宇宙船ダムレイ号, Uchūsen Damurei-gō) is a first-person perspective survival horror game designed by Kazuya Asano and Takemaru Abiko. It is part of the Guild02 series, released for the 3DS eShop in 2013.\n",
            "System Shock 2 is a 1999 action role-playing survival horror video game designed by Ken Levine and co-developed by Irrational Games and Looking Glass Studios. Originally intended to be a standalone title, its story was changed during production into \n",
            "The Walking Dead: Saints & Sinners – Chapter 2: Retribution is a virtual reality first-person shooter survival horror game for PlayStation VR, PlayStation VR2 and Meta Quest 2. Developed by Skydance Interactive in partnership with Skybound Entertainm\n",
            "The Walking Dead: Saints & Sinners is a virtual reality first-person shooter survival horror game for Windows, PlayStation 4, Oculus Quest, and Oculus Quest 2, developed by Skydance Interactive in partnership with Skybound Entertainment. It is based \n",
            "Yuppie Psycho is a 2019 survival horror video game. Developed by Baroque Decay, the game involves Brian Pasternack who is hired at a company and finds himself on task to become a witch hunter, to hunt a witch that has corrupted the company from withi\n"
          ]
        }
      ]
    },
    {
      "cell_type": "code",
      "source": [
        "wiki_wiki = wikipediaapi.Wikipedia('it')\n",
        "cat = wiki_wiki.page(\"Categoria:Survival_horror\")\n",
        "print(\"Category members: Categoria:Survival_horror\")\n",
        "for p in cat.categorymembers.values():\n",
        "  #if p.namespace == wikipediaapi.Namespace.CATEGORY:\n",
        "    # it is category, so you have to make decision\n",
        "    # if you want to fetch also text from pages that belong\n",
        "    # to this category\n",
        "    # print(p)\n",
        "  if p.namespace == wikipediaapi.Namespace.MAIN:\n",
        "    # it is page => we can get text\n",
        "    print(p)\n",
        "    #print(p.summary[0:250])"
      ],
      "metadata": {
        "colab": {
          "base_uri": "https://localhost:8080/"
        },
        "id": "XJAkZxnYltXl",
        "outputId": "50aa1324-3c7d-48c6-be48-870d1d6743e6"
      },
      "execution_count": 26,
      "outputs": [
        {
          "output_type": "stream",
          "name": "stdout",
          "text": [
            "Category members: Categoria:Survival_horror\n",
            "Survival horror (id: ??, ns: 0)\n",
            "The 3rd Birthday (id: ??, ns: 0)\n",
            "Agony (videogioco 2018) (id: ??, ns: 0)\n",
            "Alan Wake (id: ??, ns: 0)\n",
            "Alan Wake's American Nightmare (id: ??, ns: 0)\n",
            "Alien Trilogy (id: ??, ns: 0)\n",
            "Alien vs Predator (videogioco 1994) (id: ??, ns: 0)\n",
            "Alien: Isolation (id: ??, ns: 0)\n",
            "Aliens versus Predator (id: ??, ns: 0)\n",
            "Aliens versus Predator 2 (id: ??, ns: 0)\n",
            "Aliens vs. Predator (videogioco) (id: ??, ns: 0)\n",
            "Alone in the Dark (videogioco 1992) (id: ??, ns: 0)\n",
            "Alone in the Dark (videogioco 2008) (id: ??, ns: 0)\n",
            "Alone in the Dark 2 (id: ??, ns: 0)\n",
            "Alone in the Dark 3 (id: ??, ns: 0)\n",
            "Alone in the Dark: The New Nightmare (id: ??, ns: 0)\n",
            "Altered Beast (videogioco 2005) (id: ??, ns: 0)\n",
            "Amnesia: A Machine for Pigs (id: ??, ns: 0)\n",
            "Amnesia: Rebirth (id: ??, ns: 0)\n",
            "Amnesia: The Dark Descent (id: ??, ns: 0)\n",
            "Amy (videogioco) (id: ??, ns: 0)\n",
            "Angels of Death (id: ??, ns: 0)\n",
            "Ao Oni (id: ??, ns: 0)\n",
            "Area 51 (videogioco 2005) (id: ??, ns: 0)\n",
            "Bendy and the Ink Machine (id: ??, ns: 0)\n",
            "BioShock (id: ??, ns: 0)\n",
            "BioShock 2 (id: ??, ns: 0)\n",
            "Black Mesa (videogioco) (id: ??, ns: 0)\n",
            "Blue Stinger (id: ??, ns: 0)\n",
            "Buffy the Vampire Slayer: Chaos Bleeds (id: ??, ns: 0)\n",
            "Call of Cthulhu: Dark Corners of the Earth (id: ??, ns: 0)\n",
            "Call of Duty: Black Ops - Zombies (id: ??, ns: 0)\n",
            "Call of Duty: World at War - Zombies (id: ??, ns: 0)\n",
            "Calling (videogioco) (id: ??, ns: 0)\n",
            "The Callisto Protocol (id: ??, ns: 0)\n",
            "La casa dei fantasmi (videogioco) (id: ??, ns: 0)\n",
            "Chaos Break (id: ??, ns: 0)\n",
            "Clive Barker's Undying (id: ??, ns: 0)\n",
            "Clock Tower (id: ??, ns: 0)\n",
            "Clock Tower 3 (id: ??, ns: 0)\n",
            "Clock Tower II: The Struggle Within (id: ??, ns: 0)\n",
            "Clock Tower: The First Fear (id: ??, ns: 0)\n",
            "Cold Fear (id: ??, ns: 0)\n",
            "Condemned 2: Bloodshot (id: ??, ns: 0)\n",
            "Condemned: Criminal Origins (id: ??, ns: 0)\n",
            "Corpse Killer (id: ??, ns: 0)\n",
            "Corpse Party: Blood Covered (id: ??, ns: 0)\n",
            "Corpse Party: Blood Drive (id: ??, ns: 0)\n",
            "La Cosa (videogioco) (id: ??, ns: 0)\n",
            "Cry of Fear (id: ??, ns: 0)\n",
            "Cryostasis: Il Sonno della Ragione (id: ??, ns: 0)\n",
            "D (videogioco) (id: ??, ns: 0)\n",
            "D2 (videogioco) (id: ??, ns: 0)\n",
            "Danganronpa Another Episode: Ultra Despair Girls (id: ??, ns: 0)\n",
            "The Dark Pictures Anthology: The Devil in Me (id: ??, ns: 0)\n",
            "The Dark Pictures: House of Ashes (id: ??, ns: 0)\n",
            "The Dark Pictures: Little Hope (id: ??, ns: 0)\n",
            "The Dark Pictures: Man of Medan (id: ??, ns: 0)\n",
            "Daymare: 1998 (id: ??, ns: 0)\n",
            "Days Gone (id: ??, ns: 0)\n",
            "Dead by Daylight (id: ??, ns: 0)\n",
            "Dead Island Riptide (id: ??, ns: 0)\n",
            "Dead Rising (id: ??, ns: 0)\n",
            "Dead Rising 2 (id: ??, ns: 0)\n",
            "Dead Rising 3 (id: ??, ns: 0)\n",
            "Dead Rising 4 (id: ??, ns: 0)\n",
            "Dead Rising: Chop Till You Drop (id: ??, ns: 0)\n",
            "Dead Space (id: ??, ns: 0)\n",
            "Dead Space 2 (id: ??, ns: 0)\n",
            "Dead Space 3 (id: ??, ns: 0)\n",
            "Deadlight (id: ??, ns: 0)\n",
            "Deadly Premonition (id: ??, ns: 0)\n",
            "Deep Fear (id: ??, ns: 0)\n",
            "Dementium II (id: ??, ns: 0)\n",
            "Dementium: The Ward (id: ??, ns: 0)\n",
            "Die Young (videogioco) (id: ??, ns: 0)\n",
            "Dino Crisis (id: ??, ns: 0)\n",
            "Dino Crisis 3 (id: ??, ns: 0)\n",
            "Dino Stalker (id: ??, ns: 0)\n",
            "Don't Starve (id: ??, ns: 0)\n",
            "Doom (videogioco 2016) (id: ??, ns: 0)\n",
            "Doom 3: Resurrection of Evil (id: ??, ns: 0)\n",
            "Doom 64 (id: ??, ns: 0)\n",
            "Doom Resurrection (id: ??, ns: 0)\n",
            "DreadOut (id: ??, ns: 0)\n",
            "Dying Light (id: ??, ns: 0)\n",
            "Dying Light 2 (id: ??, ns: 0)\n",
            "Enemy Zero (id: ??, ns: 0)\n",
            "Escape from Bug Island (id: ??, ns: 0)\n",
            "Eternal Darkness: Sanity's Requiem (id: ??, ns: 0)\n",
            "Eversion (id: ??, ns: 0)\n",
            "Evil Dead: A Fistful of Boomstick (id: ??, ns: 0)\n",
            "Evil Dead: Hail to the King (id: ??, ns: 0)\n",
            "Evil Dead: Regeneration (id: ??, ns: 0)\n",
            "The Evil Within 2 (id: ??, ns: 0)\n",
            "The Evil Within (id: ??, ns: 0)\n",
            "Extermination (id: ??, ns: 0)\n",
            "F.3.A.R. (id: ??, ns: 0)\n",
            "F.E.A.R. (id: ??, ns: 0)\n",
            "F.E.A.R. 2: Project Origin (id: ??, ns: 0)\n",
            "F.E.A.R. Extraction Point (id: ??, ns: 0)\n",
            "Final Doom (id: ??, ns: 0)\n",
            "Five Nights at Candy's (id: ??, ns: 0)\n",
            "Five Nights at Candy's 2 (id: ??, ns: 0)\n",
            "Five Nights at Freddy's (id: ??, ns: 0)\n",
            "Five Nights at Freddy's 2 (id: ??, ns: 0)\n",
            "Five Nights at Freddy's 3 (id: ??, ns: 0)\n",
            "Five Nights at Freddy's 4 (id: ??, ns: 0)\n",
            "Five Nights at Freddy's AR: Special Delivery (id: ??, ns: 0)\n",
            "Five Nights at Freddy's VR: Help Wanted (id: ??, ns: 0)\n",
            "Five Nights at Freddy's: Security Breach (id: ??, ns: 0)\n",
            "Five Nights at Freddy's: Sister Location (id: ??, ns: 0)\n",
            "Forbidden Siren (id: ??, ns: 0)\n",
            "Forbidden Siren 2 (id: ??, ns: 0)\n",
            "The Forest (videogioco) (id: ??, ns: 0)\n",
            "Forgotten Memories: Alternate Realities (id: ??, ns: 0)\n",
            "Freddy Fazbear's Pizzeria Simulator (id: ??, ns: 0)\n",
            "Friday the 13th (videogioco 1989) (id: ??, ns: 0)\n",
            "Friday the 13th: The Game (id: ??, ns: 0)\n",
            "Half-Life (id: ??, ns: 0)\n",
            "Half-Life 2 (id: ??, ns: 0)\n",
            "Half-Life 2: Episode One (id: ??, ns: 0)\n",
            "Half-Life 2: Episode Two (id: ??, ns: 0)\n",
            "Half-Life: Alyx (id: ??, ns: 0)\n",
            "Half-Life: Blue Shift (id: ??, ns: 0)\n",
            "Half-Life: Decay (id: ??, ns: 0)\n",
            "Half-Life: Opposing Force (id: ??, ns: 0)\n",
            "Haunting Ground (id: ??, ns: 0)\n",
            "Hektor (videogioco) (id: ??, ns: 0)\n",
            "Hello Neighbor (id: ??, ns: 0)\n",
            "The House of the Dead 2 (id: ??, ns: 0)\n",
            "The House of the Dead 4 (id: ??, ns: 0)\n",
            "The House of the Dead III (id: ??, ns: 0)\n",
            "The House of the Dead (id: ??, ns: 0)\n",
            "The House of the Dead: Overkill (id: ??, ns: 0)\n",
            "How to Survive (videogioco) (id: ??, ns: 0)\n",
            "I'm Not Alone (id: ??, ns: 0)\n",
            "Ib (videogioco) (id: ??, ns: 0)\n",
            "Illbleed (id: ??, ns: 0)\n",
            "Imabikisō (id: ??, ns: 0)\n",
            "The Inpatient (id: ??, ns: 0)\n",
            "Into the Dead (id: ??, ns: 0)\n",
            "The Joy of Creation: Story Mode (id: ??, ns: 0)\n",
            "Ju-on: Rancore (videogioco) (id: ??, ns: 0)\n",
            "Killing Floor (videogioco) (id: ??, ns: 0)\n",
            "Killing Floor 2 (id: ??, ns: 0)\n",
            "Koudelka (id: ??, ns: 0)\n",
            "Kuon (id: ??, ns: 0)\n",
            "The Last of Us Parte II (id: ??, ns: 0)\n",
            "The Last of Us (id: ??, ns: 0)\n",
            "The Last of Us: Left Behind (id: ??, ns: 0)\n",
            "Left 4 Dead (id: ??, ns: 0)\n",
            "Left 4 Dead 2 (id: ??, ns: 0)\n",
            "Little Nightmares (id: ??, ns: 0)\n",
            "Little Nightmares 2 (id: ??, ns: 0)\n",
            "Luigi's Mansion 2 (id: ??, ns: 0)\n",
            "Luigi's Mansion 3 (id: ??, ns: 0)\n",
            "Mad Father (id: ??, ns: 0)\n",
            "Manhunt (videogioco) (id: ??, ns: 0)\n",
            "Manhunt 2 (id: ??, ns: 0)\n",
            "Martha is Dead (id: ??, ns: 0)\n",
            "Martian Gothic: Unification (id: ??, ns: 0)\n",
            "Master Levels for Doom II (id: ??, ns: 0)\n",
            "Metro 2033 (videogioco) (id: ??, ns: 0)\n",
            "Metro Exodus (id: ??, ns: 0)\n",
            "Metro: Last Light (id: ??, ns: 0)\n",
            "Miasmata (id: ??, ns: 0)\n",
            "Michigan: Report from Hell (id: ??, ns: 0)\n",
            "Monstrum (id: ??, ns: 0)\n",
            "Nanashi no Game (id: ??, ns: 0)\n",
            "Neverending Nightmares (id: ??, ns: 0)\n",
            "Nightmare Creatures (id: ??, ns: 0)\n",
            "Nitemare 3D (id: ??, ns: 0)\n",
            "Nocturne (videogioco) (id: ??, ns: 0)\n",
            "Obscure (videogioco) (id: ??, ns: 0)\n",
            "Obscure II (id: ??, ns: 0)\n",
            "Onimusha: Warlords (id: ??, ns: 0)\n",
            "Outlast (id: ??, ns: 0)\n",
            "Outlast 2 (id: ??, ns: 0)\n",
            "OverBlood (id: ??, ns: 0)\n",
            "OverBlood 2 (id: ??, ns: 0)\n",
            "P.T. (id: ??, ns: 0)\n",
            "Parasite Eve (videogioco) (id: ??, ns: 0)\n",
            "Parasite Eve II (id: ??, ns: 0)\n",
            "The Park (videogioco) (id: ??, ns: 0)\n",
            "Penumbra: Black Plague (id: ??, ns: 0)\n",
            "Penumbra: Necrologue (id: ??, ns: 0)\n",
            "Penumbra: Overture (id: ??, ns: 0)\n",
            "Penumbra: Requiem (id: ??, ns: 0)\n",
            "Phasmophobia (id: ??, ns: 0)\n",
            "Poppy Playtime (id: ??, ns: 0)\n",
            "Project Firestart (id: ??, ns: 0)\n",
            "Project Scissors: NightCry (id: ??, ns: 0)\n",
            "Project Zero (id: ??, ns: 0)\n",
            "Project Zero 3 (id: ??, ns: 0)\n",
            "Project Zero II: Crimson Butterfly (id: ??, ns: 0)\n",
            "Project Zero: Maiden of Black Water (id: ??, ns: 0)\n",
            "Project Zomboid (id: ??, ns: 0)\n",
            "The Quarry (videogioco) (id: ??, ns: 0)\n",
            "Red Dead Redemption: Terrore dall'Oltretomba (id: ??, ns: 0)\n",
            "Resident Evil (id: ??, ns: 0)\n",
            "Resident Evil (videogioco 2002) (id: ??, ns: 0)\n",
            "Resident Evil 2 (id: ??, ns: 0)\n",
            "Resident Evil 2 (videogioco 2019) (id: ??, ns: 0)\n",
            "Resident Evil 3 (videogioco 2020) (id: ??, ns: 0)\n",
            "Resident Evil 3: Nemesis (id: ??, ns: 0)\n",
            "Resident Evil 4 (id: ??, ns: 0)\n",
            "Resident Evil 5 (id: ??, ns: 0)\n",
            "Resident Evil 6 (id: ??, ns: 0)\n",
            "Resident Evil 7: Biohazard (id: ??, ns: 0)\n",
            "Resident Evil Code: Veronica (id: ??, ns: 0)\n",
            "Resident Evil Gaiden (id: ??, ns: 0)\n",
            "Resident Evil Outbreak (id: ??, ns: 0)\n",
            "Resident Evil Outbreak File 2 (id: ??, ns: 0)\n",
            "Resident Evil Village (id: ??, ns: 0)\n",
            "Resident Evil Zero (id: ??, ns: 0)\n",
            "Resident Evil: Dead Aim (id: ??, ns: 0)\n",
            "Resident Evil: Revelations (id: ??, ns: 0)\n",
            "Resident Evil: Revelations 2 (id: ??, ns: 0)\n",
            "Resident Evil: Survivor (id: ??, ns: 0)\n",
            "Resident Evil: Survivor 2 Code: Veronica (id: ??, ns: 0)\n",
            "Resident Evil: The Darkside Chronicles (id: ??, ns: 0)\n",
            "Resident Evil: The Mercenaries 3D (id: ??, ns: 0)\n",
            "Resident Evil: The Umbrella Chronicles (id: ??, ns: 0)\n",
            "The Ring: Terror's Realm (id: ??, ns: 0)\n",
            "Rise of Nightmares (id: ??, ns: 0)\n",
            "Rule of Rose (id: ??, ns: 0)\n",
            "S.T.A.L.K.E.R. (id: ??, ns: 0)\n",
            "S.T.A.L.K.E.R.: Call of Pripyat (id: ??, ns: 0)\n",
            "S.T.A.L.K.E.R.: Clear Sky (id: ??, ns: 0)\n",
            "Sadness (id: ??, ns: 0)\n",
            "Saw II: Flesh & Blood (id: ??, ns: 0)\n",
            "Scorn (videogioco) (id: ??, ns: 0)\n",
            "SCP: Containment Breach (id: ??, ns: 0)\n",
            "Shellshock 2: Blood Trails (id: ??, ns: 0)\n",
            "Shellshock: Nam '67 (id: ??, ns: 0)\n",
            "Silent Hill (videogioco) (id: ??, ns: 0)\n",
            "Silent Hill 2 (id: ??, ns: 0)\n",
            "Silent Hill 3 (id: ??, ns: 0)\n",
            "Silent Hill 4: The Room (id: ??, ns: 0)\n",
            "Silent Hill: Book of Memories (id: ??, ns: 0)\n",
            "Silent Hill: Downpour (id: ??, ns: 0)\n",
            "Silent Hill: Homecoming (id: ??, ns: 0)\n",
            "Silent Hill: Origins (id: ??, ns: 0)\n",
            "Silent Hill: Shattered Memories (id: ??, ns: 0)\n",
            "Silent Hill: The Arcade (id: ??, ns: 0)\n",
            "Silent Hill: The Escape (id: ??, ns: 0)\n",
            "Silent Hills (id: ??, ns: 0)\n",
            "Siren: Blood Curse (id: ??, ns: 0)\n",
            "Soma (videogioco) (id: ??, ns: 0)\n",
            "Spirit Camera: Le memorie maledette (id: ??, ns: 0)\n",
            "Splatterhouse (id: ??, ns: 0)\n",
            "Splatterhouse (videogioco 2010) (id: ??, ns: 0)\n",
            "Splatterhouse 3 (id: ??, ns: 0)\n",
            "State of Decay (videogioco) (id: ??, ns: 0)\n",
            "State of Decay 2 (id: ??, ns: 0)\n",
            "The Suffering (id: ??, ns: 0)\n",
            "The Suffering: Ties That Bind (id: ??, ns: 0)\n",
            "Sweet Home (videogioco) (id: ??, ns: 0)\n",
            "System Shock 2 (id: ??, ns: 0)\n",
            "Tattletail (id: ??, ns: 0)\n",
            "The House of the Dead (serie) (id: ??, ns: 0)\n",
            "Twilight Syndrome (id: ??, ns: 0)\n",
            "The Typing of the Dead (id: ??, ns: 0)\n",
            "Ultimate Custom Night (id: ??, ns: 0)\n",
            "Until Dawn (id: ??, ns: 0)\n",
            "Until Dawn: Rush of Blood (id: ??, ns: 0)\n",
            "Unturned (id: ??, ns: 0)\n",
            "The Walking Dead (videogioco) (id: ??, ns: 0)\n",
            "The Walking Dead: Michonne (id: ??, ns: 0)\n",
            "The Walking Dead: Survival Instinct (id: ??, ns: 0)\n",
            "The Witch's House (id: ??, ns: 0)\n",
            "World War Z (videogioco 2019) (id: ??, ns: 0)\n",
            "Zero: Tsukihami no kamen (id: ??, ns: 0)\n",
            "Zombie Army Trilogy (id: ??, ns: 0)\n",
            "Zombie Infection (id: ??, ns: 0)\n",
            "ZombiU (id: ??, ns: 0)\n"
          ]
        }
      ]
    },
    {
      "cell_type": "code",
      "source": [
        "def print_langlinks(page):\n",
        "        langlinks = page.langlinks\n",
        "        for k in sorted(langlinks.keys()):\n",
        "            v = langlinks[k]\n",
        "            print(\"%s: %s - %s: %s\" % (k, v.language, v.title, v.fullurl))\n"
      ],
      "metadata": {
        "id": "z0xio1pyqIqa"
      },
      "execution_count": 27,
      "outputs": []
    },
    {
      "cell_type": "code",
      "source": [
        "cat = wiki_wiki.page(\"ZombiU\")\n",
        "print_langlinks(cat)"
      ],
      "metadata": {
        "colab": {
          "base_uri": "https://localhost:8080/"
        },
        "id": "tYWcUGT3qJ4x",
        "outputId": "a85ff5ad-56de-4acf-9ad6-9ada4d02a76a"
      },
      "execution_count": 30,
      "outputs": [
        {
          "output_type": "stream",
          "name": "stdout",
          "text": [
            "ar: ar - زومبي يو: https://ar.wikipedia.org/wiki/%D8%B2%D9%88%D9%85%D8%A8%D9%8A_%D9%8A%D9%88\n",
            "arz: arz - زومبيو: https://arz.wikipedia.org/wiki/%D8%B2%D9%88%D9%85%D8%A8%D9%8A%D9%88\n",
            "be: be - ZombiU: https://be.wikipedia.org/wiki/ZombiU\n",
            "de: de - ZombiU: https://de.wikipedia.org/wiki/ZombiU\n",
            "en: en - ZombiU: https://en.wikipedia.org/wiki/ZombiU\n",
            "es: es - ZombiU: https://es.wikipedia.org/wiki/ZombiU\n",
            "fi: fi - ZombiU: https://fi.wikipedia.org/wiki/ZombiU\n",
            "fr: fr - ZombiU: https://fr.wikipedia.org/wiki/ZombiU\n",
            "ja: ja - ゾンビU: https://ja.wikipedia.org/wiki/%E3%82%BE%E3%83%B3%E3%83%93U\n",
            "ko: ko - 좀비U: https://ko.wikipedia.org/wiki/%EC%A2%80%EB%B9%84U\n",
            "lt: lt - ZombiU: https://lt.wikipedia.org/wiki/ZombiU\n",
            "nl: nl - ZombiU: https://nl.wikipedia.org/wiki/ZombiU\n",
            "nn: nn - ZombiU: https://nn.wikipedia.org/wiki/ZombiU\n",
            "pt: pt - ZombiU: https://pt.wikipedia.org/wiki/ZombiU\n",
            "ru: ru - ZombiU: https://ru.wikipedia.org/wiki/ZombiU\n",
            "vi: vi - ZombiU: https://vi.wikipedia.org/wiki/ZombiU\n",
            "zh: zh - 僵尸U: https://zh.wikipedia.org/wiki/%E5%83%B5%E5%B0%B8U\n"
          ]
        }
      ]
    },
    {
      "cell_type": "code",
      "source": [
        "page_py_cs = cat.langlinks['en']\n",
        "print(\"Page - Summary: %s\" % page_py_cs.summary)"
      ],
      "metadata": {
        "colab": {
          "base_uri": "https://localhost:8080/"
        },
        "id": "176ILmMiqm8i",
        "outputId": "48b0465e-b01b-4442-fdce-f882006f84ea"
      },
      "execution_count": 32,
      "outputs": [
        {
          "output_type": "stream",
          "name": "stdout",
          "text": [
            "Page - Summary: ZombiU is a first-person survival horror video game developed by Ubisoft Montpellier and published by Ubisoft. It was released for the Wii U as one of its launch games in November 2012. In the game, the player assumes control of a human survivor amid a 2012 zombie apocalypse. Featuring a permadeath system, it uses the Wii U GamePad extensively to scan the environment and maintain the survivor's inventory. The game was released under the name Zombi for Microsoft Windows, PlayStation 4 and Xbox One in 2015. The port, handled by Straight Right, adds new melee weapons and removes the multiplayer feature.\n",
            "Ubisoft was approached by Nintendo to develop a mature game for its gaming console, Wii U. Originally envisioned as a spin-off of the Raving Rabbids franchise and a fast-paced first-person shooter, Killer Freaks from Outer Space (with small, agile monsters), the game was retooled as ZombiU after the development team realized that the Wii U GamePad was suitable for slower-paced games. Many of the game's features, including the GamePad feature and the permadeath feature, went through several iterations. Among other video games, ZombiU was influenced by Resident Evil, Condemned: Criminal Origins and Peter Jackson's King Kong. London was chosen as the game's setting because of its blend of modern and medieval architecture and its rich history. Ubisoft Bucharest led development of the game's multiplayer portion.\n",
            "It received generally positive reviews from critics, with the game's emphasis on survival horror, atmosphere, and the permadeath system praised. Critics had mixed opinions about gameplay, multiplayer, story and use of the GamePad. Technical problems, such as glitches and load times, were criticized. The game was unprofitable for Ubisoft, prompting it to turn another Wii U exclusive, Rayman Legends, into a multiplatform game. A prototype for a sequel was developed, but was canceled when the game failed financially.\n"
          ]
        }
      ]
    },
    {
      "cell_type": "markdown",
      "source": [
        "# Retrieving comparable articles"
      ],
      "metadata": {
        "id": "NYd8ry4bqw9y"
      }
    },
    {
      "cell_type": "code",
      "source": [
        "import numpy as np\n",
        "from json import JSONDecodeError\n",
        "\n",
        "def print_langlinks(page, page_summaries_en):\n",
        "        langlinks = page.langlinks\n",
        "        for k in sorted(langlinks.keys()):\n",
        "            v = langlinks[k]\n",
        "            #print(\"%s: %s - %s: %s\" % (k, v.language, v.title, v.fullurl))\n",
        "        try:\n",
        "          page_en = page.langlinks['en']\n",
        "          page_summaries_en.append(page_en.summary)\n",
        "        except KeyError:\n",
        "          page_summaries_en.append(str('No match'))\n",
        "        except JSONDecodeError:\n",
        "           page_summaries_en.append(str('No match'))"
      ],
      "metadata": {
        "id": "azp_QCkqrpDR"
      },
      "execution_count": 41,
      "outputs": []
    },
    {
      "cell_type": "code",
      "source": [
        "page_titles = []\n",
        "page_summaries_it = []\n",
        "\n",
        "wiki_wiki = wikipediaapi.Wikipedia('it')\n",
        "cat = wiki_wiki.page(\"Categoria:Survival_horror\")\n",
        "print(\"Category members: Categoria:Survival_horror\")\n",
        "for p in cat.categorymembers.values():\n",
        "  #if p.namespace == wikipediaapi.Namespace.CATEGORY:\n",
        "    # it is category, so you have to make decision\n",
        "    # if you want to fetch also text from pages that belong\n",
        "    # to this category\n",
        "    # print(p)\n",
        "  if p.namespace == wikipediaapi.Namespace.MAIN:\n",
        "    # it is page => we can get text\n",
        "    #print(p)\n",
        "    page_titles.append(p.title)\n",
        "    page_summaries_it.append(p.summary)"
      ],
      "metadata": {
        "colab": {
          "base_uri": "https://localhost:8080/"
        },
        "id": "zjsqkw93qxoN",
        "outputId": "438997f4-c192-40ba-a3eb-5beb18a1c9d6"
      },
      "execution_count": 4,
      "outputs": [
        {
          "output_type": "stream",
          "name": "stdout",
          "text": [
            "Category members: Categoria:Survival_horror\n"
          ]
        }
      ]
    },
    {
      "cell_type": "code",
      "source": [
        "print(page_titles)"
      ],
      "metadata": {
        "colab": {
          "base_uri": "https://localhost:8080/"
        },
        "id": "QaezXGghr_3l",
        "outputId": "32fc081b-2878-4119-a94e-7dcc9fb89e5f"
      },
      "execution_count": 6,
      "outputs": [
        {
          "output_type": "stream",
          "name": "stdout",
          "text": [
            "['Survival horror', 'The 3rd Birthday', 'Agony (videogioco 2018)', 'Alan Wake', \"Alan Wake's American Nightmare\", 'Alien Trilogy', 'Alien vs Predator (videogioco 1994)', 'Alien: Isolation', 'Aliens versus Predator', 'Aliens versus Predator 2', 'Aliens vs. Predator (videogioco)', 'Alone in the Dark (videogioco 1992)', 'Alone in the Dark (videogioco 2008)', 'Alone in the Dark 2', 'Alone in the Dark 3', 'Alone in the Dark: The New Nightmare', 'Altered Beast (videogioco 2005)', 'Amnesia: A Machine for Pigs', 'Amnesia: Rebirth', 'Amnesia: The Dark Descent', 'Amy (videogioco)', 'Angels of Death', 'Ao Oni', 'Area 51 (videogioco 2005)', 'Bendy and the Ink Machine', 'BioShock', 'BioShock 2', 'Black Mesa (videogioco)', 'Blue Stinger', 'Buffy the Vampire Slayer: Chaos Bleeds', 'Call of Cthulhu: Dark Corners of the Earth', 'Call of Duty: Black Ops - Zombies', 'Call of Duty: World at War - Zombies', 'Calling (videogioco)', 'The Callisto Protocol', 'La casa dei fantasmi (videogioco)', 'Chaos Break', \"Clive Barker's Undying\", 'Clock Tower', 'Clock Tower 3', 'Clock Tower II: The Struggle Within', 'Clock Tower: The First Fear', 'Cold Fear', 'Condemned 2: Bloodshot', 'Condemned: Criminal Origins', 'Corpse Killer', 'Corpse Party: Blood Covered', 'Corpse Party: Blood Drive', 'La Cosa (videogioco)', 'Cry of Fear', 'Cryostasis: Il Sonno della Ragione', 'D (videogioco)', 'D2 (videogioco)', 'Danganronpa Another Episode: Ultra Despair Girls', 'The Dark Pictures Anthology: The Devil in Me', 'The Dark Pictures: House of Ashes', 'The Dark Pictures: Little Hope', 'The Dark Pictures: Man of Medan', 'Daymare: 1998', 'Days Gone', 'Dead by Daylight', 'Dead Island Riptide', 'Dead Rising', 'Dead Rising 2', 'Dead Rising 3', 'Dead Rising 4', 'Dead Rising: Chop Till You Drop', 'Dead Space', 'Dead Space 2', 'Dead Space 3', 'Deadlight', 'Deadly Premonition', 'Deep Fear', 'Dementium II', 'Dementium: The Ward', 'Die Young (videogioco)', 'Dino Crisis', 'Dino Crisis 3', 'Dino Stalker', \"Don't Starve\", 'Doom (videogioco 2016)', 'Doom 3: Resurrection of Evil', 'Doom 64', 'Doom Resurrection', 'DreadOut', 'Dying Light', 'Dying Light 2', 'Enemy Zero', 'Escape from Bug Island', \"Eternal Darkness: Sanity's Requiem\", 'Eversion', 'Evil Dead: A Fistful of Boomstick', 'Evil Dead: Hail to the King', 'Evil Dead: Regeneration', 'The Evil Within 2', 'The Evil Within', 'Extermination', 'F.3.A.R.', 'F.E.A.R.', 'F.E.A.R. 2: Project Origin', 'F.E.A.R. Extraction Point', 'Final Doom', \"Five Nights at Candy's\", \"Five Nights at Candy's 2\", \"Five Nights at Freddy's\", \"Five Nights at Freddy's 2\", \"Five Nights at Freddy's 3\", \"Five Nights at Freddy's 4\", \"Five Nights at Freddy's AR: Special Delivery\", \"Five Nights at Freddy's VR: Help Wanted\", \"Five Nights at Freddy's: Security Breach\", \"Five Nights at Freddy's: Sister Location\", 'Forbidden Siren', 'Forbidden Siren 2', 'The Forest (videogioco)', 'Forgotten Memories: Alternate Realities', \"Freddy Fazbear's Pizzeria Simulator\", 'Friday the 13th (videogioco 1989)', 'Friday the 13th: The Game', 'Half-Life', 'Half-Life 2', 'Half-Life 2: Episode One', 'Half-Life 2: Episode Two', 'Half-Life: Alyx', 'Half-Life: Blue Shift', 'Half-Life: Decay', 'Half-Life: Opposing Force', 'Haunting Ground', 'Hektor (videogioco)', 'Hello Neighbor', 'The House of the Dead 2', 'The House of the Dead 4', 'The House of the Dead III', 'The House of the Dead', 'The House of the Dead: Overkill', 'How to Survive (videogioco)', \"I'm Not Alone\", 'Ib (videogioco)', 'Illbleed', 'Imabikisō', 'The Inpatient', 'Into the Dead', 'The Joy of Creation: Story Mode', 'Ju-on: Rancore (videogioco)', 'Killing Floor (videogioco)', 'Killing Floor 2', 'Koudelka', 'Kuon', 'The Last of Us Parte II', 'The Last of Us', 'The Last of Us: Left Behind', 'Left 4 Dead', 'Left 4 Dead 2', 'Little Nightmares', 'Little Nightmares 2', \"Luigi's Mansion 2\", \"Luigi's Mansion 3\", 'Mad Father', 'Manhunt (videogioco)', 'Manhunt 2', 'Martha is Dead', 'Martian Gothic: Unification', 'Master Levels for Doom II', 'Metro 2033 (videogioco)', 'Metro Exodus', 'Metro: Last Light', 'Miasmata', 'Michigan: Report from Hell', 'Monstrum', 'Nanashi no Game', 'Neverending Nightmares', 'Nightmare Creatures', 'Nitemare 3D', 'Nocturne (videogioco)', 'Obscure (videogioco)', 'Obscure II', 'Onimusha: Warlords', 'Outlast', 'Outlast 2', 'OverBlood', 'OverBlood 2', 'P.T.', 'Parasite Eve (videogioco)', 'Parasite Eve II', 'The Park (videogioco)', 'Penumbra: Black Plague', 'Penumbra: Necrologue', 'Penumbra: Overture', 'Penumbra: Requiem', 'Phasmophobia', 'Poppy Playtime', 'Project Firestart', 'Project Scissors: NightCry', 'Project Zero', 'Project Zero 3', 'Project Zero II: Crimson Butterfly', 'Project Zero: Maiden of Black Water', 'Project Zomboid', 'The Quarry (videogioco)', \"Red Dead Redemption: Terrore dall'Oltretomba\", 'Resident Evil', 'Resident Evil (videogioco 2002)', 'Resident Evil 2', 'Resident Evil 2 (videogioco 2019)', 'Resident Evil 3 (videogioco 2020)', 'Resident Evil 3: Nemesis', 'Resident Evil 4', 'Resident Evil 5', 'Resident Evil 6', 'Resident Evil 7: Biohazard', 'Resident Evil Code: Veronica', 'Resident Evil Gaiden', 'Resident Evil Outbreak', 'Resident Evil Outbreak File 2', 'Resident Evil Village', 'Resident Evil Zero', 'Resident Evil: Dead Aim', 'Resident Evil: Revelations', 'Resident Evil: Revelations 2', 'Resident Evil: Survivor', 'Resident Evil: Survivor 2 Code: Veronica', 'Resident Evil: The Darkside Chronicles', 'Resident Evil: The Mercenaries 3D', 'Resident Evil: The Umbrella Chronicles', \"The Ring: Terror's Realm\", 'Rise of Nightmares', 'Rule of Rose', 'S.T.A.L.K.E.R.', 'S.T.A.L.K.E.R.: Call of Pripyat', 'S.T.A.L.K.E.R.: Clear Sky', 'Sadness', 'Saw II: Flesh & Blood', 'Scorn (videogioco)', 'SCP: Containment Breach', 'Shellshock 2: Blood Trails', \"Shellshock: Nam '67\", 'Silent Hill (videogioco)', 'Silent Hill 2', 'Silent Hill 3', 'Silent Hill 4: The Room', 'Silent Hill: Book of Memories', 'Silent Hill: Downpour', 'Silent Hill: Homecoming', 'Silent Hill: Origins', 'Silent Hill: Shattered Memories', 'Silent Hill: The Arcade', 'Silent Hill: The Escape', 'Silent Hills', 'Siren: Blood Curse', 'Soma (videogioco)', 'Spirit Camera: Le memorie maledette', 'Splatterhouse', 'Splatterhouse (videogioco 2010)', 'Splatterhouse 3', 'State of Decay (videogioco)', 'State of Decay 2', 'The Suffering', 'The Suffering: Ties That Bind', 'Sweet Home (videogioco)', 'System Shock 2', 'Tattletail', 'The House of the Dead (serie)', 'Twilight Syndrome', 'The Typing of the Dead', 'Ultimate Custom Night', 'Until Dawn', 'Until Dawn: Rush of Blood', 'Unturned', 'The Walking Dead (videogioco)', 'The Walking Dead: Michonne', 'The Walking Dead: Survival Instinct', \"The Witch's House\", 'World War Z (videogioco 2019)', 'Zero: Tsukihami no kamen', 'Zombie Army Trilogy', 'Zombie Infection', 'ZombiU']\n"
          ]
        }
      ]
    },
    {
      "cell_type": "code",
      "source": [
        "print(page_summaries_it[:10])"
      ],
      "metadata": {
        "colab": {
          "base_uri": "https://localhost:8080/"
        },
        "id": "xLHmEWI9v4rG",
        "outputId": "c64e3046-cc12-41a8-e6a1-0a11c45811e1"
      },
      "execution_count": 5,
      "outputs": [
        {
          "output_type": "stream",
          "name": "stdout",
          "text": [
            "['Il termine inglese survival horror (letteralmente \"horror di sopravvivenza\") definisce una categoria di videogiochi basati sulla sopravvivenza del personaggio calato in un\\'atmosfera di paura e suspense. Le tipiche meccaniche del gioco combinano elementi dell\\'avventura grafica e dell\\'azione.Il personaggio controllato è solitamente armato, ma ha disposizione risorse limitate, per cui deve usarle con accortezza e trovare delle armi di fortuna durante l\\'avventura. Il suo scopo nel gioco può essere il trovare una via d\\'uscita da un luogo pericoloso e tornare in un luogo sicuro, oppure scoprire il motivo per cui si trova in una particolare situazione alterata, e porvi rimedio. I nemici del giocatore possono essere zombi, fantasmi, mostri o esseri umani mutati o impazziti, e nella maggior parte dei casi durante lo svolgimento del gioco viene rivelata la causa della mutazione o della presenza paranormale. L\\'ambientazione caratteristica di questi giochi è costituita da spazi chiusi e claustrofobici, oppure luoghi aperti ma particolarmente bui o nebbiosi, o ancora spazi ampi e chiusi, ma aventi elementi macabri e scarsa illuminazione.', \"The 3rd Birthday (ザ・サード バースデイ Za Sādo Bāsudei?) (T3B) è un videogioco action RPG sparatutto in terza persona co-sviluppato da Square Enix e da HexaDrive e pubblicato da Square Enix per PlayStation Portable il 22 dicembre 2010 in Giappone, il 29 marzo 2011 in Nord America ed il primo aprile 2011 in Europa. The 3rd Birthday è sia uno spin-off, essendo la trama solo vagamente connessa agli eventi dei giochi precedenti, che il terzo capitolo della serie di videogiochi Parasite Eve, basata sull'omonimo romanzo dello scrittore giapponese Hideaki Sena, nonché sequel narrativo del videogioco del 1999 Parasite Eve II.\", \"Agony è un videogioco survival horror dark fantasy sviluppato da Madmind Studio e pubblicato da PlayWay. Il giocatore inizia il viaggio come un'anima tormentata nelle profondità dell'Inferno senza alcun ricordo del proprio passato. La speciale abilità di controllare le persone sul suo cammino e di possedere demoni deboli, fornisce al giocatore le misure necessarie per sopravvivere nelle condizioni estreme in cui si trova. Uscito nel 2018, il gioco ha ricevuto recensioni negative da parte della critica.\", \"Alan Wake è un videogioco di genere avventura dinamica e survival horror, sviluppato da Remedy Entertainment e pubblicato originariamente il 14 maggio 2010 per Xbox 360, poi portato anche su Microsoft Windows in versione digitale il 16 febbraio 2012. La versione retail per Microsoft Windows è invece uscita il 2 marzo 2012. Il protagonista è modellato sull'attore finlandese Ilkka Villi.\\nUna versione rimasterizzata di Alan Wake, prodotta e pubblicata da Remedy in collaborazione con Epic Games, è stata rilasciata il 5 ottobre 2021 per Microsoft Windows, Xbox One, Xbox Series X e Series S, PlayStation 4 e PlayStation 5. Dopo undici anni dalla sua pubblicazione originale, Alan Wake è dunque arrivato anche sulle console di Sony.Nel 2012 è stato realizzato uno spin-off intitolato Alan Wake's American Nightmare. Un sequel del gioco venne programmato, ma fu successivamente cancellato e divenne eventualmente la base e ispirazione per un titolo a sé stante, Quantum Break (2016). Successivamente, la Remedy ha rilasciato Control (2019), ambientato nello stesso universo di Alan Wake. Il 10 dicembre 2021 viene ufficialmente annunciato il sequel del gioco.\", \"Alan Wake's American Nightmare è un videogioco sviluppato da Remedy Entertainment e distribuito esclusivamente attraverso digital delivery su Xbox Live per Xbox 360 e su Steam per PC.\\nIl gioco prosegue la storia dello scrittore iniziata con Alan Wake. Secondo gli stessi sviluppatori questo titolo, pur rappresentando un'esperienza di gioco completa, non è da considerarsi alla stregua di un vero e proprio Alan Wake 2, ma più che altro come uno spin-off o come un approfondimento della trama della serie, e sarà un contenuto scaricabile da Xbox Live.\\nA differenza del primo capitolo, che, sebbene avesse molti elementi d'azione, era principalmente avventura dinamica, American Nightmare è uno sparatutto in terza persona.\", 'Alien Trilogy è uno sparatutto in prima persona del 1996, che ripercorre le trame dei primi tre film della serie Alien. Sviluppato da Probe Entertainment, è stato prodotto dalla Acclaim Entertainment per PlayStation, Sega Saturn e MS-DOS. Il gioco è articolato in 30 livelli i quali rappresentano scene tratte dal film.', 'Alien vs Predator è un videogioco per la console Atari Jaguar, pubblicato nel 1994 da Atari,  ambientato nella saga di Alien vs. Predator. Si tratta di uno sparatutto in prima persona, sviluppato da Rebellion Developments, futuri autori della serie Aliens versus Predator. Si tratta, a detta della critica, del migliore titolo per la sfortunata Jaguar e la sua unica killer application.', \"Alien: Isolation è un videogioco survival horror in prima persona, sviluppato dallo studio britannico The Creative Assembly e pubblicato da SEGA il 7 ottobre 2014 per le piattaforme PlayStation 3, PlayStation 4, Xbox One, Xbox 360 e Microsoft Windows.Successivamente Feral Interactive ha distribuito le versioni per macOS e Linux. Il gioco è arrivato anche su Nintendo Switch il 5 dicembre 2019, sempre ad opera di Feral Interactive. \\nIl titolo è ambientato nell'anno 2137, ovvero 15 anni dopo gli eventi di Alien e 42 anni prima quelli di Aliens - Scontro finale. La protagonista è Amanda Ripley, impegnata a indagare sulla scomparsa di sua madre Ellen Ripley. Amanda si dirige sulla stazione spaziale Sevastopol per recuperare la scatola nera della Nostromo, ma scoprirà soltanto che uno Xenomorfo ha terrorizzato la stazione e ucciso la maggior parte dell'equipaggio.\", 'Aliens versus Predator è uno sparatutto in prima persona del 1999 per Microsoft Windows. Il gioco è diviso in tre parti, e in ognuna si impersona un personaggio diverso: un Alien, un Predator e un Marine. A differenza dei capitoli che lo seguiranno, Aliens versus Predator 2 (2001) e Aliens vs. Predator (2010), le varie campagne non sono connesse fra loro, ma indipendenti. Esiste una versione Gold Edition, dotata di alcuni livelli aggiuntivi.', 'Aliens versus Predator 2 è uno sparatutto in prima persona a tema fantascientifico e survival horror del 2001, sequel del videogioco del 1999 Aliens versus Predator. È possibile vestire i panni degli alieni del titolo, oltre che di un marine di nome Andrew \"Frosty\" Harrison. Il gioco è diviso in tre capitoli connessi fra loro, uno per specie; il gameplay varia a seconda del personaggio utilizzato. L\\'espansione Primal Hunt aggiunge anche il predalien, specie ibrida fra le due.']\n"
          ]
        }
      ]
    },
    {
      "cell_type": "markdown",
      "source": [
        "With the page titles we can check if they have an English equivalent, and save their summary if they do"
      ],
      "metadata": {
        "id": "sm2cEf4YsHyo"
      }
    },
    {
      "cell_type": "code",
      "source": [
        "page_summaries_en = []\n",
        "\n",
        "for title in page_titles:\n",
        "  page = wiki_wiki.page(str(title))\n",
        "  print_langlinks(page, page_summaries_en)"
      ],
      "metadata": {
        "id": "yAopHz4gsHYP"
      },
      "execution_count": 42,
      "outputs": []
    },
    {
      "cell_type": "code",
      "source": [
        "import pandas as pd"
      ],
      "metadata": {
        "id": "IutAQADUx6VC"
      },
      "execution_count": 43,
      "outputs": []
    },
    {
      "cell_type": "code",
      "source": [
        "import numpy as np\n",
        "parallel_corpus_vg = pd.DataFrame(np.column_stack([page_summaries_en, page_summaries_it]), \n",
        "                               columns=['en', 'it'])"
      ],
      "metadata": {
        "id": "GXtE4Mt5vsGA"
      },
      "execution_count": 44,
      "outputs": []
    },
    {
      "cell_type": "markdown",
      "source": [
        "Now we only need to drop the rows where no English equivalent was found"
      ],
      "metadata": {
        "id": "dFLXUkU_0CHE"
      }
    },
    {
      "cell_type": "code",
      "source": [
        "parallel_corpus_vg_2 = parallel_corpus_vg[parallel_corpus_vg[\"en\"].str.contains(\"No match\")==False].reset_index(drop=True)"
      ],
      "metadata": {
        "id": "asEwDcYeyhHg"
      },
      "execution_count": 50,
      "outputs": []
    },
    {
      "cell_type": "markdown",
      "source": [
        "266 comparable in-domain texts"
      ],
      "metadata": {
        "id": "mJeUFHYH42om"
      }
    },
    {
      "cell_type": "code",
      "source": [
        "parallel_corpus_vg_2"
      ],
      "metadata": {
        "colab": {
          "base_uri": "https://localhost:8080/",
          "height": 3324
        },
        "id": "ht2t3npPzfOl",
        "outputId": "80dfb631-2345-4833-bbd0-44b8e86f36ff"
      },
      "execution_count": 51,
      "outputs": [
        {
          "output_type": "execute_result",
          "data": {
            "text/plain": [
              "                                                    en  \\\n",
              "0    Survival horror is a subgenre of horror and su...   \n",
              "1    The 3rd Birthday (Japanese: ザ・サード バースデイ, Hepbu...   \n",
              "2    Agony is a 2018 dark fantasy survival horror v...   \n",
              "3    Alan Wake is an action-adventure game develope...   \n",
              "4    Alan Wake's American Nightmare is an action-ad...   \n",
              "..                                                 ...   \n",
              "261  The Witch's House (魔女の家, Majo no ie) is a free...   \n",
              "262  World War Z is a third-person shooter video ga...   \n",
              "263  Fatal Frame: Mask of the Lunar Eclipse is a su...   \n",
              "264  Zombie Army Trilogy is a third-person tactical...   \n",
              "265  ZombiU is a first-person survival horror video...   \n",
              "\n",
              "                                                    it  \n",
              "0    Il termine inglese survival horror (letteralme...  \n",
              "1    The 3rd Birthday (ザ・サード バースデイ Za Sādo Bāsudei?...  \n",
              "2    Agony è un videogioco survival horror dark fan...  \n",
              "3    Alan Wake è un videogioco di genere avventura ...  \n",
              "4    Alan Wake's American Nightmare è un videogioco...  \n",
              "..                                                 ...  \n",
              "261  The Witch's House (魔女の家 Majo no ie?, in italia...  \n",
              "262  World War Z è un videogioco sparatutto in terz...  \n",
              "263  Project Zero: Mask of the Lunar Eclipse (零〜月蝕の...  \n",
              "264  Zombie Army Trilogy è un videogioco stealth e ...  \n",
              "265  ZombiU è un videogioco survival horror svilupp...  \n",
              "\n",
              "[266 rows x 2 columns]"
            ],
            "text/html": [
              "\n",
              "  <div id=\"df-efa1cedc-38e9-4b9c-8eea-14fa7c7994e5\">\n",
              "    <div class=\"colab-df-container\">\n",
              "      <div>\n",
              "<style scoped>\n",
              "    .dataframe tbody tr th:only-of-type {\n",
              "        vertical-align: middle;\n",
              "    }\n",
              "\n",
              "    .dataframe tbody tr th {\n",
              "        vertical-align: top;\n",
              "    }\n",
              "\n",
              "    .dataframe thead th {\n",
              "        text-align: right;\n",
              "    }\n",
              "</style>\n",
              "<table border=\"1\" class=\"dataframe\">\n",
              "  <thead>\n",
              "    <tr style=\"text-align: right;\">\n",
              "      <th></th>\n",
              "      <th>en</th>\n",
              "      <th>it</th>\n",
              "    </tr>\n",
              "  </thead>\n",
              "  <tbody>\n",
              "    <tr>\n",
              "      <th>0</th>\n",
              "      <td>Survival horror is a subgenre of horror and su...</td>\n",
              "      <td>Il termine inglese survival horror (letteralme...</td>\n",
              "    </tr>\n",
              "    <tr>\n",
              "      <th>1</th>\n",
              "      <td>The 3rd Birthday (Japanese: ザ・サード バースデイ, Hepbu...</td>\n",
              "      <td>The 3rd Birthday (ザ・サード バースデイ Za Sādo Bāsudei?...</td>\n",
              "    </tr>\n",
              "    <tr>\n",
              "      <th>2</th>\n",
              "      <td>Agony is a 2018 dark fantasy survival horror v...</td>\n",
              "      <td>Agony è un videogioco survival horror dark fan...</td>\n",
              "    </tr>\n",
              "    <tr>\n",
              "      <th>3</th>\n",
              "      <td>Alan Wake is an action-adventure game develope...</td>\n",
              "      <td>Alan Wake è un videogioco di genere avventura ...</td>\n",
              "    </tr>\n",
              "    <tr>\n",
              "      <th>4</th>\n",
              "      <td>Alan Wake's American Nightmare is an action-ad...</td>\n",
              "      <td>Alan Wake's American Nightmare è un videogioco...</td>\n",
              "    </tr>\n",
              "    <tr>\n",
              "      <th>...</th>\n",
              "      <td>...</td>\n",
              "      <td>...</td>\n",
              "    </tr>\n",
              "    <tr>\n",
              "      <th>261</th>\n",
              "      <td>The Witch's House (魔女の家, Majo no ie) is a free...</td>\n",
              "      <td>The Witch's House (魔女の家 Majo no ie?, in italia...</td>\n",
              "    </tr>\n",
              "    <tr>\n",
              "      <th>262</th>\n",
              "      <td>World War Z is a third-person shooter video ga...</td>\n",
              "      <td>World War Z è un videogioco sparatutto in terz...</td>\n",
              "    </tr>\n",
              "    <tr>\n",
              "      <th>263</th>\n",
              "      <td>Fatal Frame: Mask of the Lunar Eclipse is a su...</td>\n",
              "      <td>Project Zero: Mask of the Lunar Eclipse (零〜月蝕の...</td>\n",
              "    </tr>\n",
              "    <tr>\n",
              "      <th>264</th>\n",
              "      <td>Zombie Army Trilogy is a third-person tactical...</td>\n",
              "      <td>Zombie Army Trilogy è un videogioco stealth e ...</td>\n",
              "    </tr>\n",
              "    <tr>\n",
              "      <th>265</th>\n",
              "      <td>ZombiU is a first-person survival horror video...</td>\n",
              "      <td>ZombiU è un videogioco survival horror svilupp...</td>\n",
              "    </tr>\n",
              "  </tbody>\n",
              "</table>\n",
              "<p>266 rows × 2 columns</p>\n",
              "</div>\n",
              "      <button class=\"colab-df-convert\" onclick=\"convertToInteractive('df-efa1cedc-38e9-4b9c-8eea-14fa7c7994e5')\"\n",
              "              title=\"Convert this dataframe to an interactive table.\"\n",
              "              style=\"display:none;\">\n",
              "        \n",
              "  <svg xmlns=\"http://www.w3.org/2000/svg\" height=\"24px\"viewBox=\"0 0 24 24\"\n",
              "       width=\"24px\">\n",
              "    <path d=\"M0 0h24v24H0V0z\" fill=\"none\"/>\n",
              "    <path d=\"M18.56 5.44l.94 2.06.94-2.06 2.06-.94-2.06-.94-.94-2.06-.94 2.06-2.06.94zm-11 1L8.5 8.5l.94-2.06 2.06-.94-2.06-.94L8.5 2.5l-.94 2.06-2.06.94zm10 10l.94 2.06.94-2.06 2.06-.94-2.06-.94-.94-2.06-.94 2.06-2.06.94z\"/><path d=\"M17.41 7.96l-1.37-1.37c-.4-.4-.92-.59-1.43-.59-.52 0-1.04.2-1.43.59L10.3 9.45l-7.72 7.72c-.78.78-.78 2.05 0 2.83L4 21.41c.39.39.9.59 1.41.59.51 0 1.02-.2 1.41-.59l7.78-7.78 2.81-2.81c.8-.78.8-2.07 0-2.86zM5.41 20L4 18.59l7.72-7.72 1.47 1.35L5.41 20z\"/>\n",
              "  </svg>\n",
              "      </button>\n",
              "      \n",
              "  <style>\n",
              "    .colab-df-container {\n",
              "      display:flex;\n",
              "      flex-wrap:wrap;\n",
              "      gap: 12px;\n",
              "    }\n",
              "\n",
              "    .colab-df-convert {\n",
              "      background-color: #E8F0FE;\n",
              "      border: none;\n",
              "      border-radius: 50%;\n",
              "      cursor: pointer;\n",
              "      display: none;\n",
              "      fill: #1967D2;\n",
              "      height: 32px;\n",
              "      padding: 0 0 0 0;\n",
              "      width: 32px;\n",
              "    }\n",
              "\n",
              "    .colab-df-convert:hover {\n",
              "      background-color: #E2EBFA;\n",
              "      box-shadow: 0px 1px 2px rgba(60, 64, 67, 0.3), 0px 1px 3px 1px rgba(60, 64, 67, 0.15);\n",
              "      fill: #174EA6;\n",
              "    }\n",
              "\n",
              "    [theme=dark] .colab-df-convert {\n",
              "      background-color: #3B4455;\n",
              "      fill: #D2E3FC;\n",
              "    }\n",
              "\n",
              "    [theme=dark] .colab-df-convert:hover {\n",
              "      background-color: #434B5C;\n",
              "      box-shadow: 0px 1px 3px 1px rgba(0, 0, 0, 0.15);\n",
              "      filter: drop-shadow(0px 1px 2px rgba(0, 0, 0, 0.3));\n",
              "      fill: #FFFFFF;\n",
              "    }\n",
              "  </style>\n",
              "\n",
              "      <script>\n",
              "        const buttonEl =\n",
              "          document.querySelector('#df-efa1cedc-38e9-4b9c-8eea-14fa7c7994e5 button.colab-df-convert');\n",
              "        buttonEl.style.display =\n",
              "          google.colab.kernel.accessAllowed ? 'block' : 'none';\n",
              "\n",
              "        async function convertToInteractive(key) {\n",
              "          const element = document.querySelector('#df-efa1cedc-38e9-4b9c-8eea-14fa7c7994e5');\n",
              "          const dataTable =\n",
              "            await google.colab.kernel.invokeFunction('convertToInteractive',\n",
              "                                                     [key], {});\n",
              "          if (!dataTable) return;\n",
              "\n",
              "          const docLinkHtml = 'Like what you see? Visit the ' +\n",
              "            '<a target=\"_blank\" href=https://colab.research.google.com/notebooks/data_table.ipynb>data table notebook</a>'\n",
              "            + ' to learn more about interactive tables.';\n",
              "          element.innerHTML = '';\n",
              "          dataTable['output_type'] = 'display_data';\n",
              "          await google.colab.output.renderOutput(dataTable, element);\n",
              "          const docLink = document.createElement('div');\n",
              "          docLink.innerHTML = docLinkHtml;\n",
              "          element.appendChild(docLink);\n",
              "        }\n",
              "      </script>\n",
              "    </div>\n",
              "  </div>\n",
              "  "
            ]
          },
          "metadata": {},
          "execution_count": 51
        }
      ]
    },
    {
      "cell_type": "code",
      "source": [
        "parallel_corpus_vg_2.to_excel(\"comparable_corpus_vg_en_it.xlsx\")  "
      ],
      "metadata": {
        "id": "f7TtKx5n5DNw"
      },
      "execution_count": 52,
      "outputs": []
    },
    {
      "cell_type": "markdown",
      "source": [
        "# Sentence similarity (one document)"
      ],
      "metadata": {
        "id": "IpD6C5eoCLbW"
      }
    },
    {
      "cell_type": "markdown",
      "source": [
        "For each Wikipedia article, it is possible to get the link to the corresponding article in other languages. This can be used to mine sentences limited to the respective articles. This local mining has several advantages: 1) mining is very fast since each article usually has a few hundreds of sentences only; 2) it seems reasonable to assume that a translation of a sentence is more\n",
        "likely to be found in the same article than anywhere in the whole Wikipedia. \n",
        "\n",
        "https://arxiv.org/abs/1907.05791"
      ],
      "metadata": {
        "id": "WEFm0_fa84vJ"
      }
    },
    {
      "cell_type": "markdown",
      "source": [
        "Sentence similarity\n",
        "\n",
        "https://towardsdatascience.com/cutting-edge-bert-nlp-model-bb0bfc8b7aec\n",
        "\n",
        "https://www.sbert.net/examples/applications/computing-embeddings/README.html\n",
        "\n",
        "https://www.sbert.net/docs/usage/semantic_textual_similarity.html"
      ],
      "metadata": {
        "id": "igjoRaYEA57f"
      }
    },
    {
      "cell_type": "code",
      "source": [
        "!pip install -U sentence-transformers"
      ],
      "metadata": {
        "id": "Hu5bIDNJ9KXS"
      },
      "execution_count": null,
      "outputs": []
    },
    {
      "cell_type": "code",
      "source": [
        "import scipy\n",
        "import numpy as np\n",
        "from sentence_transformers import models, SentenceTransformer"
      ],
      "metadata": {
        "id": "zV11LeGq_Fnm"
      },
      "execution_count": 56,
      "outputs": []
    },
    {
      "cell_type": "code",
      "source": [
        "from nltk.tokenize import sent_tokenize"
      ],
      "metadata": {
        "id": "IHLwrl7kBqDK"
      },
      "execution_count": 70,
      "outputs": []
    },
    {
      "cell_type": "code",
      "source": [
        "import nltk\n",
        "nltk.download('punkt')"
      ],
      "metadata": {
        "colab": {
          "base_uri": "https://localhost:8080/"
        },
        "id": "hf2u61lhBweQ",
        "outputId": "7df950e7-4ef4-4db3-9914-29be0346ebf8"
      },
      "execution_count": 74,
      "outputs": [
        {
          "output_type": "stream",
          "name": "stderr",
          "text": [
            "[nltk_data] Downloading package punkt to /root/nltk_data...\n",
            "[nltk_data]   Unzipping tokenizers/punkt.zip.\n"
          ]
        },
        {
          "output_type": "execute_result",
          "data": {
            "text/plain": [
              "True"
            ]
          },
          "metadata": {},
          "execution_count": 74
        }
      ]
    },
    {
      "cell_type": "code",
      "source": [
        "from sentence_transformers import SentenceTransformer\n",
        "model = SentenceTransformer('distiluse-base-multilingual-cased')"
      ],
      "metadata": {
        "id": "xWBjM-GQ9rhr"
      },
      "execution_count": null,
      "outputs": []
    },
    {
      "cell_type": "code",
      "source": [
        "corpus = sent_tokenize((parallel_corpus_vg_2.at[parallel_corpus_vg_2.index[111],'en']))"
      ],
      "metadata": {
        "id": "QBgh78ClASHy"
      },
      "execution_count": 75,
      "outputs": []
    },
    {
      "cell_type": "code",
      "source": [
        "corpus_embeddings = model.encode(corpus)"
      ],
      "metadata": {
        "id": "3QpHKRTv_A65"
      },
      "execution_count": 77,
      "outputs": []
    },
    {
      "cell_type": "code",
      "source": [
        "queries = sent_tokenize((parallel_corpus_vg_2.at[parallel_corpus_vg_2.index[111],'it']))"
      ],
      "metadata": {
        "id": "GzuI3W4qAyyN"
      },
      "execution_count": 81,
      "outputs": []
    },
    {
      "cell_type": "code",
      "source": [
        "query_embeddings = model.encode(queries)"
      ],
      "metadata": {
        "id": "lALIacwbA1y3"
      },
      "execution_count": 82,
      "outputs": []
    },
    {
      "cell_type": "code",
      "source": [
        "# Calculate Cosine similarity of query against each sentence i\n",
        "\n",
        "closest_n = 3\n",
        "\n",
        "parallel_sentences_en = []\n",
        "parallel_sentences_it = []\n",
        "\n",
        "for query, query_embedding in zip(queries, query_embeddings):\n",
        "    distances = scipy.spatial.distance.cdist([query_embedding], corpus_embeddings, \"cosine\")[0]\n",
        "\n",
        "    results = zip(range(len(distances)), distances)\n",
        "    results = sorted(results, key=lambda x: x[1])\n",
        "\n",
        "    for idx, distance in results[0:closest_n]:\n",
        "      if 1-distance > 0.8: # Similarity threshold\n",
        "        parallel_sentences_it.append(query)\n",
        "        parallel_sentences_en.append(corpus[idx].strip())\n",
        "        #print(corpus[idx].strip(), \"(Score: %.4f)\" % (1-distance))"
      ],
      "metadata": {
        "id": "9qyL0IHlA5Hx"
      },
      "execution_count": 93,
      "outputs": []
    },
    {
      "cell_type": "markdown",
      "source": [
        "Storing the parallel sentences in another DataFrame"
      ],
      "metadata": {
        "id": "nvCxo29GD0XR"
      }
    },
    {
      "cell_type": "code",
      "source": [
        "parallel_sentences_en"
      ],
      "metadata": {
        "colab": {
          "base_uri": "https://localhost:8080/"
        },
        "id": "Juu5n4VdD3CH",
        "outputId": "9070f421-81e8-47a3-faa7-fd69fcd858b6"
      },
      "execution_count": 89,
      "outputs": [
        {
          "output_type": "execute_result",
          "data": {
            "text/plain": [
              "[\"Freddy Fazbear's Pizzeria Simulator (alternatively known as Five Nights at Freddy's 6) is a freeware point-and-click business simulation survival horror video game developed and published by Scott Cawthon.\",\n",
              " 'A Nintendo Switch and Xbox One port was released on October 31, 2020, with a PlayStation 4 port released on March 31, 2021.']"
            ]
          },
          "metadata": {},
          "execution_count": 89
        }
      ]
    },
    {
      "cell_type": "code",
      "source": [
        "parallel_sentences_it"
      ],
      "metadata": {
        "colab": {
          "base_uri": "https://localhost:8080/"
        },
        "id": "kS6ncgcIERIu",
        "outputId": "24369285-378e-47d9-f243-45c1982463db"
      },
      "execution_count": 90,
      "outputs": [
        {
          "output_type": "execute_result",
          "data": {
            "text/plain": [
              "[\"Freddy Fazbear's Pizzeria Simulator, abbreviato più semplicemente in FFPS, è un videogioco di avventura grafica con elementi gestionali, settimo gioco della serie survival horror di Five Nights at Freddy's e sesto gioco canonico, creato da Scott Cawthon.\",\n",
              " 'Il 31 Ottobre 2020 ne è uscita una versione per Nintendo Switch e Xbox One, mentre la versione per PlayStation 4 debutta nel 31 Marzo 2021.']"
            ]
          },
          "metadata": {},
          "execution_count": 90
        }
      ]
    },
    {
      "cell_type": "code",
      "source": [
        "parallel_corpus = pd.DataFrame(np.column_stack([parallel_sentences_en, parallel_sentences_it]), \n",
        "                               columns=['en', 'it'])"
      ],
      "metadata": {
        "id": "85q3LfUjElmj"
      },
      "execution_count": 91,
      "outputs": []
    },
    {
      "cell_type": "code",
      "source": [
        "parallel_corpus"
      ],
      "metadata": {
        "colab": {
          "base_uri": "https://localhost:8080/",
          "height": 185
        },
        "id": "QP2dezwZE0ul",
        "outputId": "c373518e-bd34-4695-c9ab-d402467d13cf"
      },
      "execution_count": 92,
      "outputs": [
        {
          "output_type": "execute_result",
          "data": {
            "text/plain": [
              "                                                  en  \\\n",
              "0  Freddy Fazbear's Pizzeria Simulator (alternati...   \n",
              "1  A Nintendo Switch and Xbox One port was releas...   \n",
              "\n",
              "                                                  it  \n",
              "0  Freddy Fazbear's Pizzeria Simulator, abbreviat...  \n",
              "1  Il 31 Ottobre 2020 ne è uscita una versione pe...  "
            ],
            "text/html": [
              "\n",
              "  <div id=\"df-62c0e2eb-2ef8-4cd6-b947-4e92499093ab\">\n",
              "    <div class=\"colab-df-container\">\n",
              "      <div>\n",
              "<style scoped>\n",
              "    .dataframe tbody tr th:only-of-type {\n",
              "        vertical-align: middle;\n",
              "    }\n",
              "\n",
              "    .dataframe tbody tr th {\n",
              "        vertical-align: top;\n",
              "    }\n",
              "\n",
              "    .dataframe thead th {\n",
              "        text-align: right;\n",
              "    }\n",
              "</style>\n",
              "<table border=\"1\" class=\"dataframe\">\n",
              "  <thead>\n",
              "    <tr style=\"text-align: right;\">\n",
              "      <th></th>\n",
              "      <th>en</th>\n",
              "      <th>it</th>\n",
              "    </tr>\n",
              "  </thead>\n",
              "  <tbody>\n",
              "    <tr>\n",
              "      <th>0</th>\n",
              "      <td>Freddy Fazbear's Pizzeria Simulator (alternati...</td>\n",
              "      <td>Freddy Fazbear's Pizzeria Simulator, abbreviat...</td>\n",
              "    </tr>\n",
              "    <tr>\n",
              "      <th>1</th>\n",
              "      <td>A Nintendo Switch and Xbox One port was releas...</td>\n",
              "      <td>Il 31 Ottobre 2020 ne è uscita una versione pe...</td>\n",
              "    </tr>\n",
              "  </tbody>\n",
              "</table>\n",
              "</div>\n",
              "      <button class=\"colab-df-convert\" onclick=\"convertToInteractive('df-62c0e2eb-2ef8-4cd6-b947-4e92499093ab')\"\n",
              "              title=\"Convert this dataframe to an interactive table.\"\n",
              "              style=\"display:none;\">\n",
              "        \n",
              "  <svg xmlns=\"http://www.w3.org/2000/svg\" height=\"24px\"viewBox=\"0 0 24 24\"\n",
              "       width=\"24px\">\n",
              "    <path d=\"M0 0h24v24H0V0z\" fill=\"none\"/>\n",
              "    <path d=\"M18.56 5.44l.94 2.06.94-2.06 2.06-.94-2.06-.94-.94-2.06-.94 2.06-2.06.94zm-11 1L8.5 8.5l.94-2.06 2.06-.94-2.06-.94L8.5 2.5l-.94 2.06-2.06.94zm10 10l.94 2.06.94-2.06 2.06-.94-2.06-.94-.94-2.06-.94 2.06-2.06.94z\"/><path d=\"M17.41 7.96l-1.37-1.37c-.4-.4-.92-.59-1.43-.59-.52 0-1.04.2-1.43.59L10.3 9.45l-7.72 7.72c-.78.78-.78 2.05 0 2.83L4 21.41c.39.39.9.59 1.41.59.51 0 1.02-.2 1.41-.59l7.78-7.78 2.81-2.81c.8-.78.8-2.07 0-2.86zM5.41 20L4 18.59l7.72-7.72 1.47 1.35L5.41 20z\"/>\n",
              "  </svg>\n",
              "      </button>\n",
              "      \n",
              "  <style>\n",
              "    .colab-df-container {\n",
              "      display:flex;\n",
              "      flex-wrap:wrap;\n",
              "      gap: 12px;\n",
              "    }\n",
              "\n",
              "    .colab-df-convert {\n",
              "      background-color: #E8F0FE;\n",
              "      border: none;\n",
              "      border-radius: 50%;\n",
              "      cursor: pointer;\n",
              "      display: none;\n",
              "      fill: #1967D2;\n",
              "      height: 32px;\n",
              "      padding: 0 0 0 0;\n",
              "      width: 32px;\n",
              "    }\n",
              "\n",
              "    .colab-df-convert:hover {\n",
              "      background-color: #E2EBFA;\n",
              "      box-shadow: 0px 1px 2px rgba(60, 64, 67, 0.3), 0px 1px 3px 1px rgba(60, 64, 67, 0.15);\n",
              "      fill: #174EA6;\n",
              "    }\n",
              "\n",
              "    [theme=dark] .colab-df-convert {\n",
              "      background-color: #3B4455;\n",
              "      fill: #D2E3FC;\n",
              "    }\n",
              "\n",
              "    [theme=dark] .colab-df-convert:hover {\n",
              "      background-color: #434B5C;\n",
              "      box-shadow: 0px 1px 3px 1px rgba(0, 0, 0, 0.15);\n",
              "      filter: drop-shadow(0px 1px 2px rgba(0, 0, 0, 0.3));\n",
              "      fill: #FFFFFF;\n",
              "    }\n",
              "  </style>\n",
              "\n",
              "      <script>\n",
              "        const buttonEl =\n",
              "          document.querySelector('#df-62c0e2eb-2ef8-4cd6-b947-4e92499093ab button.colab-df-convert');\n",
              "        buttonEl.style.display =\n",
              "          google.colab.kernel.accessAllowed ? 'block' : 'none';\n",
              "\n",
              "        async function convertToInteractive(key) {\n",
              "          const element = document.querySelector('#df-62c0e2eb-2ef8-4cd6-b947-4e92499093ab');\n",
              "          const dataTable =\n",
              "            await google.colab.kernel.invokeFunction('convertToInteractive',\n",
              "                                                     [key], {});\n",
              "          if (!dataTable) return;\n",
              "\n",
              "          const docLinkHtml = 'Like what you see? Visit the ' +\n",
              "            '<a target=\"_blank\" href=https://colab.research.google.com/notebooks/data_table.ipynb>data table notebook</a>'\n",
              "            + ' to learn more about interactive tables.';\n",
              "          element.innerHTML = '';\n",
              "          dataTable['output_type'] = 'display_data';\n",
              "          await google.colab.output.renderOutput(dataTable, element);\n",
              "          const docLink = document.createElement('div');\n",
              "          docLink.innerHTML = docLinkHtml;\n",
              "          element.appendChild(docLink);\n",
              "        }\n",
              "      </script>\n",
              "    </div>\n",
              "  </div>\n",
              "  "
            ]
          },
          "metadata": {},
          "execution_count": 92
        }
      ]
    },
    {
      "cell_type": "markdown",
      "source": [
        "# Sentence similarity (whole corpus)"
      ],
      "metadata": {
        "id": "USGuXtpeKdqa"
      }
    },
    {
      "cell_type": "code",
      "source": [
        "parallel_corpus_2 = parallel_corpus_vg_2.head(10)"
      ],
      "metadata": {
        "id": "xoM4I4Z0QUpD"
      },
      "execution_count": 106,
      "outputs": []
    },
    {
      "cell_type": "code",
      "source": [
        "parallel_corpus_2"
      ],
      "metadata": {
        "colab": {
          "base_uri": "https://localhost:8080/",
          "height": 363
        },
        "id": "HK_3J8RRQam5",
        "outputId": "584e12f4-a653-4289-f27d-25be5bd0e2af"
      },
      "execution_count": 107,
      "outputs": [
        {
          "output_type": "execute_result",
          "data": {
            "text/plain": [
              "                                                  en  \\\n",
              "0  Survival horror is a subgenre of horror and su...   \n",
              "1  The 3rd Birthday (Japanese: ザ・サード バースデイ, Hepbu...   \n",
              "2  Agony is a 2018 dark fantasy survival horror v...   \n",
              "3  Alan Wake is an action-adventure game develope...   \n",
              "4  Alan Wake's American Nightmare is an action-ad...   \n",
              "5  Alien Trilogy is a first-person shooter video ...   \n",
              "6  Alien vs Predator is a 1994 first-person shoot...   \n",
              "7  Alien: Isolation is a 2014 survival horror gam...   \n",
              "8  Aliens Versus Predator is a 1999 science ficti...   \n",
              "9  Aliens Versus Predator 2 is a science fiction ...   \n",
              "\n",
              "                                                  it  \n",
              "0  Il termine inglese survival horror (letteralme...  \n",
              "1  The 3rd Birthday (ザ・サード バースデイ Za Sādo Bāsudei?...  \n",
              "2  Agony è un videogioco survival horror dark fan...  \n",
              "3  Alan Wake è un videogioco di genere avventura ...  \n",
              "4  Alan Wake's American Nightmare è un videogioco...  \n",
              "5  Alien Trilogy è uno sparatutto in prima person...  \n",
              "6  Alien vs Predator è un videogioco per la conso...  \n",
              "7  Alien: Isolation è un videogioco survival horr...  \n",
              "8  Aliens versus Predator è uno sparatutto in pri...  \n",
              "9  Aliens versus Predator 2 è uno sparatutto in p...  "
            ],
            "text/html": [
              "\n",
              "  <div id=\"df-09d2f050-3fc9-413f-b516-e260adcae008\">\n",
              "    <div class=\"colab-df-container\">\n",
              "      <div>\n",
              "<style scoped>\n",
              "    .dataframe tbody tr th:only-of-type {\n",
              "        vertical-align: middle;\n",
              "    }\n",
              "\n",
              "    .dataframe tbody tr th {\n",
              "        vertical-align: top;\n",
              "    }\n",
              "\n",
              "    .dataframe thead th {\n",
              "        text-align: right;\n",
              "    }\n",
              "</style>\n",
              "<table border=\"1\" class=\"dataframe\">\n",
              "  <thead>\n",
              "    <tr style=\"text-align: right;\">\n",
              "      <th></th>\n",
              "      <th>en</th>\n",
              "      <th>it</th>\n",
              "    </tr>\n",
              "  </thead>\n",
              "  <tbody>\n",
              "    <tr>\n",
              "      <th>0</th>\n",
              "      <td>Survival horror is a subgenre of horror and su...</td>\n",
              "      <td>Il termine inglese survival horror (letteralme...</td>\n",
              "    </tr>\n",
              "    <tr>\n",
              "      <th>1</th>\n",
              "      <td>The 3rd Birthday (Japanese: ザ・サード バースデイ, Hepbu...</td>\n",
              "      <td>The 3rd Birthday (ザ・サード バースデイ Za Sādo Bāsudei?...</td>\n",
              "    </tr>\n",
              "    <tr>\n",
              "      <th>2</th>\n",
              "      <td>Agony is a 2018 dark fantasy survival horror v...</td>\n",
              "      <td>Agony è un videogioco survival horror dark fan...</td>\n",
              "    </tr>\n",
              "    <tr>\n",
              "      <th>3</th>\n",
              "      <td>Alan Wake is an action-adventure game develope...</td>\n",
              "      <td>Alan Wake è un videogioco di genere avventura ...</td>\n",
              "    </tr>\n",
              "    <tr>\n",
              "      <th>4</th>\n",
              "      <td>Alan Wake's American Nightmare is an action-ad...</td>\n",
              "      <td>Alan Wake's American Nightmare è un videogioco...</td>\n",
              "    </tr>\n",
              "    <tr>\n",
              "      <th>5</th>\n",
              "      <td>Alien Trilogy is a first-person shooter video ...</td>\n",
              "      <td>Alien Trilogy è uno sparatutto in prima person...</td>\n",
              "    </tr>\n",
              "    <tr>\n",
              "      <th>6</th>\n",
              "      <td>Alien vs Predator is a 1994 first-person shoot...</td>\n",
              "      <td>Alien vs Predator è un videogioco per la conso...</td>\n",
              "    </tr>\n",
              "    <tr>\n",
              "      <th>7</th>\n",
              "      <td>Alien: Isolation is a 2014 survival horror gam...</td>\n",
              "      <td>Alien: Isolation è un videogioco survival horr...</td>\n",
              "    </tr>\n",
              "    <tr>\n",
              "      <th>8</th>\n",
              "      <td>Aliens Versus Predator is a 1999 science ficti...</td>\n",
              "      <td>Aliens versus Predator è uno sparatutto in pri...</td>\n",
              "    </tr>\n",
              "    <tr>\n",
              "      <th>9</th>\n",
              "      <td>Aliens Versus Predator 2 is a science fiction ...</td>\n",
              "      <td>Aliens versus Predator 2 è uno sparatutto in p...</td>\n",
              "    </tr>\n",
              "  </tbody>\n",
              "</table>\n",
              "</div>\n",
              "      <button class=\"colab-df-convert\" onclick=\"convertToInteractive('df-09d2f050-3fc9-413f-b516-e260adcae008')\"\n",
              "              title=\"Convert this dataframe to an interactive table.\"\n",
              "              style=\"display:none;\">\n",
              "        \n",
              "  <svg xmlns=\"http://www.w3.org/2000/svg\" height=\"24px\"viewBox=\"0 0 24 24\"\n",
              "       width=\"24px\">\n",
              "    <path d=\"M0 0h24v24H0V0z\" fill=\"none\"/>\n",
              "    <path d=\"M18.56 5.44l.94 2.06.94-2.06 2.06-.94-2.06-.94-.94-2.06-.94 2.06-2.06.94zm-11 1L8.5 8.5l.94-2.06 2.06-.94-2.06-.94L8.5 2.5l-.94 2.06-2.06.94zm10 10l.94 2.06.94-2.06 2.06-.94-2.06-.94-.94-2.06-.94 2.06-2.06.94z\"/><path d=\"M17.41 7.96l-1.37-1.37c-.4-.4-.92-.59-1.43-.59-.52 0-1.04.2-1.43.59L10.3 9.45l-7.72 7.72c-.78.78-.78 2.05 0 2.83L4 21.41c.39.39.9.59 1.41.59.51 0 1.02-.2 1.41-.59l7.78-7.78 2.81-2.81c.8-.78.8-2.07 0-2.86zM5.41 20L4 18.59l7.72-7.72 1.47 1.35L5.41 20z\"/>\n",
              "  </svg>\n",
              "      </button>\n",
              "      \n",
              "  <style>\n",
              "    .colab-df-container {\n",
              "      display:flex;\n",
              "      flex-wrap:wrap;\n",
              "      gap: 12px;\n",
              "    }\n",
              "\n",
              "    .colab-df-convert {\n",
              "      background-color: #E8F0FE;\n",
              "      border: none;\n",
              "      border-radius: 50%;\n",
              "      cursor: pointer;\n",
              "      display: none;\n",
              "      fill: #1967D2;\n",
              "      height: 32px;\n",
              "      padding: 0 0 0 0;\n",
              "      width: 32px;\n",
              "    }\n",
              "\n",
              "    .colab-df-convert:hover {\n",
              "      background-color: #E2EBFA;\n",
              "      box-shadow: 0px 1px 2px rgba(60, 64, 67, 0.3), 0px 1px 3px 1px rgba(60, 64, 67, 0.15);\n",
              "      fill: #174EA6;\n",
              "    }\n",
              "\n",
              "    [theme=dark] .colab-df-convert {\n",
              "      background-color: #3B4455;\n",
              "      fill: #D2E3FC;\n",
              "    }\n",
              "\n",
              "    [theme=dark] .colab-df-convert:hover {\n",
              "      background-color: #434B5C;\n",
              "      box-shadow: 0px 1px 3px 1px rgba(0, 0, 0, 0.15);\n",
              "      filter: drop-shadow(0px 1px 2px rgba(0, 0, 0, 0.3));\n",
              "      fill: #FFFFFF;\n",
              "    }\n",
              "  </style>\n",
              "\n",
              "      <script>\n",
              "        const buttonEl =\n",
              "          document.querySelector('#df-09d2f050-3fc9-413f-b516-e260adcae008 button.colab-df-convert');\n",
              "        buttonEl.style.display =\n",
              "          google.colab.kernel.accessAllowed ? 'block' : 'none';\n",
              "\n",
              "        async function convertToInteractive(key) {\n",
              "          const element = document.querySelector('#df-09d2f050-3fc9-413f-b516-e260adcae008');\n",
              "          const dataTable =\n",
              "            await google.colab.kernel.invokeFunction('convertToInteractive',\n",
              "                                                     [key], {});\n",
              "          if (!dataTable) return;\n",
              "\n",
              "          const docLinkHtml = 'Like what you see? Visit the ' +\n",
              "            '<a target=\"_blank\" href=https://colab.research.google.com/notebooks/data_table.ipynb>data table notebook</a>'\n",
              "            + ' to learn more about interactive tables.';\n",
              "          element.innerHTML = '';\n",
              "          dataTable['output_type'] = 'display_data';\n",
              "          await google.colab.output.renderOutput(dataTable, element);\n",
              "          const docLink = document.createElement('div');\n",
              "          docLink.innerHTML = docLinkHtml;\n",
              "          element.appendChild(docLink);\n",
              "        }\n",
              "      </script>\n",
              "    </div>\n",
              "  </div>\n",
              "  "
            ]
          },
          "metadata": {},
          "execution_count": 107
        }
      ]
    },
    {
      "cell_type": "code",
      "source": [
        "parallel_sentences_en = []\n",
        "parallel_sentences_it = []\n",
        "\n",
        "for en, it in zip(parallel_corpus_vg_2.en.values, parallel_corpus_vg_2.it.values): #looping throuth the comparable corpus\n",
        "\n",
        "  corpus = sent_tokenize(en)\n",
        "  queries = sent_tokenize(it)\n",
        "\n",
        "  corpus_embeddings = model.encode(corpus)\n",
        "  query_embeddings = model.encode(queries)\n",
        "\n",
        "  for query, query_embedding in zip(queries, query_embeddings):\n",
        "    \n",
        "    distances = scipy.spatial.distance.cdist([query_embedding], corpus_embeddings, \"cosine\")[0]\n",
        "\n",
        "    results = zip(range(len(distances)), distances)\n",
        "    results = sorted(results, key=lambda x: x[1])\n",
        "\n",
        "    for idx, distance in results[0:closest_n]:\n",
        "      if 1-distance > 0.8: # Similarity threshold\n",
        "        parallel_sentences_it.append(query)\n",
        "        parallel_sentences_en.append(corpus[idx].strip())"
      ],
      "metadata": {
        "id": "bs-_xJTvKi5a"
      },
      "execution_count": 134,
      "outputs": []
    },
    {
      "cell_type": "code",
      "source": [
        "print(parallel_sentences_en)"
      ],
      "metadata": {
        "colab": {
          "base_uri": "https://localhost:8080/"
        },
        "id": "ObEfToBWQlP_",
        "outputId": "5dad2bec-48d9-4404-b49c-515bba31d68c"
      },
      "execution_count": 135,
      "outputs": [
        {
          "output_type": "stream",
          "name": "stdout",
          "text": [
            "['The game is the third entry in the Parasite Eve video game series, based on the titular Japanese novel, and a spin-off, having only a loose connection to events from past games.', 'Agony is a 2018 dark fantasy survival horror video game developed by Polish developer Madmind Studio and published by PlayWay.', 'Players begin their journey as a tormented soul within the depths of Hell without any memories about his past.', 'The special ability to control people on their path, and  possess weak-minded demons, gives players the necessary measures to survive in the extreme conditions they are in.', 'Alan Wake Remastered, featuring the full game and both DLC episodes, and published by Epic Games Publishing, was released on PlayStation 4, PlayStation 5, Windows, Xbox One, and Xbox Series X and S in October 2021.', 'Later, Remedy released Control in 2019, which takes place in a shared universe with Alan Wake.', 'Alien: Isolation is a 2014 survival horror game developed by Creative Assembly and published by Sega for Windows, PlayStation 3, PlayStation 4, Xbox 360 and Xbox One.', 'Alone in the Dark is a 1992 survival horror video game designed by Frédérick Raynal and developed and published by Infogrames for the PC.', 'It is the second installment in the Alone in the Dark series.', 'Alone in the Dark 3 is a 1995 survival horror video game developed and published by Infogrames Multimedia.', \"Altered Beast, released as Jūōki: Project Altered Beast (獣王記 Project Altered Beast) in Japan, is a 2005 action-adventure beat 'em up video game for the PlayStation 2.\", 'Amnesia: A Machine for Pigs is a survival horror video game developed by The Chinese Room and published by Frictional Games.', 'Originally meant to be a mod, the game is an indirect sequel to Amnesia: The Dark Descent, which was both developed and produced by Frictional Games.', 'Amnesia: Rebirth is a 2020 survival horror video game developed and published by Frictional Games.', 'It was released for Windows, Linux, and PlayStation 4 on 20 October 2020, for Amazon Luna on 22 October 2021, and for Xbox One and Xbox Series X/S on 20 October 2022.', 'It is the third installment in the franchise and serves as a sequel to Amnesia: The Dark Descent (2010).', 'The game received generally favorable reviews upon release.', 'Amy is a survival horror stealth video game, released in 2012, developed by VectorCell and published by Lexis Numérique.', 'Angels of Death (殺戮の天使, Satsuriku no Tenshi, lit.', '\"Angels of Slaughter\") is a Japanese horror adventure game by Hoshikuzu KRNKRN (Makoto Sanada) for Microsoft Windows and Nintendo Switch.', \"Bendy and the Ink Machine is an episodic first-person survival horror video game developed and published by Kindly Beast under the name of the game's in-universe animation studio Joey Drew Studios Inc.\", 'BioShock is a 2007 first-person shooter game developed by 2K Boston (later Irrational Games) and 2K Australia, and published by 2K Games.', 'BioShock 2 is a first-person shooter video game developed by 2K Marin and published by 2K Games.', 'Call of Duty: World at War – Zombies (also known as simply Call of Duty: Zombies) is a first-person shooter video game developed by Ideaworks Game Studio, and published by Activision for iOS.', 'Calling: Dark Message) in Japan, is a survival horror video game developed by Hudson Soft exclusively for the Wii console.', 'The game was released in Japan on November 19, 2009, in North America on March 9, 2010, and in Europe on March 19, 2010.', 'The Callisto Protocol is a 2022 survival horror action video game developed by Striking Distance Studios and published by Krafton.', 'Cold Fear is a 2005 survival horror third-person shooter video game developed by Darkworks and published by Ubisoft for PlayStation 2, Xbox and Microsoft Windows.', 'Corpse Killer is a horror-themed rail shooter developed and published by Digital Pictures for the Sega CD, Sega CD 32X, 3DO, Sega Saturn, Windows 95 and Macintosh computers.', 'Corpse Killer was the first CD game released for the Sega 32X.', 'Though originally a mod for the video game Half-Life in 2012, it was released as a standalone product the following year.', 'Like earlier video games in the series, The Devil in Me features a cast of five playable protagonists and a multilinear gameplay narrative influenced by player choice.', 'Daymare: 1998 is a third-person survival horror game developed by Invader Studios and published by Destructive Creations and All In!', 'Games on September 17, 2019 for Microsoft Windows, and on April 28, 2020 for PlayStation 4 and Xbox One.', 'Days Gone is a 2019 action-adventure video game developed by Bend Studio and published by Sony Interactive Entertainment for the PlayStation 4.', 'Dead by Daylight is an asymmetric multiplayer survival horror online game developed by Canadian studio Behaviour Interactive.', 'The game was released for Windows in 2016; PlayStation 4 and Xbox One in 2017; Switch in 2019; and Android, iOS, PlayStation 5, Stadia, and Xbox Series X/S in 2020.Swedish studio Starbreeze Studios published the game from 2016 to 2018, and it has since been published by Behaviour Interactive.', 'As part of its tenth anniversary, the original Xbox 360 version of the game was re-released on September 13, 2016, for PlayStation 4, Windows, and Xbox One.', 'It was released between September and October 2010 for the PlayStation 3, Xbox 360, and Microsoft Windows.', 'The game was released as a launch title for the Xbox One platform on November 22, 2013; a Microsoft Windows port published by Capcom was released on September 5, 2014.', 'Dead Rising 4 is a 2016 action-adventure game developed by Capcom Vancouver and published by Microsoft Studios.', \"A PlayStation 4 version of the game, titled Dead Rising 4: Frank's Big Package, was released on December 5, 2017.\", 'Dead Space is a 2008 survival horror video game developed by EA Redwood Shores and published by Electronic Arts.', 'Deadlight is a sidescrolling cinematic platforming survival horror video game developed by Tequila Works and published by Microsoft Studios for Xbox 360 and Microsoft Windows.', 'A sequel, Deadly Premonition 2: A Blessing in Disguise, was released on the Nintendo Switch on July 10, 2020.', 'A port for the Nintendo Switch, Deadly Premonition: Origins, followed in 2019.', 'Dino Crisis is a survival horror video game developed and published by Capcom originally for the PlayStation console in 1999.', \"It is the first installment in the Dino Crisis series and was developed by the same team behind Capcom's Resident Evil series, including director Shinji Mikami, and shares many similarities with it.\", 'Instead of the pre-rendered backgrounds of the Resident Evil games that preceded it, Dino Crisis uses an original real-time engine with 3D environments.', 'Gameplay features traditional survival horror mechanics including action and puzzles, and it was developed to have more consistent visceral terror with the dinosaurs being quick, intelligent, and violent.', 'The team used carnivorous animals as references for animating the dinosaurs and programming their behaviors.', 'Dino Crisis was a critical and commercial success, with the PlayStation version selling over 2.4 million copies.', 'Critics drew heavy comparisons to Resident Evil, with some describing it as \"Resident Evil with dinosaurs\".', \"They also praised the game's intensity, graphics, and gameplay.\", 'Some criticism was directed towards the lack of dinosaur variety, repetitive environments, and tedious puzzles.', 'Dino Crisis was ported to Dreamcast and Windows in 2000, and was re-released for the PlayStation Network in 2006.', 'Two different versions for the Game Boy Color were in development, but both were cancelled.', 'The game was originally planned for both Xbox and PlayStation 2, but the latter version was scrapped early in development.', 'It is an offshoot of the Resident Evil light gun shooter games, but based on the story of the Dino Crisis series.', 'Dying Light is a 2015 survival horror video game developed by Techland and published by Warner Bros. Interactive Entertainment.', 'The Evil Within is a survival horror video game developed by Tango Gameworks and published by Bethesda Softworks.', 'F.E.A.R.', 'F.E.A.R.', 'F.E.A.R.', 'F.E.A.R.', '2: Project Origin is a first-person shooter psychological horror video game for Microsoft Windows, Xbox 360, and PlayStation 3.', '2: Reborn.', \"Five Nights at Freddy's is a 2014 point-and-click survival horror video game developed and published by Scott Cawthon.\", \"Five Nights at Freddy's 3 is a horror video game developed and published by Scott Cawthon.\", 'The game was released on Steam on March 2, 2015, for Android devices on March 6, 2015, and for iOS devices on March 12, 2015.', 'Nintendo Switch, PlayStation 4 and Xbox One ports were released on November 29, 2019.', \"Five Nights at Freddy's 4 (originally known as Five Nights at Freddy's: The Final Chapter) is a horror video game developed and published by Scott Cawthon.\", 'It was released for Android devices on July 25, 2015, and for iOS devices on August 3, 2015.', \"Five Nights at Freddy's: Special Delivery is a 2019 augmented reality survival horror video game developed and published by Illumix for Android and iOS.\", \"Five Nights at Freddy's: Security Breach (alternatively known as Five Nights at Freddy's 9) is a 2021 survival horror video game developed by Steel Wool Studios and published by ScottGames.\", \"It is the ninth main installment in the Five Nights at Freddy's series and the thirteenth game overall, taking place after the events of Five Nights at Freddy's: Help Wanted.\", 'Xbox One and Xbox Series X/S versions of the game were released on November 22, 2022.', 'A free DLC expansion titled Ruin was announced for release in 2023.', \"Five Nights at Freddy's: Sister Location (alternatively known as Five Nights at Freddy's 5) is a point-and-click survival horror video game created by Scott Cawthon.\", 'Ports have also been released for Nintendo Switch, Xbox One, and PlayStation 4.', 'Rather than being confined to a single room, the player is able to move between rooms, each with its own different objective they must carry out.', 'Throughout the game, the player interacts with a new cast of animatronic characters, central to which is a child-like animatronic named Circus Baby.', \"Forbidden Siren 2 is a survival horror stealth game developed by Japan Studio's Project Siren team and published by Sony Computer Entertainment for the PlayStation 2 in 2006.\", \"Freddy Fazbear's Pizzeria Simulator (alternatively known as Five Nights at Freddy's 6) is a freeware point-and-click business simulation survival horror video game developed and published by Scott Cawthon.\", 'A Nintendo Switch and Xbox One port was released on October 31, 2020, with a PlayStation 4 port released on March 31, 2021.', 'Friday the 13th: The Game is a survival horror video game formerly developed by IllFonic and published by Gun Media.', 'Half-Life 2 is a 2004 first-person shooter game developed by Valve.', 'Half-Life: Alyx is a 2020 virtual reality (VR) first-person shooter game developed and published by Valve.', 'Blue Shift was the second expansion for Half-Life, originally intended as part of a Dreamcast port of Half-Life.', \"Half-Life: Decay is a multiplayer-only expansion pack for Valve's first-person shooter Half-Life.\", 'Developed by Gearbox Software and published by Sierra On-Line, Decay was released as part of the PlayStation 2 version of Half-Life in 2001.', 'Half-Life: Opposing Force is an expansion pack for the first-person shooter game Half-Life.', 'Haunting Ground is a survival horror video game developed and published by Capcom for the PlayStation 2 in 2005.', 'The House of the Dead 2 is a horror-themed light gun shooter arcade game and the second game in The House of the Dead series of video games.', 'The game appears in the compilation The House of the Dead 2 & 3 Return for Wii.', 'The House of the Dead 4 is a horror-themed light gun shooter arcade game and the fourth installment of the House of the Dead video game series, developed by Sega.', 'The game takes place between the events of The House of the Dead 2 and The House of the Dead III, and introduced several new gameplay concepts.', 'Players can control characters James Taylor, from The House of the Dead 2 (on the left side), or Kate Green, a new character to the series (on the right side).', 'The House of the Dead 4 is the first game to run on the Sega Lindbergh arcade system board.', 'The House of the Dead III is a 2002 horror-themed light gun arcade game  and the third installment of the House of the Dead series of video games, developed by Wow Entertainment and Sega.', 'The House of the Dead: Overkill is a rail shooter light gun game developed by Headstrong Games and published by Sega for the Wii in 2009.', 'How to Survive is a survival horror action role-playing video game developed by French studio Eko Software and published by 505 Games.', 'It was released on October 23, 2013 for Xbox 360, Xbox One, Microsoft Windows, PlayStation 3, and PlayStation 4 and it was released in June 2014 for the Nintendo eShop.', 'Illbleed is a survival horror video game developed by Crazy Games for the Sega Dreamcast.', 'It is the first visual novel to be released on a seventh generation console.', 'The Inpatient is a psychological horror video game developed by Supermassive Games and published by Sony Interactive Entertainment for PlayStation 4 and its virtual reality headset PlayStation VR.', 'Into the Dead is a zombie-themed action video game developed by PikPok and released on December 6, 2012, for iOS, Android and Windows Phone 8 platforms.', 'The game was developed by feelplus and published in Japan by AQ Interactive on July 30, 2009, and in North America and Europe in October of the same year by Xseed Games and Rising Star Games, respectively.', 'Killing Floor is a cooperative first-person shooter video game developed and published by Tripwire Interactive.', 'It was originally released as an Unreal Tournament 2004 mod in 2005.', 'Kuon is a 2004 survival horror video game developed by FromSoftware for the PlayStation 2.', 'The Last of Us Part II is a 2020 action-adventure game developed by Naughty Dog and published by Sony Interactive Entertainment for the PlayStation 4.', 'The Last of Us is a 2013 action-adventure game developed by Naughty Dog and published by Sony Computer Entertainment.', 'The Last of Us: Left Behind is a 2014 action-adventure game developed by Naughty Dog and published by Sony Computer Entertainment.', 'Left Behind was released worldwide on February 14, 2014 for the PlayStation 3; it was later bundled with The Last of Us Remastered, an updated version of the game released for the PlayStation 4 on July 29, 2014, and then released as a stand-alone expansion pack for both consoles on May 12, 2015.', 'The game is played from a third-person perspective; players use firearms, improvised weapons, and stealth to defend against hostile humans and zombie-like creatures infected by a mutated strain of the Cordyceps fungus.', 'Players can use \"Listen Mode\" to locate enemies through a heightened sense of hearing and spatial awareness.', 'The game also features a crafting system, allowing players to customize weapons through the upgrades.', 'Little Nightmares II is a puzzle-platform horror adventure game developed by Tarsier Studios, published by Bandai Namco Entertainment.', \"It is the sequel to the 2001 Nintendo GameCube game Luigi's Mansion (2001), and the third Mario franchise game where Luigi plays the lead role instead of the usual protagonist, Mario.\", 'Martha Is Dead is a psychological horror game developed by Italian studio LKA and published by Wired Productions for Microsoft Windows, PlayStation 4, PlayStation 5, Xbox One, Xbox Series X/S and Amazon Luna.', 'Martian Gothic: Unification is a 2000 survival horror video game developed by Creative Reality for Microsoft Windows and Coyote Developments for the PlayStation and published by TalonSoft for Microsoft Windows and Take-Two Interactive for the PlayStation.', 'The game was released in March 2010 for Microsoft Windows and Xbox 360.', \"It is the third installment in the Metro video game trilogy based on Dmitry Glukhovsky's novels, following the events of Metro 2033 and Metro: Last Light.\", 'A remastered version of the game was released for PlayStation 4 and Xbox One in August 2014 as Metro: Last Light Redux within the Metro Redux package.', 'In the game, players assume the role of Robert Hughes, a plague-stricken scientist, as he explores a seemingly uninhabited island, seeking out medicinal plants in an attempt to find a cure.', 'Neverending Nightmares is a video game developed by Infinitap Games.', 'Obscure is a survival horror video game developed by Hydravision Entertainment and published by DreamCatcher Interactive in North America, Ubisoft in China and MC2-Microïds in other territories for Microsoft Windows, PlayStation 2 and Xbox.', 'Outlast 2 (stylized as OU⸸LASTII) is a 2017 first-person psychological horror survival video game developed and published by Red Barrels.', 'A sequel to the 2013 video game Outlast, the game features a journalist named Blake Langermann, along with his wife Lynn, roaming the Arizona desert to explore the murder of a pregnant woman only known as Jane Doe.', 'Criticisms were reserved for the general story, context sensitive gameplay design, amount of gore, and difficulty.', 'It is the sequel to the game Overblood, released on the same platform.', 'The game was published in Japan by Riverhillsoft on July 23, 1998, while a European version saw release from Evolution games on June 3rd, 1999.', '(initialism for \"playable teaser\") is a psychological horror game developed by Kojima Productions, under the pseudonym \"7780s Studio\", and published by Konami.', 'It was directed and designed by Hideo Kojima, in collaboration with filmmaker Guillermo del Toro.', 'Released for the PlayStation 4 on August 12, 2014 as a free download on the PlayStation Network, P.T.', 'from the PlayStation Store and made it impossible to reinstall.', 'P.T.', 'P.T.', 'The Park is a first-person psychological horror video game developed and published by Funcom.', 'The game was released for Microsoft Windows via Steam on October 27, 2015 and is a spin-off of an earlier Funcom game, The Secret World.', 'It was released for PlayStation 4 and Xbox One on May 3, 2016 and Nintendo Switch on October 22, 2019.', 'It was released in Japan on September 24, 2020.', 'The game takes place in the Atlantic Island Park that closed back in 1980 for mysterious reasons that are gradually revealed throughout the game.', 'However, an expansion has been released since then: Penumbra: Requiem, technically giving the series a third chapter.', 'Penumbra: Requiem is an expansion pack to the game Penumbra: Black Plague developed by Frictional Games.', 'Phasmophobia is a paranormal horror game developed and published by British indie game studio Kinetic Games.', 'The game became available in early access through Steam for Microsoft Windows with virtual reality support in September 2020.', 'The game received a large influx of popularity the following month due to many well-known Twitch streamers and YouTubers playing it, mainly for the Halloween season.', 'On October 15, 2020, the game was the sixth-most popular game on Twitch.', 'It was the best selling game on Steam globally for several weeks in October to November 2020.', 'The first chapter was released on Steam for Microsoft Windows on October 12, 2021, and later for Android and iOS on March 11, 2022.', 'Project Firestart is a cinematic survival horror game for the Commodore 64 computer system.', 'It was designed by Jeff Tunnell and Damon Slye and published by Electronic Arts in 1989.', 'Project Zomboid is an open-world isometric video game in development by British and Canadian independent developer The Indie Stone.', \"It was one of the first five games released on the alpha funding section of the gaming portal Desura.In 2011, The Indie Stone were subject to a high-profile setback within the indie gaming community following the theft of two laptops containing the game's code.\", 'Since then, Project Zomboid has appeared on Steam Early Access and continues development to this day.', \"Project Zomboid is The Indie Stone's first commercially released game.\", 'The Quarry is a 2022 interactive drama horror video game developed by Supermassive Games and published by 2K.', 'Envisioned as the spiritual successor to Until Dawn (2015) and inspired by teen slasher and monster films such as Friday the 13th and The Thing, the game features a large ensemble cast including Brenda Song, David Arquette, Halston Sage, Ted Raimi, Ariel Winter, Ethan Suplee, Lance Henriksen, Lin Shaye, Justice Smith, and Grace Zabriskie.', 'The Quarry was released on 10 June 2022 for Windows, PlayStation 4, PlayStation 5, Xbox One and Xbox Series X/S.', 'Red Dead Redemption: Undead Nightmare is a standalone expansion pack to the 2010 video game Red Dead Redemption.', 'Resident Evil is a 1996 survival horror video game developed and published by Capcom originally for the PlayStation.', 'In 2002, a Resident Evil remake was released for the GameCube and ported to other platforms in 2015.', 'Released for the GameCube video game console in 2002, it is a remake of the 1996 PlayStation game Resident Evil, the first installment in the Resident Evil video game series.', 'The story takes place in 1998 near the fictional Midwestern town of Raccoon City where a series of bizarre murders have taken place.', 'The player takes on the role of either Chris Redfield or Jill Valentine, S.T.A.R.S.', 'Resident Evil was developed over the course of one year and two months as part of an exclusivity deal between Capcom and Nintendo.', 'It was directed by Shinji Mikami, who also designed and directed the original Resident Evil.', \"Mikami decided to produce a remake because he felt that the original had not aged well enough and that the GameCube's capabilities could bring it closer to his original vision.\", 'The game retains the same graphical presentation, with 3D models superimposed over pre-rendered backgrounds.', 'The remake also features new gameplay mechanics, revised puzzles, additional explorable areas, a revised script, and new story details including an entire subplot cut from the original game.', 'Upon release, Resident Evil received acclaim from video game journalists, who praised its graphics and improved gameplay over the original game.', 'It is often described as one of the best, scariest, and most visually impressive entries in the Resident Evil series.', 'However, the game sold worse than expected, leading Capcom to change the direction of the series to a more action-oriented approach.', 'In 2008, the game was ported to the Wii, featuring a new control system.', 'In 2015, a high-definition remastered version was released for PlayStation 3, PlayStation 4, Windows, Xbox 360, and Xbox One to critical and commercial success and then later on Nintendo Switch in 2019.', 'Resident Evil 2 is a 1998 survival horror video game developed and published by Capcom for the PlayStation.', 'Players control rookie police officer Leon S. Kennedy and college student Claire Redfield as they attempt to escape Raccoon City during a viral outbreak that transforms the citizens into zombies and other creatures.', 'It received numerous awards, including winning Ultimate Game of the Year at the 2019 Golden Joystick Awards.', 'It is a remake of the 1999 game Resident Evil 3: Nemesis.', 'Resident Evil 3: Nemesis is a 1999 survival horror video game developed and published by Capcom originally for the PlayStation.', 'Resident Evil – Code: Veronica is a survival horror video game developed and published by Capcom and originally released for the Dreamcast in 2000.', 'Resident Evil Outbreak is a survival horror video game with online playability for the PlayStation 2.', 'Resident Evil Outbreak: File #2 is a survival horror video game and is a sequel to Resident Evil Outbreak and the final installment of the spinoff game series.', 'Resident Evil Zero (or Resident Evil 0) is a survival horror game developed and published by Capcom for the GameCube in 2002.', 'Resident Evil: Revelations is a 2012 survival horror video game developed by TOSE and published by Capcom originally for the Nintendo 3DS handheld game console.', 'A high-definition (HD) version was released for Microsoft Windows, PlayStation 3, Wii U, and Xbox 360 in 2013, and for PlayStation 4, Xbox One, and Nintendo Switch in 2017.', 'The game is a follow up to Resident Evil: Revelations and Resident Evil 5.', 'It marks the return of Claire Redfield as the protagonist, and the first time Barry Burton is a playable story character in the main series.', 'It was released on the PlayStation in Japan on January 27, 2000, in Europe on March 31, 2000 and in North America on August 30, 2000.', 'As the first release of the Gun Survivor series, this game was a major difference from the main Resident Evil series, substituting the third-person perspective of the previous games to a first-person view.', 'Resident Evil Survivor 2 – Code: Veronica is a light gun shooter video game developed and published by Capcom as part of the Resident Evil series.', 'Resident Evil: The Mercenaries 3D is a third-person shooter video game developed by TOSE and published by Capcom for the Nintendo 3DS.', 'A combination of the \"Mercenaries\" minigames featured in Resident Evil 4 and 5, players must defeat as many enemies as possible within a set time limit.', \"The Ring: Terror's Realm (known simply as Ring (リング, Ringu) in Japan) is a survival horror video game developed and published by Asmik Ace Entertainment in Japan and published by Infogrames North America in North America.\", 'It is based on the Ring series of novels by Japanese author Suzuki Kouji, which also inspired the Japanese film Ring (1998) and its American remake, The Ring (2002).', 'Rule of Rose is a survival horror video game developed by Punchline for the PlayStation 2.', 'S.T.A.L.K.E.R.', 'S.T.A.L.K.E.R.', 'S.T.A.L.K.E.R.', 'S.T.A.L.K.E.R.', 'S.T.A.L.K.E.R.', 'S.T.A.L.K.E.R.', 'S.T.A.L.K.E.R.', 'Saw II: Flesh & Blood is a third-person survival horror video game developed by Zombie Studios and published by Konami for the PlayStation 3 and Xbox 360.', 'SCP – Containment Breach is an indie horror video game developed by Joonas \"Regalis\" Rikkonen based on fictional stories from the SCP Foundation collaborative writing wiki.', 'Shellshock 2: Blood Trails is a first-person shooter video game developed by Rebellion Developments and published by Eidos Interactive for Microsoft Windows, PlayStation 3 and Xbox 360.', 'Silent Hill is a 1999 survival horror game developed by Team Silent and published by Konami.', 'Five game endings are possible, depending on actions taken by the player, including one joke ending.', 'Silent Hill received positive reviews from critics on its release and was commercially successful.', 'Various adaptations of Silent Hill have been released, including a 2001 visual novel, the 2006 feature film Silent Hill, and a 2009 reimagining of the game, titled Silent Hill: Shattered Memories.', 'The game was followed by Silent Hill 2 in 2001, and a direct sequel, Silent Hill 3, in 2003.', 'A remastered high-definition version was released for the PlayStation 3 and Xbox 360 in 2012 as part of the Silent Hill HD Collection.', 'Silent Hill 2 received critical acclaim.', 'Silent Hill: Book of Memories is a 2012 dungeon crawler video game developed by WayForward Technologies and published by Konami.', \"As he continues on his search to find his younger brother, he discovers more about the Order, a cult, as well as the town's history, and his own past.\", \"The game was released on September 30, 2008, in North America for the PlayStation 3 and Xbox 360, and the Microsoft Windows version was released in North America on November 6, 2008, exclusively through Valve's Steam digital content delivery service.\", 'Versions were simultaneously released in Europe, including a retail Microsoft Windows version, on February 27, 2009.', 'Silent Hill: The Arcade (サイレントヒル アーケード, Sairento Hiru Ākēdo) is an arcade game spin-off of the survival horror video game series Silent Hill developed by Konami Digital Entertainment and published by Konami.', 'Silent Hills is a cancelled horror game developed by Kojima Productions that was to be published by Konami for the PlayStation 4.', 'Siren: Blood Curse is a survival horror stealth game developed by Project Siren, a development team of Japan Studio, and published by Sony Computer Entertainment for the PlayStation 3.', \"Splatterhouse is a horror-themed beat 'em up hack and slash video game developed and published by Namco Bandai Games in 2010 for PlayStation 3 and Xbox 360.\", 'State of Decay is an action-adventure, survival horror, and stealth game developed by Undead Labs and published by Microsoft Studios.', 'State of Decay 2 is a survival video game developed by Undead Labs and published by Xbox Game Studios.', 'The game is a followup to State of Decay and was released for Microsoft Windows and Xbox One on May 22, 2018.', 'In addition, select enemy characters appearing in the first two games were adapted into fully articulated action figures by Palisade Toys, which canceled the second toy line before street release due to limited returns from the first series.', 'Until Dawn is a 2015 interactive drama horror video game developed by Supermassive Games and published by Sony Computer Entertainment for the PlayStation 4.', 'Until Dawn: Rush of Blood is a rail shooter developed by Supermassive Games and published by Sony Interactive Entertainment, released on 13 October 2016 worldwide for PlayStation VR headset on PlayStation 4.', 'The Walking Dead (also known as The Walking Dead: The Game and later The Walking Dead: Season One) is an episodic adventure video game developed and published by Telltale Games.', 'It is available for Android, iOS, Kindle Fire HDX, Microsoft Windows, Mac OS X, Ouya, PlayStation 3, PlayStation Vita, Xbox 360, PlayStation 4, Xbox One, and Nintendo Switch.', \"Kirkman provided oversight for the game's story to ensure it corresponded to the tone of the comic, but allowed Telltale to handle the bulk of the developmental work and story specifics.\", 'Unlike many graphic adventure games, The Walking Dead does not emphasize puzzle solving, but instead focuses on story and character development.', 'The story is affected by both the dialogue choices of the player and their actions during quick time events, which can often lead to, for example, certain characters being killed, or an adverse change in the disposition of a certain character or characters towards protagonist Lee.', 'The Walking Dead: Michonne is an episodic adventure video game by Telltale Games., based on The Walking Dead comic book series.', 'The Walking Dead: Survival Instinct is a first-person shooter video game developed by Terminal Reality and published by Activision.', 'The Walking Dead: Survival Instinct acts as a prequel to the TV series; it is set in the Georgia countryside and focuses on Daryl and Merle Dixon as they make their way to Atlanta during the early days of the zombie apocalypse.', 'World War Z is a third-person shooter video game developed and published by Saber Interactive.', 'Zombie Army Trilogy is a third-person tactical shooter video game developed and published by Rebellion Developments.', 'It is a spin-off to the Sniper Elite series and was released on March 6, 2015, for Microsoft Windows, PlayStation 4 and Xbox One.', 'Adolf Hitler deploys a last resort plan to raise the fallen as zombies through occult rituals and turn them against Allied forces, thus causing Germany to become overrun with the undead.', 'The trilogy includes a remastered version of the original Nazi Zombie Army and its sequel, which were both released in 2013 as standalone downloadable content for Sniper Elite V2, and a previously unreleased third installment in the series.', \"The game's co-operative modes support eight playable characters, four of which are new female characters.\", \"In August 2015, the main characters of both games in the Left 4 Dead series were also added exclusively to the PC version's playable character roster.A sequel, Zombie Army 4: Dead War, was released on February 4, 2020.\"]\n"
          ]
        }
      ]
    },
    {
      "cell_type": "code",
      "source": [
        "print(parallel_sentences_it)"
      ],
      "metadata": {
        "colab": {
          "base_uri": "https://localhost:8080/"
        },
        "id": "I7wF5XOvQBrp",
        "outputId": "dd65d7a7-cce7-4dce-91f9-446de1325e1b"
      },
      "execution_count": 136,
      "outputs": [
        {
          "output_type": "stream",
          "name": "stdout",
          "text": [
            "[\"The 3rd Birthday è sia uno spin-off, essendo la trama solo vagamente connessa agli eventi dei giochi precedenti, che il terzo capitolo della serie di videogiochi Parasite Eve, basata sull'omonimo romanzo dello scrittore giapponese Hideaki Sena, nonché sequel narrativo del videogioco del 1999 Parasite Eve II.\", 'Agony è un videogioco survival horror dark fantasy sviluppato da Madmind Studio e pubblicato da PlayWay.', \"Il giocatore inizia il viaggio come un'anima tormentata nelle profondità dell'Inferno senza alcun ricordo del proprio passato.\", 'La speciale abilità di controllare le persone sul suo cammino e di possedere demoni deboli, fornisce al giocatore le misure necessarie per sopravvivere nelle condizioni estreme in cui si trova.', 'Una versione rimasterizzata di Alan Wake, prodotta e pubblicata da Remedy in collaborazione con Epic Games, è stata rilasciata il 5 ottobre 2021 per Microsoft Windows, Xbox One, Xbox Series X e Series S, PlayStation 4 e PlayStation 5.', 'Successivamente, la Remedy ha rilasciato Control (2019), ambientato nello stesso universo di Alan Wake.', 'Alien: Isolation è un videogioco survival horror in prima persona, sviluppato dallo studio britannico The Creative Assembly e pubblicato da SEGA il 7 ottobre 2014 per le piattaforme PlayStation 3, PlayStation 4, Xbox One, Xbox 360 e Microsoft Windows.Successivamente Feral Interactive ha distribuito le versioni per macOS e Linux.', 'Alone in the Dark è un videogioco ideato da Frédérick Raynal e pubblicato da Infogrames nel 1992, primo capitolo della serie Alone in the Dark.', 'Alone in the Dark 2 è il secondo capitolo della saga di Alone in the Dark.', 'Alone in the Dark 3 è un videogioco distribuito da Infogrames nel 1995, il gioco è il terzo capitolo della serie omonima.', 'Altered Beast, in Giappone Jūōki: Project Altered Beast, è un videogioco realizzato dalla WOW Entertainment e pubblicato dalla SEGA nel 2005 per PlayStation 2.', 'Amnesia: A Machine for Pigs (nome in codice gameB) è un videogioco survival horror, sviluppato da The Chinese Room e prodotto da Frictional Games.', 'Il gioco è un sequel indiretto di Amnesia: The Dark Descent, sviluppato e prodotto da Frictional Games.', 'Amnesia: Rebirth è un videogioco survival horror del 2020 sviluppato e pubblicato da Frictional Games.', 'È stato rilasciato per Microsoft Windows, Linux e PlayStation 4 il 20 ottobre 2020.', 'È la terza puntata del franchise e funge da sequel di Amnesia: The Dark Descent (2010).', 'Il gioco ha ricevuto recensioni generalmente favorevoli al momento del rilascio.', 'Amy è un videogioco di genere survival horror stealth, sviluppato da VectorCell e pubblicato da Lexis Numérique.', 'Angels of Death (殺戮の天使 Satsuriku no tenshi?, lett.', '\"Angeli del massacro\") è un videogioco horror e d\\'avventura giapponese sviluppato da Hoshikuzu KRNKRN (Makoto Sanada) per Microsoft Windows.', \"Bendy and the Ink Machine (conosciuto anche con l'acronimo di BATIM) è un videogioco survival horror a episodi in Stile Toon sviluppato e realizzato dalla squadra Joey Drew Studios, Inc., e pubblicato da TheMeatly Games.\", \"BioShock è un videogioco sparatutto in prima persona, primo capitolo dell'omonima serie, sviluppato dalla 2K Boston (vedi Irrational Games) e pubblicato dalla 2K Games.\", \"BioShock 2 è un videogioco del genere sparatutto in prima persona, sviluppato da 2K Marin, sequel di BioShock e secondo capitolo dell'omonima serie.\", 'Call of Duty: World at War - Zombies è un videogioco sparatutto in prima persona sviluppato da Ideaworks Game Studio e pubblicato da Activision il 16 novembre 2009.È stato sviluppato unicamente per piattaforme iOS.', 'Calling - Messaggio oscuro) è un videogioco survival horror sviluppato da Hudson Soft in esclusiva per Wii.', 'Il gioco è stato distribuito in Giappone il 19 novembre 2009, in Nord America il 9 marzo 2010 e in Europa il 19 marzo 2010.', 'The Callisto Protocol è un videogioco survival horror del 2022.', 'Cold Fear è un videogioco di azione a tema survival horror, sviluppato da Darkworks e pubblicato da Ubisoft nel 2005.', 'Corpse Killer è un videogioco sparatutto con pistola ottica in full motion video sviluppato da Digital Pictures nel 1994 e pubblicato per Sega CD, Sega 32X, 3DO, Sega Saturn, Windows 95 e Macintosh.', 'Corpse Killer fu il primo gioco CD distribuito per Sega 32X.', \"Sebbene sia stato originariamente pubblicato nel 2012 come una mod per Half-Life, l'anno successivo è diventato un prodotto stand-alone scaricabile gratuitamente dalla piattaforma Steam.\", 'Come già nei giochi precedenti della serie, The Devil in Me permette al giocatore di vestire i panni di un gruppo di cinque personaggi giocabili che seguono una narrativa multilineare influenzata dalle loro scelte, che possono cambiare i loro rapporti e persino portare loro alla morte.', 'Daymare: 1998 è un gioco survival horror in terza persona sviluppato dal team italiano Invader Studios e pubblicato da Destructive Creations e All In!', 'Games il 17 settembre 2019 su Steam e GOG.com e il 28 aprile 2020 su PlayStation 4 e Xbox One.', 'Days Gone è un videogioco action-adventure del 2019, sviluppato da Bend Studio e pubblicato da Sony Interactive Entertainment per PlayStation 4.Nel 2021 ne è stata realizzata una versione anche per Windows.', 'Dead By Daylight è un videogioco survival horror asimmetrico sviluppato da Behaviour Interactive.', 'È stato pubblicato per Microsoft Windows nel 2016; in seguito anche per PlayStation 4 e Xbox One nel 2017, per Nintendo Switch nel 2019, per iOS, Android, PlayStation 5 e Xbox Series X nel 2020.', 'Nel 2016, in occasione del decimo anniversario, Capcom ha pubblicato un porting del gioco originale per PlayStation 4, Xbox One e Microsoft Windows.', \"L'uscita del gioco è avvenuta il 24 settembre 2010 in Europa per PlayStation 3 e Xbox 360.\", \"L'uscita del gioco è avvenuta il 22 novembre 2013 per Xbox One e il 5 settembre 2014 su Microsoft Windows.\", \"è un videogioco d'avventura e azione a tema survival horror del 2016 sviluppato dalla Capcom e pubblicato da Microsoft Studios.\", \"Il gioco è stato distribuito il 6 dicembre 2016 per Xbox One e per Microsoft Windows, mentre il 5 dicembre 2017 è stata pubblicata una versione per PlayStation 4 dal titolo Dead Rising 4: Frank's Big Package.\", 'Dead Space è un videogioco di fantascienza survival horror in terza persona sviluppato da Visceral Games al tempo chiamata EA redwood shores.', 'Deadlight è un videogioco a piattaforme survival horror per Xbox 360 e Microsoft Windows sviluppato dalla Tequila Works e pubblicato dalla Microsoft Studios.', \"Una versione per Nintendo Switch è stata rilasciata il 4 Settembre 2019, chiamata Deadly Premonition Origins, subito dopo l'annuncio del seguito, Deadly Premonition 2: A Blessing in Disguise, in arrivo nel 2020.\", \"Una versione per Nintendo Switch è stata rilasciata il 4 Settembre 2019, chiamata Deadly Premonition Origins, subito dopo l'annuncio del seguito, Deadly Premonition 2: A Blessing in Disguise, in arrivo nel 2020.\", 'è un videogioco survival horror sviluppato e pubblicato da Capcom originariamente per la console PlayStation nel 1999.', 'È il primo capitolo della serie Dino Crisis ed è stato concepito dalla stessa squadra dietro la serie Resident Evil di Capcom, tra cui il game director Shinji Mikami, condividendo molte somiglianze con essa.', \"Invece degli sfondi pre-rendering tipici dei giochi Resident Evil che l'hanno preceduto, Dino Crisis utilizza un motore grafico con elaborazione dati in tempo reale e dotato di ambienti 3D.\", 'Il gameplay si basa sui concetti base del survival horror, tra cui azione e risoluzione di enigmi, ed è stato sviluppato per incutere terrore più viscerale e coerente grazie ai dinosauri, rapidi, intelligenti e violenti.', 'La squadra di sviluppo ha utilizzato gli odierni animali carnivori come riferimenti per animare i dinosauri e programmare i loro comportamenti.', 'Dino Crisis è stato un successo commerciale e di critica, con la versione PlayStation che vendette oltre 2.4 milioni di copie.', 'La stampa specializzata ha evidenziato il confronto con Resident Evil, arrivando a descriverlo come \"Resident Evil coi dinosauri\".', \"Sono state elogiate l'intensità del gioco, la grafica e il gameplay stesso.\", 'Alcune critiche sono state rivolte alla mancanza di varietà di dinosauri, agli ambienti ripetitivi e agli enigmi.', 'Dino Crisis è stato convertito per Sega Dreamcast e Microsoft Windows nel 2000 e poi rilasciato su PlayStation Network a partire dal 2006.', 'Due versioni diverse per Game Boy Color erano in fase di sviluppo, ma entrambe sono state cancellate.', \"Il gioco è stato inizialmente previsto per Xbox e PlayStation 2, ma quest'ultima versione è stata abbandonata poco dopo l'inizio dello sviluppo.\", \"Anche se i giochi della serie Gun Survivor sono uno spin-off della serie Resident Evil, Dino Stalker è l'unico senza alcun legame con esso, dato che fa parte della serie Dino Crisis.\", 'Dying Light è un videogioco survival horror in prima persona, sviluppato da Techland e pubblicato dalla Warner Bros. Interactive Entertainment.', '), è un gioco survival horror sviluppato dallo studio giapponese Tango Gameworks, capitanato da Shinji Mikami, il noto creatore della saga videoludica Resident Evil, e pubblicato da Bethesda Softworks.', 'F.3.A.R.', 'F.3.A.R.', 'F.E.A.R.', 'F.E.A.R.', '2: Project Origin è un videogioco survival horror e sparatutto in prima persona, sviluppato dalla Monolith Productions e distribuito dalla Warner Bros. per PlayStation 3, Xbox 360 e Microsoft Windows.', '2: Reborn.', \"Five Nights at Freddy's (abbreviato in FNAF) è un videogioco survival horror indipendente di tipo punta e clicca ideato da Scott Cawthon e pubblicato l'8 agosto 2014 su Desura, primo capitolo dell’omonima serie.\", \"Five Nights at Freddy's 3 (abbreviato in FNaF 3) è un videogioco horror del 2015.\", 'Il gioco è stato pubblicato su Steam il 2 marzo 2015.', 'Nel 2019 un port del gioco viene rilasciato per Xbox One, Nintendo Switch e Playstation 4.', \"Five Nights at Freddy's 4 (abbreviato in FNaF 4) è un videogioco di avventura grafica, quarto capitolo della serie survival horror di Five Nights at Freddy's, creato da Scott Cawthon.\", 'È stata pubblicata una versione mobile per Android il 25 luglio 2015 e per iOS il 3 agosto 2015.', \"Five Nights at Freddy's: Special Delivery è un videogioco survival horror della saga Five Nights at Freddy's, realizzato in realtà aumentata e pubblicato il 22 novembre 2019.\", \"Five Nights at Freddy's: Security Breach è un videogioco survival horror del 2021 sviluppato da Steel Wool Studios e pubblicato da ScottGames.\", \"È il nono capitolo principale della serie Five Nights at Freddy's e il tredicesimo in generale, che si svolge dopo gli eventi di Five Nights at Freddy's: Help Wanted.\", 'Il gioco è stato pubblicato il 16 dicembre 2021 per Microsoft Windows, PlayStation 4 e PlayStation 5, mentre le versioni per Xbox One, Xbox Series X e Xbox Series S sono state pubblicate il 22 novembre 2022.', \"Un'espansione DLC gratuita chiamata Ruin è stata annunciata in uscita nel 2023.\", \"Five Nights at Freddy's: Sister Location (abbreviato in FNaF: SL) è un videogioco survival horror, quinto capitolo della serie Five Nights at Freddy's ideata da Scott Cawthon.\", 'Nel 2020 viene pubblicato un port per Xbox One, Nintendo Switch e Playstation 4.', 'Invece, offre la possibilità di spostarsi tra le stanze, ognuna con il proprio obiettivo diverso che il giocatore deve raggiungere.', \"Durante il gioco, il giocatore interagisce con un nuovo cast di personaggi animatronici, al centro del quale c'è un benevolo animatrone chiamato Baby.\", '), è un videogioco survival horror sviluppato dalla Sony Computer Entertainment per PlayStation 2 nel 2006.', \"Freddy Fazbear's Pizzeria Simulator, abbreviato più semplicemente in FFPS, è un videogioco di avventura grafica con elementi gestionali, settimo gioco della serie survival horror di Five Nights at Freddy's e sesto gioco canonico, creato da Scott Cawthon.\", 'Il 31 Ottobre 2020 ne è uscita una versione per Nintendo Switch e Xbox One, mentre la versione per PlayStation 4 debutta nel 31 Marzo 2021.', 'Friday the 13th: The Game (letteralmente: Venerdì 13: Il gioco) è un videogioco di tipo survival horror in terza persona sviluppato da Gun Media e IllFonic, basato sul franchise di Venerdì 13.', 'Half-Life 2 (reso graficamente come HλLF-LIFE ², abbreviato λ²) è un videogioco sparatutto in prima persona fantascientifico del 2004, seguito di Half-Life.', 'Half-Life: Alyx è un videogioco di genere sparatutto in prima persona creato e pubblicato da Valve Corporation esclusivamente per la realtà virtuale.', \"Half-Life: Blue Shift è la seconda espansione di Half-Life, uscita nel 2001, e come la precedente (Opposing Force) anch'essa sviluppata da Gearbox Software.\", 'Half-Life: Decay è la terza ed ultima espansione per lo sparatutto in prima persona Half-Life.', 'Sviluppata da Gearbox Software nel 2001, è stata inserita nella versione PlayStation 2 di Half-Life.', 'Half-Life: Opposing Force è uno sparatutto in prima persona, espansione di Half-Life.', 'Haunting Ground (conosciuto in Giappone come Demento) è un videogioco survival horror sviluppato da Capcom Production Studio 1 e pubblicato da Capcom esclusivamente per la PlayStation 2 nel 2005.', 'The House of the Dead 2 è un videogioco arcade sparatutto con pistola ottica a tema horror; è il secondo episodio della serie omonima sviluppato da Sega-AM1 e pubblicato da SEGA come uno dei titoli di lancio per il sistema arcade Sega NAOMI nel 1998 e successivamente convertito per Dreamcast e Microsoft Windows; si trova anche su Xbox come bonus sbloccabile in The House of the Dead III.', 'Il gioco appare nella raccolta The House of the Dead 2 & 3 Return per Wii.', 'The House of the Dead 4 è un videogioco arcade a tema horror, quarto capitolo della serie di videogiochi House of the Dead della SEGA.', 'Il gioco è un interquel e si svolge fra gli eventi di The House of the Dead 2 e The House of the Dead III, introducendo anche nuovi elementi di gameplay.', 'Il giocatore può controllare James Taylor, proveniente da The House of the Dead 2, o Kate Green, un nuovo personaggio della serie.', 'The House of the Dead 4 è il primo gioco ad utilizzare il sistema arcade Sega Lindbergh.', 'The House of the Dead III è il terzo episodio della serie di videogiochi The House of the Dead, sviluppato da Wow Entertainment per il sistema arcade Sega Chihiro nel 2002.', 'The House of the Dead: Overkill è uno sparatutto in prima persona sui binari sviluppato da Headstrong Games e pubblicato da SEGA su console Nintendo, il Wii.', 'How to Survive è un videogioco survival horror sviluppato da EKO Software e pubblicato da 505 Games.', \"È stato distribuito il 23 ottobre 2013 per Xbox 360 e Microsoft Windows, nell'ottobre 2013 per PlayStation 3 e nel giugno 2014 è stato inserito nel Nintendo eShop.\", 'è un videogioco a tema survival horror sviluppato da Crazy Games e pubblicato nel 2001 da SEGA per Sega Dreamcast.', 'È stato il primo gioco a romanzo visivo pubblicato su console di settima generazione.', 'The Inpatient è un videogioco survival-horror in realtà virtuale del 2018, sviluppato da Supermassive Games e pubblicato da Sony Interactive Entertainment in esclusiva per PlayStation 4.', 'Into the Dead è un videogioco sparatutto sviluppato dalla PikPok del genere azione-horror e pubblicato nel 2012 per iOS, Android e Windows Phone.', 'Il gioco è stato sviluppato dalla Feelplus e pubblicato in Giappone da AQ Interactive il 30 luglio 2009 in Nord America e in Europa, e in Italia nel mese di ottobre dello stesso anno, rispettivamente da Games Xseed, Rising Star Games e Cidiverte.', 'Killing Floor è un videogioco FPS survival horror co-op, sviluppato e pubblicato da Tripwire Interactive.', 'Originariamente è stato pubblicato nel 2005 come mod di Unreal Tournament 2004, da Shatterline Productions.', 'Kuon (九怨S) è un survival horror del 2004 sviluppato da FromSoftware per PlayStation 2.', 'The Last of Us Parte II (The Last of Us Part II) è un videogioco di avventura dinamica, a sfondo post-apocalittico, sviluppato dalla casa di produzione Naughty Dog in esclusiva per PlayStation 4.', 'The Last of Us è un videogioco action-adventure del 2013, sviluppato da Naughty Dog, diretto da Neil Druckmann e Bruce Straley, pubblicato da Sony Interactive Entertainment per PlayStation 3, PlayStation 4, PlayStation 5 e Microsoft Windows.', 'The Last of Us: Left Behind è un videogioco horror di sopravvivenza in stile avventura dinamica, sviluppato dalla Naughty Dog e pubblicato dalla Sony Computer Entertainment.', 'È stato pubblicato in tutto il mondo per PlayStation 3 il 14 febbraio 2014, come contenuto aggiuntivo scaricabile di The Last of Us; esso fu, in seguito, incluso con The Last of Us Remastered, una versione aggiornata del gioco, distribuita per PlayStation 4 il 29 luglio 2014 ed è stata resa disponibile come un pacchetto di espansione autonomo per entrambe le console il 12 maggio 2015.', 'The Last of Us: Left Behind è giocato da una prospettiva in terza persona; i giocatori utilizzano armi da fuoco, armi improvvisate e stealth per difendersi contro gli esseri umani ostili e le creature simili a zombi infetti da un ceppo mutato del fungo Cordyceps.', 'Il combattimento Stealth utilizza un meccanismo di gioco chiamato \"Modalità Ascolto\" che consente ai giocatori di individuare efficacemente i nemici attraverso un senso di udito e una consapevolezza spaziale.', \"Il gioco dispone anche di un sistema di crafting, che permette ai giocatori di personalizzare le armi attraverso l'utilizzo di potenziamenti.\", 'Little Nightmares 2 (noto anche come Little Nightmares II) è un videogioco horror di genere rompicapo-azione e di avventura sviluppato dalla Tarsier Studios e pubblicato dalla Bandai Namco Entertainment.', \"È il sequel del videogioco per Nintendo GameCube Luigi's Mansion, uscito nel 2002 ed è seguito da Luigi's Mansion 3 per Nintendo Switch.\", 'Martha is Dead è un videogioco di genere horror psicologico, sviluppato da LKA e pubblicato da Wired Productions.', 'Martian Gothic: Unification è un videogioco sviluppato da Creative Reality e pubblicato nel 2000 da TalonSoft per Microsoft Windows.', 'È stato sviluppato da 4A Games in Ucraina e pubblicato nel marzo 2010 per Xbox 360 e Microsoft Windows.', 'Si tratta del terzo capitolo della serie di videogiochi Metro, basata sui romanzi di Dmitrij Gluchovskij, preceduto da Metro: Last Light e Metro 2033.', 'Il 25 agosto del 2014 è stato messo in commercio per Xbox One e PlayStation 4 il cofanetto Metro Redux, contenente entrambi i capitoli rimasterizzati per le nuove console, anche se i cambiamenti più rilevanti hanno riguardato Metro 2033, che è stato totalmente rielaborato e aggiornato seguendo il comparto tecnico di Last Light.', \"I giocatori nel videogioco assumono il nome di Robert Hughes, uno scienziato affetto da peste che esplora un'isola, almeno apparentemente, disabitata, alla ricerca di piante medicinali che possano fornirgli una cura tale da salvargli la vita.\", 'Neverending Nightmares è un videogioco survival horror sviluppato dalla Infinitap Games.', 'Obscure (reso graficamente ObsCure) è un videogioco survival horror del 2004, sviluppato da Hydravision Entertainment e pubblicato da Microïds e DreamCatcher Interactive per PlayStation 2, Xbox e Microsoft Windows.', 'Outlast 2 (stilizzato OU⸸LASTII) è un videogioco survival horror del 2017, sviluppato e pubblicato da Red Barrels.', \"Il videogioco è stato pubblicato il 25 aprile 2017 per Microsoft Windows, Playstation 4 e Xbox One.Sequel del videogioco Outlast del 2013, Outlast 2 presenta il giornalista Blake Langermann, insieme a sua moglie Lynn, che vagano nel deserto dell'Arizona per esplorare l'omicidio di una donna incinta nota semplicemente come Jane Doe.\", 'Le critiche erano riservate prevalentemente al design del gameplay e alla difficoltà percepita.', 'È il sequel del gioco OverBlood, pubblicato per la stessa piattaforma.', 'Il gioco fu pubblicato in Giappone sempre dalla Riverhillsoft il 23 luglio 1998, mentre la versione europea venne distribuita il 13 aprile 2001 da Evolution Games.', '\"Teaser giocabile\"), è un videogioco survival horror in prima persona sviluppato da Kojima Productions, sotto lo pseudonimo di 7780s Studio, e pubblicato da Konami in esclusiva per PlayStation 4.', 'Il gioco è stato diretto e progettato da Hideo Kojima, in collaborazione con il regista Guillermo del Toro.', 'Distribuito in tutto il mondo il 12 agosto 2014 su PlayStation Network e disponibile tramite download gratuito, P.T.', 'dal PlayStation Store e disabilitato la sua installazione.', 'P.T.', 'P.T.', 'The Park è un videogioco horror psicologico in prima persona, sviluppato e pubblicato da Funcom.', 'Il gioco è stato pubblicato per Microsoft Windows tramite la piattaforma Steam il 27 ottobre 2015 ed è uno spin-off di un precedente gioco Funcom, The Secret World.', 'Successivamente, è stato reso disponibile per PlayStation 4 e Xbox One il 3 maggio 2016, e per Nintendo Switch il 22 ottobre 2019.', 'Inoltre, è stato distribuito in Giappone il 24 settembre 2020.', \"Il gioco si svolge nell'Atlantic Island Park, chiuso nel 1980 per ragioni misteriose che vengono gradualmente svelate durante il gioco.\", \"Tuttavia, ne venne pubblicata un'espansione, Penumbra: Requiem, per fornire la serie di un terzo capitolo, anche se questa non prosegue la storia in alcun modo.\", \"Penumbra: Requiem è un'espansione del videogioco Penumbra: Black Plague, sviluppata da Frictional Games nel 2008.\", 'Phasmophobia è un videogioco horror indie sviluppato e pubblicato da Kinetic Games.', 'Il gioco è stato reso disponibile con accesso anticipato attraverso la piattaforma Steam per Microsoft Windows nel settembre 2020, insieme al supporto per la realtà virtuale.', \"Il gioco ha ricevuto un notevole afflusso di popolarità il mese seguente all'uscita, grazie a diversi streamer popolari su Twitch e YouTuber che hanno giocato prevalentemente durante il periodo di Halloween.\", 'Il 15 ottobre 2020 il gioco era al sesto posto tra i giochi più popolari su Twitch, ed è stato il gioco con maggiori vendite mondiali su Steam per diverse settimane da ottobre a novembre 2020.', 'Il 15 ottobre 2020 il gioco era al sesto posto tra i giochi più popolari su Twitch, ed è stato il gioco con maggiori vendite mondiali su Steam per diverse settimane da ottobre a novembre 2020.', 'Il primo capitolo è stato pubblicato su Steam per Microsoft Windows il 12 ottobre 2021 e il secondo capitolo il 5 maggio 2022.', 'Project Firestart è un videogioco di avventura dinamica per Commodore 64.', 'È stato disegnato da Jeff Tunnell e Damon Slye e pubblicato dalla Electronic Arts nel 1989.', 'Project Zomboid è un videogioco survival horror isometrico open world in sviluppo dallo sviluppatore indipendente britannico e canadese The Indie Stone.', 'È stato uno dei primi cinque giochi distribuiti nella sezione di finanziamento alpha del portale di giochi Desura.Nel 2011, The Indie Stone è stata oggetto di furto di due laptop contenenti il codice del gioco causando il blocco del lavoro dei programmatori.', 'Da allora, Project Zomboid è apparso su Steam Early Access e continua lo sviluppo fino ad oggi.', 'Project Zomboid è il primo gioco commercializzato da The Indie Stone.', 'The Quarry è un videogioco horror interattivo del 2022 sviluppato da Supermassive Games e pubblicato da 2K Games.', 'Immaginato come il seguito spirituale di Until Dawn (2015) e ispirato a film di mostri e teen slasher come Venerdì 13 e La cosa, il gioco presenta un ampio cast corale che include Brenda Song, David Arquette, Ted Raimi, Ariel Winter e Justice Smith.', 'The Quarry è stato pubblicato il 10 giugno 2022 per Windows, PlayStation 4, PlayStation 5, Xbox One e Xbox Series X/S.', \"Red Dead Redemption: Terrore dall'Oltretomba (Red Dead Redemption: Undead Nightmare in lingua originale) è il quinto contenuto scaricabile del videogioco Red Dead Redemption (2010).\", '), è un videogioco survival horror creato da Capcom; rappresenta il titolo inaugurale della serie di Resident Evil.', 'Nel 2002 è uscito un remake del gioco per il GameCube, Resident Evil, con una nuova grafica, un nuovo doppiaggio e altri cambiamenti significativi.', 'Si tratta del remake del gioco omonimo pubblicato su PlayStation nel 1996, primo episodio della serie di videogiochi Resident Evil.', \"La trama del gioco si svolge nel 1998, nei pressi di una città degli Stati Uniti d'America medio-occidentali, Raccoon City, dove hanno avuto luogo una serie di bizzarri omicidi.\", \"Il giocatore assume il ruolo di Chris Redfield o Jill Valentine, agenti dell'unità S.T.A.R.S.\", \"Resident Evil è stato sviluppato nel corso di un anno e due mesi nell'ambito di un accordo di esclusiva tra Capcom e Nintendo.\", \"È stato diretto da Shinji Mikami, che progettò e diresse l'originale Resident Evil.\", \"Mikami ha deciso di produrre un remake perché riteneva l'originale non fosse invecchiato abbastanza bene e che le capacità tecniche del GameCube potevano avvicinarlo alla sua visione originale.\", 'Il gioco mantiene la stessa presentazione grafica classica, con modelli 3D sovrapposti a sfondi pre-renderizzati.', 'Il remake include anche nuove meccaniche di gioco, funzionamento degli enigmi rivisto, aree esplorabili aggiuntive, una sceneggiatura rielaborata e nuovi dettagli della trama, tra cui un intero sub-plot tagliato dal gioco originale.', \"Al momento della pubblicazione, Resident Evil ha ricevuto il plauso della critica di settore, che ne ha elogiato la sua grafica e i miglioramenti alla modalità di gioco rispetto all'originale.\", 'Viene spesso descritto come uno dei capitoli migliori, più spaventosi e visivamente impressionanti della serie Resident Evil.', \"Tuttavia, il gioco vendette sotto le aspettative, portando Capcom a cambiare la direzione della serie in un approccio più orientato all'azione, catalizzando questi sforzi in quello che sarebbe poi divenuto Resident Evil 4.\", 'Nel 2008, il gioco è stato convertito per Wii, con un nuovo sistema di controllo.', 'Nel 2015 è uscita una versione rimasterizzata in alta definizione per Microsoft Windows, PlayStation 3, PlayStation 4, Xbox 360 e Xbox One, incontrando ancora una volta il successo della critica, così come quello commerciale.', '), è un videogioco survival horror, secondo capitolo della serie Resident Evil, pubblicato nel 1998 dalla software house giapponese Capcom per la console PlayStation e successivamente convertito per Windows, Nintendo 64, Dreamcast e GameCube.', \"La trama segue le vicende dell'ufficiale di polizia Leon Scott Kennedy e della studentessa Claire Redfield, nel loro tentativo di fuga dalla città di Raccoon City, ormai sopraffatta dagli zombi.\", 'Il gioco è stato premiato come \"Ultimate Game of the Year\" ai Golden Joystick Awards 2019.', 'È il remake del videogioco Resident Evil 3: Nemesis pubblicato nel 1999 per PlayStation e sequel del videogioco Resident Evil 2 pubblicato nel 2019.', '), è un videogioco della serie Resident Evil sviluppato e pubblicato da Capcom nel 1999 per PlayStation e successivamente per Windows, Dreamcast e GameCube.', '), è un videogioco della serie survival horror Resident Evil uscito originariamente per Sega Dreamcast nel 2000.', 'Resident Evil Outbreak è un videogioco per PlayStation 2 pubblicato nel 2004 dalla Capcom.', 'Resident Evil Outbreak File #2 è un videogioco per PlayStation 2 pubblicato nel 2004 da Capcom.', 'Resident Evil Zero, è un videogioco della serie Resident Evil, annunciato da Capcom nel 2002 per GameCube.', '), è un videogioco survival horror della serie di Resident Evil inizialmente sviluppato per Nintendo 3DS.', 'Nel 2017 la versione HD del titolo è stata pubblicata per PlayStation 4, Xbox One e Nintendo Switch.', 'Il gioco è un continuo di Resident Evil: Revelations e Resident Evil 5.', 'Il titolo vede come protagonista il ritorno di Claire Redfield, e per la prima volta si userà Barry Burton come personaggio giocabile.', 'È stato pubblicato su PlayStation in Giappone il 27 gennaio 2000, e in Nord America il 30 agosto 2000.', 'Come la prima release della serie Gun Survivor, questo gioco è stata una grande partenza della serie principale Resident Evil, sostituendo la prospettiva in terza-persona dei giochi precedenti per la vista in prima persona.', 'Resident Evil: Survivor 2 - Code: Veronica, pubblicato come Gun Survivor 2 – Biohazard – Code: Veronica (ガンサバイバー2バイオハザードコード：ベロニカ Gan Sabaibā Tsū Baiohazādo Kōdo: Beronika?)', 'Resident Evil: The Mercenaries 3D, conosciuto in Giappone come Biohazard: The Mercenaries 3D, è un videogioco sparatutto in terza persona della serie di Resident Evil sviluppato da Capcom per la piattaforma Nintendo 3DS.', 'Il gioco è una combinazione delle modalità Mercenari presenti in Resident Evil 4 e Resident Evil 5, in cui i giocatori devono sconfiggere il maggior numero possibile di nemici entro un limite di tempo per ottenere il punteggio più alto.', \"The Ring: Terror's Realm (conosciuto semplicemente come Ring (リング Ringu) in Giappone) è un videogioco sviluppato dalla Asmik Ace Entertainment e pubblicato dalla Infogrames nel 2000.\", \"Si tratta di un survival horror, basato sulla serie di romanzi Ring dell'autore Kōji Suzuki, che hanno anche ispirato il film giapponese Ring (1998) ed il suo remake americano, The Ring (2002).\", 'Rule of Rose è un videogioco survival horror in terza persona, uscito nel 2006 per PlayStation 2.', 'S.T.A.L.K.E.R.', 'S.T.A.L.K.E.R.', 'S.T.A.L.K.E.R.', 'S.T.A.L.K.E.R.', 'S.T.A.L.K.E.R.', 'Seguito di S.T.A.L.K.E.R.', 'Seguito di S.T.A.L.K.E.R.', 'Saw II: Flesh & Blood è un videogioco del 2010 in terza persona di genere horror, sviluppato da Zombie Studio e pubblicato da Konami per PlayStation 3 e Xbox 360.', 'SCP: Containment Breach è un videogioco survival horror prodotto dal finlandese Joonas Rikkonen (in arte \"Regalis\"), e basato sulle storie del sito SCP Foundation.', 'Shellshock 2: Blood Trails è un videogioco sparatutto in prima persona sviluppato da Rebellion Developments e pubblicato da Eidos Interactive per PlayStation 3, Xbox 360, e Microsoft Windows', 'Silent Hill (サイレントヒル Sairento Hiru?, reso graficamente come SILENT HILL) è un videogioco survival horror prodotto da Konami e sviluppato dal Team Silent, pubblicato nel 1999 come esclusiva della console Sony PlayStation, ed è il primo capitolo della serie omonima.', 'Cinque sono i finali possibili nel gioco, a seconda delle azioni intraprese dal giocatore, vi è anche un finale segreto.', 'Silent Hill ricevette diverse recensioni positive da parte della critica e divenne un successo commerciale.', 'Silent Hill ha avuto alcuni adattamenti nel tempo, tra cui un visual novel del 2001 per Game Boy Advance, un adattamento cinematografico omonimo nel 2006, e una rivisitazione dal titolo Silent Hill: Shattered Memories nel 2009.', 'Il gioco è stato seguito, nel 2001, da Silent Hill 2.', 'Una versione ad alta definizione è stata sviluppata nel 2012 e pubblicata per PlayStation 3 e Xbox 360.', 'Silent Hill 2 è stato accolto positivamente sia dal pubblico sia dalla critica.', 'Silent Hill: Book of Memories è un horror game sviluppato da WayForward Technologies e pubblicato da Konami Digital Entertainment per la console PlayStation Vita.', \"Mentre continua nella ricerca di suo fratello, scoprirà di più sull'Ordine del culto di Silent Hill, così come la storia della città, e il proprio passato.\", 'Il gioco è stato pubblicato il 30 settembre 2008 in Nord America per Xbox 360 e PlayStation 3, e la versione Microsoft Windows è stata distribuita per il Nord, Centro e Sud America il 6 novembre 2008 in esclusiva attraverso Valve.', 'Tutte le versioni sono state commercializzate contemporaneamente in Europa, tra cui una versione retail di Windows, il 27 febbraio 2009.', 'Silent Hill: The Arcade è un videogioco arcade spin off della serie di videogiochi survival horror Silent Hill sviluppato dalla Konami.', 'Silent Hills avrebbe dovuto essere un videogioco survival-horror sviluppato da Kojima Productions e pubblicato da Konami in esclusiva per PlayStation 4.', 'Siren: Blood Curse è un videogioco survival horror prodotto e sviluppato da Sony per la PlayStation 3 uscito nel 2008.', 'Splatterhouse è un videogioco picchiaduro sviluppato e pubblicato dalla Namco Bandai per PlayStation 3 ed Xbox 360.', 'State of Decay è un videogioco survival horror del 2013, sviluppato da Undead Labs e pubblicato da Microsoft Games Studios per Xbox 360, Xbox One e Windows.', 'State of Decay 2 è un videogioco survival-horror del 2018, sviluppato da Undead Labs e pubblicato da Microsoft Games Studios.', 'Il gioco è stato pubblicato per Microsoft Windows e Xbox One il 22 maggio 2018.', \"In più, alcuni personaggi nemici selezionati che appaiono nei primi due giochi della serie sono stati adattati in action figure dalla Palisade Toys, che cancellò la seconda linea di questi giocattoli prima dell'uscita sul mercato a causa di scarse vendite della prima serie.\", '\"Fino all\\'alba\") è un videogioco survival horror del 2015, sviluppato da Supermassive Games e pubblicato da Sony Computer Entertainment in esclusiva per PlayStation 4.', 'Until Dawn: Rush of Blood è un videogioco di generi survival horror e sparatutto su rotaie sviluppato da Supermassive Games, pubblicato da Sony Interactive Entertainment e distribuito da PlayStation Network per PlayStation VR nel 2016.', \"The Walking Dead (noto anche come The Walking Dead: The Game) è un'avventura grafica e un videogioco d'azione a episodi sviluppato e pubblicato da Telltale Games e Square Enix, composto da cinque stagioni di cinque episodi ciascuna (la quinta ne ha solo quattro).\", 'È disponibile per le seguenti console e piattaforme: Microsoft Windows, macOS, PlayStation 3, PlayStation Vita, PlayStation 4, Xbox 360, Xbox One, Android, iOS, Nintendo Switch e il tablet computer Kindle Fire HDX.', 'Kirkman ricoprì il ruolo di supervisore durante lo sviluppo per assicurarsi che il gioco corrispondesse al tono del fumetto, ma permise a Telltale di gestire la creazione della trama e dei personaggi, dando così vita ad una storia completamente originale.', \"A differenza di molti giochi d'avventura grafica, The Walking Dead non si concentra sulla risoluzione di enigmi, ma enfatizza invece la storia e lo sviluppo dei personaggi.\", \"La trama è influenzata sia dalle scelte del giocatore, sia dalle loro azioni durante i quick time event, che, ad esempio, possono spesso portare alla morte di un determinato personaggio o all'alterazione della personalità di Lee, o di un altro membro del gruppo.\", \"The Walking Dead: Michonne è un videogioco d'avventura grafica interattiva a episodi basato sulla serie The Walking Dead, pubblicato e sviluppato da Telltale Games e Skybound.\", 'The Walking Dead: Survival Instinct è un videogioco sparatutto in prima persona sviluppato da Terminal Reality (in collaborazione con il team di Terrence King) e pubblicato da Activision nel 2013, basato sulla serie televisiva della AMC The Walking Dead.', \"Survival Instinct si pone come vero e proprio prequel della serie TV, è ambientato in Georgia e mostra gli eventi vissuti da Merle e Daryl Dixon nelle prime ore dell'apocalisse zombie.\", 'World War Z è un videogioco sparatutto in terza persona sviluppato da Saber Interactive e pubblicato da Focus Home Interactive e Paramount Pictures.', 'Zombie Army Trilogy è un videogioco stealth e sparatutto tattico in terza persona (ossia incentrato sulla simulazione di combattimenti realistici), sviluppato e pubblicato da Rebellion Developments.', 'È uno spin-off della serie Sniper Elite, pubblicato il 6 marzo 2015 per Microsoft Windows, PlayStation 4 e Xbox One.', \"La premessa del gioco è che, in una versione alternativa dei giorni finali della Seconda Guerra Mondiale, con l'esercito tedesco vicino alla sconfitta, Adolf Hitler impiega un ultimo piano per sollevare le sorti del conflitto, resuscitando i caduti come zombie, attraverso rituali occulti, utilizzandoli contro le forze Alleate, così che la Germania riesca a vincere.\", \"La trilogia include una versione rimasterizzata dell'originale Sniper Elite: Nazi Zombie Army e del suo sequel, entrambi pubblicati nel 2013 come contenuti autonomi scaricabili per Sniper Elite V2 e una terza campagna inedita della serie.\", 'Le modalità cooperative del gioco supportano otto personaggi giocabili, di cui quattro sono nuovi caratteri femminili.', 'Nel mese di agosto del 2015, i personaggi principali di entrambi i giochi della serie Left 4 Dead sono stati aggiunti esclusivamente alla lista dei personaggi della versione PC.']\n"
          ]
        }
      ]
    },
    {
      "cell_type": "code",
      "source": [
        "print(len(parallel_sentences_en))"
      ],
      "metadata": {
        "colab": {
          "base_uri": "https://localhost:8080/"
        },
        "id": "6eOkaDXURhdR",
        "outputId": "79dbf7b0-5c79-4ff3-ffcb-6376e267cd31"
      },
      "execution_count": 137,
      "outputs": [
        {
          "output_type": "stream",
          "name": "stdout",
          "text": [
            "244\n"
          ]
        }
      ]
    },
    {
      "cell_type": "code",
      "source": [
        "print(len(parallel_sentences_it))"
      ],
      "metadata": {
        "colab": {
          "base_uri": "https://localhost:8080/"
        },
        "id": "oljXlsWiRhgI",
        "outputId": "39e9a887-cb07-4645-9dab-f9d98feba961"
      },
      "execution_count": 138,
      "outputs": [
        {
          "output_type": "stream",
          "name": "stdout",
          "text": [
            "244\n"
          ]
        }
      ]
    },
    {
      "cell_type": "code",
      "source": [
        "parallel_corpus_2 = pd.DataFrame(np.column_stack([parallel_sentences_en, parallel_sentences_it]), \n",
        "                               columns=['en', 'it'])"
      ],
      "metadata": {
        "id": "13HkwYDdTHke"
      },
      "execution_count": 139,
      "outputs": []
    },
    {
      "cell_type": "code",
      "source": [
        "parallel_corpus_2"
      ],
      "metadata": {
        "colab": {
          "base_uri": "https://localhost:8080/",
          "height": 424
        },
        "id": "zDbPV_ZGTK6C",
        "outputId": "5dd101df-2e14-4fb3-b1e1-13d9d2b37146"
      },
      "execution_count": 140,
      "outputs": [
        {
          "output_type": "execute_result",
          "data": {
            "text/plain": [
              "                                                    en  \\\n",
              "0    The game is the third entry in the Parasite Ev...   \n",
              "1    Agony is a 2018 dark fantasy survival horror v...   \n",
              "2    Players begin their journey as a tormented sou...   \n",
              "3    The special ability to control people on their...   \n",
              "4    Alan Wake Remastered, featuring the full game ...   \n",
              "..                                                 ...   \n",
              "239  It is a spin-off to the Sniper Elite series an...   \n",
              "240  Adolf Hitler deploys a last resort plan to rai...   \n",
              "241  The trilogy includes a remastered version of t...   \n",
              "242  The game's co-operative modes support eight pl...   \n",
              "243  In August 2015, the main characters of both ga...   \n",
              "\n",
              "                                                    it  \n",
              "0    The 3rd Birthday è sia uno spin-off, essendo l...  \n",
              "1    Agony è un videogioco survival horror dark fan...  \n",
              "2    Il giocatore inizia il viaggio come un'anima t...  \n",
              "3    La speciale abilità di controllare le persone ...  \n",
              "4    Una versione rimasterizzata di Alan Wake, prod...  \n",
              "..                                                 ...  \n",
              "239  È uno spin-off della serie Sniper Elite, pubbl...  \n",
              "240  La premessa del gioco è che, in una versione a...  \n",
              "241  La trilogia include una versione rimasterizzat...  \n",
              "242  Le modalità cooperative del gioco supportano o...  \n",
              "243  Nel mese di agosto del 2015, i personaggi prin...  \n",
              "\n",
              "[244 rows x 2 columns]"
            ],
            "text/html": [
              "\n",
              "  <div id=\"df-7cb7feec-96f3-4ca0-8f7b-9be1630fcf7e\">\n",
              "    <div class=\"colab-df-container\">\n",
              "      <div>\n",
              "<style scoped>\n",
              "    .dataframe tbody tr th:only-of-type {\n",
              "        vertical-align: middle;\n",
              "    }\n",
              "\n",
              "    .dataframe tbody tr th {\n",
              "        vertical-align: top;\n",
              "    }\n",
              "\n",
              "    .dataframe thead th {\n",
              "        text-align: right;\n",
              "    }\n",
              "</style>\n",
              "<table border=\"1\" class=\"dataframe\">\n",
              "  <thead>\n",
              "    <tr style=\"text-align: right;\">\n",
              "      <th></th>\n",
              "      <th>en</th>\n",
              "      <th>it</th>\n",
              "    </tr>\n",
              "  </thead>\n",
              "  <tbody>\n",
              "    <tr>\n",
              "      <th>0</th>\n",
              "      <td>The game is the third entry in the Parasite Ev...</td>\n",
              "      <td>The 3rd Birthday è sia uno spin-off, essendo l...</td>\n",
              "    </tr>\n",
              "    <tr>\n",
              "      <th>1</th>\n",
              "      <td>Agony is a 2018 dark fantasy survival horror v...</td>\n",
              "      <td>Agony è un videogioco survival horror dark fan...</td>\n",
              "    </tr>\n",
              "    <tr>\n",
              "      <th>2</th>\n",
              "      <td>Players begin their journey as a tormented sou...</td>\n",
              "      <td>Il giocatore inizia il viaggio come un'anima t...</td>\n",
              "    </tr>\n",
              "    <tr>\n",
              "      <th>3</th>\n",
              "      <td>The special ability to control people on their...</td>\n",
              "      <td>La speciale abilità di controllare le persone ...</td>\n",
              "    </tr>\n",
              "    <tr>\n",
              "      <th>4</th>\n",
              "      <td>Alan Wake Remastered, featuring the full game ...</td>\n",
              "      <td>Una versione rimasterizzata di Alan Wake, prod...</td>\n",
              "    </tr>\n",
              "    <tr>\n",
              "      <th>...</th>\n",
              "      <td>...</td>\n",
              "      <td>...</td>\n",
              "    </tr>\n",
              "    <tr>\n",
              "      <th>239</th>\n",
              "      <td>It is a spin-off to the Sniper Elite series an...</td>\n",
              "      <td>È uno spin-off della serie Sniper Elite, pubbl...</td>\n",
              "    </tr>\n",
              "    <tr>\n",
              "      <th>240</th>\n",
              "      <td>Adolf Hitler deploys a last resort plan to rai...</td>\n",
              "      <td>La premessa del gioco è che, in una versione a...</td>\n",
              "    </tr>\n",
              "    <tr>\n",
              "      <th>241</th>\n",
              "      <td>The trilogy includes a remastered version of t...</td>\n",
              "      <td>La trilogia include una versione rimasterizzat...</td>\n",
              "    </tr>\n",
              "    <tr>\n",
              "      <th>242</th>\n",
              "      <td>The game's co-operative modes support eight pl...</td>\n",
              "      <td>Le modalità cooperative del gioco supportano o...</td>\n",
              "    </tr>\n",
              "    <tr>\n",
              "      <th>243</th>\n",
              "      <td>In August 2015, the main characters of both ga...</td>\n",
              "      <td>Nel mese di agosto del 2015, i personaggi prin...</td>\n",
              "    </tr>\n",
              "  </tbody>\n",
              "</table>\n",
              "<p>244 rows × 2 columns</p>\n",
              "</div>\n",
              "      <button class=\"colab-df-convert\" onclick=\"convertToInteractive('df-7cb7feec-96f3-4ca0-8f7b-9be1630fcf7e')\"\n",
              "              title=\"Convert this dataframe to an interactive table.\"\n",
              "              style=\"display:none;\">\n",
              "        \n",
              "  <svg xmlns=\"http://www.w3.org/2000/svg\" height=\"24px\"viewBox=\"0 0 24 24\"\n",
              "       width=\"24px\">\n",
              "    <path d=\"M0 0h24v24H0V0z\" fill=\"none\"/>\n",
              "    <path d=\"M18.56 5.44l.94 2.06.94-2.06 2.06-.94-2.06-.94-.94-2.06-.94 2.06-2.06.94zm-11 1L8.5 8.5l.94-2.06 2.06-.94-2.06-.94L8.5 2.5l-.94 2.06-2.06.94zm10 10l.94 2.06.94-2.06 2.06-.94-2.06-.94-.94-2.06-.94 2.06-2.06.94z\"/><path d=\"M17.41 7.96l-1.37-1.37c-.4-.4-.92-.59-1.43-.59-.52 0-1.04.2-1.43.59L10.3 9.45l-7.72 7.72c-.78.78-.78 2.05 0 2.83L4 21.41c.39.39.9.59 1.41.59.51 0 1.02-.2 1.41-.59l7.78-7.78 2.81-2.81c.8-.78.8-2.07 0-2.86zM5.41 20L4 18.59l7.72-7.72 1.47 1.35L5.41 20z\"/>\n",
              "  </svg>\n",
              "      </button>\n",
              "      \n",
              "  <style>\n",
              "    .colab-df-container {\n",
              "      display:flex;\n",
              "      flex-wrap:wrap;\n",
              "      gap: 12px;\n",
              "    }\n",
              "\n",
              "    .colab-df-convert {\n",
              "      background-color: #E8F0FE;\n",
              "      border: none;\n",
              "      border-radius: 50%;\n",
              "      cursor: pointer;\n",
              "      display: none;\n",
              "      fill: #1967D2;\n",
              "      height: 32px;\n",
              "      padding: 0 0 0 0;\n",
              "      width: 32px;\n",
              "    }\n",
              "\n",
              "    .colab-df-convert:hover {\n",
              "      background-color: #E2EBFA;\n",
              "      box-shadow: 0px 1px 2px rgba(60, 64, 67, 0.3), 0px 1px 3px 1px rgba(60, 64, 67, 0.15);\n",
              "      fill: #174EA6;\n",
              "    }\n",
              "\n",
              "    [theme=dark] .colab-df-convert {\n",
              "      background-color: #3B4455;\n",
              "      fill: #D2E3FC;\n",
              "    }\n",
              "\n",
              "    [theme=dark] .colab-df-convert:hover {\n",
              "      background-color: #434B5C;\n",
              "      box-shadow: 0px 1px 3px 1px rgba(0, 0, 0, 0.15);\n",
              "      filter: drop-shadow(0px 1px 2px rgba(0, 0, 0, 0.3));\n",
              "      fill: #FFFFFF;\n",
              "    }\n",
              "  </style>\n",
              "\n",
              "      <script>\n",
              "        const buttonEl =\n",
              "          document.querySelector('#df-7cb7feec-96f3-4ca0-8f7b-9be1630fcf7e button.colab-df-convert');\n",
              "        buttonEl.style.display =\n",
              "          google.colab.kernel.accessAllowed ? 'block' : 'none';\n",
              "\n",
              "        async function convertToInteractive(key) {\n",
              "          const element = document.querySelector('#df-7cb7feec-96f3-4ca0-8f7b-9be1630fcf7e');\n",
              "          const dataTable =\n",
              "            await google.colab.kernel.invokeFunction('convertToInteractive',\n",
              "                                                     [key], {});\n",
              "          if (!dataTable) return;\n",
              "\n",
              "          const docLinkHtml = 'Like what you see? Visit the ' +\n",
              "            '<a target=\"_blank\" href=https://colab.research.google.com/notebooks/data_table.ipynb>data table notebook</a>'\n",
              "            + ' to learn more about interactive tables.';\n",
              "          element.innerHTML = '';\n",
              "          dataTable['output_type'] = 'display_data';\n",
              "          await google.colab.output.renderOutput(dataTable, element);\n",
              "          const docLink = document.createElement('div');\n",
              "          docLink.innerHTML = docLinkHtml;\n",
              "          element.appendChild(docLink);\n",
              "        }\n",
              "      </script>\n",
              "    </div>\n",
              "  </div>\n",
              "  "
            ]
          },
          "metadata": {},
          "execution_count": 140
        }
      ]
    },
    {
      "cell_type": "code",
      "source": [
        "parallel_corpus_2.to_excel(\"parallel_corpus_vg_en_it.xlsx\")  "
      ],
      "metadata": {
        "id": "8Q3f-McATPjD"
      },
      "execution_count": 141,
      "outputs": []
    }
  ]
}