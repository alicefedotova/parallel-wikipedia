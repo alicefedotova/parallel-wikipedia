{
  "nbformat": 4,
  "nbformat_minor": 0,
  "metadata": {
    "colab": {
      "provenance": [],
      "authorship_tag": "ABX9TyNcSiJjTBcX+uauElLU5ud1",
      "include_colab_link": true
    },
    "kernelspec": {
      "name": "python3",
      "display_name": "Python 3"
    },
    "language_info": {
      "name": "python"
    }
  },
  "cells": [
    {
      "cell_type": "markdown",
      "metadata": {
        "id": "view-in-github",
        "colab_type": "text"
      },
      "source": [
        "<a href=\"https://colab.research.google.com/github/ffedox/pbr/blob/main/sentence_similarity.ipynb\" target=\"_parent\"><img src=\"https://colab.research.google.com/assets/colab-badge.svg\" alt=\"Open In Colab\"/></a>"
      ]
    },
    {
      "cell_type": "code",
      "execution_count": 1,
      "metadata": {
        "colab": {
          "base_uri": "https://localhost:8080/"
        },
        "id": "4ThukSuBiyK9",
        "outputId": "7098ee17-85f1-47a2-8c7d-ee587fd63ae7"
      },
      "outputs": [
        {
          "output_type": "stream",
          "name": "stdout",
          "text": [
            "Looking in indexes: https://pypi.org/simple, https://us-python.pkg.dev/colab-wheels/public/simple/\n",
            "Collecting wikipedia-api\n",
            "  Downloading Wikipedia_API-0.5.8-py3-none-any.whl (13 kB)\n",
            "Requirement already satisfied: requests in /usr/local/lib/python3.8/dist-packages (from wikipedia-api) (2.25.1)\n",
            "Requirement already satisfied: idna<3,>=2.5 in /usr/local/lib/python3.8/dist-packages (from requests->wikipedia-api) (2.10)\n",
            "Requirement already satisfied: chardet<5,>=3.0.2 in /usr/local/lib/python3.8/dist-packages (from requests->wikipedia-api) (4.0.0)\n",
            "Requirement already satisfied: certifi>=2017.4.17 in /usr/local/lib/python3.8/dist-packages (from requests->wikipedia-api) (2022.12.7)\n",
            "Requirement already satisfied: urllib3<1.27,>=1.21.1 in /usr/local/lib/python3.8/dist-packages (from requests->wikipedia-api) (1.24.3)\n",
            "Installing collected packages: wikipedia-api\n",
            "Successfully installed wikipedia-api-0.5.8\n"
          ]
        }
      ],
      "source": [
        "!pip install wikipedia-api"
      ]
    },
    {
      "cell_type": "code",
      "source": [
        "import wikipediaapi"
      ],
      "metadata": {
        "id": "0gk2-UzbjBIc"
      },
      "execution_count": 2,
      "outputs": []
    },
    {
      "cell_type": "code",
      "source": [
        "wiki_wiki = wikipediaapi.Wikipedia('en')\n",
        "cat = wiki_wiki.page(\"Category:Survival_horror_video_games\")\n",
        "print(\"Category members: Category:Survival_horror_video_games\")\n",
        "for p in cat.categorymembers.values():\n",
        "  #if p.namespace == wikipediaapi.Namespace.CATEGORY:\n",
        "    # it is category, so you have to make decision\n",
        "    # if you want to fetch also text from pages that belong\n",
        "    # to this category\n",
        "    # print(p)\n",
        "  if p.namespace == wikipediaapi.Namespace.MAIN:\n",
        "    # it is page => we can get text\n",
        "    #print(p)\n",
        "    print(p.summary[0:250])"
      ],
      "metadata": {
        "colab": {
          "base_uri": "https://localhost:8080/"
        },
        "id": "Oe-n6ndtjG8Y",
        "outputId": "c3d64b18-7fe5-4908-a211-50fb7571e507"
      },
      "execution_count": 23,
      "outputs": [
        {
          "output_type": "stream",
          "name": "stdout",
          "text": [
            "Category members: Category:Survival_horror_video_games\n",
            "Survival horror is a subgenre of horror and survival games of the players as the game tries to frighten them with either horror graphics or scary ambience. Although combat can be part of the gameplay, the player is made to feel less in control than i\n",
            "3D Monster Maze is a survival horror computer game developed from an idea by J.K. Greye and programmed by Malcolm Evans and released in 1981 for the Sinclair ZX81 platform with the 16 KB memory expansion. The game was initially released by J. K. Grey\n",
            "Abandoned is the tentative title of an upcoming survival horror game being developed and published by Blue Box Game Studios, an independent video game company based in The Netherlands. Described as a \"cinematic horror survival shooter\" featuring \"rea\n",
            "Age of Zombies is an action-adventure survival horror video game developed and published by Halfbrick Studios. It was released for PlayStation Portable and iOS in 2010, for Android in 2011, for PlayStation Vita in 2013, and for Ouya in 2014.\n",
            "Alan Wake II is an upcoming survival horror game developed by Remedy Entertainment and published by Epic Games Publishing. A sequel to Alan Wake (2010), the game is set to be released for PlayStation 5, Windows, and Xbox Series X/S in 2023.\n",
            "Alone in the Dark is an upcoming survival horror game developed by Pieces Interactive and published by THQ Nordic. The game is set to release on PlayStation 5, Xbox Series X/S, and Microsoft Windows. It is the seventh mainline entry in the Alone in t\n",
            "Amnesia: The Dark Descent is a survival horror adventure video game by Frictional Games, released in 2010 for Microsoft Windows, Mac OS X and Linux operating systems, in 2016 for the PlayStation 4 platform and in 2018 for the Xbox One. The game featu\n",
            "Animal Well is an upcoming Metroidvania game developed by Shared Memory and published by Bigmode. The player controls a blob and explores a labyrinth while avoiding animals. It will be released for PlayStation 5 and Windows.\n",
            "The Callisto Protocol is a 2022 survival horror action video game developed by Striking Distance Studios and published by Krafton. It was directed by Glen Schofield, who had previously co-created the Dead Space series. The game's story follows Jacob \n",
            "Condemned 2: Bloodshot, released as Condemned 2 in Europe and Australia, is a first-person psychological thriller video game for Xbox 360 and PlayStation 3. Developed by Monolith Productions and published by Sega, it was released for both systems in \n",
            "Condemned: Criminal Origins, released as Condemned in Europe and Australia, is a first-person psychological thriller video game for Xbox 360 and Microsoft Windows. Developed by Monolith Productions and published by Sega, it was an Xbox 360 launch tit\n",
            "Dying Light 2 Stay Human is a 2022 action role-playing game developed and published by Techland. The sequel to Dying Light (2015), the game was released on February 4, 2022 for PlayStation 4, PlayStation 5, Windows, Xbox One, and Xbox Series X/S. A N\n",
            "Gylt (stylized as GYLT) is a survival horror video game developed and published by Tequila Works. It was released on November 19, 2019 for Google Stadia. It is notable for being one of the few Stadia-exclusive titles, causing it to be temporarily una\n",
            "Hello Neighbor is a survival horror stealth game developed by Russian studio Dynamic Pixels and published by tinyBuild. Initially released as public alphas from 2016 to 2017, it received a full release for Microsoft Windows and Xbox One on December 8\n",
            "Identity V is a free-to-play asymmetrical multiplayer survival horror game developed and published by Chinese company NetEase. It was released in July 2018 for mobile devices. It is available on the iOS App Store, Android Google Play Store, and Windo\n",
            "The Persistence is a survival horror video game developed and published by Firesprite. Originally released for the virtual reality headset PlayStation VR in July 2018, the game was released for PC, Nintendo Switch, Xbox One in May 2020. An Enhanced v\n",
            "S.T.A.L.K.E.R. 2: Heart of Chornobyl is an upcoming first-person shooter survival horror role-playing video game developed and published by Ukrainian game developer GSC Game World. Set to release for Microsoft Windows and the Xbox Series X/S, it will\n",
            "Scorn is a first-person biopunk survival horror adventure video game developed by Serbian developer Ebb Software for Microsoft Windows and Xbox Series X/S. The game is inspired by the works of visual artists H. R. Giger and Zdzisław Beksiński. The ga\n",
            "Signalis (stylized as SIGNALIS) is a survival horror video game developed by rose-engine and published by Humble Games and Playism on October 27, 2022.\n",
            "Slender: The Eight Pages (originally titled Slender) is a free-to-play indie-developed first-person survival horror video game released in June 2012 as a beta for Microsoft Windows and OS X by Parsec Productions, using the Unity engine. Developed by \n",
            "The Starship Damrey (宇宙船ダムレイ号, Uchūsen Damurei-gō) is a first-person perspective survival horror game designed by Kazuya Asano and Takemaru Abiko. It is part of the Guild02 series, released for the 3DS eShop in 2013.\n",
            "System Shock 2 is a 1999 action role-playing survival horror video game designed by Ken Levine and co-developed by Irrational Games and Looking Glass Studios. Originally intended to be a standalone title, its story was changed during production into \n",
            "The Walking Dead: Saints & Sinners – Chapter 2: Retribution is a virtual reality first-person shooter survival horror game for PlayStation VR, PlayStation VR2 and Meta Quest 2. Developed by Skydance Interactive in partnership with Skybound Entertainm\n",
            "The Walking Dead: Saints & Sinners is a virtual reality first-person shooter survival horror game for Windows, PlayStation 4, Oculus Quest, and Oculus Quest 2, developed by Skydance Interactive in partnership with Skybound Entertainment. It is based \n",
            "Yuppie Psycho is a 2019 survival horror video game. Developed by Baroque Decay, the game involves Brian Pasternack who is hired at a company and finds himself on task to become a witch hunter, to hunt a witch that has corrupted the company from withi\n"
          ]
        }
      ]
    },
    {
      "cell_type": "code",
      "source": [
        "wiki_wiki = wikipediaapi.Wikipedia('it')\n",
        "cat = wiki_wiki.page(\"Categoria:Survival_horror\")\n",
        "print(\"Category members: Categoria:Survival_horror\")\n",
        "for p in cat.categorymembers.values():\n",
        "  #if p.namespace == wikipediaapi.Namespace.CATEGORY:\n",
        "    # it is category, so you have to make decision\n",
        "    # if you want to fetch also text from pages that belong\n",
        "    # to this category\n",
        "    # print(p)\n",
        "  if p.namespace == wikipediaapi.Namespace.MAIN:\n",
        "    # it is page => we can get text\n",
        "    print(p)\n",
        "    #print(p.summary[0:250])"
      ],
      "metadata": {
        "colab": {
          "base_uri": "https://localhost:8080/"
        },
        "id": "XJAkZxnYltXl",
        "outputId": "50aa1324-3c7d-48c6-be48-870d1d6743e6"
      },
      "execution_count": 26,
      "outputs": [
        {
          "output_type": "stream",
          "name": "stdout",
          "text": [
            "Category members: Categoria:Survival_horror\n",
            "Survival horror (id: ??, ns: 0)\n",
            "The 3rd Birthday (id: ??, ns: 0)\n",
            "Agony (videogioco 2018) (id: ??, ns: 0)\n",
            "Alan Wake (id: ??, ns: 0)\n",
            "Alan Wake's American Nightmare (id: ??, ns: 0)\n",
            "Alien Trilogy (id: ??, ns: 0)\n",
            "Alien vs Predator (videogioco 1994) (id: ??, ns: 0)\n",
            "Alien: Isolation (id: ??, ns: 0)\n",
            "Aliens versus Predator (id: ??, ns: 0)\n",
            "Aliens versus Predator 2 (id: ??, ns: 0)\n",
            "Aliens vs. Predator (videogioco) (id: ??, ns: 0)\n",
            "Alone in the Dark (videogioco 1992) (id: ??, ns: 0)\n",
            "Alone in the Dark (videogioco 2008) (id: ??, ns: 0)\n",
            "Alone in the Dark 2 (id: ??, ns: 0)\n",
            "Alone in the Dark 3 (id: ??, ns: 0)\n",
            "Alone in the Dark: The New Nightmare (id: ??, ns: 0)\n",
            "Altered Beast (videogioco 2005) (id: ??, ns: 0)\n",
            "Amnesia: A Machine for Pigs (id: ??, ns: 0)\n",
            "Amnesia: Rebirth (id: ??, ns: 0)\n",
            "Amnesia: The Dark Descent (id: ??, ns: 0)\n",
            "Amy (videogioco) (id: ??, ns: 0)\n",
            "Angels of Death (id: ??, ns: 0)\n",
            "Ao Oni (id: ??, ns: 0)\n",
            "Area 51 (videogioco 2005) (id: ??, ns: 0)\n",
            "Bendy and the Ink Machine (id: ??, ns: 0)\n",
            "BioShock (id: ??, ns: 0)\n",
            "BioShock 2 (id: ??, ns: 0)\n",
            "Black Mesa (videogioco) (id: ??, ns: 0)\n",
            "Blue Stinger (id: ??, ns: 0)\n",
            "Buffy the Vampire Slayer: Chaos Bleeds (id: ??, ns: 0)\n",
            "Call of Cthulhu: Dark Corners of the Earth (id: ??, ns: 0)\n",
            "Call of Duty: Black Ops - Zombies (id: ??, ns: 0)\n",
            "Call of Duty: World at War - Zombies (id: ??, ns: 0)\n",
            "Calling (videogioco) (id: ??, ns: 0)\n",
            "The Callisto Protocol (id: ??, ns: 0)\n",
            "La casa dei fantasmi (videogioco) (id: ??, ns: 0)\n",
            "Chaos Break (id: ??, ns: 0)\n",
            "Clive Barker's Undying (id: ??, ns: 0)\n",
            "Clock Tower (id: ??, ns: 0)\n",
            "Clock Tower 3 (id: ??, ns: 0)\n",
            "Clock Tower II: The Struggle Within (id: ??, ns: 0)\n",
            "Clock Tower: The First Fear (id: ??, ns: 0)\n",
            "Cold Fear (id: ??, ns: 0)\n",
            "Condemned 2: Bloodshot (id: ??, ns: 0)\n",
            "Condemned: Criminal Origins (id: ??, ns: 0)\n",
            "Corpse Killer (id: ??, ns: 0)\n",
            "Corpse Party: Blood Covered (id: ??, ns: 0)\n",
            "Corpse Party: Blood Drive (id: ??, ns: 0)\n",
            "La Cosa (videogioco) (id: ??, ns: 0)\n",
            "Cry of Fear (id: ??, ns: 0)\n",
            "Cryostasis: Il Sonno della Ragione (id: ??, ns: 0)\n",
            "D (videogioco) (id: ??, ns: 0)\n",
            "D2 (videogioco) (id: ??, ns: 0)\n",
            "Danganronpa Another Episode: Ultra Despair Girls (id: ??, ns: 0)\n",
            "The Dark Pictures Anthology: The Devil in Me (id: ??, ns: 0)\n",
            "The Dark Pictures: House of Ashes (id: ??, ns: 0)\n",
            "The Dark Pictures: Little Hope (id: ??, ns: 0)\n",
            "The Dark Pictures: Man of Medan (id: ??, ns: 0)\n",
            "Daymare: 1998 (id: ??, ns: 0)\n",
            "Days Gone (id: ??, ns: 0)\n",
            "Dead by Daylight (id: ??, ns: 0)\n",
            "Dead Island Riptide (id: ??, ns: 0)\n",
            "Dead Rising (id: ??, ns: 0)\n",
            "Dead Rising 2 (id: ??, ns: 0)\n",
            "Dead Rising 3 (id: ??, ns: 0)\n",
            "Dead Rising 4 (id: ??, ns: 0)\n",
            "Dead Rising: Chop Till You Drop (id: ??, ns: 0)\n",
            "Dead Space (id: ??, ns: 0)\n",
            "Dead Space 2 (id: ??, ns: 0)\n",
            "Dead Space 3 (id: ??, ns: 0)\n",
            "Deadlight (id: ??, ns: 0)\n",
            "Deadly Premonition (id: ??, ns: 0)\n",
            "Deep Fear (id: ??, ns: 0)\n",
            "Dementium II (id: ??, ns: 0)\n",
            "Dementium: The Ward (id: ??, ns: 0)\n",
            "Die Young (videogioco) (id: ??, ns: 0)\n",
            "Dino Crisis (id: ??, ns: 0)\n",
            "Dino Crisis 3 (id: ??, ns: 0)\n",
            "Dino Stalker (id: ??, ns: 0)\n",
            "Don't Starve (id: ??, ns: 0)\n",
            "Doom (videogioco 2016) (id: ??, ns: 0)\n",
            "Doom 3: Resurrection of Evil (id: ??, ns: 0)\n",
            "Doom 64 (id: ??, ns: 0)\n",
            "Doom Resurrection (id: ??, ns: 0)\n",
            "DreadOut (id: ??, ns: 0)\n",
            "Dying Light (id: ??, ns: 0)\n",
            "Dying Light 2 (id: ??, ns: 0)\n",
            "Enemy Zero (id: ??, ns: 0)\n",
            "Escape from Bug Island (id: ??, ns: 0)\n",
            "Eternal Darkness: Sanity's Requiem (id: ??, ns: 0)\n",
            "Eversion (id: ??, ns: 0)\n",
            "Evil Dead: A Fistful of Boomstick (id: ??, ns: 0)\n",
            "Evil Dead: Hail to the King (id: ??, ns: 0)\n",
            "Evil Dead: Regeneration (id: ??, ns: 0)\n",
            "The Evil Within 2 (id: ??, ns: 0)\n",
            "The Evil Within (id: ??, ns: 0)\n",
            "Extermination (id: ??, ns: 0)\n",
            "F.3.A.R. (id: ??, ns: 0)\n",
            "F.E.A.R. (id: ??, ns: 0)\n",
            "F.E.A.R. 2: Project Origin (id: ??, ns: 0)\n",
            "F.E.A.R. Extraction Point (id: ??, ns: 0)\n",
            "Final Doom (id: ??, ns: 0)\n",
            "Five Nights at Candy's (id: ??, ns: 0)\n",
            "Five Nights at Candy's 2 (id: ??, ns: 0)\n",
            "Five Nights at Freddy's (id: ??, ns: 0)\n",
            "Five Nights at Freddy's 2 (id: ??, ns: 0)\n",
            "Five Nights at Freddy's 3 (id: ??, ns: 0)\n",
            "Five Nights at Freddy's 4 (id: ??, ns: 0)\n",
            "Five Nights at Freddy's AR: Special Delivery (id: ??, ns: 0)\n",
            "Five Nights at Freddy's VR: Help Wanted (id: ??, ns: 0)\n",
            "Five Nights at Freddy's: Security Breach (id: ??, ns: 0)\n",
            "Five Nights at Freddy's: Sister Location (id: ??, ns: 0)\n",
            "Forbidden Siren (id: ??, ns: 0)\n",
            "Forbidden Siren 2 (id: ??, ns: 0)\n",
            "The Forest (videogioco) (id: ??, ns: 0)\n",
            "Forgotten Memories: Alternate Realities (id: ??, ns: 0)\n",
            "Freddy Fazbear's Pizzeria Simulator (id: ??, ns: 0)\n",
            "Friday the 13th (videogioco 1989) (id: ??, ns: 0)\n",
            "Friday the 13th: The Game (id: ??, ns: 0)\n",
            "Half-Life (id: ??, ns: 0)\n",
            "Half-Life 2 (id: ??, ns: 0)\n",
            "Half-Life 2: Episode One (id: ??, ns: 0)\n",
            "Half-Life 2: Episode Two (id: ??, ns: 0)\n",
            "Half-Life: Alyx (id: ??, ns: 0)\n",
            "Half-Life: Blue Shift (id: ??, ns: 0)\n",
            "Half-Life: Decay (id: ??, ns: 0)\n",
            "Half-Life: Opposing Force (id: ??, ns: 0)\n",
            "Haunting Ground (id: ??, ns: 0)\n",
            "Hektor (videogioco) (id: ??, ns: 0)\n",
            "Hello Neighbor (id: ??, ns: 0)\n",
            "The House of the Dead 2 (id: ??, ns: 0)\n",
            "The House of the Dead 4 (id: ??, ns: 0)\n",
            "The House of the Dead III (id: ??, ns: 0)\n",
            "The House of the Dead (id: ??, ns: 0)\n",
            "The House of the Dead: Overkill (id: ??, ns: 0)\n",
            "How to Survive (videogioco) (id: ??, ns: 0)\n",
            "I'm Not Alone (id: ??, ns: 0)\n",
            "Ib (videogioco) (id: ??, ns: 0)\n",
            "Illbleed (id: ??, ns: 0)\n",
            "Imabikisō (id: ??, ns: 0)\n",
            "The Inpatient (id: ??, ns: 0)\n",
            "Into the Dead (id: ??, ns: 0)\n",
            "The Joy of Creation: Story Mode (id: ??, ns: 0)\n",
            "Ju-on: Rancore (videogioco) (id: ??, ns: 0)\n",
            "Killing Floor (videogioco) (id: ??, ns: 0)\n",
            "Killing Floor 2 (id: ??, ns: 0)\n",
            "Koudelka (id: ??, ns: 0)\n",
            "Kuon (id: ??, ns: 0)\n",
            "The Last of Us Parte II (id: ??, ns: 0)\n",
            "The Last of Us (id: ??, ns: 0)\n",
            "The Last of Us: Left Behind (id: ??, ns: 0)\n",
            "Left 4 Dead (id: ??, ns: 0)\n",
            "Left 4 Dead 2 (id: ??, ns: 0)\n",
            "Little Nightmares (id: ??, ns: 0)\n",
            "Little Nightmares 2 (id: ??, ns: 0)\n",
            "Luigi's Mansion 2 (id: ??, ns: 0)\n",
            "Luigi's Mansion 3 (id: ??, ns: 0)\n",
            "Mad Father (id: ??, ns: 0)\n",
            "Manhunt (videogioco) (id: ??, ns: 0)\n",
            "Manhunt 2 (id: ??, ns: 0)\n",
            "Martha is Dead (id: ??, ns: 0)\n",
            "Martian Gothic: Unification (id: ??, ns: 0)\n",
            "Master Levels for Doom II (id: ??, ns: 0)\n",
            "Metro 2033 (videogioco) (id: ??, ns: 0)\n",
            "Metro Exodus (id: ??, ns: 0)\n",
            "Metro: Last Light (id: ??, ns: 0)\n",
            "Miasmata (id: ??, ns: 0)\n",
            "Michigan: Report from Hell (id: ??, ns: 0)\n",
            "Monstrum (id: ??, ns: 0)\n",
            "Nanashi no Game (id: ??, ns: 0)\n",
            "Neverending Nightmares (id: ??, ns: 0)\n",
            "Nightmare Creatures (id: ??, ns: 0)\n",
            "Nitemare 3D (id: ??, ns: 0)\n",
            "Nocturne (videogioco) (id: ??, ns: 0)\n",
            "Obscure (videogioco) (id: ??, ns: 0)\n",
            "Obscure II (id: ??, ns: 0)\n",
            "Onimusha: Warlords (id: ??, ns: 0)\n",
            "Outlast (id: ??, ns: 0)\n",
            "Outlast 2 (id: ??, ns: 0)\n",
            "OverBlood (id: ??, ns: 0)\n",
            "OverBlood 2 (id: ??, ns: 0)\n",
            "P.T. (id: ??, ns: 0)\n",
            "Parasite Eve (videogioco) (id: ??, ns: 0)\n",
            "Parasite Eve II (id: ??, ns: 0)\n",
            "The Park (videogioco) (id: ??, ns: 0)\n",
            "Penumbra: Black Plague (id: ??, ns: 0)\n",
            "Penumbra: Necrologue (id: ??, ns: 0)\n",
            "Penumbra: Overture (id: ??, ns: 0)\n",
            "Penumbra: Requiem (id: ??, ns: 0)\n",
            "Phasmophobia (id: ??, ns: 0)\n",
            "Poppy Playtime (id: ??, ns: 0)\n",
            "Project Firestart (id: ??, ns: 0)\n",
            "Project Scissors: NightCry (id: ??, ns: 0)\n",
            "Project Zero (id: ??, ns: 0)\n",
            "Project Zero 3 (id: ??, ns: 0)\n",
            "Project Zero II: Crimson Butterfly (id: ??, ns: 0)\n",
            "Project Zero: Maiden of Black Water (id: ??, ns: 0)\n",
            "Project Zomboid (id: ??, ns: 0)\n",
            "The Quarry (videogioco) (id: ??, ns: 0)\n",
            "Red Dead Redemption: Terrore dall'Oltretomba (id: ??, ns: 0)\n",
            "Resident Evil (id: ??, ns: 0)\n",
            "Resident Evil (videogioco 2002) (id: ??, ns: 0)\n",
            "Resident Evil 2 (id: ??, ns: 0)\n",
            "Resident Evil 2 (videogioco 2019) (id: ??, ns: 0)\n",
            "Resident Evil 3 (videogioco 2020) (id: ??, ns: 0)\n",
            "Resident Evil 3: Nemesis (id: ??, ns: 0)\n",
            "Resident Evil 4 (id: ??, ns: 0)\n",
            "Resident Evil 5 (id: ??, ns: 0)\n",
            "Resident Evil 6 (id: ??, ns: 0)\n",
            "Resident Evil 7: Biohazard (id: ??, ns: 0)\n",
            "Resident Evil Code: Veronica (id: ??, ns: 0)\n",
            "Resident Evil Gaiden (id: ??, ns: 0)\n",
            "Resident Evil Outbreak (id: ??, ns: 0)\n",
            "Resident Evil Outbreak File 2 (id: ??, ns: 0)\n",
            "Resident Evil Village (id: ??, ns: 0)\n",
            "Resident Evil Zero (id: ??, ns: 0)\n",
            "Resident Evil: Dead Aim (id: ??, ns: 0)\n",
            "Resident Evil: Revelations (id: ??, ns: 0)\n",
            "Resident Evil: Revelations 2 (id: ??, ns: 0)\n",
            "Resident Evil: Survivor (id: ??, ns: 0)\n",
            "Resident Evil: Survivor 2 Code: Veronica (id: ??, ns: 0)\n",
            "Resident Evil: The Darkside Chronicles (id: ??, ns: 0)\n",
            "Resident Evil: The Mercenaries 3D (id: ??, ns: 0)\n",
            "Resident Evil: The Umbrella Chronicles (id: ??, ns: 0)\n",
            "The Ring: Terror's Realm (id: ??, ns: 0)\n",
            "Rise of Nightmares (id: ??, ns: 0)\n",
            "Rule of Rose (id: ??, ns: 0)\n",
            "S.T.A.L.K.E.R. (id: ??, ns: 0)\n",
            "S.T.A.L.K.E.R.: Call of Pripyat (id: ??, ns: 0)\n",
            "S.T.A.L.K.E.R.: Clear Sky (id: ??, ns: 0)\n",
            "Sadness (id: ??, ns: 0)\n",
            "Saw II: Flesh & Blood (id: ??, ns: 0)\n",
            "Scorn (videogioco) (id: ??, ns: 0)\n",
            "SCP: Containment Breach (id: ??, ns: 0)\n",
            "Shellshock 2: Blood Trails (id: ??, ns: 0)\n",
            "Shellshock: Nam '67 (id: ??, ns: 0)\n",
            "Silent Hill (videogioco) (id: ??, ns: 0)\n",
            "Silent Hill 2 (id: ??, ns: 0)\n",
            "Silent Hill 3 (id: ??, ns: 0)\n",
            "Silent Hill 4: The Room (id: ??, ns: 0)\n",
            "Silent Hill: Book of Memories (id: ??, ns: 0)\n",
            "Silent Hill: Downpour (id: ??, ns: 0)\n",
            "Silent Hill: Homecoming (id: ??, ns: 0)\n",
            "Silent Hill: Origins (id: ??, ns: 0)\n",
            "Silent Hill: Shattered Memories (id: ??, ns: 0)\n",
            "Silent Hill: The Arcade (id: ??, ns: 0)\n",
            "Silent Hill: The Escape (id: ??, ns: 0)\n",
            "Silent Hills (id: ??, ns: 0)\n",
            "Siren: Blood Curse (id: ??, ns: 0)\n",
            "Soma (videogioco) (id: ??, ns: 0)\n",
            "Spirit Camera: Le memorie maledette (id: ??, ns: 0)\n",
            "Splatterhouse (id: ??, ns: 0)\n",
            "Splatterhouse (videogioco 2010) (id: ??, ns: 0)\n",
            "Splatterhouse 3 (id: ??, ns: 0)\n",
            "State of Decay (videogioco) (id: ??, ns: 0)\n",
            "State of Decay 2 (id: ??, ns: 0)\n",
            "The Suffering (id: ??, ns: 0)\n",
            "The Suffering: Ties That Bind (id: ??, ns: 0)\n",
            "Sweet Home (videogioco) (id: ??, ns: 0)\n",
            "System Shock 2 (id: ??, ns: 0)\n",
            "Tattletail (id: ??, ns: 0)\n",
            "The House of the Dead (serie) (id: ??, ns: 0)\n",
            "Twilight Syndrome (id: ??, ns: 0)\n",
            "The Typing of the Dead (id: ??, ns: 0)\n",
            "Ultimate Custom Night (id: ??, ns: 0)\n",
            "Until Dawn (id: ??, ns: 0)\n",
            "Until Dawn: Rush of Blood (id: ??, ns: 0)\n",
            "Unturned (id: ??, ns: 0)\n",
            "The Walking Dead (videogioco) (id: ??, ns: 0)\n",
            "The Walking Dead: Michonne (id: ??, ns: 0)\n",
            "The Walking Dead: Survival Instinct (id: ??, ns: 0)\n",
            "The Witch's House (id: ??, ns: 0)\n",
            "World War Z (videogioco 2019) (id: ??, ns: 0)\n",
            "Zero: Tsukihami no kamen (id: ??, ns: 0)\n",
            "Zombie Army Trilogy (id: ??, ns: 0)\n",
            "Zombie Infection (id: ??, ns: 0)\n",
            "ZombiU (id: ??, ns: 0)\n"
          ]
        }
      ]
    },
    {
      "cell_type": "code",
      "source": [
        "def print_langlinks(page):\n",
        "        langlinks = page.langlinks\n",
        "        for k in sorted(langlinks.keys()):\n",
        "            v = langlinks[k]\n",
        "            print(\"%s: %s - %s: %s\" % (k, v.language, v.title, v.fullurl))\n"
      ],
      "metadata": {
        "id": "z0xio1pyqIqa"
      },
      "execution_count": 27,
      "outputs": []
    },
    {
      "cell_type": "code",
      "source": [
        "cat = wiki_wiki.page(\"ZombiU\")\n",
        "print_langlinks(cat)"
      ],
      "metadata": {
        "colab": {
          "base_uri": "https://localhost:8080/"
        },
        "id": "tYWcUGT3qJ4x",
        "outputId": "a85ff5ad-56de-4acf-9ad6-9ada4d02a76a"
      },
      "execution_count": 30,
      "outputs": [
        {
          "output_type": "stream",
          "name": "stdout",
          "text": [
            "ar: ar - زومبي يو: https://ar.wikipedia.org/wiki/%D8%B2%D9%88%D9%85%D8%A8%D9%8A_%D9%8A%D9%88\n",
            "arz: arz - زومبيو: https://arz.wikipedia.org/wiki/%D8%B2%D9%88%D9%85%D8%A8%D9%8A%D9%88\n",
            "be: be - ZombiU: https://be.wikipedia.org/wiki/ZombiU\n",
            "de: de - ZombiU: https://de.wikipedia.org/wiki/ZombiU\n",
            "en: en - ZombiU: https://en.wikipedia.org/wiki/ZombiU\n",
            "es: es - ZombiU: https://es.wikipedia.org/wiki/ZombiU\n",
            "fi: fi - ZombiU: https://fi.wikipedia.org/wiki/ZombiU\n",
            "fr: fr - ZombiU: https://fr.wikipedia.org/wiki/ZombiU\n",
            "ja: ja - ゾンビU: https://ja.wikipedia.org/wiki/%E3%82%BE%E3%83%B3%E3%83%93U\n",
            "ko: ko - 좀비U: https://ko.wikipedia.org/wiki/%EC%A2%80%EB%B9%84U\n",
            "lt: lt - ZombiU: https://lt.wikipedia.org/wiki/ZombiU\n",
            "nl: nl - ZombiU: https://nl.wikipedia.org/wiki/ZombiU\n",
            "nn: nn - ZombiU: https://nn.wikipedia.org/wiki/ZombiU\n",
            "pt: pt - ZombiU: https://pt.wikipedia.org/wiki/ZombiU\n",
            "ru: ru - ZombiU: https://ru.wikipedia.org/wiki/ZombiU\n",
            "vi: vi - ZombiU: https://vi.wikipedia.org/wiki/ZombiU\n",
            "zh: zh - 僵尸U: https://zh.wikipedia.org/wiki/%E5%83%B5%E5%B0%B8U\n"
          ]
        }
      ]
    },
    {
      "cell_type": "code",
      "source": [
        "page_py_cs = cat.langlinks['en']\n",
        "print(\"Page - Summary: %s\" % page_py_cs.summary)"
      ],
      "metadata": {
        "colab": {
          "base_uri": "https://localhost:8080/"
        },
        "id": "176ILmMiqm8i",
        "outputId": "48b0465e-b01b-4442-fdce-f882006f84ea"
      },
      "execution_count": 32,
      "outputs": [
        {
          "output_type": "stream",
          "name": "stdout",
          "text": [
            "Page - Summary: ZombiU is a first-person survival horror video game developed by Ubisoft Montpellier and published by Ubisoft. It was released for the Wii U as one of its launch games in November 2012. In the game, the player assumes control of a human survivor amid a 2012 zombie apocalypse. Featuring a permadeath system, it uses the Wii U GamePad extensively to scan the environment and maintain the survivor's inventory. The game was released under the name Zombi for Microsoft Windows, PlayStation 4 and Xbox One in 2015. The port, handled by Straight Right, adds new melee weapons and removes the multiplayer feature.\n",
            "Ubisoft was approached by Nintendo to develop a mature game for its gaming console, Wii U. Originally envisioned as a spin-off of the Raving Rabbids franchise and a fast-paced first-person shooter, Killer Freaks from Outer Space (with small, agile monsters), the game was retooled as ZombiU after the development team realized that the Wii U GamePad was suitable for slower-paced games. Many of the game's features, including the GamePad feature and the permadeath feature, went through several iterations. Among other video games, ZombiU was influenced by Resident Evil, Condemned: Criminal Origins and Peter Jackson's King Kong. London was chosen as the game's setting because of its blend of modern and medieval architecture and its rich history. Ubisoft Bucharest led development of the game's multiplayer portion.\n",
            "It received generally positive reviews from critics, with the game's emphasis on survival horror, atmosphere, and the permadeath system praised. Critics had mixed opinions about gameplay, multiplayer, story and use of the GamePad. Technical problems, such as glitches and load times, were criticized. The game was unprofitable for Ubisoft, prompting it to turn another Wii U exclusive, Rayman Legends, into a multiplatform game. A prototype for a sequel was developed, but was canceled when the game failed financially.\n"
          ]
        }
      ]
    },
    {
      "cell_type": "markdown",
      "source": [
        "# Retrieving comparable articles"
      ],
      "metadata": {
        "id": "NYd8ry4bqw9y"
      }
    },
    {
      "cell_type": "code",
      "source": [
        "import numpy as np\n",
        "from json import JSONDecodeError\n",
        "\n",
        "def print_langlinks(page, page_summaries_en):\n",
        "        langlinks = page.langlinks\n",
        "        for k in sorted(langlinks.keys()):\n",
        "            v = langlinks[k]\n",
        "            #print(\"%s: %s - %s: %s\" % (k, v.language, v.title, v.fullurl))\n",
        "        try:\n",
        "          page_en = page.langlinks['en']\n",
        "          page_summaries_en.append(page_en.summary)\n",
        "        except KeyError:\n",
        "          page_summaries_en.append(str('No match'))\n",
        "        except JSONDecodeError:\n",
        "           page_summaries_en.append(str('No match'))"
      ],
      "metadata": {
        "id": "azp_QCkqrpDR"
      },
      "execution_count": 41,
      "outputs": []
    },
    {
      "cell_type": "code",
      "source": [
        "page_titles = []\n",
        "page_summaries_it = []\n",
        "\n",
        "wiki_wiki = wikipediaapi.Wikipedia('it')\n",
        "cat = wiki_wiki.page(\"Categoria:Survival_horror\")\n",
        "print(\"Category members: Categoria:Survival_horror\")\n",
        "for p in cat.categorymembers.values():\n",
        "  #if p.namespace == wikipediaapi.Namespace.CATEGORY:\n",
        "    # it is category, so you have to make decision\n",
        "    # if you want to fetch also text from pages that belong\n",
        "    # to this category\n",
        "    # print(p)\n",
        "  if p.namespace == wikipediaapi.Namespace.MAIN:\n",
        "    # it is page => we can get text\n",
        "    #print(p)\n",
        "    page_titles.append(p.title)\n",
        "    page_summaries_it.append(p.summary)"
      ],
      "metadata": {
        "colab": {
          "base_uri": "https://localhost:8080/"
        },
        "id": "zjsqkw93qxoN",
        "outputId": "438997f4-c192-40ba-a3eb-5beb18a1c9d6"
      },
      "execution_count": 4,
      "outputs": [
        {
          "output_type": "stream",
          "name": "stdout",
          "text": [
            "Category members: Categoria:Survival_horror\n"
          ]
        }
      ]
    },
    {
      "cell_type": "code",
      "source": [
        "print(page_titles)"
      ],
      "metadata": {
        "colab": {
          "base_uri": "https://localhost:8080/"
        },
        "id": "QaezXGghr_3l",
        "outputId": "32fc081b-2878-4119-a94e-7dcc9fb89e5f"
      },
      "execution_count": 6,
      "outputs": [
        {
          "output_type": "stream",
          "name": "stdout",
          "text": [
            "['Survival horror', 'The 3rd Birthday', 'Agony (videogioco 2018)', 'Alan Wake', \"Alan Wake's American Nightmare\", 'Alien Trilogy', 'Alien vs Predator (videogioco 1994)', 'Alien: Isolation', 'Aliens versus Predator', 'Aliens versus Predator 2', 'Aliens vs. Predator (videogioco)', 'Alone in the Dark (videogioco 1992)', 'Alone in the Dark (videogioco 2008)', 'Alone in the Dark 2', 'Alone in the Dark 3', 'Alone in the Dark: The New Nightmare', 'Altered Beast (videogioco 2005)', 'Amnesia: A Machine for Pigs', 'Amnesia: Rebirth', 'Amnesia: The Dark Descent', 'Amy (videogioco)', 'Angels of Death', 'Ao Oni', 'Area 51 (videogioco 2005)', 'Bendy and the Ink Machine', 'BioShock', 'BioShock 2', 'Black Mesa (videogioco)', 'Blue Stinger', 'Buffy the Vampire Slayer: Chaos Bleeds', 'Call of Cthulhu: Dark Corners of the Earth', 'Call of Duty: Black Ops - Zombies', 'Call of Duty: World at War - Zombies', 'Calling (videogioco)', 'The Callisto Protocol', 'La casa dei fantasmi (videogioco)', 'Chaos Break', \"Clive Barker's Undying\", 'Clock Tower', 'Clock Tower 3', 'Clock Tower II: The Struggle Within', 'Clock Tower: The First Fear', 'Cold Fear', 'Condemned 2: Bloodshot', 'Condemned: Criminal Origins', 'Corpse Killer', 'Corpse Party: Blood Covered', 'Corpse Party: Blood Drive', 'La Cosa (videogioco)', 'Cry of Fear', 'Cryostasis: Il Sonno della Ragione', 'D (videogioco)', 'D2 (videogioco)', 'Danganronpa Another Episode: Ultra Despair Girls', 'The Dark Pictures Anthology: The Devil in Me', 'The Dark Pictures: House of Ashes', 'The Dark Pictures: Little Hope', 'The Dark Pictures: Man of Medan', 'Daymare: 1998', 'Days Gone', 'Dead by Daylight', 'Dead Island Riptide', 'Dead Rising', 'Dead Rising 2', 'Dead Rising 3', 'Dead Rising 4', 'Dead Rising: Chop Till You Drop', 'Dead Space', 'Dead Space 2', 'Dead Space 3', 'Deadlight', 'Deadly Premonition', 'Deep Fear', 'Dementium II', 'Dementium: The Ward', 'Die Young (videogioco)', 'Dino Crisis', 'Dino Crisis 3', 'Dino Stalker', \"Don't Starve\", 'Doom (videogioco 2016)', 'Doom 3: Resurrection of Evil', 'Doom 64', 'Doom Resurrection', 'DreadOut', 'Dying Light', 'Dying Light 2', 'Enemy Zero', 'Escape from Bug Island', \"Eternal Darkness: Sanity's Requiem\", 'Eversion', 'Evil Dead: A Fistful of Boomstick', 'Evil Dead: Hail to the King', 'Evil Dead: Regeneration', 'The Evil Within 2', 'The Evil Within', 'Extermination', 'F.3.A.R.', 'F.E.A.R.', 'F.E.A.R. 2: Project Origin', 'F.E.A.R. Extraction Point', 'Final Doom', \"Five Nights at Candy's\", \"Five Nights at Candy's 2\", \"Five Nights at Freddy's\", \"Five Nights at Freddy's 2\", \"Five Nights at Freddy's 3\", \"Five Nights at Freddy's 4\", \"Five Nights at Freddy's AR: Special Delivery\", \"Five Nights at Freddy's VR: Help Wanted\", \"Five Nights at Freddy's: Security Breach\", \"Five Nights at Freddy's: Sister Location\", 'Forbidden Siren', 'Forbidden Siren 2', 'The Forest (videogioco)', 'Forgotten Memories: Alternate Realities', \"Freddy Fazbear's Pizzeria Simulator\", 'Friday the 13th (videogioco 1989)', 'Friday the 13th: The Game', 'Half-Life', 'Half-Life 2', 'Half-Life 2: Episode One', 'Half-Life 2: Episode Two', 'Half-Life: Alyx', 'Half-Life: Blue Shift', 'Half-Life: Decay', 'Half-Life: Opposing Force', 'Haunting Ground', 'Hektor (videogioco)', 'Hello Neighbor', 'The House of the Dead 2', 'The House of the Dead 4', 'The House of the Dead III', 'The House of the Dead', 'The House of the Dead: Overkill', 'How to Survive (videogioco)', \"I'm Not Alone\", 'Ib (videogioco)', 'Illbleed', 'Imabikisō', 'The Inpatient', 'Into the Dead', 'The Joy of Creation: Story Mode', 'Ju-on: Rancore (videogioco)', 'Killing Floor (videogioco)', 'Killing Floor 2', 'Koudelka', 'Kuon', 'The Last of Us Parte II', 'The Last of Us', 'The Last of Us: Left Behind', 'Left 4 Dead', 'Left 4 Dead 2', 'Little Nightmares', 'Little Nightmares 2', \"Luigi's Mansion 2\", \"Luigi's Mansion 3\", 'Mad Father', 'Manhunt (videogioco)', 'Manhunt 2', 'Martha is Dead', 'Martian Gothic: Unification', 'Master Levels for Doom II', 'Metro 2033 (videogioco)', 'Metro Exodus', 'Metro: Last Light', 'Miasmata', 'Michigan: Report from Hell', 'Monstrum', 'Nanashi no Game', 'Neverending Nightmares', 'Nightmare Creatures', 'Nitemare 3D', 'Nocturne (videogioco)', 'Obscure (videogioco)', 'Obscure II', 'Onimusha: Warlords', 'Outlast', 'Outlast 2', 'OverBlood', 'OverBlood 2', 'P.T.', 'Parasite Eve (videogioco)', 'Parasite Eve II', 'The Park (videogioco)', 'Penumbra: Black Plague', 'Penumbra: Necrologue', 'Penumbra: Overture', 'Penumbra: Requiem', 'Phasmophobia', 'Poppy Playtime', 'Project Firestart', 'Project Scissors: NightCry', 'Project Zero', 'Project Zero 3', 'Project Zero II: Crimson Butterfly', 'Project Zero: Maiden of Black Water', 'Project Zomboid', 'The Quarry (videogioco)', \"Red Dead Redemption: Terrore dall'Oltretomba\", 'Resident Evil', 'Resident Evil (videogioco 2002)', 'Resident Evil 2', 'Resident Evil 2 (videogioco 2019)', 'Resident Evil 3 (videogioco 2020)', 'Resident Evil 3: Nemesis', 'Resident Evil 4', 'Resident Evil 5', 'Resident Evil 6', 'Resident Evil 7: Biohazard', 'Resident Evil Code: Veronica', 'Resident Evil Gaiden', 'Resident Evil Outbreak', 'Resident Evil Outbreak File 2', 'Resident Evil Village', 'Resident Evil Zero', 'Resident Evil: Dead Aim', 'Resident Evil: Revelations', 'Resident Evil: Revelations 2', 'Resident Evil: Survivor', 'Resident Evil: Survivor 2 Code: Veronica', 'Resident Evil: The Darkside Chronicles', 'Resident Evil: The Mercenaries 3D', 'Resident Evil: The Umbrella Chronicles', \"The Ring: Terror's Realm\", 'Rise of Nightmares', 'Rule of Rose', 'S.T.A.L.K.E.R.', 'S.T.A.L.K.E.R.: Call of Pripyat', 'S.T.A.L.K.E.R.: Clear Sky', 'Sadness', 'Saw II: Flesh & Blood', 'Scorn (videogioco)', 'SCP: Containment Breach', 'Shellshock 2: Blood Trails', \"Shellshock: Nam '67\", 'Silent Hill (videogioco)', 'Silent Hill 2', 'Silent Hill 3', 'Silent Hill 4: The Room', 'Silent Hill: Book of Memories', 'Silent Hill: Downpour', 'Silent Hill: Homecoming', 'Silent Hill: Origins', 'Silent Hill: Shattered Memories', 'Silent Hill: The Arcade', 'Silent Hill: The Escape', 'Silent Hills', 'Siren: Blood Curse', 'Soma (videogioco)', 'Spirit Camera: Le memorie maledette', 'Splatterhouse', 'Splatterhouse (videogioco 2010)', 'Splatterhouse 3', 'State of Decay (videogioco)', 'State of Decay 2', 'The Suffering', 'The Suffering: Ties That Bind', 'Sweet Home (videogioco)', 'System Shock 2', 'Tattletail', 'The House of the Dead (serie)', 'Twilight Syndrome', 'The Typing of the Dead', 'Ultimate Custom Night', 'Until Dawn', 'Until Dawn: Rush of Blood', 'Unturned', 'The Walking Dead (videogioco)', 'The Walking Dead: Michonne', 'The Walking Dead: Survival Instinct', \"The Witch's House\", 'World War Z (videogioco 2019)', 'Zero: Tsukihami no kamen', 'Zombie Army Trilogy', 'Zombie Infection', 'ZombiU']\n"
          ]
        }
      ]
    },
    {
      "cell_type": "code",
      "source": [
        "print(page_summaries_it[:10])"
      ],
      "metadata": {
        "colab": {
          "base_uri": "https://localhost:8080/"
        },
        "id": "xLHmEWI9v4rG",
        "outputId": "c64e3046-cc12-41a8-e6a1-0a11c45811e1"
      },
      "execution_count": 5,
      "outputs": [
        {
          "output_type": "stream",
          "name": "stdout",
          "text": [
            "['Il termine inglese survival horror (letteralmente \"horror di sopravvivenza\") definisce una categoria di videogiochi basati sulla sopravvivenza del personaggio calato in un\\'atmosfera di paura e suspense. Le tipiche meccaniche del gioco combinano elementi dell\\'avventura grafica e dell\\'azione.Il personaggio controllato è solitamente armato, ma ha disposizione risorse limitate, per cui deve usarle con accortezza e trovare delle armi di fortuna durante l\\'avventura. Il suo scopo nel gioco può essere il trovare una via d\\'uscita da un luogo pericoloso e tornare in un luogo sicuro, oppure scoprire il motivo per cui si trova in una particolare situazione alterata, e porvi rimedio. I nemici del giocatore possono essere zombi, fantasmi, mostri o esseri umani mutati o impazziti, e nella maggior parte dei casi durante lo svolgimento del gioco viene rivelata la causa della mutazione o della presenza paranormale. L\\'ambientazione caratteristica di questi giochi è costituita da spazi chiusi e claustrofobici, oppure luoghi aperti ma particolarmente bui o nebbiosi, o ancora spazi ampi e chiusi, ma aventi elementi macabri e scarsa illuminazione.', \"The 3rd Birthday (ザ・サード バースデイ Za Sādo Bāsudei?) (T3B) è un videogioco action RPG sparatutto in terza persona co-sviluppato da Square Enix e da HexaDrive e pubblicato da Square Enix per PlayStation Portable il 22 dicembre 2010 in Giappone, il 29 marzo 2011 in Nord America ed il primo aprile 2011 in Europa. The 3rd Birthday è sia uno spin-off, essendo la trama solo vagamente connessa agli eventi dei giochi precedenti, che il terzo capitolo della serie di videogiochi Parasite Eve, basata sull'omonimo romanzo dello scrittore giapponese Hideaki Sena, nonché sequel narrativo del videogioco del 1999 Parasite Eve II.\", \"Agony è un videogioco survival horror dark fantasy sviluppato da Madmind Studio e pubblicato da PlayWay. Il giocatore inizia il viaggio come un'anima tormentata nelle profondità dell'Inferno senza alcun ricordo del proprio passato. La speciale abilità di controllare le persone sul suo cammino e di possedere demoni deboli, fornisce al giocatore le misure necessarie per sopravvivere nelle condizioni estreme in cui si trova. Uscito nel 2018, il gioco ha ricevuto recensioni negative da parte della critica.\", \"Alan Wake è un videogioco di genere avventura dinamica e survival horror, sviluppato da Remedy Entertainment e pubblicato originariamente il 14 maggio 2010 per Xbox 360, poi portato anche su Microsoft Windows in versione digitale il 16 febbraio 2012. La versione retail per Microsoft Windows è invece uscita il 2 marzo 2012. Il protagonista è modellato sull'attore finlandese Ilkka Villi.\\nUna versione rimasterizzata di Alan Wake, prodotta e pubblicata da Remedy in collaborazione con Epic Games, è stata rilasciata il 5 ottobre 2021 per Microsoft Windows, Xbox One, Xbox Series X e Series S, PlayStation 4 e PlayStation 5. Dopo undici anni dalla sua pubblicazione originale, Alan Wake è dunque arrivato anche sulle console di Sony.Nel 2012 è stato realizzato uno spin-off intitolato Alan Wake's American Nightmare. Un sequel del gioco venne programmato, ma fu successivamente cancellato e divenne eventualmente la base e ispirazione per un titolo a sé stante, Quantum Break (2016). Successivamente, la Remedy ha rilasciato Control (2019), ambientato nello stesso universo di Alan Wake. Il 10 dicembre 2021 viene ufficialmente annunciato il sequel del gioco.\", \"Alan Wake's American Nightmare è un videogioco sviluppato da Remedy Entertainment e distribuito esclusivamente attraverso digital delivery su Xbox Live per Xbox 360 e su Steam per PC.\\nIl gioco prosegue la storia dello scrittore iniziata con Alan Wake. Secondo gli stessi sviluppatori questo titolo, pur rappresentando un'esperienza di gioco completa, non è da considerarsi alla stregua di un vero e proprio Alan Wake 2, ma più che altro come uno spin-off o come un approfondimento della trama della serie, e sarà un contenuto scaricabile da Xbox Live.\\nA differenza del primo capitolo, che, sebbene avesse molti elementi d'azione, era principalmente avventura dinamica, American Nightmare è uno sparatutto in terza persona.\", 'Alien Trilogy è uno sparatutto in prima persona del 1996, che ripercorre le trame dei primi tre film della serie Alien. Sviluppato da Probe Entertainment, è stato prodotto dalla Acclaim Entertainment per PlayStation, Sega Saturn e MS-DOS. Il gioco è articolato in 30 livelli i quali rappresentano scene tratte dal film.', 'Alien vs Predator è un videogioco per la console Atari Jaguar, pubblicato nel 1994 da Atari,  ambientato nella saga di Alien vs. Predator. Si tratta di uno sparatutto in prima persona, sviluppato da Rebellion Developments, futuri autori della serie Aliens versus Predator. Si tratta, a detta della critica, del migliore titolo per la sfortunata Jaguar e la sua unica killer application.', \"Alien: Isolation è un videogioco survival horror in prima persona, sviluppato dallo studio britannico The Creative Assembly e pubblicato da SEGA il 7 ottobre 2014 per le piattaforme PlayStation 3, PlayStation 4, Xbox One, Xbox 360 e Microsoft Windows.Successivamente Feral Interactive ha distribuito le versioni per macOS e Linux. Il gioco è arrivato anche su Nintendo Switch il 5 dicembre 2019, sempre ad opera di Feral Interactive. \\nIl titolo è ambientato nell'anno 2137, ovvero 15 anni dopo gli eventi di Alien e 42 anni prima quelli di Aliens - Scontro finale. La protagonista è Amanda Ripley, impegnata a indagare sulla scomparsa di sua madre Ellen Ripley. Amanda si dirige sulla stazione spaziale Sevastopol per recuperare la scatola nera della Nostromo, ma scoprirà soltanto che uno Xenomorfo ha terrorizzato la stazione e ucciso la maggior parte dell'equipaggio.\", 'Aliens versus Predator è uno sparatutto in prima persona del 1999 per Microsoft Windows. Il gioco è diviso in tre parti, e in ognuna si impersona un personaggio diverso: un Alien, un Predator e un Marine. A differenza dei capitoli che lo seguiranno, Aliens versus Predator 2 (2001) e Aliens vs. Predator (2010), le varie campagne non sono connesse fra loro, ma indipendenti. Esiste una versione Gold Edition, dotata di alcuni livelli aggiuntivi.', 'Aliens versus Predator 2 è uno sparatutto in prima persona a tema fantascientifico e survival horror del 2001, sequel del videogioco del 1999 Aliens versus Predator. È possibile vestire i panni degli alieni del titolo, oltre che di un marine di nome Andrew \"Frosty\" Harrison. Il gioco è diviso in tre capitoli connessi fra loro, uno per specie; il gameplay varia a seconda del personaggio utilizzato. L\\'espansione Primal Hunt aggiunge anche il predalien, specie ibrida fra le due.']\n"
          ]
        }
      ]
    },
    {
      "cell_type": "markdown",
      "source": [
        "With the page titles we can check if they have an English equivalent, and save their summary if they do"
      ],
      "metadata": {
        "id": "sm2cEf4YsHyo"
      }
    },
    {
      "cell_type": "code",
      "source": [
        "page_summaries_en = []\n",
        "\n",
        "for title in page_titles:\n",
        "  page = wiki_wiki.page(str(title))\n",
        "  print_langlinks(page, page_summaries_en)"
      ],
      "metadata": {
        "id": "yAopHz4gsHYP"
      },
      "execution_count": 42,
      "outputs": []
    },
    {
      "cell_type": "code",
      "source": [
        "import pandas as pd"
      ],
      "metadata": {
        "id": "IutAQADUx6VC"
      },
      "execution_count": 43,
      "outputs": []
    },
    {
      "cell_type": "code",
      "source": [
        "import numpy as np\n",
        "parallel_corpus_vg = pd.DataFrame(np.column_stack([page_summaries_en, page_summaries_it]), \n",
        "                               columns=['en', 'it'])"
      ],
      "metadata": {
        "id": "GXtE4Mt5vsGA"
      },
      "execution_count": 44,
      "outputs": []
    },
    {
      "cell_type": "markdown",
      "source": [
        "Now we only need to drop the rows where no English equivalent was found"
      ],
      "metadata": {
        "id": "dFLXUkU_0CHE"
      }
    },
    {
      "cell_type": "code",
      "source": [
        "parallel_corpus_vg_2 = parallel_corpus_vg[parallel_corpus_vg[\"en\"].str.contains(\"No match\")==False].reset_index(drop=True)"
      ],
      "metadata": {
        "id": "asEwDcYeyhHg"
      },
      "execution_count": 50,
      "outputs": []
    },
    {
      "cell_type": "markdown",
      "source": [
        "266 comparable in-domain texts"
      ],
      "metadata": {
        "id": "mJeUFHYH42om"
      }
    },
    {
      "cell_type": "code",
      "source": [
        "parallel_corpus_vg_2"
      ],
      "metadata": {
        "colab": {
          "base_uri": "https://localhost:8080/",
          "height": 4325
        },
        "id": "ht2t3npPzfOl",
        "outputId": "80dfb631-2345-4833-bbd0-44b8e86f36ff"
      },
      "execution_count": 51,
      "outputs": [
        {
          "output_type": "execute_result",
          "data": {
            "text/plain": [
              "                                                    en  \\\n",
              "0    Survival horror is a subgenre of horror and su...   \n",
              "1    The 3rd Birthday (Japanese: ザ・サード バースデイ, Hepbu...   \n",
              "2    Agony is a 2018 dark fantasy survival horror v...   \n",
              "3    Alan Wake is an action-adventure game develope...   \n",
              "4    Alan Wake's American Nightmare is an action-ad...   \n",
              "..                                                 ...   \n",
              "261  The Witch's House (魔女の家, Majo no ie) is a free...   \n",
              "262  World War Z is a third-person shooter video ga...   \n",
              "263  Fatal Frame: Mask of the Lunar Eclipse is a su...   \n",
              "264  Zombie Army Trilogy is a third-person tactical...   \n",
              "265  ZombiU is a first-person survival horror video...   \n",
              "\n",
              "                                                    it  \n",
              "0    Il termine inglese survival horror (letteralme...  \n",
              "1    The 3rd Birthday (ザ・サード バースデイ Za Sādo Bāsudei?...  \n",
              "2    Agony è un videogioco survival horror dark fan...  \n",
              "3    Alan Wake è un videogioco di genere avventura ...  \n",
              "4    Alan Wake's American Nightmare è un videogioco...  \n",
              "..                                                 ...  \n",
              "261  The Witch's House (魔女の家 Majo no ie?, in italia...  \n",
              "262  World War Z è un videogioco sparatutto in terz...  \n",
              "263  Project Zero: Mask of the Lunar Eclipse (零〜月蝕の...  \n",
              "264  Zombie Army Trilogy è un videogioco stealth e ...  \n",
              "265  ZombiU è un videogioco survival horror svilupp...  \n",
              "\n",
              "[266 rows x 2 columns]"
            ],
            "text/html": [
              "\n",
              "  <div id=\"df-efa1cedc-38e9-4b9c-8eea-14fa7c7994e5\">\n",
              "    <div class=\"colab-df-container\">\n",
              "      <div>\n",
              "<style scoped>\n",
              "    .dataframe tbody tr th:only-of-type {\n",
              "        vertical-align: middle;\n",
              "    }\n",
              "\n",
              "    .dataframe tbody tr th {\n",
              "        vertical-align: top;\n",
              "    }\n",
              "\n",
              "    .dataframe thead th {\n",
              "        text-align: right;\n",
              "    }\n",
              "</style>\n",
              "<table border=\"1\" class=\"dataframe\">\n",
              "  <thead>\n",
              "    <tr style=\"text-align: right;\">\n",
              "      <th></th>\n",
              "      <th>en</th>\n",
              "      <th>it</th>\n",
              "    </tr>\n",
              "  </thead>\n",
              "  <tbody>\n",
              "    <tr>\n",
              "      <th>0</th>\n",
              "      <td>Survival horror is a subgenre of horror and su...</td>\n",
              "      <td>Il termine inglese survival horror (letteralme...</td>\n",
              "    </tr>\n",
              "    <tr>\n",
              "      <th>1</th>\n",
              "      <td>The 3rd Birthday (Japanese: ザ・サード バースデイ, Hepbu...</td>\n",
              "      <td>The 3rd Birthday (ザ・サード バースデイ Za Sādo Bāsudei?...</td>\n",
              "    </tr>\n",
              "    <tr>\n",
              "      <th>2</th>\n",
              "      <td>Agony is a 2018 dark fantasy survival horror v...</td>\n",
              "      <td>Agony è un videogioco survival horror dark fan...</td>\n",
              "    </tr>\n",
              "    <tr>\n",
              "      <th>3</th>\n",
              "      <td>Alan Wake is an action-adventure game develope...</td>\n",
              "      <td>Alan Wake è un videogioco di genere avventura ...</td>\n",
              "    </tr>\n",
              "    <tr>\n",
              "      <th>4</th>\n",
              "      <td>Alan Wake's American Nightmare is an action-ad...</td>\n",
              "      <td>Alan Wake's American Nightmare è un videogioco...</td>\n",
              "    </tr>\n",
              "    <tr>\n",
              "      <th>...</th>\n",
              "      <td>...</td>\n",
              "      <td>...</td>\n",
              "    </tr>\n",
              "    <tr>\n",
              "      <th>261</th>\n",
              "      <td>The Witch's House (魔女の家, Majo no ie) is a free...</td>\n",
              "      <td>The Witch's House (魔女の家 Majo no ie?, in italia...</td>\n",
              "    </tr>\n",
              "    <tr>\n",
              "      <th>262</th>\n",
              "      <td>World War Z is a third-person shooter video ga...</td>\n",
              "      <td>World War Z è un videogioco sparatutto in terz...</td>\n",
              "    </tr>\n",
              "    <tr>\n",
              "      <th>263</th>\n",
              "      <td>Fatal Frame: Mask of the Lunar Eclipse is a su...</td>\n",
              "      <td>Project Zero: Mask of the Lunar Eclipse (零〜月蝕の...</td>\n",
              "    </tr>\n",
              "    <tr>\n",
              "      <th>264</th>\n",
              "      <td>Zombie Army Trilogy is a third-person tactical...</td>\n",
              "      <td>Zombie Army Trilogy è un videogioco stealth e ...</td>\n",
              "    </tr>\n",
              "    <tr>\n",
              "      <th>265</th>\n",
              "      <td>ZombiU is a first-person survival horror video...</td>\n",
              "      <td>ZombiU è un videogioco survival horror svilupp...</td>\n",
              "    </tr>\n",
              "  </tbody>\n",
              "</table>\n",
              "<p>266 rows × 2 columns</p>\n",
              "</div>\n",
              "      <button class=\"colab-df-convert\" onclick=\"convertToInteractive('df-efa1cedc-38e9-4b9c-8eea-14fa7c7994e5')\"\n",
              "              title=\"Convert this dataframe to an interactive table.\"\n",
              "              style=\"display:none;\">\n",
              "        \n",
              "  <svg xmlns=\"http://www.w3.org/2000/svg\" height=\"24px\"viewBox=\"0 0 24 24\"\n",
              "       width=\"24px\">\n",
              "    <path d=\"M0 0h24v24H0V0z\" fill=\"none\"/>\n",
              "    <path d=\"M18.56 5.44l.94 2.06.94-2.06 2.06-.94-2.06-.94-.94-2.06-.94 2.06-2.06.94zm-11 1L8.5 8.5l.94-2.06 2.06-.94-2.06-.94L8.5 2.5l-.94 2.06-2.06.94zm10 10l.94 2.06.94-2.06 2.06-.94-2.06-.94-.94-2.06-.94 2.06-2.06.94z\"/><path d=\"M17.41 7.96l-1.37-1.37c-.4-.4-.92-.59-1.43-.59-.52 0-1.04.2-1.43.59L10.3 9.45l-7.72 7.72c-.78.78-.78 2.05 0 2.83L4 21.41c.39.39.9.59 1.41.59.51 0 1.02-.2 1.41-.59l7.78-7.78 2.81-2.81c.8-.78.8-2.07 0-2.86zM5.41 20L4 18.59l7.72-7.72 1.47 1.35L5.41 20z\"/>\n",
              "  </svg>\n",
              "      </button>\n",
              "      \n",
              "  <style>\n",
              "    .colab-df-container {\n",
              "      display:flex;\n",
              "      flex-wrap:wrap;\n",
              "      gap: 12px;\n",
              "    }\n",
              "\n",
              "    .colab-df-convert {\n",
              "      background-color: #E8F0FE;\n",
              "      border: none;\n",
              "      border-radius: 50%;\n",
              "      cursor: pointer;\n",
              "      display: none;\n",
              "      fill: #1967D2;\n",
              "      height: 32px;\n",
              "      padding: 0 0 0 0;\n",
              "      width: 32px;\n",
              "    }\n",
              "\n",
              "    .colab-df-convert:hover {\n",
              "      background-color: #E2EBFA;\n",
              "      box-shadow: 0px 1px 2px rgba(60, 64, 67, 0.3), 0px 1px 3px 1px rgba(60, 64, 67, 0.15);\n",
              "      fill: #174EA6;\n",
              "    }\n",
              "\n",
              "    [theme=dark] .colab-df-convert {\n",
              "      background-color: #3B4455;\n",
              "      fill: #D2E3FC;\n",
              "    }\n",
              "\n",
              "    [theme=dark] .colab-df-convert:hover {\n",
              "      background-color: #434B5C;\n",
              "      box-shadow: 0px 1px 3px 1px rgba(0, 0, 0, 0.15);\n",
              "      filter: drop-shadow(0px 1px 2px rgba(0, 0, 0, 0.3));\n",
              "      fill: #FFFFFF;\n",
              "    }\n",
              "  </style>\n",
              "\n",
              "      <script>\n",
              "        const buttonEl =\n",
              "          document.querySelector('#df-efa1cedc-38e9-4b9c-8eea-14fa7c7994e5 button.colab-df-convert');\n",
              "        buttonEl.style.display =\n",
              "          google.colab.kernel.accessAllowed ? 'block' : 'none';\n",
              "\n",
              "        async function convertToInteractive(key) {\n",
              "          const element = document.querySelector('#df-efa1cedc-38e9-4b9c-8eea-14fa7c7994e5');\n",
              "          const dataTable =\n",
              "            await google.colab.kernel.invokeFunction('convertToInteractive',\n",
              "                                                     [key], {});\n",
              "          if (!dataTable) return;\n",
              "\n",
              "          const docLinkHtml = 'Like what you see? Visit the ' +\n",
              "            '<a target=\"_blank\" href=https://colab.research.google.com/notebooks/data_table.ipynb>data table notebook</a>'\n",
              "            + ' to learn more about interactive tables.';\n",
              "          element.innerHTML = '';\n",
              "          dataTable['output_type'] = 'display_data';\n",
              "          await google.colab.output.renderOutput(dataTable, element);\n",
              "          const docLink = document.createElement('div');\n",
              "          docLink.innerHTML = docLinkHtml;\n",
              "          element.appendChild(docLink);\n",
              "        }\n",
              "      </script>\n",
              "    </div>\n",
              "  </div>\n",
              "  "
            ]
          },
          "metadata": {},
          "execution_count": 51
        }
      ]
    },
    {
      "cell_type": "code",
      "source": [
        "parallel_corpus_vg_2.to_excel(\"comparable_corpus_vg_en_it.xlsx\")  "
      ],
      "metadata": {
        "id": "f7TtKx5n5DNw"
      },
      "execution_count": 52,
      "outputs": []
    },
    {
      "cell_type": "markdown",
      "source": [
        "# Sentence similarity"
      ],
      "metadata": {
        "id": "IpD6C5eoCLbW"
      }
    },
    {
      "cell_type": "markdown",
      "source": [
        "For each Wikipedia article, it is possible to get the link to the corresponding article in other languages. This can be used to mine sentences limited to the respective articles. This local mining has several advantages: 1) mining is very fast since each article usually has a few hundreds of sentences only; 2) it seems reasonable to assume that a translation of a sentence is more\n",
        "likely to be found in the same article than anywhere in the whole Wikipedia. \n",
        "\n",
        "https://arxiv.org/abs/1907.05791"
      ],
      "metadata": {
        "id": "WEFm0_fa84vJ"
      }
    },
    {
      "cell_type": "markdown",
      "source": [
        "Sentence similarity\n",
        "\n",
        "https://towardsdatascience.com/cutting-edge-bert-nlp-model-bb0bfc8b7aec\n",
        "\n",
        "https://www.sbert.net/examples/applications/computing-embeddings/README.html\n",
        "\n",
        "https://www.sbert.net/docs/usage/semantic_textual_similarity.html"
      ],
      "metadata": {
        "id": "igjoRaYEA57f"
      }
    },
    {
      "cell_type": "code",
      "source": [
        "!pip install -U sentence-transformers"
      ],
      "metadata": {
        "id": "Hu5bIDNJ9KXS"
      },
      "execution_count": null,
      "outputs": []
    },
    {
      "cell_type": "code",
      "source": [
        "import scipy\n",
        "import numpy as np\n",
        "from sentence_transformers import models, SentenceTransformer"
      ],
      "metadata": {
        "id": "zV11LeGq_Fnm"
      },
      "execution_count": 56,
      "outputs": []
    },
    {
      "cell_type": "code",
      "source": [
        "from nltk.tokenize import sent_tokenize"
      ],
      "metadata": {
        "id": "IHLwrl7kBqDK"
      },
      "execution_count": 70,
      "outputs": []
    },
    {
      "cell_type": "code",
      "source": [
        "import nltk\n",
        "nltk.download('punkt')"
      ],
      "metadata": {
        "colab": {
          "base_uri": "https://localhost:8080/"
        },
        "id": "hf2u61lhBweQ",
        "outputId": "7df950e7-4ef4-4db3-9914-29be0346ebf8"
      },
      "execution_count": 74,
      "outputs": [
        {
          "output_type": "stream",
          "name": "stderr",
          "text": [
            "[nltk_data] Downloading package punkt to /root/nltk_data...\n",
            "[nltk_data]   Unzipping tokenizers/punkt.zip.\n"
          ]
        },
        {
          "output_type": "execute_result",
          "data": {
            "text/plain": [
              "True"
            ]
          },
          "metadata": {},
          "execution_count": 74
        }
      ]
    },
    {
      "cell_type": "code",
      "source": [
        "from sentence_transformers import SentenceTransformer\n",
        "model = SentenceTransformer('distiluse-base-multilingual-cased')"
      ],
      "metadata": {
        "id": "xWBjM-GQ9rhr"
      },
      "execution_count": null,
      "outputs": []
    },
    {
      "cell_type": "code",
      "source": [
        "corpus = sent_tokenize((parallel_corpus_vg_2.at[parallel_corpus_vg_2.index[111],'en']))"
      ],
      "metadata": {
        "id": "QBgh78ClASHy"
      },
      "execution_count": 75,
      "outputs": []
    },
    {
      "cell_type": "code",
      "source": [
        "corpus_embeddings = model.encode(corpus)"
      ],
      "metadata": {
        "id": "3QpHKRTv_A65"
      },
      "execution_count": 77,
      "outputs": []
    },
    {
      "cell_type": "code",
      "source": [
        "queries = sent_tokenize((parallel_corpus_vg_2.at[parallel_corpus_vg_2.index[111],'it']))"
      ],
      "metadata": {
        "id": "GzuI3W4qAyyN"
      },
      "execution_count": 81,
      "outputs": []
    },
    {
      "cell_type": "code",
      "source": [
        "query_embeddings = model.encode(queries)"
      ],
      "metadata": {
        "id": "lALIacwbA1y3"
      },
      "execution_count": 82,
      "outputs": []
    },
    {
      "cell_type": "code",
      "source": [
        "# Calculate Cosine similarity of query against each sentence i\n",
        "\n",
        "closest_n = 3\n",
        "\n",
        "parallel_sentences_en = []\n",
        "parallel_sentences_it = []\n",
        "\n",
        "for query, query_embedding in zip(queries, query_embeddings):\n",
        "    distances = scipy.spatial.distance.cdist([query_embedding], corpus_embeddings, \"cosine\")[0]\n",
        "\n",
        "    results = zip(range(len(distances)), distances)\n",
        "    results = sorted(results, key=lambda x: x[1])\n",
        "\n",
        "    print(\"\\n======================\\n\")\n",
        "    print(\"Query:\", query)\n",
        "    print(\"\\nTop 3 most similar sentences in corpus:\")\n",
        "\n",
        "    for idx, distance in results[0:closest_n]:\n",
        "      if 1-distance > 0.8: # Similarity threshold\n",
        "        parallel_sentences_it.append(query)\n",
        "        parallel_sentences_en.append(corpus[idx].strip())\n",
        "        #print(corpus[idx].strip(), \"(Score: %.4f)\" % (1-distance))"
      ],
      "metadata": {
        "colab": {
          "base_uri": "https://localhost:8080/"
        },
        "id": "9qyL0IHlA5Hx",
        "outputId": "9885b352-ce75-430e-cfbf-dfbe4cbf4ed6"
      },
      "execution_count": 88,
      "outputs": [
        {
          "output_type": "stream",
          "name": "stdout",
          "text": [
            "\n",
            "======================\n",
            "\n",
            "Query: Freddy Fazbear's Pizzeria Simulator, abbreviato più semplicemente in FFPS, è un videogioco di avventura grafica con elementi gestionali, settimo gioco della serie survival horror di Five Nights at Freddy's e sesto gioco canonico, creato da Scott Cawthon.\n",
            "\n",
            "Top 3 most similar sentences in corpus:\n",
            "\n",
            "======================\n",
            "\n",
            "Query: Il gioco è stato pubblicato gratuitamente su Steam il 4 dicembre 2017, mascherato come semplice gioco non inerente alla saga, rivelandosi poi il sesto capitolo fondamentale per la storia di FNaF.\n",
            "\n",
            "Top 3 most similar sentences in corpus:\n",
            "\n",
            "======================\n",
            "\n",
            "Query: Nel 2019, in seguito alla collaborazione tra Scott Cawthon e Clickteam, il gioco viene pubblicato sui dispositivi mobile, in questo caso a pagamento a causa dei costi dovuti al porting.\n",
            "\n",
            "Top 3 most similar sentences in corpus:\n",
            "\n",
            "======================\n",
            "\n",
            "Query: Il 31 Ottobre 2020 ne è uscita una versione per Nintendo Switch e Xbox One, mentre la versione per PlayStation 4 debutta nel 31 Marzo 2021.\n",
            "\n",
            "Top 3 most similar sentences in corpus:\n"
          ]
        }
      ]
    },
    {
      "cell_type": "markdown",
      "source": [
        "Storing the parallel sentences in another DataFrame"
      ],
      "metadata": {
        "id": "nvCxo29GD0XR"
      }
    },
    {
      "cell_type": "code",
      "source": [
        "parallel_sentences_en"
      ],
      "metadata": {
        "colab": {
          "base_uri": "https://localhost:8080/"
        },
        "id": "Juu5n4VdD3CH",
        "outputId": "9070f421-81e8-47a3-faa7-fd69fcd858b6"
      },
      "execution_count": 89,
      "outputs": [
        {
          "output_type": "execute_result",
          "data": {
            "text/plain": [
              "[\"Freddy Fazbear's Pizzeria Simulator (alternatively known as Five Nights at Freddy's 6) is a freeware point-and-click business simulation survival horror video game developed and published by Scott Cawthon.\",\n",
              " 'A Nintendo Switch and Xbox One port was released on October 31, 2020, with a PlayStation 4 port released on March 31, 2021.']"
            ]
          },
          "metadata": {},
          "execution_count": 89
        }
      ]
    },
    {
      "cell_type": "code",
      "source": [
        "parallel_sentences_it"
      ],
      "metadata": {
        "colab": {
          "base_uri": "https://localhost:8080/"
        },
        "id": "kS6ncgcIERIu",
        "outputId": "24369285-378e-47d9-f243-45c1982463db"
      },
      "execution_count": 90,
      "outputs": [
        {
          "output_type": "execute_result",
          "data": {
            "text/plain": [
              "[\"Freddy Fazbear's Pizzeria Simulator, abbreviato più semplicemente in FFPS, è un videogioco di avventura grafica con elementi gestionali, settimo gioco della serie survival horror di Five Nights at Freddy's e sesto gioco canonico, creato da Scott Cawthon.\",\n",
              " 'Il 31 Ottobre 2020 ne è uscita una versione per Nintendo Switch e Xbox One, mentre la versione per PlayStation 4 debutta nel 31 Marzo 2021.']"
            ]
          },
          "metadata": {},
          "execution_count": 90
        }
      ]
    },
    {
      "cell_type": "code",
      "source": [
        "parallel_corpus = pd.DataFrame(np.column_stack([parallel_sentences_en, parallel_sentences_it]), \n",
        "                               columns=['en', 'it'])"
      ],
      "metadata": {
        "id": "85q3LfUjElmj"
      },
      "execution_count": 91,
      "outputs": []
    },
    {
      "cell_type": "code",
      "source": [
        "parallel_corpus"
      ],
      "metadata": {
        "colab": {
          "base_uri": "https://localhost:8080/",
          "height": 186
        },
        "id": "QP2dezwZE0ul",
        "outputId": "c373518e-bd34-4695-c9ab-d402467d13cf"
      },
      "execution_count": 92,
      "outputs": [
        {
          "output_type": "execute_result",
          "data": {
            "text/plain": [
              "                                                  en  \\\n",
              "0  Freddy Fazbear's Pizzeria Simulator (alternati...   \n",
              "1  A Nintendo Switch and Xbox One port was releas...   \n",
              "\n",
              "                                                  it  \n",
              "0  Freddy Fazbear's Pizzeria Simulator, abbreviat...  \n",
              "1  Il 31 Ottobre 2020 ne è uscita una versione pe...  "
            ],
            "text/html": [
              "\n",
              "  <div id=\"df-62c0e2eb-2ef8-4cd6-b947-4e92499093ab\">\n",
              "    <div class=\"colab-df-container\">\n",
              "      <div>\n",
              "<style scoped>\n",
              "    .dataframe tbody tr th:only-of-type {\n",
              "        vertical-align: middle;\n",
              "    }\n",
              "\n",
              "    .dataframe tbody tr th {\n",
              "        vertical-align: top;\n",
              "    }\n",
              "\n",
              "    .dataframe thead th {\n",
              "        text-align: right;\n",
              "    }\n",
              "</style>\n",
              "<table border=\"1\" class=\"dataframe\">\n",
              "  <thead>\n",
              "    <tr style=\"text-align: right;\">\n",
              "      <th></th>\n",
              "      <th>en</th>\n",
              "      <th>it</th>\n",
              "    </tr>\n",
              "  </thead>\n",
              "  <tbody>\n",
              "    <tr>\n",
              "      <th>0</th>\n",
              "      <td>Freddy Fazbear's Pizzeria Simulator (alternati...</td>\n",
              "      <td>Freddy Fazbear's Pizzeria Simulator, abbreviat...</td>\n",
              "    </tr>\n",
              "    <tr>\n",
              "      <th>1</th>\n",
              "      <td>A Nintendo Switch and Xbox One port was releas...</td>\n",
              "      <td>Il 31 Ottobre 2020 ne è uscita una versione pe...</td>\n",
              "    </tr>\n",
              "  </tbody>\n",
              "</table>\n",
              "</div>\n",
              "      <button class=\"colab-df-convert\" onclick=\"convertToInteractive('df-62c0e2eb-2ef8-4cd6-b947-4e92499093ab')\"\n",
              "              title=\"Convert this dataframe to an interactive table.\"\n",
              "              style=\"display:none;\">\n",
              "        \n",
              "  <svg xmlns=\"http://www.w3.org/2000/svg\" height=\"24px\"viewBox=\"0 0 24 24\"\n",
              "       width=\"24px\">\n",
              "    <path d=\"M0 0h24v24H0V0z\" fill=\"none\"/>\n",
              "    <path d=\"M18.56 5.44l.94 2.06.94-2.06 2.06-.94-2.06-.94-.94-2.06-.94 2.06-2.06.94zm-11 1L8.5 8.5l.94-2.06 2.06-.94-2.06-.94L8.5 2.5l-.94 2.06-2.06.94zm10 10l.94 2.06.94-2.06 2.06-.94-2.06-.94-.94-2.06-.94 2.06-2.06.94z\"/><path d=\"M17.41 7.96l-1.37-1.37c-.4-.4-.92-.59-1.43-.59-.52 0-1.04.2-1.43.59L10.3 9.45l-7.72 7.72c-.78.78-.78 2.05 0 2.83L4 21.41c.39.39.9.59 1.41.59.51 0 1.02-.2 1.41-.59l7.78-7.78 2.81-2.81c.8-.78.8-2.07 0-2.86zM5.41 20L4 18.59l7.72-7.72 1.47 1.35L5.41 20z\"/>\n",
              "  </svg>\n",
              "      </button>\n",
              "      \n",
              "  <style>\n",
              "    .colab-df-container {\n",
              "      display:flex;\n",
              "      flex-wrap:wrap;\n",
              "      gap: 12px;\n",
              "    }\n",
              "\n",
              "    .colab-df-convert {\n",
              "      background-color: #E8F0FE;\n",
              "      border: none;\n",
              "      border-radius: 50%;\n",
              "      cursor: pointer;\n",
              "      display: none;\n",
              "      fill: #1967D2;\n",
              "      height: 32px;\n",
              "      padding: 0 0 0 0;\n",
              "      width: 32px;\n",
              "    }\n",
              "\n",
              "    .colab-df-convert:hover {\n",
              "      background-color: #E2EBFA;\n",
              "      box-shadow: 0px 1px 2px rgba(60, 64, 67, 0.3), 0px 1px 3px 1px rgba(60, 64, 67, 0.15);\n",
              "      fill: #174EA6;\n",
              "    }\n",
              "\n",
              "    [theme=dark] .colab-df-convert {\n",
              "      background-color: #3B4455;\n",
              "      fill: #D2E3FC;\n",
              "    }\n",
              "\n",
              "    [theme=dark] .colab-df-convert:hover {\n",
              "      background-color: #434B5C;\n",
              "      box-shadow: 0px 1px 3px 1px rgba(0, 0, 0, 0.15);\n",
              "      filter: drop-shadow(0px 1px 2px rgba(0, 0, 0, 0.3));\n",
              "      fill: #FFFFFF;\n",
              "    }\n",
              "  </style>\n",
              "\n",
              "      <script>\n",
              "        const buttonEl =\n",
              "          document.querySelector('#df-62c0e2eb-2ef8-4cd6-b947-4e92499093ab button.colab-df-convert');\n",
              "        buttonEl.style.display =\n",
              "          google.colab.kernel.accessAllowed ? 'block' : 'none';\n",
              "\n",
              "        async function convertToInteractive(key) {\n",
              "          const element = document.querySelector('#df-62c0e2eb-2ef8-4cd6-b947-4e92499093ab');\n",
              "          const dataTable =\n",
              "            await google.colab.kernel.invokeFunction('convertToInteractive',\n",
              "                                                     [key], {});\n",
              "          if (!dataTable) return;\n",
              "\n",
              "          const docLinkHtml = 'Like what you see? Visit the ' +\n",
              "            '<a target=\"_blank\" href=https://colab.research.google.com/notebooks/data_table.ipynb>data table notebook</a>'\n",
              "            + ' to learn more about interactive tables.';\n",
              "          element.innerHTML = '';\n",
              "          dataTable['output_type'] = 'display_data';\n",
              "          await google.colab.output.renderOutput(dataTable, element);\n",
              "          const docLink = document.createElement('div');\n",
              "          docLink.innerHTML = docLinkHtml;\n",
              "          element.appendChild(docLink);\n",
              "        }\n",
              "      </script>\n",
              "    </div>\n",
              "  </div>\n",
              "  "
            ]
          },
          "metadata": {},
          "execution_count": 92
        }
      ]
    }
  ]
}