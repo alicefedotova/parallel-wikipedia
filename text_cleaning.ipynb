{
  "nbformat": 4,
  "nbformat_minor": 0,
  "metadata": {
    "colab": {
      "provenance": [],
      "authorship_tag": "ABX9TyOHYrNlNlvpPC1pe0EKP3iZ",
      "include_colab_link": true
    },
    "kernelspec": {
      "name": "python3",
      "display_name": "Python 3"
    },
    "language_info": {
      "name": "python"
    }
  },
  "cells": [
    {
      "cell_type": "markdown",
      "metadata": {
        "id": "view-in-github",
        "colab_type": "text"
      },
      "source": [
        "<a href=\"https://colab.research.google.com/github/ffedox/pbr/blob/main/text_cleaning.ipynb\" target=\"_parent\"><img src=\"https://colab.research.google.com/assets/colab-badge.svg\" alt=\"Open In Colab\"/></a>"
      ]
    },
    {
      "cell_type": "code",
      "execution_count": 1,
      "metadata": {
        "id": "VzWK0k09YoG4"
      },
      "outputs": [],
      "source": [
        "from nltk.tokenize import word_tokenize\n",
        "import pandas as pd\n",
        "import nltk\n",
        "import os\n",
        "import re"
      ]
    },
    {
      "cell_type": "code",
      "source": [
        "nltk.download('punkt')"
      ],
      "metadata": {
        "colab": {
          "base_uri": "https://localhost:8080/"
        },
        "id": "kHmgOBHqhPUB",
        "outputId": "19c505bb-05eb-4775-b668-028bcde2c08a"
      },
      "execution_count": 2,
      "outputs": [
        {
          "output_type": "stream",
          "name": "stderr",
          "text": [
            "[nltk_data] Downloading package punkt to /root/nltk_data...\n",
            "[nltk_data]   Unzipping tokenizers/punkt.zip.\n"
          ]
        },
        {
          "output_type": "execute_result",
          "data": {
            "text/plain": [
              "True"
            ]
          },
          "metadata": {},
          "execution_count": 2
        }
      ]
    },
    {
      "cell_type": "code",
      "source": [
        "path = os.getcwd()\n",
        "files = os.listdir(path)\n",
        "files"
      ],
      "metadata": {
        "colab": {
          "base_uri": "https://localhost:8080/"
        },
        "id": "wBM0go3gY4xu",
        "outputId": "779a50ef-2391-41ad-94b3-37be81459200"
      },
      "execution_count": 3,
      "outputs": [
        {
          "output_type": "execute_result",
          "data": {
            "text/plain": [
              "['.config',\n",
              " 'parallel_corpus_vg_en_it_9.xlsx',\n",
              " 'parallel_corpus_vg_en_it_11.xlsx',\n",
              " 'parallel_corpus_vg_en_it_2.xlsx',\n",
              " 'parallel_corpus_vg_en_it_3.xlsx',\n",
              " 'parallel_corpus_vg_en_it_12.xlsx',\n",
              " 'parallel_corpus_vg_en_it_6.xlsx',\n",
              " 'parallel_corpus_vg_en_it_10.xlsx',\n",
              " 'parallel_corpus_vg_en_it_7.xlsx',\n",
              " 'parallel_corpus_vg_en_it_4.xlsx',\n",
              " 'parallel_corpus_vg_en_it_1.xlsx',\n",
              " 'parallel_corpus_vg_en_it_8.xlsx',\n",
              " 'parallel_corpus_vg_en_it_5.xlsx',\n",
              " 'sample_data']"
            ]
          },
          "metadata": {},
          "execution_count": 3
        }
      ]
    },
    {
      "cell_type": "code",
      "source": [
        "files_xlsx = [f for f in files if f[-4:] == 'xlsx']\n",
        "files_xlsx"
      ],
      "metadata": {
        "colab": {
          "base_uri": "https://localhost:8080/"
        },
        "id": "SZvOvjw8Y9ko",
        "outputId": "6862b8da-82ad-4ada-8cdd-a7154c7b2e99"
      },
      "execution_count": 4,
      "outputs": [
        {
          "output_type": "execute_result",
          "data": {
            "text/plain": [
              "['parallel_corpus_vg_en_it_9.xlsx',\n",
              " 'parallel_corpus_vg_en_it_11.xlsx',\n",
              " 'parallel_corpus_vg_en_it_2.xlsx',\n",
              " 'parallel_corpus_vg_en_it_3.xlsx',\n",
              " 'parallel_corpus_vg_en_it_12.xlsx',\n",
              " 'parallel_corpus_vg_en_it_6.xlsx',\n",
              " 'parallel_corpus_vg_en_it_10.xlsx',\n",
              " 'parallel_corpus_vg_en_it_7.xlsx',\n",
              " 'parallel_corpus_vg_en_it_4.xlsx',\n",
              " 'parallel_corpus_vg_en_it_1.xlsx',\n",
              " 'parallel_corpus_vg_en_it_8.xlsx',\n",
              " 'parallel_corpus_vg_en_it_5.xlsx']"
            ]
          },
          "metadata": {},
          "execution_count": 4
        }
      ]
    },
    {
      "cell_type": "code",
      "source": [
        "df = pd.DataFrame()"
      ],
      "metadata": {
        "id": "-NeHd81AZCMO"
      },
      "execution_count": 5,
      "outputs": []
    },
    {
      "cell_type": "code",
      "source": [
        "for f in files_xlsx:\n",
        "    data = pd.read_excel(f, index_col=0)\n",
        "    df = df.append(data)"
      ],
      "metadata": {
        "id": "eTdl1lXLZFNf"
      },
      "execution_count": 6,
      "outputs": []
    },
    {
      "cell_type": "code",
      "source": [
        "df = df.drop_duplicates()"
      ],
      "metadata": {
        "id": "cQyrVpRkZwso"
      },
      "execution_count": 7,
      "outputs": []
    },
    {
      "cell_type": "code",
      "source": [
        "df = df.reset_index(drop=True)"
      ],
      "metadata": {
        "id": "2pKkZELhiNgL"
      },
      "execution_count": 8,
      "outputs": []
    },
    {
      "cell_type": "code",
      "source": [
        "df['en'] = df['en'].apply(lambda x: re.sub('\\n', ' ', str(x))) # Replacing newlines with whitespaces\n",
        "df['it'] = df['it'].apply(lambda x: re.sub('\\n', ' ', str(x)))"
      ],
      "metadata": {
        "id": "05PBDyuUcCR5"
      },
      "execution_count": 9,
      "outputs": []
    },
    {
      "cell_type": "code",
      "source": [
        "df['en'] = df['en'].apply(lambda x: re.sub(r'[^ \\nA-Za-z0-9À-ÖØ-öø-ÿ\\/\\-.,;:\"\\']+', '', str(x))) # Remove special characters but not accented letters\n",
        "df['it'] = df['it'].apply(lambda x: re.sub(r'[^ \\nA-Za-z0-9À-ÖØ-öø-ÿ\\/\\-.,;:\"\\']+', '', str(x)))"
      ],
      "metadata": {
        "id": "KZpStyuSfWa4"
      },
      "execution_count": 10,
      "outputs": []
    },
    {
      "cell_type": "code",
      "source": [
        "# Tokenizing the texts\n",
        "df['tokenized_text_en'] = df['en'].apply(word_tokenize) \n",
        "df['token_count_en'] = df['tokenized_text_en'].apply(lambda x: len(x))\n",
        "\n",
        "df['tokenized_text_it'] = df['it'].apply(word_tokenize) \n",
        "df['token_count_it'] = df['tokenized_text_it'].apply(lambda x: len(x))"
      ],
      "metadata": {
        "id": "eQd9T7zXgvJl"
      },
      "execution_count": 11,
      "outputs": []
    },
    {
      "cell_type": "code",
      "source": [
        "# Removing sentences shorter or equal to six tokens\n",
        "df = df[(df['token_count_en'] >= 6)]"
      ],
      "metadata": {
        "id": "AFLD5ygkhM_G"
      },
      "execution_count": 12,
      "outputs": []
    },
    {
      "cell_type": "code",
      "source": [
        "# Removing segments with a token difference larger than 10\n",
        "df['difference'] = df[\"token_count_en\"] - df[\"token_count_it\"]\n",
        "df['difference'] = df['difference'].abs()\n",
        "df2 = df[(df['difference'] > 10)] \n",
        "df = df[(df['difference'] < 10)]"
      ],
      "metadata": {
        "id": "14DtfY2ojVOz"
      },
      "execution_count": 14,
      "outputs": []
    },
    {
      "cell_type": "code",
      "source": [
        "df.to_excel(\"parallel_corpus.xlsx\")  "
      ],
      "metadata": {
        "id": "N-IBMhCcaaLq"
      },
      "execution_count": 17,
      "outputs": []
    },
    {
      "cell_type": "code",
      "source": [
        "df"
      ],
      "metadata": {
        "colab": {
          "base_uri": "https://localhost:8080/",
          "height": 520
        },
        "id": "ldDYnziJZ86F",
        "outputId": "c90b3c3f-4b45-4d9d-a941-79f14c7b6030"
      },
      "execution_count": 15,
      "outputs": [
        {
          "output_type": "execute_result",
          "data": {
            "text/plain": [
              "                                                     en  \\\n",
              "0     Chris Charla of NextGen said, \"As much as we l...   \n",
              "1     If you can find a few copies in the bargain bi...   \n",
              "2     Aerobiz  , \"Air Management: zora ni Kakeru\" is...   \n",
              "3     Another sequel known as Air Management '96 was...   \n",
              "6     It revolves around building and maintaining an...   \n",
              "...                                                 ...   \n",
              "9918  World of Warplanes WoWp is a free-to-play aeri...   \n",
              "9919  The game was originally released in November 2...   \n",
              "9920  Wurm first started its Beta stage in 2003, and...   \n",
              "9921  The distant landscapes were highlighted for th...   \n",
              "9922  Auf den Spuren der letzten Trapper, onlinewelt...   \n",
              "\n",
              "                                                     it  \\\n",
              "0     Chris Charla di NextGen ha dichiarato: \"Per qu...   \n",
              "1     Se riesci a trovare alcune copie nel cestino d...   \n",
              "2     \"Air Management: zora ni Kakeru\" è un videogio...   \n",
              "3     Air Management '96, il terzo sequel per il sol...   \n",
              "6     Il gioco ruota intorno alla costruzione e allo...   \n",
              "...                                                 ...   \n",
              "9918  World of Warplanes è un videogioco free-to pla...   \n",
              "9919  ll gioco venne pubblicato nel novembre 2013 ne...   \n",
              "9920  Nonostante il gioco fu ufficialmente commercia...   \n",
              "9921  I paesaggi sono stati evidenziati per la loro ...   \n",
              "9922  Auf den Spuren der letzten Trapper, onlinewelt...   \n",
              "\n",
              "                                      tokenized_text_en  token_count_en  \\\n",
              "0     [Chris, Charla, of, NextGen, said, ,, ``, As, ...              31   \n",
              "1     [If, you, can, find, a, few, copies, in, the, ...              22   \n",
              "2     [Aerobiz, ,, ``, Air, Management, :, zora, ni,...              32   \n",
              "3     [Another, sequel, known, as, Air, Management, ...              19   \n",
              "6     [It, revolves, around, building, and, maintain...              16   \n",
              "...                                                 ...             ...   \n",
              "9918  [World, of, Warplanes, WoWp, is, a, free-to-pl...              23   \n",
              "9919  [The, game, was, originally, released, in, Nov...              17   \n",
              "9920  [Wurm, first, started, its, Beta, stage, in, 2...              17   \n",
              "9921  [The, distant, landscapes, were, highlighted, ...              23   \n",
              "9922  [Auf, den, Spuren, der, letzten, Trapper, ,, o...              16   \n",
              "\n",
              "                                      tokenized_text_it  token_count_it  \\\n",
              "0     [Chris, Charla, di, NextGen, ha, dichiarato, :...              30   \n",
              "1     [Se, riesci, a, trovare, alcune, copie, nel, c...              21   \n",
              "2     [``, Air, Management, :, zora, ni, Kakeru, '',...              28   \n",
              "3     [Air, Management, '96, ,, il, terzo, sequel, p...              21   \n",
              "6     [Il, gioco, ruota, intorno, alla, costruzione,...              21   \n",
              "...                                                 ...             ...   \n",
              "9918  [World, of, Warplanes, è, un, videogioco, free...              30   \n",
              "9919  [ll, gioco, venne, pubblicato, nel, novembre, ...              19   \n",
              "9920  [Nonostante, il, gioco, fu, ufficialmente, com...              20   \n",
              "9921  [I, paesaggi, sono, stati, evidenziati, per, l...              24   \n",
              "9922  [Auf, den, Spuren, der, letzten, Trapper, ,, o...              21   \n",
              "\n",
              "      difference  \n",
              "0              1  \n",
              "1              1  \n",
              "2              4  \n",
              "3              2  \n",
              "6              5  \n",
              "...          ...  \n",
              "9918           7  \n",
              "9919           2  \n",
              "9920           3  \n",
              "9921           1  \n",
              "9922           5  \n",
              "\n",
              "[8537 rows x 7 columns]"
            ],
            "text/html": [
              "\n",
              "  <div id=\"df-b608cd46-28ab-4638-8666-2543294d5301\">\n",
              "    <div class=\"colab-df-container\">\n",
              "      <div>\n",
              "<style scoped>\n",
              "    .dataframe tbody tr th:only-of-type {\n",
              "        vertical-align: middle;\n",
              "    }\n",
              "\n",
              "    .dataframe tbody tr th {\n",
              "        vertical-align: top;\n",
              "    }\n",
              "\n",
              "    .dataframe thead th {\n",
              "        text-align: right;\n",
              "    }\n",
              "</style>\n",
              "<table border=\"1\" class=\"dataframe\">\n",
              "  <thead>\n",
              "    <tr style=\"text-align: right;\">\n",
              "      <th></th>\n",
              "      <th>en</th>\n",
              "      <th>it</th>\n",
              "      <th>tokenized_text_en</th>\n",
              "      <th>token_count_en</th>\n",
              "      <th>tokenized_text_it</th>\n",
              "      <th>token_count_it</th>\n",
              "      <th>difference</th>\n",
              "    </tr>\n",
              "  </thead>\n",
              "  <tbody>\n",
              "    <tr>\n",
              "      <th>0</th>\n",
              "      <td>Chris Charla of NextGen said, \"As much as we l...</td>\n",
              "      <td>Chris Charla di NextGen ha dichiarato: \"Per qu...</td>\n",
              "      <td>[Chris, Charla, of, NextGen, said, ,, ``, As, ...</td>\n",
              "      <td>31</td>\n",
              "      <td>[Chris, Charla, di, NextGen, ha, dichiarato, :...</td>\n",
              "      <td>30</td>\n",
              "      <td>1</td>\n",
              "    </tr>\n",
              "    <tr>\n",
              "      <th>1</th>\n",
              "      <td>If you can find a few copies in the bargain bi...</td>\n",
              "      <td>Se riesci a trovare alcune copie nel cestino d...</td>\n",
              "      <td>[If, you, can, find, a, few, copies, in, the, ...</td>\n",
              "      <td>22</td>\n",
              "      <td>[Se, riesci, a, trovare, alcune, copie, nel, c...</td>\n",
              "      <td>21</td>\n",
              "      <td>1</td>\n",
              "    </tr>\n",
              "    <tr>\n",
              "      <th>2</th>\n",
              "      <td>Aerobiz  , \"Air Management: zora ni Kakeru\" is...</td>\n",
              "      <td>\"Air Management: zora ni Kakeru\" è un videogio...</td>\n",
              "      <td>[Aerobiz, ,, ``, Air, Management, :, zora, ni,...</td>\n",
              "      <td>32</td>\n",
              "      <td>[``, Air, Management, :, zora, ni, Kakeru, '',...</td>\n",
              "      <td>28</td>\n",
              "      <td>4</td>\n",
              "    </tr>\n",
              "    <tr>\n",
              "      <th>3</th>\n",
              "      <td>Another sequel known as Air Management '96 was...</td>\n",
              "      <td>Air Management '96, il terzo sequel per il sol...</td>\n",
              "      <td>[Another, sequel, known, as, Air, Management, ...</td>\n",
              "      <td>19</td>\n",
              "      <td>[Air, Management, '96, ,, il, terzo, sequel, p...</td>\n",
              "      <td>21</td>\n",
              "      <td>2</td>\n",
              "    </tr>\n",
              "    <tr>\n",
              "      <th>6</th>\n",
              "      <td>It revolves around building and maintaining an...</td>\n",
              "      <td>Il gioco ruota intorno alla costruzione e allo...</td>\n",
              "      <td>[It, revolves, around, building, and, maintain...</td>\n",
              "      <td>16</td>\n",
              "      <td>[Il, gioco, ruota, intorno, alla, costruzione,...</td>\n",
              "      <td>21</td>\n",
              "      <td>5</td>\n",
              "    </tr>\n",
              "    <tr>\n",
              "      <th>...</th>\n",
              "      <td>...</td>\n",
              "      <td>...</td>\n",
              "      <td>...</td>\n",
              "      <td>...</td>\n",
              "      <td>...</td>\n",
              "      <td>...</td>\n",
              "      <td>...</td>\n",
              "    </tr>\n",
              "    <tr>\n",
              "      <th>9918</th>\n",
              "      <td>World of Warplanes WoWp is a free-to-play aeri...</td>\n",
              "      <td>World of Warplanes è un videogioco free-to pla...</td>\n",
              "      <td>[World, of, Warplanes, WoWp, is, a, free-to-pl...</td>\n",
              "      <td>23</td>\n",
              "      <td>[World, of, Warplanes, è, un, videogioco, free...</td>\n",
              "      <td>30</td>\n",
              "      <td>7</td>\n",
              "    </tr>\n",
              "    <tr>\n",
              "      <th>9919</th>\n",
              "      <td>The game was originally released in November 2...</td>\n",
              "      <td>ll gioco venne pubblicato nel novembre 2013 ne...</td>\n",
              "      <td>[The, game, was, originally, released, in, Nov...</td>\n",
              "      <td>17</td>\n",
              "      <td>[ll, gioco, venne, pubblicato, nel, novembre, ...</td>\n",
              "      <td>19</td>\n",
              "      <td>2</td>\n",
              "    </tr>\n",
              "    <tr>\n",
              "      <th>9920</th>\n",
              "      <td>Wurm first started its Beta stage in 2003, and...</td>\n",
              "      <td>Nonostante il gioco fu ufficialmente commercia...</td>\n",
              "      <td>[Wurm, first, started, its, Beta, stage, in, 2...</td>\n",
              "      <td>17</td>\n",
              "      <td>[Nonostante, il, gioco, fu, ufficialmente, com...</td>\n",
              "      <td>20</td>\n",
              "      <td>3</td>\n",
              "    </tr>\n",
              "    <tr>\n",
              "      <th>9921</th>\n",
              "      <td>The distant landscapes were highlighted for th...</td>\n",
              "      <td>I paesaggi sono stati evidenziati per la loro ...</td>\n",
              "      <td>[The, distant, landscapes, were, highlighted, ...</td>\n",
              "      <td>23</td>\n",
              "      <td>[I, paesaggi, sono, stati, evidenziati, per, l...</td>\n",
              "      <td>24</td>\n",
              "      <td>1</td>\n",
              "    </tr>\n",
              "    <tr>\n",
              "      <th>9922</th>\n",
              "      <td>Auf den Spuren der letzten Trapper, onlinewelt...</td>\n",
              "      <td>Auf den Spuren der letzten Trapper, onlinewelt...</td>\n",
              "      <td>[Auf, den, Spuren, der, letzten, Trapper, ,, o...</td>\n",
              "      <td>16</td>\n",
              "      <td>[Auf, den, Spuren, der, letzten, Trapper, ,, o...</td>\n",
              "      <td>21</td>\n",
              "      <td>5</td>\n",
              "    </tr>\n",
              "  </tbody>\n",
              "</table>\n",
              "<p>8537 rows × 7 columns</p>\n",
              "</div>\n",
              "      <button class=\"colab-df-convert\" onclick=\"convertToInteractive('df-b608cd46-28ab-4638-8666-2543294d5301')\"\n",
              "              title=\"Convert this dataframe to an interactive table.\"\n",
              "              style=\"display:none;\">\n",
              "        \n",
              "  <svg xmlns=\"http://www.w3.org/2000/svg\" height=\"24px\"viewBox=\"0 0 24 24\"\n",
              "       width=\"24px\">\n",
              "    <path d=\"M0 0h24v24H0V0z\" fill=\"none\"/>\n",
              "    <path d=\"M18.56 5.44l.94 2.06.94-2.06 2.06-.94-2.06-.94-.94-2.06-.94 2.06-2.06.94zm-11 1L8.5 8.5l.94-2.06 2.06-.94-2.06-.94L8.5 2.5l-.94 2.06-2.06.94zm10 10l.94 2.06.94-2.06 2.06-.94-2.06-.94-.94-2.06-.94 2.06-2.06.94z\"/><path d=\"M17.41 7.96l-1.37-1.37c-.4-.4-.92-.59-1.43-.59-.52 0-1.04.2-1.43.59L10.3 9.45l-7.72 7.72c-.78.78-.78 2.05 0 2.83L4 21.41c.39.39.9.59 1.41.59.51 0 1.02-.2 1.41-.59l7.78-7.78 2.81-2.81c.8-.78.8-2.07 0-2.86zM5.41 20L4 18.59l7.72-7.72 1.47 1.35L5.41 20z\"/>\n",
              "  </svg>\n",
              "      </button>\n",
              "      \n",
              "  <style>\n",
              "    .colab-df-container {\n",
              "      display:flex;\n",
              "      flex-wrap:wrap;\n",
              "      gap: 12px;\n",
              "    }\n",
              "\n",
              "    .colab-df-convert {\n",
              "      background-color: #E8F0FE;\n",
              "      border: none;\n",
              "      border-radius: 50%;\n",
              "      cursor: pointer;\n",
              "      display: none;\n",
              "      fill: #1967D2;\n",
              "      height: 32px;\n",
              "      padding: 0 0 0 0;\n",
              "      width: 32px;\n",
              "    }\n",
              "\n",
              "    .colab-df-convert:hover {\n",
              "      background-color: #E2EBFA;\n",
              "      box-shadow: 0px 1px 2px rgba(60, 64, 67, 0.3), 0px 1px 3px 1px rgba(60, 64, 67, 0.15);\n",
              "      fill: #174EA6;\n",
              "    }\n",
              "\n",
              "    [theme=dark] .colab-df-convert {\n",
              "      background-color: #3B4455;\n",
              "      fill: #D2E3FC;\n",
              "    }\n",
              "\n",
              "    [theme=dark] .colab-df-convert:hover {\n",
              "      background-color: #434B5C;\n",
              "      box-shadow: 0px 1px 3px 1px rgba(0, 0, 0, 0.15);\n",
              "      filter: drop-shadow(0px 1px 2px rgba(0, 0, 0, 0.3));\n",
              "      fill: #FFFFFF;\n",
              "    }\n",
              "  </style>\n",
              "\n",
              "      <script>\n",
              "        const buttonEl =\n",
              "          document.querySelector('#df-b608cd46-28ab-4638-8666-2543294d5301 button.colab-df-convert');\n",
              "        buttonEl.style.display =\n",
              "          google.colab.kernel.accessAllowed ? 'block' : 'none';\n",
              "\n",
              "        async function convertToInteractive(key) {\n",
              "          const element = document.querySelector('#df-b608cd46-28ab-4638-8666-2543294d5301');\n",
              "          const dataTable =\n",
              "            await google.colab.kernel.invokeFunction('convertToInteractive',\n",
              "                                                     [key], {});\n",
              "          if (!dataTable) return;\n",
              "\n",
              "          const docLinkHtml = 'Like what you see? Visit the ' +\n",
              "            '<a target=\"_blank\" href=https://colab.research.google.com/notebooks/data_table.ipynb>data table notebook</a>'\n",
              "            + ' to learn more about interactive tables.';\n",
              "          element.innerHTML = '';\n",
              "          dataTable['output_type'] = 'display_data';\n",
              "          await google.colab.output.renderOutput(dataTable, element);\n",
              "          const docLink = document.createElement('div');\n",
              "          docLink.innerHTML = docLinkHtml;\n",
              "          element.appendChild(docLink);\n",
              "        }\n",
              "      </script>\n",
              "    </div>\n",
              "  </div>\n",
              "  "
            ]
          },
          "metadata": {},
          "execution_count": 15
        }
      ]
    }
  ]
}