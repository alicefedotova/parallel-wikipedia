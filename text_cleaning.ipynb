{
  "nbformat": 4,
  "nbformat_minor": 0,
  "metadata": {
    "colab": {
      "provenance": [],
      "authorship_tag": "ABX9TyMudRtYo4Xrj391IUg3/MkT",
      "include_colab_link": true
    },
    "kernelspec": {
      "name": "python3",
      "display_name": "Python 3"
    },
    "language_info": {
      "name": "python"
    }
  },
  "cells": [
    {
      "cell_type": "markdown",
      "metadata": {
        "id": "view-in-github",
        "colab_type": "text"
      },
      "source": [
        "<a href=\"https://colab.research.google.com/github/ffedox/pbr/blob/main/text_cleaning.ipynb\" target=\"_parent\"><img src=\"https://colab.research.google.com/assets/colab-badge.svg\" alt=\"Open In Colab\"/></a>"
      ]
    },
    {
      "cell_type": "code",
      "execution_count": 29,
      "metadata": {
        "id": "VzWK0k09YoG4"
      },
      "outputs": [],
      "source": [
        "from nltk.tokenize import word_tokenize\n",
        "import pandas as pd\n",
        "import nltk\n",
        "import os\n",
        "import re"
      ]
    },
    {
      "cell_type": "code",
      "source": [
        "nltk.download('punkt')"
      ],
      "metadata": {
        "colab": {
          "base_uri": "https://localhost:8080/"
        },
        "id": "kHmgOBHqhPUB",
        "outputId": "b15a96dd-f30d-4aee-9c81-cdb87fa04172"
      },
      "execution_count": 28,
      "outputs": [
        {
          "output_type": "stream",
          "name": "stderr",
          "text": [
            "[nltk_data] Downloading package punkt to /root/nltk_data...\n",
            "[nltk_data]   Package punkt is already up-to-date!\n"
          ]
        },
        {
          "output_type": "execute_result",
          "data": {
            "text/plain": [
              "True"
            ]
          },
          "metadata": {},
          "execution_count": 28
        }
      ]
    },
    {
      "cell_type": "markdown",
      "source": [
        "# This section is to merge .xlsx files"
      ],
      "metadata": {
        "id": "u3vqYBVcgJ4t"
      }
    },
    {
      "cell_type": "code",
      "source": [
        "path = os.getcwd()\n",
        "files = os.listdir(path)\n",
        "files"
      ],
      "metadata": {
        "colab": {
          "base_uri": "https://localhost:8080/"
        },
        "id": "wBM0go3gY4xu",
        "outputId": "a259a7db-7758-4e72-ed4f-728f89dee44a"
      },
      "execution_count": 30,
      "outputs": [
        {
          "output_type": "execute_result",
          "data": {
            "text/plain": [
              "['.config',\n",
              " 'parallel_corpus_vg_en_it_3.xlsx',\n",
              " 'drive',\n",
              " 'parallel_corpus_vg_en_it_5.xlsx',\n",
              " 'parallel_corpus_vg_en_it_19.xlsx',\n",
              " 'parallel_corpus_vg_en_it_12.xlsx',\n",
              " 'parallel_corpus_vg_en_it_13.xlsx',\n",
              " 'parallel_corpus_vg_en_it_18.xlsx',\n",
              " 'parallel_corpus_vg_en_it_10.xlsx',\n",
              " 'parallel_corpus_vg_en_it_16.xlsx',\n",
              " 'parallel_corpus_vg_en_it_15.xlsx',\n",
              " 'parallel_corpus_vg_en_it_8.xlsx',\n",
              " 'parallel_corpus_vg_en_it_20.xlsx',\n",
              " 'parallel_corpus_vg_en_it_9.xlsx',\n",
              " 'parallel_corpus_vg_en_it_14.xlsx',\n",
              " 'parallel_corpus_vg_en_it_2.xlsx',\n",
              " 'parallel_corpus_vg_en_it_11.xlsx',\n",
              " 'parallel_corpus_vg_en_it_1.xlsx',\n",
              " 'parallel_corpus_vg_en_it_7.xlsx',\n",
              " 'parallel_corpus_vg_en_it_21.xlsx',\n",
              " 'parallel_corpus_vg_en_it_4.xlsx',\n",
              " 'parallel_corpus_vg_en_it_17.xlsx',\n",
              " 'parallel_corpus_vg_en_it_6.xlsx',\n",
              " 'sample_data']"
            ]
          },
          "metadata": {},
          "execution_count": 30
        }
      ]
    },
    {
      "cell_type": "code",
      "source": [
        "files_xlsx = [f for f in files if f[-4:] == 'xlsx']\n",
        "files_xlsx"
      ],
      "metadata": {
        "colab": {
          "base_uri": "https://localhost:8080/"
        },
        "id": "SZvOvjw8Y9ko",
        "outputId": "042213a7-c816-41a4-da25-477c3ba18478"
      },
      "execution_count": 31,
      "outputs": [
        {
          "output_type": "execute_result",
          "data": {
            "text/plain": [
              "['parallel_corpus_vg_en_it_3.xlsx',\n",
              " 'parallel_corpus_vg_en_it_5.xlsx',\n",
              " 'parallel_corpus_vg_en_it_19.xlsx',\n",
              " 'parallel_corpus_vg_en_it_12.xlsx',\n",
              " 'parallel_corpus_vg_en_it_13.xlsx',\n",
              " 'parallel_corpus_vg_en_it_18.xlsx',\n",
              " 'parallel_corpus_vg_en_it_10.xlsx',\n",
              " 'parallel_corpus_vg_en_it_16.xlsx',\n",
              " 'parallel_corpus_vg_en_it_15.xlsx',\n",
              " 'parallel_corpus_vg_en_it_8.xlsx',\n",
              " 'parallel_corpus_vg_en_it_20.xlsx',\n",
              " 'parallel_corpus_vg_en_it_9.xlsx',\n",
              " 'parallel_corpus_vg_en_it_14.xlsx',\n",
              " 'parallel_corpus_vg_en_it_2.xlsx',\n",
              " 'parallel_corpus_vg_en_it_11.xlsx',\n",
              " 'parallel_corpus_vg_en_it_1.xlsx',\n",
              " 'parallel_corpus_vg_en_it_7.xlsx',\n",
              " 'parallel_corpus_vg_en_it_21.xlsx',\n",
              " 'parallel_corpus_vg_en_it_4.xlsx',\n",
              " 'parallel_corpus_vg_en_it_17.xlsx',\n",
              " 'parallel_corpus_vg_en_it_6.xlsx']"
            ]
          },
          "metadata": {},
          "execution_count": 31
        }
      ]
    },
    {
      "cell_type": "code",
      "source": [
        "df = pd.DataFrame()"
      ],
      "metadata": {
        "id": "-NeHd81AZCMO"
      },
      "execution_count": 32,
      "outputs": []
    },
    {
      "cell_type": "code",
      "source": [
        "for f in files_xlsx:\n",
        "    data = pd.read_excel(f, index_col=0)\n",
        "    df = df.append(data)"
      ],
      "metadata": {
        "id": "eTdl1lXLZFNf"
      },
      "execution_count": 33,
      "outputs": []
    },
    {
      "cell_type": "code",
      "source": [
        "df = df.drop_duplicates()"
      ],
      "metadata": {
        "id": "cQyrVpRkZwso"
      },
      "execution_count": 34,
      "outputs": []
    },
    {
      "cell_type": "code",
      "source": [
        "df['en'] = df['en'].apply(lambda x: re.sub('\\n', ' ', str(x))) # Replacing newlines with whitespaces\n",
        "df['it'] = df['it'].apply(lambda x: re.sub('\\n', ' ', str(x)))"
      ],
      "metadata": {
        "id": "05PBDyuUcCR5"
      },
      "execution_count": 35,
      "outputs": []
    },
    {
      "cell_type": "code",
      "source": [
        "df['en'] = df['en'].apply(lambda x: re.sub(r'[^ \\nA-Za-z0-9À-ÖØ-öø-ÿ\\/\\-.,;:\"\\']+', '', str(x))) # Remove special characters but not accented letters\n",
        "df['it'] = df['it'].apply(lambda x: re.sub(r'[^ \\nA-Za-z0-9À-ÖØ-öø-ÿ\\/\\-.,;:\"\\']+', '', str(x)))"
      ],
      "metadata": {
        "id": "KZpStyuSfWa4"
      },
      "execution_count": 36,
      "outputs": []
    },
    {
      "cell_type": "code",
      "source": [
        "# Tokenizing the texts\n",
        "df['tokenized_text_en'] = df['en'].apply(word_tokenize) \n",
        "df['token_count_en'] = df['tokenized_text_en'].apply(lambda x: len(x))\n",
        "\n",
        "df['tokenized_text_it'] = df['it'].apply(word_tokenize) \n",
        "df['token_count_it'] = df['tokenized_text_it'].apply(lambda x: len(x))"
      ],
      "metadata": {
        "id": "eQd9T7zXgvJl"
      },
      "execution_count": 37,
      "outputs": []
    },
    {
      "cell_type": "code",
      "source": [
        "# Removing sentences shorter or equal to six tokens\n",
        "df = df[(df['token_count_en'] >= 6)]"
      ],
      "metadata": {
        "id": "AFLD5ygkhM_G"
      },
      "execution_count": null,
      "outputs": []
    },
    {
      "cell_type": "code",
      "source": [
        "# Removing segments with a token difference larger than 10\n",
        "df['difference'] = df[\"token_count_en\"] - df[\"token_count_it\"]\n",
        "df['difference'] = df['difference'].abs()\n",
        "df2 = df[(df['difference'] > 10)] # Storing these so that we can analyze them later\n",
        "df = df[(df['difference'] < 10)]"
      ],
      "metadata": {
        "id": "14DtfY2ojVOz"
      },
      "execution_count": null,
      "outputs": []
    },
    {
      "cell_type": "code",
      "source": [
        "df['difference'] = df[\"token_count_en\"] - df[\"token_count_it\"]\n",
        "df['difference'] = df['difference'].abs()"
      ],
      "metadata": {
        "id": "GfP_jWmE7F39"
      },
      "execution_count": 38,
      "outputs": []
    },
    {
      "cell_type": "code",
      "source": [
        "total_tokens_en = df['token_count_en'].sum()\n",
        "total_tokens_it = df['token_count_it'].sum()"
      ],
      "metadata": {
        "id": "TC0pqQ0ZZYN-"
      },
      "execution_count": null,
      "outputs": []
    },
    {
      "cell_type": "code",
      "source": [
        "mean_sentence_en = df['token_count_en'].mean()\n",
        "mean_sentence_it = df['token_count_it'].mean()"
      ],
      "metadata": {
        "id": "LnQ4jR-z9Ojw"
      },
      "execution_count": 71,
      "outputs": []
    },
    {
      "cell_type": "code",
      "source": [
        "print(mean_sentence_en)"
      ],
      "metadata": {
        "id": "jPSYrUuM9gHh",
        "outputId": "cc147db5-8ca5-4002-9f03-cd2398cffe06",
        "colab": {
          "base_uri": "https://localhost:8080/"
        }
      },
      "execution_count": 72,
      "outputs": [
        {
          "output_type": "stream",
          "name": "stdout",
          "text": [
            "26.727158529436394\n"
          ]
        }
      ]
    },
    {
      "cell_type": "code",
      "source": [
        "print(mean_sentence_it)"
      ],
      "metadata": {
        "id": "5RGJTQF49hNM",
        "outputId": "9eb9c6d6-2265-45b8-9396-fc73b58222ac",
        "colab": {
          "base_uri": "https://localhost:8080/"
        }
      },
      "execution_count": 73,
      "outputs": [
        {
          "output_type": "stream",
          "name": "stdout",
          "text": [
            "27.742483879072104\n"
          ]
        }
      ]
    },
    {
      "cell_type": "code",
      "source": [
        "print(total_tokens_en)"
      ],
      "metadata": {
        "id": "ZgVSxYFYZslS",
        "outputId": "39e10d95-61f2-4aef-a18c-6d19c91006c5",
        "colab": {
          "base_uri": "https://localhost:8080/"
        }
      },
      "execution_count": null,
      "outputs": [
        {
          "output_type": "stream",
          "name": "stdout",
          "text": [
            "259412\n"
          ]
        }
      ]
    },
    {
      "cell_type": "code",
      "source": [
        "print(total_tokens_it)"
      ],
      "metadata": {
        "id": "uiA_PO7RZt0T",
        "outputId": "f6f7fbbd-c652-4f41-92c1-6dbf5202a333",
        "colab": {
          "base_uri": "https://localhost:8080/"
        }
      },
      "execution_count": null,
      "outputs": [
        {
          "output_type": "stream",
          "name": "stdout",
          "text": [
            "265407\n"
          ]
        }
      ]
    },
    {
      "cell_type": "code",
      "source": [
        "df = df.reset_index(drop=True)"
      ],
      "metadata": {
        "id": "2pKkZELhiNgL"
      },
      "execution_count": null,
      "outputs": []
    },
    {
      "cell_type": "code",
      "source": [
        "# df.to_excel(\"parallel_corpus.xlsx\")  "
      ],
      "metadata": {
        "id": "N-IBMhCcaaLq"
      },
      "execution_count": null,
      "outputs": []
    }
  ]
}