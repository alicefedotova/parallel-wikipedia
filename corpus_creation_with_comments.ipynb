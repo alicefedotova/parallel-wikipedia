{
  "nbformat": 4,
  "nbformat_minor": 0,
  "metadata": {
    "colab": {
      "provenance": [],
      "authorship_tag": "ABX9TyM/VoZA5mYHukwicw6wTKDq",
      "include_colab_link": true
    },
    "kernelspec": {
      "name": "python3",
      "display_name": "Python 3"
    },
    "language_info": {
      "name": "python"
    }
  },
  "cells": [
    {
      "cell_type": "markdown",
      "metadata": {
        "id": "view-in-github",
        "colab_type": "text"
      },
      "source": [
        "<a href=\"https://colab.research.google.com/github/ffedox/pbr/blob/main/corpus_creation_with_comments.ipynb\" target=\"_parent\"><img src=\"https://colab.research.google.com/assets/colab-badge.svg\" alt=\"Open In Colab\"/></a>"
      ]
    },
    {
      "cell_type": "markdown",
      "source": [
        "# Extracting a domain-specific parallel corpus from Wikipedia"
      ],
      "metadata": {
        "id": "GpNfRNZlXUtM"
      }
    },
    {
      "cell_type": "markdown",
      "source": [
        "# 1. Setup"
      ],
      "metadata": {
        "id": "3cNlMWd_XYgR"
      }
    },
    {
      "cell_type": "markdown",
      "source": [
        "## 1.1 Wikipedia API"
      ],
      "metadata": {
        "id": "czRX_YxkXoEj"
      }
    },
    {
      "cell_type": "markdown",
      "source": [
        "[Wikipedia-API](https://github.com/martin-majlis/Wikipedia-API) is a Python wrapper for Wikipedias' API. It supports extracting texts, sections, links, categories, translations, etc from Wikipedia."
      ],
      "metadata": {
        "id": "s0be9vWTXcrv"
      }
    },
    {
      "cell_type": "code",
      "execution_count": 1,
      "metadata": {
        "id": "QvrwAFtyXUZY"
      },
      "outputs": [],
      "source": [
        "!pip install wikipedia-api --quiet"
      ]
    },
    {
      "cell_type": "markdown",
      "source": [
        "## 1.2 Sentence Transformers\n",
        "\n"
      ],
      "metadata": {
        "id": "SGYAHuzoXm8e"
      }
    },
    {
      "cell_type": "markdown",
      "source": [
        "[Sentence Transformers](https://www.sbert.net/) is a Python framework for state-of-the-art sentence, text and image embeddings. "
      ],
      "metadata": {
        "id": "1jfnjNU7Xv0t"
      }
    },
    {
      "cell_type": "code",
      "source": [
        "!pip install sentence-transformers --quiet"
      ],
      "metadata": {
        "id": "c6CK2cyDXwKi"
      },
      "execution_count": null,
      "outputs": []
    },
    {
      "cell_type": "markdown",
      "source": [
        "## 1.3 Imports"
      ],
      "metadata": {
        "id": "0-Zy9qgqYWkU"
      }
    },
    {
      "cell_type": "code",
      "source": [
        "from sentence_transformers import models, SentenceTransformer\n",
        "from json import JSONDecodeError\n",
        "\n",
        "import wikipediaapi\n",
        "\n",
        "import pandas as pd\n",
        "import numpy as np\n",
        "import scipy\n",
        "\n",
        "from nltk.tokenize import sent_tokenize\n",
        "import nltk\n",
        "\n",
        "nltk.download('punkt')"
      ],
      "metadata": {
        "colab": {
          "base_uri": "https://localhost:8080/"
        },
        "id": "gEY0JugNYjpX",
        "outputId": "a9de1498-9dd0-403a-f77f-e9f7cfe694ed"
      },
      "execution_count": 22,
      "outputs": [
        {
          "output_type": "stream",
          "name": "stderr",
          "text": [
            "[nltk_data] Downloading package punkt to /root/nltk_data...\n",
            "[nltk_data]   Package punkt is already up-to-date!\n"
          ]
        },
        {
          "output_type": "execute_result",
          "data": {
            "text/plain": [
              "True"
            ]
          },
          "metadata": {},
          "execution_count": 22
        }
      ]
    },
    {
      "cell_type": "markdown",
      "source": [
        "# 2. Extracting an IT-EN comparable corpus from Category: pages"
      ],
      "metadata": {
        "id": "REpfd_uhY5lS"
      }
    },
    {
      "cell_type": "markdown",
      "source": [
        "First we will extract a comparable corpus by scraping Category: pages in Italian (it is more likely to find correspondences from IT to EN than the other way around)."
      ],
      "metadata": {
        "id": "2--kOfviZIJ4"
      }
    },
    {
      "cell_type": "markdown",
      "source": [
        "For each page linked in the IT Category: page, we will be retrieving the EN equivalent."
      ],
      "metadata": {
        "id": "OPKtgZNWZYn4"
      }
    },
    {
      "cell_type": "markdown",
      "source": [
        "*Here, we will limit the search to the summaries (first paragraph in each Wikipedia entry).* Maybe not?"
      ],
      "metadata": {
        "id": "72NMS0uaaE-K"
      }
    },
    {
      "cell_type": "markdown",
      "source": [
        "## 2.1 Extracting the IT articles from the Category"
      ],
      "metadata": {
        "id": "W2b1tIpecTlg"
      }
    },
    {
      "cell_type": "code",
      "source": [
        "page_titles = []\n",
        "page_texts_it = []\n",
        "\n",
        "def get_it_articles(category, page_titles, page_texts_it):\n",
        "\n",
        "  wiki_wiki = wikipediaapi.Wikipedia('it')\n",
        "  cat = wiki_wiki.page(category)   # category should be like .page(\"Categoria:Survival_horror\")\n",
        "\n",
        "  for p in cat.categorymembers.values():\n",
        "    if p.namespace == wikipediaapi.Namespace.MAIN:\n",
        "      # it is page => we can get text\n",
        "      page_titles.append(p.title)\n",
        "      page_texts_it.append(p.text)"
      ],
      "metadata": {
        "id": "1PzyPtMObURS"
      },
      "execution_count": 6,
      "outputs": []
    },
    {
      "cell_type": "code",
      "source": [
        "get_it_articles('Categoria:Videogiochi_in_realtà_virtuale', page_titles, page_texts_it)"
      ],
      "metadata": {
        "id": "4D89ZsPPb5tU"
      },
      "execution_count": 9,
      "outputs": []
    },
    {
      "cell_type": "markdown",
      "source": [
        "## 2.2 Extracting the corresponding EN articles"
      ],
      "metadata": {
        "id": "bKiJqtQlcXBd"
      }
    },
    {
      "cell_type": "markdown",
      "source": [
        "By leveraging the previously obtained titles, we can search for the equivalent pages on the EN Wikipedia."
      ],
      "metadata": {
        "id": "EDlC3ngacbgv"
      }
    },
    {
      "cell_type": "code",
      "source": [
        "page_texts_en = []\n",
        "\n",
        "def get_langlinks(page, page_texts_en):\n",
        "\n",
        "        langlinks = page.langlinks\n",
        "\n",
        "        for k in sorted(langlinks.keys()):\n",
        "            v = langlinks[k]\n",
        "\n",
        "        try:\n",
        "          page_en = page.langlinks['en']\n",
        "          page_texts_en.append(page_en.text)\n",
        "\n",
        "        except KeyError:\n",
        "          page_texts_en.append(str('No match'))\n",
        "          \n",
        "        except JSONDecodeError:\n",
        "           page_texts_en.append(str('No match'))"
      ],
      "metadata": {
        "id": "p-a8akWmZFST"
      },
      "execution_count": 13,
      "outputs": []
    },
    {
      "cell_type": "code",
      "source": [
        "def get_en_articles(page_titles, page_texts_en):\n",
        "\n",
        "  for title in page_titles:\n",
        "\n",
        "    wiki_wiki = wikipediaapi.Wikipedia('it')\n",
        "    page = wiki_wiki.page(str(title))\n",
        "    get_langlinks(page, page_texts_en)"
      ],
      "metadata": {
        "id": "_OnZucgQbAXQ"
      },
      "execution_count": 14,
      "outputs": []
    },
    {
      "cell_type": "code",
      "source": [
        "get_en_articles(page_titles, page_texts_en)"
      ],
      "metadata": {
        "id": "hdpRsTX2dDTc"
      },
      "execution_count": 15,
      "outputs": []
    },
    {
      "cell_type": "markdown",
      "source": [
        "## 2.3 Comparable IT-EN corpus"
      ],
      "metadata": {
        "id": "PfcOkZbBdSdR"
      }
    },
    {
      "cell_type": "markdown",
      "source": [
        "We merge the IT and the EN pages to obtain a comparable corpus."
      ],
      "metadata": {
        "id": "tFu7FjzBdehY"
      }
    },
    {
      "cell_type": "code",
      "source": [
        "comparable_corpus_vg = pd.DataFrame(np.column_stack([page_texts_en, page_texts_it]), \n",
        "                               columns=['en', 'it'])"
      ],
      "metadata": {
        "id": "-gzx7eLUdXtl"
      },
      "execution_count": 17,
      "outputs": []
    },
    {
      "cell_type": "markdown",
      "source": [
        "Now we only need to drop the rows where no English equivalent was found."
      ],
      "metadata": {
        "id": "Ul29Pxtadi62"
      }
    },
    {
      "cell_type": "code",
      "source": [
        "comparable_corpus_vg = comparable_corpus_vg[comparable_corpus_vg['en'].str.contains('No match')==False].reset_index(drop=True)"
      ],
      "metadata": {
        "id": "7xNDNaQJdlol"
      },
      "execution_count": 18,
      "outputs": []
    },
    {
      "cell_type": "markdown",
      "source": [
        "End result:"
      ],
      "metadata": {
        "id": "-EAlzKALdsMd"
      }
    },
    {
      "cell_type": "code",
      "source": [
        "comparable_corpus_vg"
      ],
      "metadata": {
        "colab": {
          "base_uri": "https://localhost:8080/",
          "height": 708
        },
        "id": "19PNhKjkdtBL",
        "outputId": "e4209d3e-33c7-470d-c6eb-3bd1ede64929"
      },
      "execution_count": 20,
      "outputs": [
        {
          "output_type": "execute_result",
          "data": {
            "text/plain": [
              "                                                   en  \\\n",
              "0   Astro Bot Rescue Mission is a 2018 platform vi...   \n",
              "1   Batman: Arkham VR is a virtual reality adventu...   \n",
              "2   Beat Saber is a virtual reality rhythm game de...   \n",
              "3   Blood & Truth is a first-person shooter develo...   \n",
              "4   Dreams is a game creation system video game de...   \n",
              "5   Farpoint is a virtual reality first-person sho...   \n",
              "6   Five Nights at Freddy's: Help Wanted is a 2019...   \n",
              "7   The Forest is a survival horror video game dev...   \n",
              "8   Golem is a video game developed by Highwire Ga...   \n",
              "9   Half-Life: Alyx is a 2020 virtual reality (VR)...   \n",
              "10  The Inpatient is a psychological horror video ...   \n",
              "11  Mekorama is a puzzle game created by indie gam...   \n",
              "12  Microsoft Flight Simulator is an amateur fligh...   \n",
              "13  No Man's Sky is an action-adventure survival g...   \n",
              "14  Phasmophobia is a paranormal horror game devel...   \n",
              "15  PlayStation VR Worlds is a video game compilat...   \n",
              "16  Resident Evil 7: Biohazard is a 2017 survival ...   \n",
              "17  Robinson: The Journey is a virtual reality vid...   \n",
              "18  Star Wars: Squadrons is a  space combat game s...   \n",
              "19  Tekken 7 (鉄拳7) is a fighting game developed an...   \n",
              "20  Until Dawn: Rush of Blood is a rail shooter de...   \n",
              "\n",
              "                                                   it  \n",
              "0   Astro Bot Rescue Mission è un videogioco a pia...  \n",
              "1   Batman: Arkham VR è un videogioco di avventura...  \n",
              "2   Beat Saber è un rhythm game in realtà virtuale...  \n",
              "3   Blood & Truth è uno sparatutto in prima person...  \n",
              "4   Dreams è un videogioco di tipo sandbox svilupp...  \n",
              "5   Farpoint è un videogioco sparatutto in prima p...  \n",
              "6   Five Nights at Freddy's: Help Wanted (abbrevia...  \n",
              "7   The Forest è un videogioco in prima persona, d...  \n",
              "8   Golem è un videogioco sviluppato da Highware G...  \n",
              "9   Half-Life: Alyx è un videogioco di genere spar...  \n",
              "10  The Inpatient è un videogioco survival-horror ...  \n",
              "11  Mekorama è un videogioco puzzle tridimensional...  \n",
              "12  Microsoft Flight Simulator (detto anche Flight...  \n",
              "13  No Man's Sky è un videogioco action-adventure ...  \n",
              "14  Phasmophobia è un videogioco horror indie svil...  \n",
              "15  PlayStation VR Worlds è una raccolta di videog...  \n",
              "16  Resident Evil 7: Biohazard (reso graficamente ...  \n",
              "17  Robinson: The Journey è un videogioco per real...  \n",
              "18  Star Wars: Squadrons è un videogioco di combat...  \n",
              "19  Tekken 7 (鉄拳7?) è un videogioco picchiaduro sv...  \n",
              "20  Until Dawn: Rush of Blood è un videogioco di g...  "
            ],
            "text/html": [
              "\n",
              "  <div id=\"df-c135a59f-aaf4-4866-b87e-fee685df55bc\">\n",
              "    <div class=\"colab-df-container\">\n",
              "      <div>\n",
              "<style scoped>\n",
              "    .dataframe tbody tr th:only-of-type {\n",
              "        vertical-align: middle;\n",
              "    }\n",
              "\n",
              "    .dataframe tbody tr th {\n",
              "        vertical-align: top;\n",
              "    }\n",
              "\n",
              "    .dataframe thead th {\n",
              "        text-align: right;\n",
              "    }\n",
              "</style>\n",
              "<table border=\"1\" class=\"dataframe\">\n",
              "  <thead>\n",
              "    <tr style=\"text-align: right;\">\n",
              "      <th></th>\n",
              "      <th>en</th>\n",
              "      <th>it</th>\n",
              "    </tr>\n",
              "  </thead>\n",
              "  <tbody>\n",
              "    <tr>\n",
              "      <th>0</th>\n",
              "      <td>Astro Bot Rescue Mission is a 2018 platform vi...</td>\n",
              "      <td>Astro Bot Rescue Mission è un videogioco a pia...</td>\n",
              "    </tr>\n",
              "    <tr>\n",
              "      <th>1</th>\n",
              "      <td>Batman: Arkham VR is a virtual reality adventu...</td>\n",
              "      <td>Batman: Arkham VR è un videogioco di avventura...</td>\n",
              "    </tr>\n",
              "    <tr>\n",
              "      <th>2</th>\n",
              "      <td>Beat Saber is a virtual reality rhythm game de...</td>\n",
              "      <td>Beat Saber è un rhythm game in realtà virtuale...</td>\n",
              "    </tr>\n",
              "    <tr>\n",
              "      <th>3</th>\n",
              "      <td>Blood &amp; Truth is a first-person shooter develo...</td>\n",
              "      <td>Blood &amp; Truth è uno sparatutto in prima person...</td>\n",
              "    </tr>\n",
              "    <tr>\n",
              "      <th>4</th>\n",
              "      <td>Dreams is a game creation system video game de...</td>\n",
              "      <td>Dreams è un videogioco di tipo sandbox svilupp...</td>\n",
              "    </tr>\n",
              "    <tr>\n",
              "      <th>5</th>\n",
              "      <td>Farpoint is a virtual reality first-person sho...</td>\n",
              "      <td>Farpoint è un videogioco sparatutto in prima p...</td>\n",
              "    </tr>\n",
              "    <tr>\n",
              "      <th>6</th>\n",
              "      <td>Five Nights at Freddy's: Help Wanted is a 2019...</td>\n",
              "      <td>Five Nights at Freddy's: Help Wanted (abbrevia...</td>\n",
              "    </tr>\n",
              "    <tr>\n",
              "      <th>7</th>\n",
              "      <td>The Forest is a survival horror video game dev...</td>\n",
              "      <td>The Forest è un videogioco in prima persona, d...</td>\n",
              "    </tr>\n",
              "    <tr>\n",
              "      <th>8</th>\n",
              "      <td>Golem is a video game developed by Highwire Ga...</td>\n",
              "      <td>Golem è un videogioco sviluppato da Highware G...</td>\n",
              "    </tr>\n",
              "    <tr>\n",
              "      <th>9</th>\n",
              "      <td>Half-Life: Alyx is a 2020 virtual reality (VR)...</td>\n",
              "      <td>Half-Life: Alyx è un videogioco di genere spar...</td>\n",
              "    </tr>\n",
              "    <tr>\n",
              "      <th>10</th>\n",
              "      <td>The Inpatient is a psychological horror video ...</td>\n",
              "      <td>The Inpatient è un videogioco survival-horror ...</td>\n",
              "    </tr>\n",
              "    <tr>\n",
              "      <th>11</th>\n",
              "      <td>Mekorama is a puzzle game created by indie gam...</td>\n",
              "      <td>Mekorama è un videogioco puzzle tridimensional...</td>\n",
              "    </tr>\n",
              "    <tr>\n",
              "      <th>12</th>\n",
              "      <td>Microsoft Flight Simulator is an amateur fligh...</td>\n",
              "      <td>Microsoft Flight Simulator (detto anche Flight...</td>\n",
              "    </tr>\n",
              "    <tr>\n",
              "      <th>13</th>\n",
              "      <td>No Man's Sky is an action-adventure survival g...</td>\n",
              "      <td>No Man's Sky è un videogioco action-adventure ...</td>\n",
              "    </tr>\n",
              "    <tr>\n",
              "      <th>14</th>\n",
              "      <td>Phasmophobia is a paranormal horror game devel...</td>\n",
              "      <td>Phasmophobia è un videogioco horror indie svil...</td>\n",
              "    </tr>\n",
              "    <tr>\n",
              "      <th>15</th>\n",
              "      <td>PlayStation VR Worlds is a video game compilat...</td>\n",
              "      <td>PlayStation VR Worlds è una raccolta di videog...</td>\n",
              "    </tr>\n",
              "    <tr>\n",
              "      <th>16</th>\n",
              "      <td>Resident Evil 7: Biohazard is a 2017 survival ...</td>\n",
              "      <td>Resident Evil 7: Biohazard (reso graficamente ...</td>\n",
              "    </tr>\n",
              "    <tr>\n",
              "      <th>17</th>\n",
              "      <td>Robinson: The Journey is a virtual reality vid...</td>\n",
              "      <td>Robinson: The Journey è un videogioco per real...</td>\n",
              "    </tr>\n",
              "    <tr>\n",
              "      <th>18</th>\n",
              "      <td>Star Wars: Squadrons is a  space combat game s...</td>\n",
              "      <td>Star Wars: Squadrons è un videogioco di combat...</td>\n",
              "    </tr>\n",
              "    <tr>\n",
              "      <th>19</th>\n",
              "      <td>Tekken 7 (鉄拳7) is a fighting game developed an...</td>\n",
              "      <td>Tekken 7 (鉄拳7?) è un videogioco picchiaduro sv...</td>\n",
              "    </tr>\n",
              "    <tr>\n",
              "      <th>20</th>\n",
              "      <td>Until Dawn: Rush of Blood is a rail shooter de...</td>\n",
              "      <td>Until Dawn: Rush of Blood è un videogioco di g...</td>\n",
              "    </tr>\n",
              "  </tbody>\n",
              "</table>\n",
              "</div>\n",
              "      <button class=\"colab-df-convert\" onclick=\"convertToInteractive('df-c135a59f-aaf4-4866-b87e-fee685df55bc')\"\n",
              "              title=\"Convert this dataframe to an interactive table.\"\n",
              "              style=\"display:none;\">\n",
              "        \n",
              "  <svg xmlns=\"http://www.w3.org/2000/svg\" height=\"24px\"viewBox=\"0 0 24 24\"\n",
              "       width=\"24px\">\n",
              "    <path d=\"M0 0h24v24H0V0z\" fill=\"none\"/>\n",
              "    <path d=\"M18.56 5.44l.94 2.06.94-2.06 2.06-.94-2.06-.94-.94-2.06-.94 2.06-2.06.94zm-11 1L8.5 8.5l.94-2.06 2.06-.94-2.06-.94L8.5 2.5l-.94 2.06-2.06.94zm10 10l.94 2.06.94-2.06 2.06-.94-2.06-.94-.94-2.06-.94 2.06-2.06.94z\"/><path d=\"M17.41 7.96l-1.37-1.37c-.4-.4-.92-.59-1.43-.59-.52 0-1.04.2-1.43.59L10.3 9.45l-7.72 7.72c-.78.78-.78 2.05 0 2.83L4 21.41c.39.39.9.59 1.41.59.51 0 1.02-.2 1.41-.59l7.78-7.78 2.81-2.81c.8-.78.8-2.07 0-2.86zM5.41 20L4 18.59l7.72-7.72 1.47 1.35L5.41 20z\"/>\n",
              "  </svg>\n",
              "      </button>\n",
              "      \n",
              "  <style>\n",
              "    .colab-df-container {\n",
              "      display:flex;\n",
              "      flex-wrap:wrap;\n",
              "      gap: 12px;\n",
              "    }\n",
              "\n",
              "    .colab-df-convert {\n",
              "      background-color: #E8F0FE;\n",
              "      border: none;\n",
              "      border-radius: 50%;\n",
              "      cursor: pointer;\n",
              "      display: none;\n",
              "      fill: #1967D2;\n",
              "      height: 32px;\n",
              "      padding: 0 0 0 0;\n",
              "      width: 32px;\n",
              "    }\n",
              "\n",
              "    .colab-df-convert:hover {\n",
              "      background-color: #E2EBFA;\n",
              "      box-shadow: 0px 1px 2px rgba(60, 64, 67, 0.3), 0px 1px 3px 1px rgba(60, 64, 67, 0.15);\n",
              "      fill: #174EA6;\n",
              "    }\n",
              "\n",
              "    [theme=dark] .colab-df-convert {\n",
              "      background-color: #3B4455;\n",
              "      fill: #D2E3FC;\n",
              "    }\n",
              "\n",
              "    [theme=dark] .colab-df-convert:hover {\n",
              "      background-color: #434B5C;\n",
              "      box-shadow: 0px 1px 3px 1px rgba(0, 0, 0, 0.15);\n",
              "      filter: drop-shadow(0px 1px 2px rgba(0, 0, 0, 0.3));\n",
              "      fill: #FFFFFF;\n",
              "    }\n",
              "  </style>\n",
              "\n",
              "      <script>\n",
              "        const buttonEl =\n",
              "          document.querySelector('#df-c135a59f-aaf4-4866-b87e-fee685df55bc button.colab-df-convert');\n",
              "        buttonEl.style.display =\n",
              "          google.colab.kernel.accessAllowed ? 'block' : 'none';\n",
              "\n",
              "        async function convertToInteractive(key) {\n",
              "          const element = document.querySelector('#df-c135a59f-aaf4-4866-b87e-fee685df55bc');\n",
              "          const dataTable =\n",
              "            await google.colab.kernel.invokeFunction('convertToInteractive',\n",
              "                                                     [key], {});\n",
              "          if (!dataTable) return;\n",
              "\n",
              "          const docLinkHtml = 'Like what you see? Visit the ' +\n",
              "            '<a target=\"_blank\" href=https://colab.research.google.com/notebooks/data_table.ipynb>data table notebook</a>'\n",
              "            + ' to learn more about interactive tables.';\n",
              "          element.innerHTML = '';\n",
              "          dataTable['output_type'] = 'display_data';\n",
              "          await google.colab.output.renderOutput(dataTable, element);\n",
              "          const docLink = document.createElement('div');\n",
              "          docLink.innerHTML = docLinkHtml;\n",
              "          element.appendChild(docLink);\n",
              "        }\n",
              "      </script>\n",
              "    </div>\n",
              "  </div>\n",
              "  "
            ]
          },
          "metadata": {},
          "execution_count": 20
        }
      ]
    },
    {
      "cell_type": "markdown",
      "source": [
        "# 3. Extracting parallel sentences from the comparable corpus"
      ],
      "metadata": {
        "id": "hSSoAU_rd9KQ"
      }
    },
    {
      "cell_type": "markdown",
      "source": [
        "For each Wikipedia article, we obtained the link to the corresponding article in English. This can be used to mine sentences limited to the respective articles. This local approach has several advantages: \n",
        "\n",
        "1.   Mining is faster since each article usually has a few hundreds of sentences only.\n",
        "2.   It seems reasonable to assume that a translation of a sentence is more\n",
        "likely to be found in the same article than anywhere in the whole Wikipedia. "
      ],
      "metadata": {
        "id": "mphG0zh6efRS"
      }
    },
    {
      "cell_type": "markdown",
      "source": [
        "## 3.1 Loading the Sentence-Transformers model"
      ],
      "metadata": {
        "id": "wRL4JELofnMd"
      }
    },
    {
      "cell_type": "markdown",
      "source": [
        "We will be using [distiluse-base-multilingual-cased-v2](https://huggingface.co/sentence-transformers/distiluse-base-multilingual-cased-v2://) to compute the sentence embeddings for evaluating textual similarity."
      ],
      "metadata": {
        "id": "wICoYyWVe9G_"
      }
    },
    {
      "cell_type": "code",
      "source": [
        "model = SentenceTransformer('distiluse-base-multilingual-cased')"
      ],
      "metadata": {
        "id": "9n1-TalAe9NS"
      },
      "execution_count": null,
      "outputs": []
    },
    {
      "cell_type": "markdown",
      "source": [
        "## 3.2 Using the model to create the embeddings, and computing sentence similarity"
      ],
      "metadata": {
        "id": "St5N7DnQfs0y"
      }
    },
    {
      "cell_type": "code",
      "source": [
        "parallel_sentences_en = []\n",
        "parallel_sentences_it = []\n",
        "\n",
        "def extract_parallel_sents(comparable_corpus_vg, parallel_sentences_en, parallel_sentences_it):\n",
        "\n",
        "  closest_n = 1\n",
        "\n",
        "  for en, it in zip(comparable_corpus_vg.en.values, comparable_corpus_vg.it.values): # Looping throuth the texts in the comparable corpus\n",
        "\n",
        "    corpus = sent_tokenize(en)\n",
        "    queries = sent_tokenize(it)\n",
        "\n",
        "    corpus_embeddings = model.encode(corpus)\n",
        "    query_embeddings = model.encode(queries)\n",
        "\n",
        "    for query, query_embedding in zip(queries, query_embeddings):\n",
        "      \n",
        "      distances = scipy.spatial.distance.cdist([query_embedding], corpus_embeddings, \"cosine\")[0]\n",
        "\n",
        "      results = zip(range(len(distances)), distances)\n",
        "      results = sorted(results, key=lambda x: x[1])\n",
        "\n",
        "      for idx, distance in results[0:closest_n]:\n",
        "        if 1-distance > 0.8: # Similarity threshold\n",
        "          parallel_sentences_it.append(query)\n",
        "          parallel_sentences_en.append(corpus[idx].strip())"
      ],
      "metadata": {
        "id": "fefQrvA9eF8n"
      },
      "execution_count": 23,
      "outputs": []
    },
    {
      "cell_type": "code",
      "source": [
        "extract_parallel_sents(comparable_corpus_vg, parallel_sentences_en, parallel_sentences_it)"
      ],
      "metadata": {
        "id": "CTBKAdw_gQdq"
      },
      "execution_count": 24,
      "outputs": []
    },
    {
      "cell_type": "markdown",
      "source": [
        "## 3.3 Building the parallel corpus "
      ],
      "metadata": {
        "id": "aN2aaDM6jDQU"
      }
    },
    {
      "cell_type": "code",
      "source": [
        "parallel_corpus = pd.DataFrame(np.column_stack([parallel_sentences_en, parallel_sentences_it]), \n",
        "                               columns=['en', 'it'])"
      ],
      "metadata": {
        "id": "QHE4ZG3qjIIm"
      },
      "execution_count": 25,
      "outputs": []
    },
    {
      "cell_type": "code",
      "source": [
        "parallel_corpus"
      ],
      "metadata": {
        "colab": {
          "base_uri": "https://localhost:8080/",
          "height": 424
        },
        "id": "pkXMYmD1jNjI",
        "outputId": "b784a009-de3a-4623-9645-991e4ce405d2"
      },
      "execution_count": 26,
      "outputs": [
        {
          "output_type": "execute_result",
          "data": {
            "text/plain": [
              "                                                    en  \\\n",
              "0    Astro Bot Rescue Mission is a 2018 platform vi...   \n",
              "1    It stars a cast of robot characters first intr...   \n",
              "2    Gameplay\\nAstro Bot Rescue Mission is a 3D pla...   \n",
              "3    Astro is able to jump, hover, punch and charge...   \n",
              "4    There are 8 lost robots in each level and find...   \n",
              "..                                                 ...   \n",
              "193  Gameplay\\nStar Wars: Squadrons is a space comb...   \n",
              "194  As players earn more experience, they can unlo...   \n",
              "195  An updated arcade version, Tekken 7: Fated Ret...   \n",
              "196  Until Dawn: Rush of Blood is a rail shooter de...   \n",
              "197  Development\\nAfter the successful release of U...   \n",
              "\n",
              "                                                    it  \n",
              "0    Astro Bot Rescue Mission è un videogioco a pia...  \n",
              "1    I robottini presenti nel gioco sono stati intr...  \n",
              "2    Modalità di gioco\\nAstro Bot Rescue Mission è ...  \n",
              "3    Astro è in grado di saltare, caricare e colpir...  \n",
              "4    Ci sono 8 robot smarriti in ogni livello e tro...  \n",
              "..                                                 ...  \n",
              "193  Star Wars: Squadrons è un videogioco di combat...  \n",
              "194  È anche possibile ottenere esperienza in modo ...  \n",
              "195  Tekken 7 è uscito nelle sale giochi giapponesi...  \n",
              "196  Until Dawn: Rush of Blood è un videogioco di g...  \n",
              "197  Sviluppo\\nI progetti di sviluppo per Rush of B...  \n",
              "\n",
              "[198 rows x 2 columns]"
            ],
            "text/html": [
              "\n",
              "  <div id=\"df-bf33d4ad-35f9-4dac-9d49-e9e98c5ff53d\">\n",
              "    <div class=\"colab-df-container\">\n",
              "      <div>\n",
              "<style scoped>\n",
              "    .dataframe tbody tr th:only-of-type {\n",
              "        vertical-align: middle;\n",
              "    }\n",
              "\n",
              "    .dataframe tbody tr th {\n",
              "        vertical-align: top;\n",
              "    }\n",
              "\n",
              "    .dataframe thead th {\n",
              "        text-align: right;\n",
              "    }\n",
              "</style>\n",
              "<table border=\"1\" class=\"dataframe\">\n",
              "  <thead>\n",
              "    <tr style=\"text-align: right;\">\n",
              "      <th></th>\n",
              "      <th>en</th>\n",
              "      <th>it</th>\n",
              "    </tr>\n",
              "  </thead>\n",
              "  <tbody>\n",
              "    <tr>\n",
              "      <th>0</th>\n",
              "      <td>Astro Bot Rescue Mission is a 2018 platform vi...</td>\n",
              "      <td>Astro Bot Rescue Mission è un videogioco a pia...</td>\n",
              "    </tr>\n",
              "    <tr>\n",
              "      <th>1</th>\n",
              "      <td>It stars a cast of robot characters first intr...</td>\n",
              "      <td>I robottini presenti nel gioco sono stati intr...</td>\n",
              "    </tr>\n",
              "    <tr>\n",
              "      <th>2</th>\n",
              "      <td>Gameplay\\nAstro Bot Rescue Mission is a 3D pla...</td>\n",
              "      <td>Modalità di gioco\\nAstro Bot Rescue Mission è ...</td>\n",
              "    </tr>\n",
              "    <tr>\n",
              "      <th>3</th>\n",
              "      <td>Astro is able to jump, hover, punch and charge...</td>\n",
              "      <td>Astro è in grado di saltare, caricare e colpir...</td>\n",
              "    </tr>\n",
              "    <tr>\n",
              "      <th>4</th>\n",
              "      <td>There are 8 lost robots in each level and find...</td>\n",
              "      <td>Ci sono 8 robot smarriti in ogni livello e tro...</td>\n",
              "    </tr>\n",
              "    <tr>\n",
              "      <th>...</th>\n",
              "      <td>...</td>\n",
              "      <td>...</td>\n",
              "    </tr>\n",
              "    <tr>\n",
              "      <th>193</th>\n",
              "      <td>Gameplay\\nStar Wars: Squadrons is a space comb...</td>\n",
              "      <td>Star Wars: Squadrons è un videogioco di combat...</td>\n",
              "    </tr>\n",
              "    <tr>\n",
              "      <th>194</th>\n",
              "      <td>As players earn more experience, they can unlo...</td>\n",
              "      <td>È anche possibile ottenere esperienza in modo ...</td>\n",
              "    </tr>\n",
              "    <tr>\n",
              "      <th>195</th>\n",
              "      <td>An updated arcade version, Tekken 7: Fated Ret...</td>\n",
              "      <td>Tekken 7 è uscito nelle sale giochi giapponesi...</td>\n",
              "    </tr>\n",
              "    <tr>\n",
              "      <th>196</th>\n",
              "      <td>Until Dawn: Rush of Blood is a rail shooter de...</td>\n",
              "      <td>Until Dawn: Rush of Blood è un videogioco di g...</td>\n",
              "    </tr>\n",
              "    <tr>\n",
              "      <th>197</th>\n",
              "      <td>Development\\nAfter the successful release of U...</td>\n",
              "      <td>Sviluppo\\nI progetti di sviluppo per Rush of B...</td>\n",
              "    </tr>\n",
              "  </tbody>\n",
              "</table>\n",
              "<p>198 rows × 2 columns</p>\n",
              "</div>\n",
              "      <button class=\"colab-df-convert\" onclick=\"convertToInteractive('df-bf33d4ad-35f9-4dac-9d49-e9e98c5ff53d')\"\n",
              "              title=\"Convert this dataframe to an interactive table.\"\n",
              "              style=\"display:none;\">\n",
              "        \n",
              "  <svg xmlns=\"http://www.w3.org/2000/svg\" height=\"24px\"viewBox=\"0 0 24 24\"\n",
              "       width=\"24px\">\n",
              "    <path d=\"M0 0h24v24H0V0z\" fill=\"none\"/>\n",
              "    <path d=\"M18.56 5.44l.94 2.06.94-2.06 2.06-.94-2.06-.94-.94-2.06-.94 2.06-2.06.94zm-11 1L8.5 8.5l.94-2.06 2.06-.94-2.06-.94L8.5 2.5l-.94 2.06-2.06.94zm10 10l.94 2.06.94-2.06 2.06-.94-2.06-.94-.94-2.06-.94 2.06-2.06.94z\"/><path d=\"M17.41 7.96l-1.37-1.37c-.4-.4-.92-.59-1.43-.59-.52 0-1.04.2-1.43.59L10.3 9.45l-7.72 7.72c-.78.78-.78 2.05 0 2.83L4 21.41c.39.39.9.59 1.41.59.51 0 1.02-.2 1.41-.59l7.78-7.78 2.81-2.81c.8-.78.8-2.07 0-2.86zM5.41 20L4 18.59l7.72-7.72 1.47 1.35L5.41 20z\"/>\n",
              "  </svg>\n",
              "      </button>\n",
              "      \n",
              "  <style>\n",
              "    .colab-df-container {\n",
              "      display:flex;\n",
              "      flex-wrap:wrap;\n",
              "      gap: 12px;\n",
              "    }\n",
              "\n",
              "    .colab-df-convert {\n",
              "      background-color: #E8F0FE;\n",
              "      border: none;\n",
              "      border-radius: 50%;\n",
              "      cursor: pointer;\n",
              "      display: none;\n",
              "      fill: #1967D2;\n",
              "      height: 32px;\n",
              "      padding: 0 0 0 0;\n",
              "      width: 32px;\n",
              "    }\n",
              "\n",
              "    .colab-df-convert:hover {\n",
              "      background-color: #E2EBFA;\n",
              "      box-shadow: 0px 1px 2px rgba(60, 64, 67, 0.3), 0px 1px 3px 1px rgba(60, 64, 67, 0.15);\n",
              "      fill: #174EA6;\n",
              "    }\n",
              "\n",
              "    [theme=dark] .colab-df-convert {\n",
              "      background-color: #3B4455;\n",
              "      fill: #D2E3FC;\n",
              "    }\n",
              "\n",
              "    [theme=dark] .colab-df-convert:hover {\n",
              "      background-color: #434B5C;\n",
              "      box-shadow: 0px 1px 3px 1px rgba(0, 0, 0, 0.15);\n",
              "      filter: drop-shadow(0px 1px 2px rgba(0, 0, 0, 0.3));\n",
              "      fill: #FFFFFF;\n",
              "    }\n",
              "  </style>\n",
              "\n",
              "      <script>\n",
              "        const buttonEl =\n",
              "          document.querySelector('#df-bf33d4ad-35f9-4dac-9d49-e9e98c5ff53d button.colab-df-convert');\n",
              "        buttonEl.style.display =\n",
              "          google.colab.kernel.accessAllowed ? 'block' : 'none';\n",
              "\n",
              "        async function convertToInteractive(key) {\n",
              "          const element = document.querySelector('#df-bf33d4ad-35f9-4dac-9d49-e9e98c5ff53d');\n",
              "          const dataTable =\n",
              "            await google.colab.kernel.invokeFunction('convertToInteractive',\n",
              "                                                     [key], {});\n",
              "          if (!dataTable) return;\n",
              "\n",
              "          const docLinkHtml = 'Like what you see? Visit the ' +\n",
              "            '<a target=\"_blank\" href=https://colab.research.google.com/notebooks/data_table.ipynb>data table notebook</a>'\n",
              "            + ' to learn more about interactive tables.';\n",
              "          element.innerHTML = '';\n",
              "          dataTable['output_type'] = 'display_data';\n",
              "          await google.colab.output.renderOutput(dataTable, element);\n",
              "          const docLink = document.createElement('div');\n",
              "          docLink.innerHTML = docLinkHtml;\n",
              "          element.appendChild(docLink);\n",
              "        }\n",
              "      </script>\n",
              "    </div>\n",
              "  </div>\n",
              "  "
            ]
          },
          "metadata": {},
          "execution_count": 26
        }
      ]
    },
    {
      "cell_type": "code",
      "source": [
        "parallel_corpus.to_excel(\"parallel_corpus_vg_en_it.xlsx\")  "
      ],
      "metadata": {
        "id": "M0Y9MurRjRpS"
      },
      "execution_count": 27,
      "outputs": []
    }
  ]
}